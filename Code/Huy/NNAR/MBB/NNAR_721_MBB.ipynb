{
  "cells": [
    {
      "cell_type": "code",
      "source": [
        "# 1. Import thư viện cần thiết\n",
        "\n",
        "import numpy as np\n",
        "import pandas as pd\n",
        "import matplotlib.pyplot as plt\n",
        "from sklearn.preprocessing import MinMaxScaler\n",
        "from keras.models import Sequential\n",
        "from keras.layers import Dense, LSTM"
      ],
      "metadata": {
        "id": "FMDKda-XIUAK"
      },
      "execution_count": 1,
      "outputs": []
    },
    {
      "cell_type": "code",
      "source": [
        "# 2. Đọc file csv và gắng index với giá Price\n",
        "df = pd.read_csv('MBB.csv')\n",
        "#df1=df.reset_index()['Price']\n",
        "df=df.reset_index()['Price']\n",
        "df"
      ],
      "metadata": {
        "id": "aRm9GQ8KJJ5N",
        "colab": {
          "base_uri": "https://localhost:8080/"
        },
        "outputId": "746287de-2834-44d9-cde1-8d3124f09eea"
      },
      "execution_count": 2,
      "outputs": [
        {
          "output_type": "execute_result",
          "data": {
            "text/plain": [
              "0       11783.9\n",
              "1       12267.4\n",
              "2       12267.4\n",
              "3       12307.6\n",
              "4       12448.7\n",
              "         ...   \n",
              "1237    18850.0\n",
              "1238    18800.0\n",
              "1239    18450.0\n",
              "1240    18600.0\n",
              "1241    18650.0\n",
              "Name: Price, Length: 1242, dtype: float64"
            ]
          },
          "metadata": {},
          "execution_count": 2
        }
      ]
    },
    {
      "cell_type": "code",
      "source": [
        "import numpy as np\n",
        "import matplotlib.pyplot as plt\n",
        "from statsmodels.graphics.tsaplots import plot_pacf\n",
        "\n",
        "# Dữ liệu chuỗi thời gian\n",
        "data = np.array([1, 2, 3, 4, 5, 6, 7, 8, 9])\n",
        "\n",
        "# Vẽ đồ thị PACF\n",
        "plot_pacf(df, lags=10)\n",
        "plt.xlabel('Lag')\n",
        "plt.ylabel('PACF')\n",
        "plt.show()"
      ],
      "metadata": {
        "colab": {
          "base_uri": "https://localhost:8080/",
          "height": 527
        },
        "id": "V78gRa98KLjC",
        "outputId": "9a5b3ef9-70d6-4513-c978-0b9a75d24f30"
      },
      "execution_count": 3,
      "outputs": [
        {
          "output_type": "stream",
          "name": "stderr",
          "text": [
            "/usr/local/lib/python3.10/dist-packages/statsmodels/graphics/tsaplots.py:348: FutureWarning: The default method 'yw' can produce PACF values outside of the [-1,1] interval. After 0.13, the default will change tounadjusted Yule-Walker ('ywm'). You can use this method now by setting method='ywm'.\n",
            "  warnings.warn(\n"
          ]
        },
        {
          "output_type": "display_data",
          "data": {
            "text/plain": [
              "<Figure size 640x480 with 1 Axes>"
            ],
            "image/png": "[encoded data removed]"
          },
          "metadata": {}
        }
      ]
    },
    {
      "cell_type": "code",
      "source": [
        "# 3. Scaler data\n",
        "scaler=MinMaxScaler(feature_range=(0,1))\n",
        "df1=scaler.fit_transform(np.array(df).reshape(-1,1))"
      ],
      "metadata": {
        "id": "RdVpDho2JgL5"
      },
      "execution_count": 4,
      "outputs": []
    },
    {
      "cell_type": "code",
      "source": [
        "# 4. Chia train test\n",
        "train_size = int(0.7 * len(df1))\n",
        "test_size = int(0.2 * len(df1))\n",
        "val_size = len(df1) - train_size - test_size\n",
        "\n",
        "train_data = df1[:train_size]\n",
        "test_data = df1[train_size:train_size+test_size]\n",
        "val_data = df1[train_size+test_size:]"
      ],
      "metadata": {
        "id": "B5JXpenzJoR3"
      },
      "execution_count": 5,
      "outputs": []
    },
    {
      "cell_type": "code",
      "source": [
        "# 5. Hàm Create Dataset\n",
        "import numpy\n",
        "# convert an array of values into a dataset matrix\n",
        "def create_dataset(dataset, time_step=1):\n",
        "\tdataX, dataY = [], []\n",
        "\tfor i in range(len(dataset)-time_step-1):\n",
        "\t\ta = dataset[i:(i+time_step), 0]   ###i=0, X=0,1,2,3-----99   Y=100\n",
        "\t\tdataX.append(a)\n",
        "\t\tdataY.append(dataset[i + time_step, 0])\n",
        "\treturn numpy.array(dataX), numpy.array(dataY)"
      ],
      "metadata": {
        "id": "yJfmuBORLSfC"
      },
      "execution_count": 6,
      "outputs": []
    },
    {
      "cell_type": "code",
      "source": [
        "#6. Reshape into X=t,t+1,t+2..t+99 and Y=t+100\n",
        "\n",
        "time_step = 1\n",
        "X_train, y_train = create_dataset(train_data, time_step)\n",
        "X_val, yval = create_dataset(val_data, time_step)\n",
        "X_test, ytest = create_dataset(test_data, time_step)"
      ],
      "metadata": {
        "id": "e81cKq03LXFB"
      },
      "execution_count": 7,
      "outputs": []
    },
    {
      "cell_type": "code",
      "source": [
        "# 7. Reshape input to be [samples, time steps, features] which is required for LSTM\n",
        "X_train =X_train.reshape(X_train.shape[0],X_train.shape[1] , 1)\n",
        "X_test = X_test.reshape(X_test.shape[0],X_test.shape[1] , 1)\n",
        "X_val = X_val.reshape(X_val.shape[0],X_val.shape[1] , 1)"
      ],
      "metadata": {
        "id": "RdBVfku7O2qb"
      },
      "execution_count": 8,
      "outputs": []
    },
    {
      "cell_type": "code",
      "source": [
        "# 8. Define LSTM Model\n",
        "\n",
        "model=Sequential()\n",
        "model.add(LSTM(50,return_sequences=True,input_shape=(1,1)))\n",
        "model.add(LSTM(50,return_sequences=True))\n",
        "model.add(LSTM(50))\n",
        "model.add(Dense(1))\n",
        "model.compile(loss='mean_squared_error',optimizer='adam')"
      ],
      "metadata": {
        "id": "sSfxrE7BO9vX"
      },
      "execution_count": 22,
      "outputs": []
    },
    {
      "cell_type": "code",
      "source": [
        "# 9. Fit mô hình với dữ liệu train\n",
        "model.fit(X_train,y_train,validation_data=(X_test,ytest),epochs=50,batch_size=64,verbose=1)"
      ],
      "metadata": {
        "colab": {
          "base_uri": "https://localhost:8080/"
        },
        "id": "zgfeujZSPEKr",
        "outputId": "75217352-75e3-4ef9-f945-5faff4da736d"
      },
      "execution_count": 23,
      "outputs": [
        {
          "output_type": "stream",
          "name": "stdout",
          "text": [
            "Epoch 1/50\n",
            "14/14 [==============================] - 7s 93ms/step - loss: 0.1229 - val_loss: 0.4796\n",
            "Epoch 2/50\n",
            "14/14 [==============================] - 0s 10ms/step - loss: 0.0903 - val_loss: 0.3476\n",
            "Epoch 3/50\n",
            "14/14 [==============================] - 0s 10ms/step - loss: 0.0534 - val_loss: 0.1557\n",
            "Epoch 4/50\n",
            "14/14 [==============================] - 0s 11ms/step - loss: 0.0377 - val_loss: 0.0738\n",
            "Epoch 5/50\n",
            "14/14 [==============================] - 0s 11ms/step - loss: 0.0288 - val_loss: 0.0711\n",
            "Epoch 6/50\n",
            "14/14 [==============================] - 0s 10ms/step - loss: 0.0166 - val_loss: 0.0161\n",
            "Epoch 7/50\n",
            "14/14 [==============================] - 0s 9ms/step - loss: 0.0050 - val_loss: 0.0017\n",
            "Epoch 8/50\n",
            "14/14 [==============================] - 0s 11ms/step - loss: 7.9677e-04 - val_loss: 0.0050\n",
            "Epoch 9/50\n",
            "14/14 [==============================] - 0s 10ms/step - loss: 8.5385e-04 - val_loss: 0.0028\n",
            "Epoch 10/50\n",
            "14/14 [==============================] - 0s 12ms/step - loss: 6.6260e-04 - val_loss: 0.0021\n",
            "Epoch 11/50\n",
            "14/14 [==============================] - 0s 12ms/step - loss: 6.2110e-04 - val_loss: 0.0020\n",
            "Epoch 12/50\n",
            "14/14 [==============================] - 0s 10ms/step - loss: 5.9820e-04 - val_loss: 0.0023\n",
            "Epoch 13/50\n",
            "14/14 [==============================] - 0s 11ms/step - loss: 5.8591e-04 - val_loss: 0.0022\n",
            "Epoch 14/50\n",
            "14/14 [==============================] - 0s 10ms/step - loss: 5.6414e-04 - val_loss: 0.0022\n",
            "Epoch 15/50\n",
            "14/14 [==============================] - 0s 11ms/step - loss: 5.4958e-04 - val_loss: 0.0019\n",
            "Epoch 16/50\n",
            "14/14 [==============================] - 0s 10ms/step - loss: 5.3182e-04 - val_loss: 0.0018\n",
            "Epoch 17/50\n",
            "14/14 [==============================] - 0s 15ms/step - loss: 5.1847e-04 - val_loss: 0.0018\n",
            "Epoch 18/50\n",
            "14/14 [==============================] - 0s 15ms/step - loss: 4.9662e-04 - val_loss: 0.0017\n",
            "Epoch 19/50\n",
            "14/14 [==============================] - 0s 14ms/step - loss: 4.8634e-04 - val_loss: 0.0017\n",
            "Epoch 20/50\n",
            "14/14 [==============================] - 0s 14ms/step - loss: 4.6518e-04 - val_loss: 0.0015\n",
            "Epoch 21/50\n",
            "14/14 [==============================] - 0s 15ms/step - loss: 4.4962e-04 - val_loss: 0.0015\n",
            "Epoch 22/50\n",
            "14/14 [==============================] - 0s 18ms/step - loss: 4.3631e-04 - val_loss: 0.0015\n",
            "Epoch 23/50\n",
            "14/14 [==============================] - 0s 19ms/step - loss: 4.2336e-04 - val_loss: 0.0016\n",
            "Epoch 24/50\n",
            "14/14 [==============================] - 0s 15ms/step - loss: 4.1504e-04 - val_loss: 0.0015\n",
            "Epoch 25/50\n",
            "14/14 [==============================] - 0s 15ms/step - loss: 3.9454e-04 - val_loss: 0.0013\n",
            "Epoch 26/50\n",
            "14/14 [==============================] - 0s 14ms/step - loss: 3.7449e-04 - val_loss: 0.0013\n",
            "Epoch 27/50\n",
            "14/14 [==============================] - 0s 14ms/step - loss: 3.6471e-04 - val_loss: 0.0012\n",
            "Epoch 28/50\n",
            "14/14 [==============================] - 0s 16ms/step - loss: 3.5473e-04 - val_loss: 0.0010\n",
            "Epoch 29/50\n",
            "14/14 [==============================] - 0s 15ms/step - loss: 3.5804e-04 - val_loss: 9.6855e-04\n",
            "Epoch 30/50\n",
            "14/14 [==============================] - 0s 10ms/step - loss: 3.4154e-04 - val_loss: 9.7556e-04\n",
            "Epoch 31/50\n",
            "14/14 [==============================] - 0s 12ms/step - loss: 3.2086e-04 - val_loss: 9.7540e-04\n",
            "Epoch 32/50\n",
            "14/14 [==============================] - 0s 10ms/step - loss: 3.1405e-04 - val_loss: 9.2405e-04\n",
            "Epoch 33/50\n",
            "14/14 [==============================] - 0s 10ms/step - loss: 3.0601e-04 - val_loss: 0.0010\n",
            "Epoch 34/50\n",
            "14/14 [==============================] - 0s 10ms/step - loss: 2.8302e-04 - val_loss: 0.0010\n",
            "Epoch 35/50\n",
            "14/14 [==============================] - 0s 11ms/step - loss: 2.7640e-04 - val_loss: 8.5966e-04\n",
            "Epoch 36/50\n",
            "14/14 [==============================] - 0s 10ms/step - loss: 2.6283e-04 - val_loss: 7.9870e-04\n",
            "Epoch 37/50\n",
            "14/14 [==============================] - 0s 10ms/step - loss: 2.5895e-04 - val_loss: 8.2773e-04\n",
            "Epoch 38/50\n",
            "14/14 [==============================] - 0s 11ms/step - loss: 2.4685e-04 - val_loss: 7.6488e-04\n",
            "Epoch 39/50\n",
            "14/14 [==============================] - 0s 11ms/step - loss: 2.4061e-04 - val_loss: 7.5015e-04\n",
            "Epoch 40/50\n",
            "14/14 [==============================] - 0s 10ms/step - loss: 2.3469e-04 - val_loss: 7.0950e-04\n",
            "Epoch 41/50\n",
            "14/14 [==============================] - 0s 10ms/step - loss: 2.3024e-04 - val_loss: 6.9559e-04\n",
            "Epoch 42/50\n",
            "14/14 [==============================] - 0s 10ms/step - loss: 2.4760e-04 - val_loss: 6.9607e-04\n",
            "Epoch 43/50\n",
            "14/14 [==============================] - 0s 10ms/step - loss: 2.4763e-04 - val_loss: 6.5017e-04\n",
            "Epoch 44/50\n",
            "14/14 [==============================] - 0s 12ms/step - loss: 2.1363e-04 - val_loss: 6.9795e-04\n",
            "Epoch 45/50\n",
            "14/14 [==============================] - 0s 11ms/step - loss: 2.0726e-04 - val_loss: 6.5732e-04\n",
            "Epoch 46/50\n",
            "14/14 [==============================] - 0s 10ms/step - loss: 2.0789e-04 - val_loss: 6.3462e-04\n",
            "Epoch 47/50\n",
            "14/14 [==============================] - 0s 9ms/step - loss: 2.0439e-04 - val_loss: 6.2575e-04\n",
            "Epoch 48/50\n",
            "14/14 [==============================] - 0s 11ms/step - loss: 2.0272e-04 - val_loss: 6.2811e-04\n",
            "Epoch 49/50\n",
            "14/14 [==============================] - 0s 12ms/step - loss: 2.0019e-04 - val_loss: 6.1876e-04\n",
            "Epoch 50/50\n",
            "14/14 [==============================] - 0s 10ms/step - loss: 1.9501e-04 - val_loss: 6.5106e-04\n"
          ]
        },
        {
          "output_type": "execute_result",
          "data": {
            "text/plain": [
              "<keras.callbacks.History at 0x7f4d68df6ec0>"
            ]
          },
          "metadata": {},
          "execution_count": 23
        }
      ]
    },
    {
      "cell_type": "code",
      "source": [
        "# 10. Dự báo dữ liệu test, val\n",
        "train_predict=model.predict(X_train)\n",
        "y_pred=model.predict(X_test)\n",
        "y_pred_val=model.predict(X_val)\n"
      ],
      "metadata": {
        "colab": {
          "base_uri": "https://localhost:8080/"
        },
        "id": "Rxx_KQSkQpBG",
        "outputId": "3fe32233-5aca-4d1a-e850-e119eedaf6cc"
      },
      "execution_count": 24,
      "outputs": [
        {
          "output_type": "stream",
          "name": "stdout",
          "text": [
            "28/28 [==============================] - 1s 3ms/step\n",
            "8/8 [==============================] - 0s 5ms/step\n",
            "4/4 [==============================] - 0s 5ms/step\n"
          ]
        }
      ]
    },
    {
      "cell_type": "code",
      "source": [
        "# 11. Chuẩn hóa dữ liệu y_pred, y_pred_val\n",
        "train_predict=scaler.inverse_transform(train_predict)\n",
        "y_pred=scaler.inverse_transform(y_pred)\n",
        "y_pred_val=scaler.inverse_transform(y_pred_val)\n"
      ],
      "metadata": {
        "id": "5rwTN10LQ7rj"
      },
      "execution_count": 25,
      "outputs": []
    },
    {
      "cell_type": "code",
      "source": [
        "train_size1 = int(0.7 * len(df))\n",
        "test_size1 = int(0.2 * len(df))\n",
        "\n",
        "train_data1 = df[:train_size1]\n",
        "test_data1 = df[train_size1:train_size1+test_size1]\n",
        "val_data1 = df[train_size1+test_size1:]\n",
        "\n",
        "x_test1 = np.array(test_data1.index).reshape(-1, 1)\n",
        "y_test1 = np.array(test_data1)\n",
        "\n",
        "x_val1 = np.array(val_data1.index).reshape(-1, 1)\n",
        "y_val1 = np.array(val_data1)"
      ],
      "metadata": {
        "id": "VelR5kM7baBR"
      },
      "execution_count": 26,
      "outputs": []
    },
    {
      "cell_type": "code",
      "source": [
        "# 12. Đánh giá độ chính xác thuật toán\n",
        "#RMSE\n",
        "valid_rmse = np.sqrt(np.mean((y_pred_val - y_val1)**2))\n",
        "test_rmse = np.sqrt(np.mean((y_pred - y_test1)**2))\n",
        "print('Validation RMSE:', valid_rmse)\n",
        "print('Testing RMSE:', test_rmse)\n",
        "\n",
        "#MAPE\n",
        "valid_mape = np.mean(np.abs((y_val1 - y_pred_val) / y_val1)) * 100\n",
        "test_mape = np.mean(np.abs((y_test1 - y_pred) / y_test1)) * 100\n",
        "print('Validation MAPE:', valid_mape)\n",
        "print('Testing MAPE:', test_mape)\n",
        "\n",
        "#MAE\n",
        "valid_mae = np.mean(np.abs(y_pred_val - y_val1))\n",
        "test_mae = np.mean(np.abs(y_pred - y_test1))\n",
        "print('Validation MAE:', valid_mae)\n",
        "print('Testing MAE:', test_mae)"
      ],
      "metadata": {
        "colab": {
          "base_uri": "https://localhost:8080/"
        },
        "id": "wu_9j94kRonD",
        "outputId": "df4b8794-21df-4271-96b7-cf637909e15a"
      },
      "execution_count": 27,
      "outputs": [
        {
          "output_type": "stream",
          "name": "stdout",
          "text": [
            "Validation RMSE: 1285.4764820356218\n",
            "Testing RMSE: 4481.105826919307\n",
            "Validation MAPE: 5.346604273993481\n",
            "Testing MAPE: 16.289974766511467\n",
            "Validation MAE: 939.973655043191\n",
            "Testing MAE: 3580.9479542898066\n"
          ]
        }
      ]
    },
    {
      "cell_type": "code",
      "source": [
        "# 13. Dự báo 30 ngày tiếp theo\n",
        "x_input=val_data[len(val_data)-time_step:].reshape(1,-1)\n",
        "x_input.shape\n",
        "\n",
        "temp_input=list(x_input)\n",
        "temp_input=temp_input[0].tolist()\n",
        "\n",
        "from numpy import array\n",
        "\n",
        "lst_output=[]\n",
        "n_steps=1\n",
        "i=0\n",
        "while(i<30):\n",
        "\n",
        "    if(len(temp_input)>1):\n",
        "        #print(temp_input)\n",
        "        x_input=np.array(temp_input[1:])\n",
        "        print(\"{} day input {}\".format(i,x_input))\n",
        "        x_input=x_input.reshape(1,-1)\n",
        "        x_input = x_input.reshape((1, n_steps, 1))\n",
        "        #print(x_input)\n",
        "        yhat = model.predict(x_input, verbose=0)\n",
        "        print(\"{} day output {}\".format(i,yhat))\n",
        "        temp_input.extend(yhat[0].tolist())\n",
        "        temp_input=temp_input[1:]\n",
        "        #print(temp_input)\n",
        "        lst_output.extend(yhat.tolist())\n",
        "        i=i+1\n",
        "    else:\n",
        "        x_input = x_input.reshape((1, n_steps,1))\n",
        "        yhat = model.predict(x_input, verbose=0)\n",
        "        print(yhat[0])\n",
        "        temp_input.extend(yhat[0].tolist())\n",
        "        print(len(temp_input))\n",
        "        lst_output.extend(yhat.tolist())\n",
        "        i=i+1\n",
        "lst_output=scaler.inverse_transform(lst_output)\n",
        "print(lst_output)"
      ],
      "metadata": {
        "colab": {
          "base_uri": "https://localhost:8080/"
        },
        "id": "izQZ1iQyYl6N",
        "outputId": "680528b8-0fb2-4d83-9c2c-d9ee1ba632b5"
      },
      "execution_count": 30,
      "outputs": [
        {
          "output_type": "stream",
          "name": "stdout",
          "text": [
            "[0.5331146]\n",
            "2\n",
            "1 day input [0.53311461]\n",
            "1 day output [[0.5329858]]\n",
            "2 day input [0.53298581]\n",
            "2 day output [[0.53285426]]\n",
            "3 day input [0.53285426]\n",
            "3 day output [[0.5327199]]\n",
            "4 day input [0.53271991]\n",
            "4 day output [[0.53258264]]\n",
            "5 day input [0.53258264]\n",
            "5 day output [[0.5324425]]\n",
            "6 day input [0.53244251]\n",
            "6 day output [[0.53229934]]\n",
            "7 day input [0.53229934]\n",
            "7 day output [[0.53215307]]\n",
            "8 day input [0.53215307]\n",
            "8 day output [[0.5320037]]\n",
            "9 day input [0.5320037]\n",
            "9 day output [[0.5318512]]\n",
            "10 day input [0.53185117]\n",
            "10 day output [[0.53169537]]\n",
            "11 day input [0.53169537]\n",
            "11 day output [[0.5315362]]\n",
            "12 day input [0.53153622]\n",
            "12 day output [[0.53137374]]\n",
            "13 day input [0.53137374]\n",
            "13 day output [[0.5312078]]\n",
            "14 day input [0.5312078]\n",
            "14 day output [[0.5310383]]\n",
            "15 day input [0.53103828]\n",
            "15 day output [[0.5308652]]\n",
            "16 day input [0.53086519]\n",
            "16 day output [[0.5306884]]\n",
            "17 day input [0.53068841]\n",
            "17 day output [[0.53050786]]\n",
            "18 day input [0.53050786]\n",
            "18 day output [[0.5303235]]\n",
            "19 day input [0.53032351]\n",
            "19 day output [[0.5301352]]\n",
            "20 day input [0.53013521]\n",
            "20 day output [[0.52994287]]\n",
            "21 day input [0.52994287]\n",
            "21 day output [[0.5297465]]\n",
            "22 day input [0.52974647]\n",
            "22 day output [[0.52954596]]\n",
            "23 day input [0.52954596]\n",
            "23 day output [[0.5293412]]\n",
            "24 day input [0.52934122]\n",
            "24 day output [[0.5291321]]\n",
            "25 day input [0.52913213]\n",
            "25 day output [[0.5289186]]\n",
            "26 day input [0.52891862]\n",
            "26 day output [[0.5287006]]\n",
            "27 day input [0.52870059]\n",
            "27 day output [[0.52847797]]\n",
            "28 day input [0.52847797]\n",
            "28 day output [[0.5282507]]\n",
            "29 day input [0.52825069]\n",
            "29 day output [[0.5280186]]\n",
            "[[18647.29288718]\n",
            " [18644.52870532]\n",
            " [18641.70568387]\n",
            " [18638.8225437 ]\n",
            " [18635.87672657]\n",
            " [18632.8695116 ]\n",
            " [18629.79706143]\n",
            " [18626.65809693]\n",
            " [18623.4526181 ]\n",
            " [18620.17934583]\n",
            " [18616.83572187]\n",
            " [18613.4204671 ]\n",
            " [18609.93358152]\n",
            " [18606.37250688]\n",
            " [18602.73468494]\n",
            " [18599.02011571]\n",
            " [18595.22624093]\n",
            " [18591.35178149]\n",
            " [18587.39545827]\n",
            " [18583.35471302]\n",
            " [18579.22698749]\n",
            " [18575.0122817 ]\n",
            " [18570.70931651]\n",
            " [18566.31553369]\n",
            " [18561.82837498]\n",
            " [18557.24656128]\n",
            " [18552.56753433]\n",
            " [18547.79001501]\n",
            " [18542.91272421]\n",
            " [18537.93182455]]\n"
          ]
        }
      ]
    },
    {
      "cell_type": "code",
      "source": [
        "# 14.Vẽ hình\n",
        "\n",
        "train_data_index = pd.RangeIndex(start=0, stop=train_size, step=1)\n",
        "plt.plot(scaler.inverse_transform(train_data))\n",
        "\n",
        "test_data_index = pd.RangeIndex(start=train_size, stop=train_size+test_size, step=1)\n",
        "plt.plot(test_data_index,scaler.inverse_transform(test_data))\n",
        "\n",
        "test_data_index = pd.RangeIndex(start=train_size+2, stop=train_size+test_size, step=1)\n",
        "plt.plot(test_data_index,(y_pred))\n",
        "\n",
        "val_data_index = pd.RangeIndex(start=train_size+test_size, stop=train_size+test_size+val_size, step=1)\n",
        "plt.plot(val_data_index,scaler.inverse_transform(val_data))\n",
        "\n",
        "val_data_index = pd.RangeIndex(start=train_size+test_size+2, stop=train_size+test_size+val_size, step=1)\n",
        "plt.plot(val_data_index,y_pred_val)\n",
        "\n",
        "prediect_data_index = pd.RangeIndex(start=len(df1)-1, stop=len(df1)+29, step=1)\n",
        "plt.plot(prediect_data_index,lst_output)\n",
        "\n",
        "plt.legend(['Train','Test','Predict','Validate','ValidatePred','Predict30days'])\n",
        "plt.show()"
      ],
      "metadata": {
        "colab": {
          "base_uri": "https://localhost:8080/",
          "height": 430
        },
        "id": "KSa_mX51a654",
        "outputId": "740334c4-b2ed-4a26-f45a-a37f29d0ece5"
      },
      "execution_count": 31,
      "outputs": [
        {
          "output_type": "display_data",
          "data": {
            "text/plain": [
              "<Figure size 640x480 with 1 Axes>"
            ],
            "image/png": "[encoded data removed]"
          },
          "metadata": {}
        }
      ]
    }
  ],
  "metadata": {
    "colab": {
      "provenance": [],
      "gpuType": "T4"
    },
    "kernelspec": {
      "display_name": "Python 3",
      "name": "python3"
    },
    "language_info": {
      "name": "python"
    },
    "accelerator": "GPU",
    "gpuClass": "standard"
  },
  "nbformat": 4,
  "nbformat_minor": 0
}