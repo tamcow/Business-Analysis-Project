{
 "cells": [
  {
   "cell_type": "code",
   "execution_count": 1,
   "metadata": {
    "id": "FMDKda-XIUAK"
   },
   "outputs": [],
   "source": [
    "# 1. Import thư viện cần thiết\n",
    "import numpy as np\n",
    "import pandas as pd\n",
    "import matplotlib.pyplot as plt\n",
    "from sklearn.preprocessing import MinMaxScaler\n",
    "from keras.models import Sequential\n",
    "from keras.layers import Dense, LSTM"
   ]
  },
  {
   "cell_type": "code",
   "execution_count": 2,
   "metadata": {
    "colab": {
     "base_uri": "https://localhost:8080/"
    },
    "id": "aRm9GQ8KJJ5N",
    "outputId": "746287de-2834-44d9-cde1-8d3124f09eea"
   },
   "outputs": [
    {
     "data": {
      "text/plain": [
       "0       11783.9\n",
       "1       12267.4\n",
       "2       12267.4\n",
       "3       12307.6\n",
       "4       12448.7\n",
       "         ...   \n",
       "1237    18850.0\n",
       "1238    18800.0\n",
       "1239    18450.0\n",
       "1240    18600.0\n",
       "1241    18650.0\n",
       "Name: Price, Length: 1242, dtype: float64"
      ]
     },
     "execution_count": 2,
     "metadata": {},
     "output_type": "execute_result"
    }
   ],
   "source": [
    "# 2. Đọc file csv và gắng index với giá Price\n",
    "df = pd.read_csv('MBB.csv')\n",
    "#df1=df.reset_index()['Price']\n",
    "df=df.reset_index()['Price']\n",
    "df"
   ]
  },
  {
   "cell_type": "code",
   "execution_count": 3,
   "metadata": {
    "colab": {
     "base_uri": "https://localhost:8080/",
     "height": 527
    },
    "id": "V78gRa98KLjC",
    "outputId": "9a5b3ef9-70d6-4513-c978-0b9a75d24f30"
   },
   "outputs": [
    {
     "name": "stderr",
     "output_type": "stream",
     "text": [
      "C:\\Users\\giangle\\AppData\\Local\\Programs\\Python\\Python311\\Lib\\site-packages\\statsmodels\\graphics\\tsaplots.py:348: FutureWarning: The default method 'yw' can produce PACF values outside of the [-1,1] interval. After 0.13, the default will change tounadjusted Yule-Walker ('ywm'). You can use this method now by setting method='ywm'.\n",
      "  warnings.warn(\n"
     ]
    },
    {
     "data": {
      "image/png": "[encoded data removed]",
      "text/plain": [
       "<Figure size 640x480 with 1 Axes>"
      ]
     },
     "metadata": {},
     "output_type": "display_data"
    }
   ],
   "source": [
    "import numpy as np\n",
    "import matplotlib.pyplot as plt\n",
    "from statsmodels.graphics.tsaplots import plot_pacf\n",
    "\n",
    "# Dữ liệu chuỗi thời gian\n",
    "data = np.array([1, 2, 3, 4, 5, 6, 7, 8, 9])\n",
    "\n",
    "# Vẽ đồ thị PACF\n",
    "plot_pacf(df, lags=10)\n",
    "plt.xlabel('Lag')\n",
    "plt.ylabel('PACF')\n",
    "plt.show()"
   ]
  },
  {
   "cell_type": "code",
   "execution_count": 4,
   "metadata": {
    "id": "RdVpDho2JgL5"
   },
   "outputs": [],
   "source": [
    "# 3. Scaler data\n",
    "scaler=MinMaxScaler(feature_range=(0,1))\n",
    "df1=scaler.fit_transform(np.array(df).reshape(-1,1))"
   ]
  },
  {
   "cell_type": "code",
   "execution_count": 5,
   "metadata": {
    "id": "B5JXpenzJoR3"
   },
   "outputs": [],
   "source": [
    "# 4. Chia train test\n",
    "train_size = int(0.5 * len(df1))\n",
    "test_size = int(0.3 * len(df1))\n",
    "val_size = len(df1) - train_size - test_size\n",
    "\n",
    "train_data = df1[:train_size]\n",
    "test_data = df1[train_size:train_size+test_size]\n",
    "val_data = df1[train_size+test_size:]"
   ]
  },
  {
   "cell_type": "code",
   "execution_count": 6,
   "metadata": {
    "id": "yJfmuBORLSfC"
   },
   "outputs": [],
   "source": [
    "# 5. Hàm Create Dataset\n",
    "import numpy\n",
    "# convert an array of values into a dataset matrix\n",
    "def create_dataset(dataset, time_step=1):\n",
    "\tdataX, dataY = [], []\n",
    "\tfor i in range(len(dataset)-time_step-1):\n",
    "\t\ta = dataset[i:(i+time_step), 0]   ###i=0, X=0,1,2,3-----99   Y=100\n",
    "\t\tdataX.append(a)\n",
    "\t\tdataY.append(dataset[i + time_step, 0])\n",
    "\treturn numpy.array(dataX), numpy.array(dataY)"
   ]
  },
  {
   "cell_type": "code",
   "execution_count": 7,
   "metadata": {
    "id": "e81cKq03LXFB"
   },
   "outputs": [],
   "source": [
    "#6. Reshape into X=t,t+1,t+2..t+99 and Y=t+100\n",
    "\n",
    "time_step = 1\n",
    "X_train, y_train = create_dataset(train_data, time_step)\n",
    "X_val, yval = create_dataset(val_data, time_step)\n",
    "X_test, ytest = create_dataset(test_data, time_step)"
   ]
  },
  {
   "cell_type": "code",
   "execution_count": 8,
   "metadata": {
    "id": "RdBVfku7O2qb"
   },
   "outputs": [],
   "source": [
    "# 7. Reshape input to be [samples, time steps, features] which is required for LSTM\n",
    "X_train =X_train.reshape(X_train.shape[0],X_train.shape[1] , 1)\n",
    "X_test = X_test.reshape(X_test.shape[0],X_test.shape[1] , 1)\n",
    "X_val = X_val.reshape(X_val.shape[0],X_val.shape[1] , 1)"
   ]
  },
  {
   "cell_type": "code",
   "execution_count": 9,
   "metadata": {
    "id": "sSfxrE7BO9vX"
   },
   "outputs": [],
   "source": [
    "# 8. Define LSTM Model\n",
    "\n",
    "model=Sequential()\n",
    "model.add(LSTM(50,return_sequences=True,input_shape=(1,1)))\n",
    "model.add(LSTM(50,return_sequences=True))\n",
    "model.add(LSTM(50))\n",
    "model.add(Dense(1))\n",
    "model.compile(loss='mean_squared_error',optimizer='adam')"
   ]
  },
  {
   "cell_type": "code",
   "execution_count": 10,
   "metadata": {
    "colab": {
     "base_uri": "https://localhost:8080/"
    },
    "id": "zgfeujZSPEKr",
    "outputId": "75217352-75e3-4ef9-f945-5faff4da736d"
   },
   "outputs": [
    {
     "name": "stdout",
     "output_type": "stream",
     "text": [
      "Epoch 1/50\n",
      "10/10 [==============================] - 16s 344ms/step - loss: 0.0213 - val_loss: 0.4592\n",
      "Epoch 2/50\n",
      "10/10 [==============================] - 0s 21ms/step - loss: 0.0116 - val_loss: 0.3893\n",
      "Epoch 3/50\n",
      "10/10 [==============================] - 0s 20ms/step - loss: 0.0042 - val_loss: 0.3045\n",
      "Epoch 4/50\n",
      "10/10 [==============================] - 0s 18ms/step - loss: 0.0023 - val_loss: 0.2619\n",
      "Epoch 5/50\n",
      "10/10 [==============================] - 0s 18ms/step - loss: 0.0024 - val_loss: 0.2873\n",
      "Epoch 6/50\n",
      "10/10 [==============================] - 0s 20ms/step - loss: 0.0021 - val_loss: 0.2995\n",
      "Epoch 7/50\n",
      "10/10 [==============================] - 0s 20ms/step - loss: 0.0021 - val_loss: 0.2851\n",
      "Epoch 8/50\n",
      "10/10 [==============================] - 0s 21ms/step - loss: 0.0020 - val_loss: 0.2702\n",
      "Epoch 9/50\n",
      "10/10 [==============================] - 0s 20ms/step - loss: 0.0020 - val_loss: 0.2617\n",
      "Epoch 10/50\n",
      "10/10 [==============================] - 0s 23ms/step - loss: 0.0019 - val_loss: 0.2543\n",
      "Epoch 11/50\n",
      "10/10 [==============================] - 0s 19ms/step - loss: 0.0018 - val_loss: 0.2383\n",
      "Epoch 12/50\n",
      "10/10 [==============================] - 0s 19ms/step - loss: 0.0017 - val_loss: 0.2191\n",
      "Epoch 13/50\n",
      "10/10 [==============================] - 0s 20ms/step - loss: 0.0016 - val_loss: 0.2031\n",
      "Epoch 14/50\n",
      "10/10 [==============================] - 0s 18ms/step - loss: 0.0014 - val_loss: 0.1690\n",
      "Epoch 15/50\n",
      "10/10 [==============================] - 0s 21ms/step - loss: 0.0013 - val_loss: 0.1383\n",
      "Epoch 16/50\n",
      "10/10 [==============================] - 0s 22ms/step - loss: 0.0010 - val_loss: 0.0984\n",
      "Epoch 17/50\n",
      "10/10 [==============================] - 0s 24ms/step - loss: 7.6733e-04 - val_loss: 0.0556\n",
      "Epoch 18/50\n",
      "10/10 [==============================] - 0s 27ms/step - loss: 5.0162e-04 - val_loss: 0.0214\n",
      "Epoch 19/50\n",
      "10/10 [==============================] - 0s 29ms/step - loss: 2.7490e-04 - val_loss: 0.0017\n",
      "Epoch 20/50\n",
      "10/10 [==============================] - 0s 38ms/step - loss: 1.3011e-04 - val_loss: 0.0056\n",
      "Epoch 21/50\n",
      "10/10 [==============================] - 0s 25ms/step - loss: 8.3594e-05 - val_loss: 0.0167\n",
      "Epoch 22/50\n",
      "10/10 [==============================] - 0s 28ms/step - loss: 8.0591e-05 - val_loss: 0.0221\n",
      "Epoch 23/50\n",
      "10/10 [==============================] - 0s 23ms/step - loss: 8.0933e-05 - val_loss: 0.0205\n",
      "Epoch 24/50\n",
      "10/10 [==============================] - 0s 20ms/step - loss: 7.7975e-05 - val_loss: 0.0179\n",
      "Epoch 25/50\n",
      "10/10 [==============================] - 0s 24ms/step - loss: 7.7184e-05 - val_loss: 0.0154\n",
      "Epoch 26/50\n",
      "10/10 [==============================] - 0s 22ms/step - loss: 7.7565e-05 - val_loss: 0.0153\n",
      "Epoch 27/50\n",
      "10/10 [==============================] - 0s 20ms/step - loss: 7.8789e-05 - val_loss: 0.0157\n",
      "Epoch 28/50\n",
      "10/10 [==============================] - 0s 18ms/step - loss: 8.0010e-05 - val_loss: 0.0156\n",
      "Epoch 29/50\n",
      "10/10 [==============================] - 0s 22ms/step - loss: 8.2394e-05 - val_loss: 0.0144\n",
      "Epoch 30/50\n",
      "10/10 [==============================] - 0s 20ms/step - loss: 7.8592e-05 - val_loss: 0.0136\n",
      "Epoch 31/50\n",
      "10/10 [==============================] - 0s 21ms/step - loss: 7.6714e-05 - val_loss: 0.0131\n",
      "Epoch 32/50\n",
      "10/10 [==============================] - 0s 25ms/step - loss: 7.9697e-05 - val_loss: 0.0148\n",
      "Epoch 33/50\n",
      "10/10 [==============================] - 0s 21ms/step - loss: 7.9933e-05 - val_loss: 0.0149\n",
      "Epoch 34/50\n",
      "10/10 [==============================] - 0s 20ms/step - loss: 8.4400e-05 - val_loss: 0.0135\n",
      "Epoch 35/50\n",
      "10/10 [==============================] - 0s 20ms/step - loss: 8.0125e-05 - val_loss: 0.0124\n",
      "Epoch 36/50\n",
      "10/10 [==============================] - 0s 20ms/step - loss: 7.6760e-05 - val_loss: 0.0129\n",
      "Epoch 37/50\n",
      "10/10 [==============================] - 0s 25ms/step - loss: 7.7311e-05 - val_loss: 0.0125\n",
      "Epoch 38/50\n",
      "10/10 [==============================] - 0s 22ms/step - loss: 7.8677e-05 - val_loss: 0.0129\n",
      "Epoch 39/50\n",
      "10/10 [==============================] - 0s 26ms/step - loss: 7.6929e-05 - val_loss: 0.0125\n",
      "Epoch 40/50\n",
      "10/10 [==============================] - 0s 21ms/step - loss: 7.7237e-05 - val_loss: 0.0127\n",
      "Epoch 41/50\n",
      "10/10 [==============================] - 0s 23ms/step - loss: 7.9912e-05 - val_loss: 0.0119\n",
      "Epoch 42/50\n",
      "10/10 [==============================] - 0s 22ms/step - loss: 7.6332e-05 - val_loss: 0.0104\n",
      "Epoch 43/50\n",
      "10/10 [==============================] - 0s 23ms/step - loss: 7.9327e-05 - val_loss: 0.0106\n",
      "Epoch 44/50\n",
      "10/10 [==============================] - 0s 21ms/step - loss: 7.6931e-05 - val_loss: 0.0108\n",
      "Epoch 45/50\n",
      "10/10 [==============================] - 0s 20ms/step - loss: 7.7315e-05 - val_loss: 0.0105\n",
      "Epoch 46/50\n",
      "10/10 [==============================] - 0s 23ms/step - loss: 8.2542e-05 - val_loss: 0.0101\n",
      "Epoch 47/50\n",
      "10/10 [==============================] - 0s 19ms/step - loss: 7.9244e-05 - val_loss: 0.0103\n",
      "Epoch 48/50\n",
      "10/10 [==============================] - 0s 21ms/step - loss: 7.8119e-05 - val_loss: 0.0103\n",
      "Epoch 49/50\n",
      "10/10 [==============================] - 0s 23ms/step - loss: 7.7938e-05 - val_loss: 0.0109\n",
      "Epoch 50/50\n",
      "10/10 [==============================] - 0s 20ms/step - loss: 7.6773e-05 - val_loss: 0.0098\n"
     ]
    },
    {
     "data": {
      "text/plain": [
       "<keras.callbacks.History at 0x20be2a907d0>"
      ]
     },
     "execution_count": 10,
     "metadata": {},
     "output_type": "execute_result"
    }
   ],
   "source": [
    "# 9. Fit mô hình với dữ liệu train\n",
    "model.fit(X_train,y_train,validation_data=(X_test,ytest),epochs=50,batch_size=64,verbose=1)"
   ]
  },
  {
   "cell_type": "code",
   "execution_count": 11,
   "metadata": {
    "colab": {
     "base_uri": "https://localhost:8080/"
    },
    "id": "Rxx_KQSkQpBG",
    "outputId": "3fe32233-5aca-4d1a-e850-e119eedaf6cc"
   },
   "outputs": [
    {
     "name": "stdout",
     "output_type": "stream",
     "text": [
      "20/20 [==============================] - 3s 4ms/step\n",
      "12/12 [==============================] - 0s 4ms/step\n",
      "8/8 [==============================] - 0s 6ms/step\n"
     ]
    }
   ],
   "source": [
    "# 10. Dự báo dữ liệu test, val\n",
    "train_predict=model.predict(X_train)\n",
    "y_pred=model.predict(X_test)\n",
    "y_pred_val=model.predict(X_val)\n"
   ]
  },
  {
   "cell_type": "code",
   "execution_count": 12,
   "metadata": {
    "id": "5rwTN10LQ7rj"
   },
   "outputs": [],
   "source": [
    "# 11. Chuẩn hóa dữ liệu y_pred, y_pred_val\n",
    "train_predict=scaler.inverse_transform(train_predict)\n",
    "y_pred=scaler.inverse_transform(y_pred)\n",
    "y_pred_val=scaler.inverse_transform(y_pred_val)\n"
   ]
  },
  {
   "cell_type": "code",
   "execution_count": 13,
   "metadata": {
    "id": "VelR5kM7baBR"
   },
   "outputs": [],
   "source": [
    "train_size1 = int(0.5 * len(df))\n",
    "test_size1 = int(0.3 * len(df))\n",
    "\n",
    "train_data1 = df[:train_size1]\n",
    "test_data1 = df[train_size1:train_size1+test_size1]\n",
    "val_data1 = df[train_size1+test_size1:]\n",
    "\n",
    "x_test1 = np.array(test_data1.index).reshape(-1, 1)\n",
    "y_test1 = np.array(test_data1)\n",
    "\n",
    "x_val1 = np.array(val_data1.index).reshape(-1, 1)\n",
    "y_val1 = np.array(val_data1)"
   ]
  },
  {
   "cell_type": "code",
   "execution_count": 14,
   "metadata": {
    "colab": {
     "base_uri": "https://localhost:8080/"
    },
    "id": "wu_9j94kRonD",
    "outputId": "df4b8794-21df-4271-96b7-cf637909e15a"
   },
   "outputs": [
    {
     "name": "stdout",
     "output_type": "stream",
     "text": [
      "Validation RMSE: 3665.9191073220563\n",
      "Testing RMSE: 7172.520202093477\n",
      "Validation MAPE: 15.356679679402415\n",
      "Testing MAPE: 30.06680505847015\n",
      "Validation MAE: 2903.0218703857695\n",
      "Testing MAE: 5780.460576989225\n"
     ]
    }
   ],
   "source": [
    "# 12. Đánh giá độ chính xác thuật toán\n",
    "#RMSE\n",
    "valid_rmse = np.sqrt(np.mean((y_pred_val - y_val1)**2))\n",
    "test_rmse = np.sqrt(np.mean((y_pred - y_test1)**2))\n",
    "print('Validation RMSE:', valid_rmse)\n",
    "print('Testing RMSE:', test_rmse)\n",
    "\n",
    "#MAPE\n",
    "valid_mape = np.mean(np.abs((y_val1 - y_pred_val) / y_val1)) * 100\n",
    "test_mape = np.mean(np.abs((y_test1 - y_pred) / y_test1)) * 100\n",
    "print('Validation MAPE:', valid_mape)\n",
    "print('Testing MAPE:', test_mape)\n",
    "\n",
    "#MAE\n",
    "valid_mae = np.mean(np.abs(y_pred_val - y_val1))\n",
    "test_mae = np.mean(np.abs(y_pred - y_test1))\n",
    "print('Validation MAE:', valid_mae)\n",
    "print('Testing MAE:', test_mae)"
   ]
  },
  {
   "cell_type": "code",
   "execution_count": 15,
   "metadata": {
    "colab": {
     "base_uri": "https://localhost:8080/"
    },
    "id": "izQZ1iQyYl6N",
    "outputId": "680528b8-0fb2-4d83-9c2c-d9ee1ba632b5"
   },
   "outputs": [
    {
     "name": "stdout",
     "output_type": "stream",
     "text": [
      "[0.57573533]\n",
      "2\n",
      "1 day input [0.57573533]\n",
      "1 day output [[0.62770677]]\n",
      "2 day input [0.62770677]\n",
      "2 day output [[0.69206]]\n",
      "3 day input [0.69205999]\n",
      "3 day output [[0.77267706]]\n",
      "4 day input [0.77267706]\n",
      "4 day output [[0.8745842]]\n",
      "5 day input [0.8745842]\n",
      "5 day output [[1.003789]]\n",
      "6 day input [1.00378895]\n",
      "6 day output [[1.1661547]]\n",
      "7 day input [1.16615474]\n",
      "7 day output [[1.364258]]\n",
      "8 day input [1.36425805]\n",
      "8 day output [[1.5917639]]\n",
      "9 day input [1.59176385]\n",
      "9 day output [[1.8285898]]\n",
      "10 day input [1.8285898]\n",
      "10 day output [[2.0449805]]\n",
      "11 day input [2.04498053]\n",
      "11 day output [[2.2165556]]\n",
      "12 day input [2.2165556]\n",
      "12 day output [[2.3363097]]\n",
      "13 day input [2.33630967]\n",
      "13 day output [[2.412148]]\n",
      "14 day input [2.412148]\n",
      "14 day output [[2.4571376]]\n",
      "15 day input [2.45713758]\n",
      "15 day output [[2.4827735]]\n",
      "16 day input [2.48277354]\n",
      "16 day output [[2.4970436]]\n",
      "17 day input [2.49704361]\n",
      "17 day output [[2.5048826]]\n",
      "18 day input [2.50488257]\n",
      "18 day output [[2.5091581]]\n",
      "19 day input [2.50915813]\n",
      "19 day output [[2.5114803]]\n",
      "20 day input [2.51148033]\n",
      "20 day output [[2.512739]]\n",
      "21 day input [2.51273894]\n",
      "21 day output [[2.5134199]]\n",
      "22 day input [2.51341987]\n",
      "22 day output [[2.5137885]]\n",
      "23 day input [2.51378846]\n",
      "23 day output [[2.5139885]]\n",
      "24 day input [2.51398849]\n",
      "24 day output [[2.5140958]]\n",
      "25 day input [2.51409578]\n",
      "25 day output [[2.5141542]]\n",
      "26 day input [2.5141542]\n",
      "26 day output [[2.5141854]]\n",
      "27 day input [2.51418543]\n",
      "27 day output [[2.5142019]]\n",
      "28 day input [2.51420188]\n",
      "28 day output [[2.5142112]]\n",
      "29 day input [2.51421118]\n",
      "29 day output [[2.514216]]\n",
      "[[19561.93776782]\n",
      " [20677.2499718 ]\n",
      " [22058.27667174]\n",
      " [23788.3270599 ]\n",
      " [25975.26434746]\n",
      " [28748.01120424]\n",
      " [32232.39738396]\n",
      " [36483.71419852]\n",
      " [41366.0114838 ]\n",
      " [46448.31990303]\n",
      " [51092.08658538]\n",
      " [54774.1047328 ]\n",
      " [57344.03917925]\n",
      " [58971.53726926]\n",
      " [59937.01828113]\n",
      " [60487.16849735]\n",
      " [60793.40556679]\n",
      " [60961.63052804]\n",
      " [61053.38448133]\n",
      " [61103.21906033]\n",
      " [61130.22899282]\n",
      " [61144.8416784 ]\n",
      " [61152.75176661]\n",
      " [61157.04449883]\n",
      " [61159.34691777]\n",
      " [61160.60045698]\n",
      " [61161.27071671]\n",
      " [61161.62375429]\n",
      " [61161.82329726]\n",
      " [61161.92562699]]\n"
     ]
    }
   ],
   "source": [
    "# 13. Dự báo 30 ngày tiếp theo\n",
    "x_input=val_data[len(val_data)-time_step:].reshape(1,-1)\n",
    "x_input.shape\n",
    "\n",
    "temp_input=list(x_input)\n",
    "temp_input=temp_input[0].tolist()\n",
    "\n",
    "from numpy import array\n",
    "\n",
    "lst_output=[]\n",
    "n_steps=1\n",
    "i=0\n",
    "while(i<30):\n",
    "\n",
    "    if(len(temp_input)>1):\n",
    "        #print(temp_input)\n",
    "        x_input=np.array(temp_input[1:])\n",
    "        print(\"{} day input {}\".format(i,x_input))\n",
    "        x_input=x_input.reshape(1,-1)\n",
    "        x_input = x_input.reshape((1, n_steps, 1))\n",
    "        #print(x_input)\n",
    "        yhat = model.predict(x_input, verbose=0)\n",
    "        print(\"{} day output {}\".format(i,yhat))\n",
    "        temp_input.extend(yhat[0].tolist())\n",
    "        temp_input=temp_input[1:]\n",
    "        #print(temp_input)\n",
    "        lst_output.extend(yhat.tolist())\n",
    "        i=i+1\n",
    "    else:\n",
    "        x_input = x_input.reshape((1, n_steps,1))\n",
    "        yhat = model.predict(x_input, verbose=0)\n",
    "        print(yhat[0])\n",
    "        temp_input.extend(yhat[0].tolist())\n",
    "        print(len(temp_input))\n",
    "        lst_output.extend(yhat.tolist())\n",
    "        i=i+1\n",
    "lst_output=scaler.inverse_transform(lst_output)\n",
    "print(lst_output)"
   ]
  },
  {
   "cell_type": "code",
   "execution_count": 16,
   "metadata": {
    "colab": {
     "base_uri": "https://localhost:8080/",
     "height": 430
    },
    "id": "KSa_mX51a654",
    "outputId": "740334c4-b2ed-4a26-f45a-a37f29d0ece5"
   },
   "outputs": [
    {
     "data": {
      "image/png": "[encoded data removed]",
      "text/plain": [
       "<Figure size 640x480 with 1 Axes>"
      ]
     },
     "metadata": {},
     "output_type": "display_data"
    }
   ],
   "source": [
    "# 14.Vẽ hình\n",
    "\n",
    "train_data_index = pd.RangeIndex(start=0, stop=train_size, step=1)\n",
    "plt.plot(scaler.inverse_transform(train_data))\n",
    "\n",
    "test_data_index = pd.RangeIndex(start=train_size, stop=train_size+test_size, step=1)\n",
    "plt.plot(test_data_index,scaler.inverse_transform(test_data))\n",
    "\n",
    "test_data_index = pd.RangeIndex(start=train_size+2, stop=train_size+test_size, step=1)\n",
    "plt.plot(test_data_index,(y_pred))\n",
    "\n",
    "val_data_index = pd.RangeIndex(start=train_size+test_size, stop=train_size+test_size+val_size, step=1)\n",
    "plt.plot(val_data_index,scaler.inverse_transform(val_data))\n",
    "\n",
    "val_data_index = pd.RangeIndex(start=train_size+test_size+2, stop=train_size+test_size+val_size, step=1)\n",
    "plt.plot(val_data_index,y_pred_val)\n",
    "\n",
    "prediect_data_index = pd.RangeIndex(start=len(df1)-1, stop=len(df1)+29, step=1)\n",
    "plt.plot(prediect_data_index,lst_output)\n",
    "\n",
    "plt.legend(['Train','Test','Predict','Validate','ValidatePred','Predict30days'])\n",
    "plt.show()"
   ]
  },
  {
   "cell_type": "code",
   "execution_count": null,
   "metadata": {},
   "outputs": [],
   "source": []
  }
 ],
 "metadata": {
  "accelerator": "GPU",
  "colab": {
   "gpuType": "T4",
   "provenance": []
  },
  "gpuClass": "standard",
  "kernelspec": {
   "display_name": "Python 3 (ipykernel)",
   "language": "python",
   "name": "python3"
  },
  "language_info": {
   "codemirror_mode": {
    "name": "ipython",
    "version": 3
   },
   "file_extension": ".py",
   "mimetype": "text/x-python",
   "name": "python",
   "nbconvert_exporter": "python",
   "pygments_lexer": "ipython3",
   "version": "3.11.2"
  }
 },
 "nbformat": 4,
 "nbformat_minor": 1
}
