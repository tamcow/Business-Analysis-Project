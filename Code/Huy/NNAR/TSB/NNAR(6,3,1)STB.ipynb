{
 "cells": [
  {
   "cell_type": "code",
   "execution_count": 1,
   "metadata": {
    "id": "FMDKda-XIUAK"
   },
   "outputs": [],
   "source": [
    "# 1. Import thư viện cần thiết\n",
    "import numpy as np\n",
    "import pandas as pd\n",
    "import matplotlib.pyplot as plt\n",
    "from sklearn.preprocessing import MinMaxScaler\n",
    "from keras.models import Sequential\n",
    "from keras.layers import Dense, LSTM"
   ]
  },
  {
   "cell_type": "code",
   "execution_count": 2,
   "metadata": {
    "colab": {
     "base_uri": "https://localhost:8080/"
    },
    "id": "aRm9GQ8KJJ5N",
    "outputId": "746287de-2834-44d9-cde1-8d3124f09eea"
   },
   "outputs": [
    {
     "data": {
      "text/plain": [
       "0       11750\n",
       "1       12550\n",
       "2       12900\n",
       "3       13300\n",
       "4       13000\n",
       "        ...  \n",
       "1237    27000\n",
       "1238    27400\n",
       "1239    27000\n",
       "1240    27200\n",
       "1241    27850\n",
       "Name: Price, Length: 1242, dtype: int64"
      ]
     },
     "execution_count": 2,
     "metadata": {},
     "output_type": "execute_result"
    }
   ],
   "source": [
    "# 2. Đọc file csv và gắng index với giá Price\n",
    "df = pd.read_csv('STB.csv')\n",
    "#df1=df.reset_index()['Price']\n",
    "df=df.reset_index()['Price']\n",
    "df"
   ]
  },
  {
   "cell_type": "code",
   "execution_count": 3,
   "metadata": {
    "colab": {
     "base_uri": "https://localhost:8080/",
     "height": 527
    },
    "id": "V78gRa98KLjC",
    "outputId": "9a5b3ef9-70d6-4513-c978-0b9a75d24f30"
   },
   "outputs": [
    {
     "name": "stderr",
     "output_type": "stream",
     "text": [
      "C:\\Users\\giangle\\AppData\\Local\\Programs\\Python\\Python311\\Lib\\site-packages\\statsmodels\\graphics\\tsaplots.py:348: FutureWarning: The default method 'yw' can produce PACF values outside of the [-1,1] interval. After 0.13, the default will change tounadjusted Yule-Walker ('ywm'). You can use this method now by setting method='ywm'.\n",
      "  warnings.warn(\n"
     ]
    },
    {
     "data": {
      "image/png": "[encoded data removed]",
      "text/plain": [
       "<Figure size 640x480 with 1 Axes>"
      ]
     },
     "metadata": {},
     "output_type": "display_data"
    }
   ],
   "source": [
    "import numpy as np\n",
    "import matplotlib.pyplot as plt\n",
    "from statsmodels.graphics.tsaplots import plot_pacf\n",
    "\n",
    "# Dữ liệu chuỗi thời gian\n",
    "data = np.array([1, 2, 3, 4, 5, 6, 7, 8, 9])\n",
    "\n",
    "# Vẽ đồ thị PACF\n",
    "plot_pacf(df, lags=10)\n",
    "plt.xlabel('Lag')\n",
    "plt.ylabel('PACF')\n",
    "plt.show()"
   ]
  },
  {
   "cell_type": "code",
   "execution_count": 4,
   "metadata": {
    "id": "RdVpDho2JgL5"
   },
   "outputs": [],
   "source": [
    "# 3. Scaler data\n",
    "scaler=MinMaxScaler(feature_range=(0,1))\n",
    "df1=scaler.fit_transform(np.array(df).reshape(-1,1))"
   ]
  },
  {
   "cell_type": "code",
   "execution_count": 5,
   "metadata": {
    "id": "B5JXpenzJoR3"
   },
   "outputs": [],
   "source": [
    "# 4. Chia train test\n",
    "train_size = int(0.6 * len(df1))\n",
    "test_size = int(0.3 * len(df1))\n",
    "val_size = len(df1) - train_size - test_size\n",
    "\n",
    "train_data = df1[:train_size]\n",
    "test_data = df1[train_size:train_size+test_size]\n",
    "val_data = df1[train_size+test_size:]"
   ]
  },
  {
   "cell_type": "code",
   "execution_count": 6,
   "metadata": {
    "id": "yJfmuBORLSfC"
   },
   "outputs": [],
   "source": [
    "# 5. Hàm Create Dataset\n",
    "import numpy\n",
    "# convert an array of values into a dataset matrix\n",
    "def create_dataset(dataset, time_step=1):\n",
    "\tdataX, dataY = [], []\n",
    "\tfor i in range(len(dataset)-time_step-1):\n",
    "\t\ta = dataset[i:(i+time_step), 0]   ###i=0, X=0,1,2,3-----99   Y=100\n",
    "\t\tdataX.append(a)\n",
    "\t\tdataY.append(dataset[i + time_step, 0])\n",
    "\treturn numpy.array(dataX), numpy.array(dataY)"
   ]
  },
  {
   "cell_type": "code",
   "execution_count": 7,
   "metadata": {
    "id": "e81cKq03LXFB"
   },
   "outputs": [],
   "source": [
    "#6. Reshape into X=t,t+1,t+2..t+99 and Y=t+100\n",
    "\n",
    "time_step = 1\n",
    "X_train, y_train = create_dataset(train_data, time_step)\n",
    "X_val, yval = create_dataset(val_data, time_step)\n",
    "X_test, ytest = create_dataset(test_data, time_step)"
   ]
  },
  {
   "cell_type": "code",
   "execution_count": 8,
   "metadata": {
    "id": "RdBVfku7O2qb"
   },
   "outputs": [],
   "source": [
    "# 7. Reshape input to be [samples, time steps, features] which is required for LSTM\n",
    "X_train =X_train.reshape(X_train.shape[0],X_train.shape[1] , 1)\n",
    "X_test = X_test.reshape(X_test.shape[0],X_test.shape[1] , 1)\n",
    "X_val = X_val.reshape(X_val.shape[0],X_val.shape[1] , 1)"
   ]
  },
  {
   "cell_type": "code",
   "execution_count": 9,
   "metadata": {
    "id": "sSfxrE7BO9vX"
   },
   "outputs": [],
   "source": [
    "# 8. Define LSTM Model\n",
    "\n",
    "model=Sequential()\n",
    "model.add(LSTM(50,return_sequences=True,input_shape=(1,1)))\n",
    "model.add(LSTM(50,return_sequences=True))\n",
    "model.add(LSTM(50))\n",
    "model.add(Dense(1))\n",
    "model.compile(loss='mean_squared_error',optimizer='adam')"
   ]
  },
  {
   "cell_type": "code",
   "execution_count": 10,
   "metadata": {
    "colab": {
     "base_uri": "https://localhost:8080/"
    },
    "id": "zgfeujZSPEKr",
    "outputId": "75217352-75e3-4ef9-f945-5faff4da736d"
   },
   "outputs": [
    {
     "name": "stdout",
     "output_type": "stream",
     "text": [
      "Epoch 1/50\n",
      "12/12 [==============================] - 14s 231ms/step - loss: 0.0438 - val_loss: 0.4174\n",
      "Epoch 2/50\n",
      "12/12 [==============================] - 0s 16ms/step - loss: 0.0272 - val_loss: 0.3133\n",
      "Epoch 3/50\n",
      "12/12 [==============================] - 0s 15ms/step - loss: 0.0141 - val_loss: 0.1893\n",
      "Epoch 4/50\n",
      "12/12 [==============================] - 0s 16ms/step - loss: 0.0125 - val_loss: 0.1668\n",
      "Epoch 5/50\n",
      "12/12 [==============================] - 0s 15ms/step - loss: 0.0109 - val_loss: 0.1827\n",
      "Epoch 6/50\n",
      "12/12 [==============================] - 0s 16ms/step - loss: 0.0095 - val_loss: 0.1269\n",
      "Epoch 7/50\n",
      "12/12 [==============================] - 0s 15ms/step - loss: 0.0074 - val_loss: 0.0859\n",
      "Epoch 8/50\n",
      "12/12 [==============================] - 0s 15ms/step - loss: 0.0048 - val_loss: 0.0326\n",
      "Epoch 9/50\n",
      "12/12 [==============================] - 0s 15ms/step - loss: 0.0021 - val_loss: 0.0026\n",
      "Epoch 10/50\n",
      "12/12 [==============================] - 0s 16ms/step - loss: 4.3386e-04 - val_loss: 0.0130\n",
      "Epoch 11/50\n",
      "12/12 [==============================] - 0s 15ms/step - loss: 2.6357e-04 - val_loss: 0.0214\n",
      "Epoch 12/50\n",
      "12/12 [==============================] - 0s 16ms/step - loss: 3.0571e-04 - val_loss: 0.0109\n",
      "Epoch 13/50\n",
      "12/12 [==============================] - 0s 16ms/step - loss: 2.4934e-04 - val_loss: 0.0060\n",
      "Epoch 14/50\n",
      "12/12 [==============================] - 0s 17ms/step - loss: 2.4760e-04 - val_loss: 0.0093\n",
      "Epoch 15/50\n",
      "12/12 [==============================] - 0s 16ms/step - loss: 2.2724e-04 - val_loss: 0.0088\n",
      "Epoch 16/50\n",
      "12/12 [==============================] - 0s 16ms/step - loss: 2.2250e-04 - val_loss: 0.0081\n",
      "Epoch 17/50\n",
      "12/12 [==============================] - 0s 15ms/step - loss: 2.1220e-04 - val_loss: 0.0082\n",
      "Epoch 18/50\n",
      "12/12 [==============================] - 0s 16ms/step - loss: 2.0969e-04 - val_loss: 0.0070\n",
      "Epoch 19/50\n",
      "12/12 [==============================] - 0s 16ms/step - loss: 2.0680e-04 - val_loss: 0.0072\n",
      "Epoch 20/50\n",
      "12/12 [==============================] - 0s 15ms/step - loss: 1.9982e-04 - val_loss: 0.0068\n",
      "Epoch 21/50\n",
      "12/12 [==============================] - 0s 17ms/step - loss: 1.9865e-04 - val_loss: 0.0058\n",
      "Epoch 22/50\n",
      "12/12 [==============================] - 0s 18ms/step - loss: 2.0325e-04 - val_loss: 0.0046\n",
      "Epoch 23/50\n",
      "12/12 [==============================] - 0s 17ms/step - loss: 2.0644e-04 - val_loss: 0.0058\n",
      "Epoch 24/50\n",
      "12/12 [==============================] - 0s 15ms/step - loss: 1.8838e-04 - val_loss: 0.0055\n",
      "Epoch 25/50\n",
      "12/12 [==============================] - 0s 17ms/step - loss: 1.8668e-04 - val_loss: 0.0048\n",
      "Epoch 26/50\n",
      "12/12 [==============================] - 0s 17ms/step - loss: 1.8195e-04 - val_loss: 0.0047\n",
      "Epoch 27/50\n",
      "12/12 [==============================] - 0s 14ms/step - loss: 1.7565e-04 - val_loss: 0.0051\n",
      "Epoch 28/50\n",
      "12/12 [==============================] - 0s 16ms/step - loss: 1.7670e-04 - val_loss: 0.0052\n",
      "Epoch 29/50\n",
      "12/12 [==============================] - 0s 18ms/step - loss: 1.7627e-04 - val_loss: 0.0048\n",
      "Epoch 30/50\n",
      "12/12 [==============================] - 0s 15ms/step - loss: 1.7136e-04 - val_loss: 0.0045\n",
      "Epoch 31/50\n",
      "12/12 [==============================] - 0s 14ms/step - loss: 1.7072e-04 - val_loss: 0.0034\n",
      "Epoch 32/50\n",
      "12/12 [==============================] - 0s 15ms/step - loss: 1.6827e-04 - val_loss: 0.0034\n",
      "Epoch 33/50\n",
      "12/12 [==============================] - 0s 18ms/step - loss: 1.5960e-04 - val_loss: 0.0037\n",
      "Epoch 34/50\n",
      "12/12 [==============================] - 0s 16ms/step - loss: 1.5616e-04 - val_loss: 0.0027\n",
      "Epoch 35/50\n",
      "12/12 [==============================] - 0s 16ms/step - loss: 1.5582e-04 - val_loss: 0.0028\n",
      "Epoch 36/50\n",
      "12/12 [==============================] - 0s 14ms/step - loss: 1.5495e-04 - val_loss: 0.0029\n",
      "Epoch 37/50\n",
      "12/12 [==============================] - 0s 17ms/step - loss: 1.5841e-04 - val_loss: 0.0025\n",
      "Epoch 38/50\n",
      "12/12 [==============================] - 0s 17ms/step - loss: 1.5256e-04 - val_loss: 0.0030\n",
      "Epoch 39/50\n",
      "12/12 [==============================] - 0s 14ms/step - loss: 1.5323e-04 - val_loss: 0.0026\n",
      "Epoch 40/50\n",
      "12/12 [==============================] - 0s 16ms/step - loss: 1.5151e-04 - val_loss: 0.0022\n",
      "Epoch 41/50\n",
      "12/12 [==============================] - 0s 15ms/step - loss: 1.4941e-04 - val_loss: 0.0020\n",
      "Epoch 42/50\n",
      "12/12 [==============================] - 0s 17ms/step - loss: 1.4412e-04 - val_loss: 0.0017\n",
      "Epoch 43/50\n",
      "12/12 [==============================] - 0s 16ms/step - loss: 1.4871e-04 - val_loss: 0.0015\n",
      "Epoch 44/50\n",
      "12/12 [==============================] - 0s 15ms/step - loss: 1.4481e-04 - val_loss: 0.0020\n",
      "Epoch 45/50\n",
      "12/12 [==============================] - 0s 19ms/step - loss: 1.3991e-04 - val_loss: 0.0015\n",
      "Epoch 46/50\n",
      "12/12 [==============================] - 0s 15ms/step - loss: 1.3889e-04 - val_loss: 0.0013\n",
      "Epoch 47/50\n",
      "12/12 [==============================] - 0s 18ms/step - loss: 1.4533e-04 - val_loss: 0.0014\n",
      "Epoch 48/50\n",
      "12/12 [==============================] - 0s 15ms/step - loss: 1.4041e-04 - val_loss: 0.0017\n",
      "Epoch 49/50\n",
      "12/12 [==============================] - 0s 16ms/step - loss: 1.4053e-04 - val_loss: 0.0013\n",
      "Epoch 50/50\n",
      "12/12 [==============================] - 0s 17ms/step - loss: 1.4462e-04 - val_loss: 0.0013\n"
     ]
    },
    {
     "data": {
      "text/plain": [
       "<keras.callbacks.History at 0x223a178ee10>"
      ]
     },
     "execution_count": 10,
     "metadata": {},
     "output_type": "execute_result"
    }
   ],
   "source": [
    "# 9. Fit mô hình với dữ liệu train\n",
    "model.fit(X_train,y_train,validation_data=(X_test,ytest),epochs=50,batch_size=64,verbose=1)"
   ]
  },
  {
   "cell_type": "code",
   "execution_count": 11,
   "metadata": {
    "colab": {
     "base_uri": "https://localhost:8080/"
    },
    "id": "Rxx_KQSkQpBG",
    "outputId": "3fe32233-5aca-4d1a-e850-e119eedaf6cc"
   },
   "outputs": [
    {
     "name": "stdout",
     "output_type": "stream",
     "text": [
      "24/24 [==============================] - 2s 4ms/step\n",
      "12/12 [==============================] - 0s 4ms/step\n",
      "4/4 [==============================] - 0s 5ms/step\n"
     ]
    }
   ],
   "source": [
    "# 10. Dự báo dữ liệu test, val\n",
    "train_predict=model.predict(X_train)\n",
    "y_pred=model.predict(X_test)\n",
    "y_pred_val=model.predict(X_val)\n"
   ]
  },
  {
   "cell_type": "code",
   "execution_count": 12,
   "metadata": {
    "id": "5rwTN10LQ7rj"
   },
   "outputs": [],
   "source": [
    "# 11. Chuẩn hóa dữ liệu y_pred, y_pred_val\n",
    "train_predict=scaler.inverse_transform(train_predict)\n",
    "y_pred=scaler.inverse_transform(y_pred)\n",
    "y_pred_val=scaler.inverse_transform(y_pred_val)\n"
   ]
  },
  {
   "cell_type": "code",
   "execution_count": 13,
   "metadata": {
    "id": "VelR5kM7baBR"
   },
   "outputs": [],
   "source": [
    "train_size1 = int(0.6 * len(df))\n",
    "test_size1 = int(0.3 * len(df))\n",
    "\n",
    "train_data1 = df[:train_size1]\n",
    "test_data1 = df[train_size1:train_size1+test_size1]\n",
    "val_data1 = df[train_size1+test_size1:]\n",
    "\n",
    "x_test1 = np.array(test_data1.index).reshape(-1, 1)\n",
    "y_test1 = np.array(test_data1)\n",
    "\n",
    "x_val1 = np.array(val_data1.index).reshape(-1, 1)\n",
    "y_val1 = np.array(val_data1)"
   ]
  },
  {
   "cell_type": "code",
   "execution_count": 14,
   "metadata": {
    "colab": {
     "base_uri": "https://localhost:8080/"
    },
    "id": "wu_9j94kRonD",
    "outputId": "df4b8794-21df-4271-96b7-cf637909e15a"
   },
   "outputs": [
    {
     "name": "stdout",
     "output_type": "stream",
     "text": [
      "Validation RMSE: 3821.118224821967\n",
      "Testing RMSE: 7141.5093634496225\n",
      "Validation MAPE: 12.497344503618681\n",
      "Testing MAPE: 23.4576396896868\n",
      "Validation MAE: 2779.608137195122\n",
      "Testing MAE: 5726.620383180875\n"
     ]
    }
   ],
   "source": [
    "# 12. Đánh giá độ chính xác thuật toán\n",
    "#RMSE\n",
    "valid_rmse = np.sqrt(np.mean((y_pred_val - y_val1)**2))\n",
    "test_rmse = np.sqrt(np.mean((y_pred - y_test1)**2))\n",
    "print('Validation RMSE:', valid_rmse)\n",
    "print('Testing RMSE:', test_rmse)\n",
    "\n",
    "#MAPE\n",
    "valid_mape = np.mean(np.abs((y_val1 - y_pred_val) / y_val1)) * 100\n",
    "test_mape = np.mean(np.abs((y_test1 - y_pred) / y_test1)) * 100\n",
    "print('Validation MAPE:', valid_mape)\n",
    "print('Testing MAPE:', test_mape)\n",
    "\n",
    "#MAE\n",
    "valid_mae = np.mean(np.abs(y_pred_val - y_val1))\n",
    "test_mae = np.mean(np.abs(y_pred - y_test1))\n",
    "print('Validation MAE:', valid_mae)\n",
    "print('Testing MAE:', test_mae)"
   ]
  },
  {
   "cell_type": "code",
   "execution_count": 15,
   "metadata": {
    "colab": {
     "base_uri": "https://localhost:8080/"
    },
    "id": "izQZ1iQyYl6N",
    "outputId": "680528b8-0fb2-4d83-9c2c-d9ee1ba632b5"
   },
   "outputs": [
    {
     "name": "stdout",
     "output_type": "stream",
     "text": [
      "[0.7428475]\n",
      "2\n",
      "1 day input [0.7428475]\n",
      "1 day output [[0.7678526]]\n",
      "2 day input [0.7678526]\n",
      "2 day output [[0.7949689]]\n",
      "3 day input [0.7949689]\n",
      "3 day output [[0.8243604]]\n",
      "4 day input [0.82436037]\n",
      "4 day output [[0.8561827]]\n",
      "5 day input [0.85618269]\n",
      "5 day output [[0.8905738]]\n",
      "6 day input [0.8905738]\n",
      "6 day output [[0.9276394]]\n",
      "7 day input [0.92763942]\n",
      "7 day output [[0.9674355]]\n",
      "8 day input [0.96743548]\n",
      "8 day output [[1.0099471]]\n",
      "9 day input [1.00994706]\n",
      "9 day output [[1.0550642]]\n",
      "10 day input [1.0550642]\n",
      "10 day output [[1.1025571]]\n",
      "11 day input [1.10255706]\n",
      "11 day output [[1.1520566]]\n",
      "12 day input [1.15205657]\n",
      "12 day output [[1.2030417]]\n",
      "13 day input [1.20304167]\n",
      "13 day output [[1.2548443]]\n",
      "14 day input [1.25484431]\n",
      "14 day output [[1.3066705]]\n",
      "15 day input [1.30667055]\n",
      "15 day output [[1.3576471]]\n",
      "16 day input [1.35764706]\n",
      "16 day output [[1.4068847]]\n",
      "17 day input [1.40688467]\n",
      "17 day output [[1.4535508]]\n",
      "18 day input [1.45355082]\n",
      "18 day output [[1.4969403]]\n",
      "19 day input [1.49694026]\n",
      "19 day output [[1.5365286]]\n",
      "20 day input [1.53652859]\n",
      "20 day output [[1.5720007]]\n",
      "21 day input [1.57200074]\n",
      "21 day output [[1.6032515]]\n",
      "22 day input [1.60325146]\n",
      "22 day output [[1.6303598]]\n",
      "23 day input [1.63035977]\n",
      "23 day output [[1.6535522]]\n",
      "24 day input [1.65355217]\n",
      "24 day output [[1.6731542]]\n",
      "25 day input [1.67315423]\n",
      "25 day output [[1.6895489]]\n",
      "26 day input [1.68954885]\n",
      "26 day output [[1.703139]]\n",
      "27 day input [1.70313895]\n",
      "27 day output [[1.7143201]]\n",
      "28 day input [1.71432006]\n",
      "28 day output [[1.7234619]]\n",
      "29 day input [1.72346187]\n",
      "29 day output [[1.7308975]]\n",
      "[[28508.29618871]\n",
      " [29222.19185531]\n",
      " [29996.3621825 ]\n",
      " [30835.48858166]\n",
      " [31744.01592612]\n",
      " [32725.88197887]\n",
      " [33784.10557806]\n",
      " [34920.28293014]\n",
      " [36133.98860693]\n",
      " [37422.08294868]\n",
      " [38778.00415158]\n",
      " [40191.21521115]\n",
      " [41646.83975577]\n",
      " [43125.80499053]\n",
      " [44605.44410348]\n",
      " [46060.82360148]\n",
      " [47466.55733585]\n",
      " [48798.87578487]\n",
      " [50037.64428496]\n",
      " [51167.89116859]\n",
      " [52180.62118292]\n",
      " [53072.82910347]\n",
      " [53846.77140117]\n",
      " [54508.91458392]\n",
      " [55068.553406  ]\n",
      " [55536.6196692 ]\n",
      " [55924.61695075]\n",
      " [56243.83781552]\n",
      " [56504.83628511]\n",
      " [56717.124933  ]]\n"
     ]
    }
   ],
   "source": [
    "# 13. Dự báo 30 ngày tiếp theo\n",
    "x_input=val_data[len(val_data)-time_step:].reshape(1,-1)\n",
    "x_input.shape\n",
    "\n",
    "temp_input=list(x_input)\n",
    "temp_input=temp_input[0].tolist()\n",
    "\n",
    "from numpy import array\n",
    "\n",
    "lst_output=[]\n",
    "n_steps=1\n",
    "i=0\n",
    "while(i<30):\n",
    "\n",
    "    if(len(temp_input)>1):\n",
    "        #print(temp_input)\n",
    "        x_input=np.array(temp_input[1:])\n",
    "        print(\"{} day input {}\".format(i,x_input))\n",
    "        x_input=x_input.reshape(1,-1)\n",
    "        x_input = x_input.reshape((1, n_steps, 1))\n",
    "        #print(x_input)\n",
    "        yhat = model.predict(x_input, verbose=0)\n",
    "        print(\"{} day output {}\".format(i,yhat))\n",
    "        temp_input.extend(yhat[0].tolist())\n",
    "        temp_input=temp_input[1:]\n",
    "        #print(temp_input)\n",
    "        lst_output.extend(yhat.tolist())\n",
    "        i=i+1\n",
    "    else:\n",
    "        x_input = x_input.reshape((1, n_steps,1))\n",
    "        yhat = model.predict(x_input, verbose=0)\n",
    "        print(yhat[0])\n",
    "        temp_input.extend(yhat[0].tolist())\n",
    "        print(len(temp_input))\n",
    "        lst_output.extend(yhat.tolist())\n",
    "        i=i+1\n",
    "lst_output=scaler.inverse_transform(lst_output)\n",
    "print(lst_output)"
   ]
  },
  {
   "cell_type": "code",
   "execution_count": 16,
   "metadata": {
    "colab": {
     "base_uri": "https://localhost:8080/",
     "height": 430
    },
    "id": "KSa_mX51a654",
    "outputId": "740334c4-b2ed-4a26-f45a-a37f29d0ece5"
   },
   "outputs": [
    {
     "data": {
      "image/png": "[encoded data removed]",
      "text/plain": [
       "<Figure size 640x480 with 1 Axes>"
      ]
     },
     "metadata": {},
     "output_type": "display_data"
    }
   ],
   "source": [
    "# 14.Vẽ hình\n",
    "\n",
    "train_data_index = pd.RangeIndex(start=0, stop=train_size, step=1)\n",
    "plt.plot(scaler.inverse_transform(train_data))\n",
    "\n",
    "test_data_index = pd.RangeIndex(start=train_size, stop=train_size+test_size, step=1)\n",
    "plt.plot(test_data_index,scaler.inverse_transform(test_data))\n",
    "\n",
    "test_data_index = pd.RangeIndex(start=train_size+2, stop=train_size+test_size, step=1)\n",
    "plt.plot(test_data_index,(y_pred))\n",
    "\n",
    "val_data_index = pd.RangeIndex(start=train_size+test_size, stop=train_size+test_size+val_size, step=1)\n",
    "plt.plot(val_data_index,scaler.inverse_transform(val_data))\n",
    "\n",
    "val_data_index = pd.RangeIndex(start=train_size+test_size+2, stop=train_size+test_size+val_size, step=1)\n",
    "plt.plot(val_data_index,y_pred_val)\n",
    "\n",
    "prediect_data_index = pd.RangeIndex(start=len(df1)-1, stop=len(df1)+29, step=1)\n",
    "plt.plot(prediect_data_index,lst_output)\n",
    "\n",
    "plt.legend(['Train','Test','Predict','Validate','ValidatePred','Predict30days'])\n",
    "plt.show()"
   ]
  },
  {
   "cell_type": "code",
   "execution_count": null,
   "metadata": {},
   "outputs": [],
   "source": []
  }
 ],
 "metadata": {
  "accelerator": "GPU",
  "colab": {
   "gpuType": "T4",
   "provenance": []
  },
  "gpuClass": "standard",
  "kernelspec": {
   "display_name": "Python 3 (ipykernel)",
   "language": "python",
   "name": "python3"
  },
  "language_info": {
   "codemirror_mode": {
    "name": "ipython",
    "version": 3
   },
   "file_extension": ".py",
   "mimetype": "text/x-python",
   "name": "python",
   "nbconvert_exporter": "python",
   "pygments_lexer": "ipython3",
   "version": "3.11.2"
  }
 },
 "nbformat": 4,
 "nbformat_minor": 1
}
