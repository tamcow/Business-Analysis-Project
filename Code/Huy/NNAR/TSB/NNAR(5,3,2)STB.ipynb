{
 "cells": [
  {
   "cell_type": "code",
   "execution_count": 1,
   "metadata": {
    "id": "FMDKda-XIUAK"
   },
   "outputs": [],
   "source": [
    "# 1. Import thư viện cần thiết\n",
    "import numpy as np\n",
    "import pandas as pd\n",
    "import matplotlib.pyplot as plt\n",
    "from sklearn.preprocessing import MinMaxScaler\n",
    "from keras.models import Sequential\n",
    "from keras.layers import Dense, LSTM"
   ]
  },
  {
   "cell_type": "code",
   "execution_count": 2,
   "metadata": {
    "colab": {
     "base_uri": "https://localhost:8080/"
    },
    "id": "aRm9GQ8KJJ5N",
    "outputId": "746287de-2834-44d9-cde1-8d3124f09eea"
   },
   "outputs": [
    {
     "data": {
      "text/plain": [
       "0       11750\n",
       "1       12550\n",
       "2       12900\n",
       "3       13300\n",
       "4       13000\n",
       "        ...  \n",
       "1237    27000\n",
       "1238    27400\n",
       "1239    27000\n",
       "1240    27200\n",
       "1241    27850\n",
       "Name: Price, Length: 1242, dtype: int64"
      ]
     },
     "execution_count": 2,
     "metadata": {},
     "output_type": "execute_result"
    }
   ],
   "source": [
    "# 2. Đọc file csv và gắng index với giá Price\n",
    "df = pd.read_csv('STB.csv')\n",
    "#df1=df.reset_index()['Price']\n",
    "df=df.reset_index()['Price']\n",
    "df"
   ]
  },
  {
   "cell_type": "code",
   "execution_count": 3,
   "metadata": {
    "colab": {
     "base_uri": "https://localhost:8080/",
     "height": 527
    },
    "id": "V78gRa98KLjC",
    "outputId": "9a5b3ef9-70d6-4513-c978-0b9a75d24f30"
   },
   "outputs": [
    {
     "name": "stderr",
     "output_type": "stream",
     "text": [
      "C:\\Users\\giangle\\AppData\\Local\\Programs\\Python\\Python311\\Lib\\site-packages\\statsmodels\\graphics\\tsaplots.py:348: FutureWarning: The default method 'yw' can produce PACF values outside of the [-1,1] interval. After 0.13, the default will change tounadjusted Yule-Walker ('ywm'). You can use this method now by setting method='ywm'.\n",
      "  warnings.warn(\n"
     ]
    },
    {
     "data": {
      "image/png": "[encoded data removed]",
      "text/plain": [
       "<Figure size 640x480 with 1 Axes>"
      ]
     },
     "metadata": {},
     "output_type": "display_data"
    }
   ],
   "source": [
    "import numpy as np\n",
    "import matplotlib.pyplot as plt\n",
    "from statsmodels.graphics.tsaplots import plot_pacf\n",
    "\n",
    "# Dữ liệu chuỗi thời gian\n",
    "data = np.array([1, 2, 3, 4, 5, 6, 7, 8, 9])\n",
    "\n",
    "# Vẽ đồ thị PACF\n",
    "plot_pacf(df, lags=10)\n",
    "plt.xlabel('Lag')\n",
    "plt.ylabel('PACF')\n",
    "plt.show()"
   ]
  },
  {
   "cell_type": "code",
   "execution_count": 4,
   "metadata": {
    "id": "RdVpDho2JgL5"
   },
   "outputs": [],
   "source": [
    "# 3. Scaler data\n",
    "scaler=MinMaxScaler(feature_range=(0,1))\n",
    "df1=scaler.fit_transform(np.array(df).reshape(-1,1))"
   ]
  },
  {
   "cell_type": "code",
   "execution_count": 5,
   "metadata": {
    "id": "B5JXpenzJoR3"
   },
   "outputs": [],
   "source": [
    "# 4. Chia train test\n",
    "train_size = int(0.5 * len(df1))\n",
    "test_size = int(0.3 * len(df1))\n",
    "val_size = len(df1) - train_size - test_size\n",
    "\n",
    "train_data = df1[:train_size]\n",
    "test_data = df1[train_size:train_size+test_size]\n",
    "val_data = df1[train_size+test_size:]"
   ]
  },
  {
   "cell_type": "code",
   "execution_count": 6,
   "metadata": {
    "id": "yJfmuBORLSfC"
   },
   "outputs": [],
   "source": [
    "# 5. Hàm Create Dataset\n",
    "import numpy\n",
    "# convert an array of values into a dataset matrix\n",
    "def create_dataset(dataset, time_step=1):\n",
    "\tdataX, dataY = [], []\n",
    "\tfor i in range(len(dataset)-time_step-1):\n",
    "\t\ta = dataset[i:(i+time_step), 0]   ###i=0, X=0,1,2,3-----99   Y=100\n",
    "\t\tdataX.append(a)\n",
    "\t\tdataY.append(dataset[i + time_step, 0])\n",
    "\treturn numpy.array(dataX), numpy.array(dataY)"
   ]
  },
  {
   "cell_type": "code",
   "execution_count": 7,
   "metadata": {
    "id": "e81cKq03LXFB"
   },
   "outputs": [],
   "source": [
    "#6. Reshape into X=t,t+1,t+2..t+99 and Y=t+100\n",
    "\n",
    "time_step = 1\n",
    "X_train, y_train = create_dataset(train_data, time_step)\n",
    "X_val, yval = create_dataset(val_data, time_step)\n",
    "X_test, ytest = create_dataset(test_data, time_step)"
   ]
  },
  {
   "cell_type": "code",
   "execution_count": 8,
   "metadata": {
    "id": "RdBVfku7O2qb"
   },
   "outputs": [],
   "source": [
    "# 7. Reshape input to be [samples, time steps, features] which is required for LSTM\n",
    "X_train =X_train.reshape(X_train.shape[0],X_train.shape[1] , 1)\n",
    "X_test = X_test.reshape(X_test.shape[0],X_test.shape[1] , 1)\n",
    "X_val = X_val.reshape(X_val.shape[0],X_val.shape[1] , 1)"
   ]
  },
  {
   "cell_type": "code",
   "execution_count": 9,
   "metadata": {
    "id": "sSfxrE7BO9vX"
   },
   "outputs": [],
   "source": [
    "# 8. Define LSTM Model\n",
    "\n",
    "model=Sequential()\n",
    "model.add(LSTM(50,return_sequences=True,input_shape=(1,1)))\n",
    "model.add(LSTM(50,return_sequences=True))\n",
    "model.add(LSTM(50))\n",
    "model.add(Dense(1))\n",
    "model.compile(loss='mean_squared_error',optimizer='adam')"
   ]
  },
  {
   "cell_type": "code",
   "execution_count": 10,
   "metadata": {
    "colab": {
     "base_uri": "https://localhost:8080/"
    },
    "id": "zgfeujZSPEKr",
    "outputId": "75217352-75e3-4ef9-f945-5faff4da736d"
   },
   "outputs": [
    {
     "name": "stdout",
     "output_type": "stream",
     "text": [
      "Epoch 1/50\n",
      "10/10 [==============================] - 12s 258ms/step - loss: 0.0186 - val_loss: 0.4259\n",
      "Epoch 2/50\n",
      "10/10 [==============================] - 0s 21ms/step - loss: 0.0098 - val_loss: 0.3623\n",
      "Epoch 3/50\n",
      "10/10 [==============================] - 0s 16ms/step - loss: 0.0033 - val_loss: 0.2848\n",
      "Epoch 4/50\n",
      "10/10 [==============================] - 0s 16ms/step - loss: 0.0019 - val_loss: 0.2498\n",
      "Epoch 5/50\n",
      "10/10 [==============================] - 0s 16ms/step - loss: 0.0018 - val_loss: 0.2745\n",
      "Epoch 6/50\n",
      "10/10 [==============================] - 0s 15ms/step - loss: 0.0016 - val_loss: 0.2845\n",
      "Epoch 7/50\n",
      "10/10 [==============================] - 0s 19ms/step - loss: 0.0016 - val_loss: 0.2746\n",
      "Epoch 8/50\n",
      "10/10 [==============================] - 0s 18ms/step - loss: 0.0015 - val_loss: 0.2629\n",
      "Epoch 9/50\n",
      "10/10 [==============================] - 0s 18ms/step - loss: 0.0015 - val_loss: 0.2603\n",
      "Epoch 10/50\n",
      "10/10 [==============================] - 0s 18ms/step - loss: 0.0015 - val_loss: 0.2546\n",
      "Epoch 11/50\n",
      "10/10 [==============================] - 0s 18ms/step - loss: 0.0014 - val_loss: 0.2466\n",
      "Epoch 12/50\n",
      "10/10 [==============================] - 0s 16ms/step - loss: 0.0014 - val_loss: 0.2337\n",
      "Epoch 13/50\n",
      "10/10 [==============================] - 0s 19ms/step - loss: 0.0014 - val_loss: 0.2258\n",
      "Epoch 14/50\n",
      "10/10 [==============================] - 0s 17ms/step - loss: 0.0013 - val_loss: 0.2070\n",
      "Epoch 15/50\n",
      "10/10 [==============================] - 0s 16ms/step - loss: 0.0012 - val_loss: 0.1887\n",
      "Epoch 16/50\n",
      "10/10 [==============================] - 0s 18ms/step - loss: 0.0011 - val_loss: 0.1652\n",
      "Epoch 17/50\n",
      "10/10 [==============================] - 0s 16ms/step - loss: 9.6053e-04 - val_loss: 0.1390\n",
      "Epoch 18/50\n",
      "10/10 [==============================] - 0s 18ms/step - loss: 8.1474e-04 - val_loss: 0.1031\n",
      "Epoch 19/50\n",
      "10/10 [==============================] - 0s 18ms/step - loss: 6.4450e-04 - val_loss: 0.0672\n",
      "Epoch 20/50\n",
      "10/10 [==============================] - 0s 16ms/step - loss: 4.5898e-04 - val_loss: 0.0335\n",
      "Epoch 21/50\n",
      "10/10 [==============================] - 0s 14ms/step - loss: 2.9023e-04 - val_loss: 0.0082\n",
      "Epoch 22/50\n",
      "10/10 [==============================] - 0s 20ms/step - loss: 1.5797e-04 - val_loss: 0.0011\n",
      "Epoch 23/50\n",
      "10/10 [==============================] - 0s 18ms/step - loss: 9.2480e-05 - val_loss: 0.0087\n",
      "Epoch 24/50\n",
      "10/10 [==============================] - 0s 16ms/step - loss: 7.6544e-05 - val_loss: 0.0178\n",
      "Epoch 25/50\n",
      "10/10 [==============================] - 0s 16ms/step - loss: 7.4454e-05 - val_loss: 0.0207\n",
      "Epoch 26/50\n",
      "10/10 [==============================] - 0s 19ms/step - loss: 7.4221e-05 - val_loss: 0.0170\n",
      "Epoch 27/50\n",
      "10/10 [==============================] - 0s 16ms/step - loss: 7.3426e-05 - val_loss: 0.0145\n",
      "Epoch 28/50\n",
      "10/10 [==============================] - 0s 16ms/step - loss: 7.2108e-05 - val_loss: 0.0140\n",
      "Epoch 29/50\n",
      "10/10 [==============================] - 0s 16ms/step - loss: 7.1919e-05 - val_loss: 0.0133\n",
      "Epoch 30/50\n",
      "10/10 [==============================] - 0s 18ms/step - loss: 7.2970e-05 - val_loss: 0.0126\n",
      "Epoch 31/50\n",
      "10/10 [==============================] - 0s 21ms/step - loss: 7.3393e-05 - val_loss: 0.0135\n",
      "Epoch 32/50\n",
      "10/10 [==============================] - 0s 18ms/step - loss: 7.7923e-05 - val_loss: 0.0132\n",
      "Epoch 33/50\n",
      "10/10 [==============================] - 0s 15ms/step - loss: 7.2552e-05 - val_loss: 0.0135\n",
      "Epoch 34/50\n",
      "10/10 [==============================] - 0s 21ms/step - loss: 7.2094e-05 - val_loss: 0.0135\n",
      "Epoch 35/50\n",
      "10/10 [==============================] - 0s 19ms/step - loss: 7.2410e-05 - val_loss: 0.0134\n",
      "Epoch 36/50\n",
      "10/10 [==============================] - 0s 19ms/step - loss: 7.2592e-05 - val_loss: 0.0122\n",
      "Epoch 37/50\n",
      "10/10 [==============================] - 0s 18ms/step - loss: 7.2915e-05 - val_loss: 0.0128\n",
      "Epoch 38/50\n",
      "10/10 [==============================] - 0s 17ms/step - loss: 7.3485e-05 - val_loss: 0.0128\n",
      "Epoch 39/50\n",
      "10/10 [==============================] - 0s 16ms/step - loss: 7.4628e-05 - val_loss: 0.0120\n",
      "Epoch 40/50\n",
      "10/10 [==============================] - 0s 18ms/step - loss: 7.4016e-05 - val_loss: 0.0118\n",
      "Epoch 41/50\n",
      "10/10 [==============================] - 0s 17ms/step - loss: 7.1618e-05 - val_loss: 0.0114\n",
      "Epoch 42/50\n",
      "10/10 [==============================] - 0s 18ms/step - loss: 7.3934e-05 - val_loss: 0.0115\n",
      "Epoch 43/50\n",
      "10/10 [==============================] - 0s 18ms/step - loss: 7.6400e-05 - val_loss: 0.0112\n",
      "Epoch 44/50\n",
      "10/10 [==============================] - 0s 16ms/step - loss: 7.3781e-05 - val_loss: 0.0112\n",
      "Epoch 45/50\n",
      "10/10 [==============================] - 0s 16ms/step - loss: 7.2551e-05 - val_loss: 0.0106\n",
      "Epoch 46/50\n",
      "10/10 [==============================] - 0s 21ms/step - loss: 7.4797e-05 - val_loss: 0.0099\n",
      "Epoch 47/50\n",
      "10/10 [==============================] - 0s 19ms/step - loss: 7.6937e-05 - val_loss: 0.0096\n",
      "Epoch 48/50\n",
      "10/10 [==============================] - 0s 15ms/step - loss: 7.3982e-05 - val_loss: 0.0098\n",
      "Epoch 49/50\n",
      "10/10 [==============================] - 0s 23ms/step - loss: 7.1487e-05 - val_loss: 0.0103\n",
      "Epoch 50/50\n",
      "10/10 [==============================] - 0s 16ms/step - loss: 7.3549e-05 - val_loss: 0.0102\n"
     ]
    },
    {
     "data": {
      "text/plain": [
       "<keras.callbacks.History at 0x1e554c2dad0>"
      ]
     },
     "execution_count": 10,
     "metadata": {},
     "output_type": "execute_result"
    }
   ],
   "source": [
    "# 9. Fit mô hình với dữ liệu train\n",
    "model.fit(X_train,y_train,validation_data=(X_test,ytest),epochs=50,batch_size=64,verbose=1)"
   ]
  },
  {
   "cell_type": "code",
   "execution_count": 11,
   "metadata": {
    "colab": {
     "base_uri": "https://localhost:8080/"
    },
    "id": "Rxx_KQSkQpBG",
    "outputId": "3fe32233-5aca-4d1a-e850-e119eedaf6cc"
   },
   "outputs": [
    {
     "name": "stdout",
     "output_type": "stream",
     "text": [
      "20/20 [==============================] - 2s 3ms/step\n",
      "12/12 [==============================] - 0s 4ms/step\n",
      "8/8 [==============================] - 0s 4ms/step\n"
     ]
    }
   ],
   "source": [
    "# 10. Dự báo dữ liệu test, val\n",
    "train_predict=model.predict(X_train)\n",
    "y_pred=model.predict(X_test)\n",
    "y_pred_val=model.predict(X_val)\n"
   ]
  },
  {
   "cell_type": "code",
   "execution_count": 12,
   "metadata": {
    "id": "5rwTN10LQ7rj"
   },
   "outputs": [],
   "source": [
    "# 11. Chuẩn hóa dữ liệu y_pred, y_pred_val\n",
    "train_predict=scaler.inverse_transform(train_predict)\n",
    "y_pred=scaler.inverse_transform(y_pred)\n",
    "y_pred_val=scaler.inverse_transform(y_pred_val)\n"
   ]
  },
  {
   "cell_type": "code",
   "execution_count": 13,
   "metadata": {
    "id": "VelR5kM7baBR"
   },
   "outputs": [],
   "source": [
    "train_size1 = int(0.5 * len(df))\n",
    "test_size1 = int(0.3 * len(df))\n",
    "\n",
    "train_data1 = df[:train_size1]\n",
    "test_data1 = df[train_size1:train_size1+test_size1]\n",
    "val_data1 = df[train_size1+test_size1:]\n",
    "\n",
    "x_test1 = np.array(test_data1.index).reshape(-1, 1)\n",
    "y_test1 = np.array(test_data1)\n",
    "\n",
    "x_val1 = np.array(val_data1.index).reshape(-1, 1)\n",
    "y_val1 = np.array(val_data1)"
   ]
  },
  {
   "cell_type": "code",
   "execution_count": 14,
   "metadata": {
    "colab": {
     "base_uri": "https://localhost:8080/"
    },
    "id": "wu_9j94kRonD",
    "outputId": "df4b8794-21df-4271-96b7-cf637909e15a"
   },
   "outputs": [
    {
     "name": "stdout",
     "output_type": "stream",
     "text": [
      "Validation RMSE: 5199.642001194014\n",
      "Testing RMSE: 9286.291756143064\n",
      "Validation MAPE: 19.969518826218806\n",
      "Testing MAPE: 32.79397578856602\n",
      "Validation MAE: 4175.223635924645\n",
      "Testing MAE: 7539.324615533502\n"
     ]
    }
   ],
   "source": [
    "# 12. Đánh giá độ chính xác thuật toán\n",
    "#RMSE\n",
    "valid_rmse = np.sqrt(np.mean((y_pred_val - y_val1)**2))\n",
    "test_rmse = np.sqrt(np.mean((y_pred - y_test1)**2))\n",
    "print('Validation RMSE:', valid_rmse)\n",
    "print('Testing RMSE:', test_rmse)\n",
    "\n",
    "#MAPE\n",
    "valid_mape = np.mean(np.abs((y_val1 - y_pred_val) / y_val1)) * 100\n",
    "test_mape = np.mean(np.abs((y_test1 - y_pred) / y_test1)) * 100\n",
    "print('Validation MAPE:', valid_mape)\n",
    "print('Testing MAPE:', test_mape)\n",
    "\n",
    "#MAE\n",
    "valid_mae = np.mean(np.abs(y_pred_val - y_val1))\n",
    "test_mae = np.mean(np.abs(y_pred - y_test1))\n",
    "print('Validation MAE:', valid_mae)\n",
    "print('Testing MAE:', test_mae)"
   ]
  },
  {
   "cell_type": "code",
   "execution_count": 15,
   "metadata": {
    "colab": {
     "base_uri": "https://localhost:8080/"
    },
    "id": "izQZ1iQyYl6N",
    "outputId": "680528b8-0fb2-4d83-9c2c-d9ee1ba632b5"
   },
   "outputs": [
    {
     "name": "stdout",
     "output_type": "stream",
     "text": [
      "[0.8158288]\n",
      "2\n",
      "1 day input [0.8158288]\n",
      "1 day output [[0.93890893]]\n",
      "2 day input [0.93890893]\n",
      "2 day output [[1.0957366]]\n",
      "3 day input [1.09573662]\n",
      "3 day output [[1.2901975]]\n",
      "4 day input [1.29019749]\n",
      "4 day output [[1.5170239]]\n",
      "5 day input [1.51702392]\n",
      "5 day output [[1.7554433]]\n",
      "6 day input [1.75544333]\n",
      "6 day output [[1.9728866]]\n",
      "7 day input [1.97288656]\n",
      "7 day output [[2.142631]]\n",
      "8 day input [2.14263105]\n",
      "8 day output [[2.258008]]\n",
      "9 day input [2.258008]\n",
      "9 day output [[2.3287485]]\n",
      "10 day input [2.32874846]\n",
      "10 day output [[2.3693073]]\n",
      "11 day input [2.36930728]\n",
      "11 day output [[2.391652]]\n",
      "12 day input [2.39165211]\n",
      "12 day output [[2.4036891]]\n",
      "13 day input [2.40368915]\n",
      "13 day output [[2.4100943]]\n",
      "14 day input [2.41009426]\n",
      "14 day output [[2.4134808]]\n",
      "15 day input [2.41348076]\n",
      "15 day output [[2.4152648]]\n",
      "16 day input [2.41526484]\n",
      "16 day output [[2.416203]]\n",
      "17 day input [2.41620302]\n",
      "17 day output [[2.4166958]]\n",
      "18 day input [2.41669583]\n",
      "18 day output [[2.4169548]]\n",
      "19 day input [2.41695476]\n",
      "19 day output [[2.4170904]]\n",
      "20 day input [2.41709042]\n",
      "20 day output [[2.4171624]]\n",
      "21 day input [2.41716242]\n",
      "21 day output [[2.4172]]\n",
      "22 day input [2.41720009]\n",
      "22 day output [[2.4172192]]\n",
      "23 day input [2.41721916]\n",
      "23 day output [[2.4172301]]\n",
      "24 day input [2.41723013]\n",
      "24 day output [[2.4172354]]\n",
      "25 day input [2.41723537]\n",
      "25 day output [[2.4172385]]\n",
      "26 day input [2.41723847]\n",
      "26 day output [[2.41724]]\n",
      "27 day input [2.4172399]\n",
      "27 day output [[2.4172406]]\n",
      "28 day input [2.41724062]\n",
      "28 day output [[2.417241]]\n",
      "29 day input [2.4172411]\n",
      "29 day output [[2.417241]]\n",
      "[[30591.91224575]\n",
      " [34105.85008264]\n",
      " [38583.28058124]\n",
      " [44135.13838649]\n",
      " [50611.03294492]\n",
      " [57417.90720224]\n",
      " [63625.91135502]\n",
      " [68472.11658955]\n",
      " [71766.12849236]\n",
      " [73785.76866388]\n",
      " [74943.7228322 ]\n",
      " [75581.66766167]\n",
      " [75925.3251195 ]\n",
      " [76108.19115639]\n",
      " [76204.87565994]\n",
      " [76255.81132174]\n",
      " [76282.59627819]\n",
      " [76296.66603804]\n",
      " [76304.05827761]\n",
      " [76307.9313755 ]\n",
      " [76309.98704433]\n",
      " [76311.0625267 ]\n",
      " [76311.60707474]\n",
      " [76311.92018986]\n",
      " [76312.06994057]\n",
      " [76312.15842962]\n",
      " [76312.19927073]\n",
      " [76312.21969128]\n",
      " [76312.23330498]\n",
      " [76312.23330498]]\n"
     ]
    }
   ],
   "source": [
    "# 13. Dự báo 30 ngày tiếp theo\n",
    "x_input=val_data[len(val_data)-time_step:].reshape(1,-1)\n",
    "x_input.shape\n",
    "\n",
    "temp_input=list(x_input)\n",
    "temp_input=temp_input[0].tolist()\n",
    "\n",
    "from numpy import array\n",
    "\n",
    "lst_output=[]\n",
    "n_steps=1\n",
    "i=0\n",
    "while(i<30):\n",
    "\n",
    "    if(len(temp_input)>1):\n",
    "        #print(temp_input)\n",
    "        x_input=np.array(temp_input[1:])\n",
    "        print(\"{} day input {}\".format(i,x_input))\n",
    "        x_input=x_input.reshape(1,-1)\n",
    "        x_input = x_input.reshape((1, n_steps, 1))\n",
    "        #print(x_input)\n",
    "        yhat = model.predict(x_input, verbose=0)\n",
    "        print(\"{} day output {}\".format(i,yhat))\n",
    "        temp_input.extend(yhat[0].tolist())\n",
    "        temp_input=temp_input[1:]\n",
    "        #print(temp_input)\n",
    "        lst_output.extend(yhat.tolist())\n",
    "        i=i+1\n",
    "    else:\n",
    "        x_input = x_input.reshape((1, n_steps,1))\n",
    "        yhat = model.predict(x_input, verbose=0)\n",
    "        print(yhat[0])\n",
    "        temp_input.extend(yhat[0].tolist())\n",
    "        print(len(temp_input))\n",
    "        lst_output.extend(yhat.tolist())\n",
    "        i=i+1\n",
    "lst_output=scaler.inverse_transform(lst_output)\n",
    "print(lst_output)"
   ]
  },
  {
   "cell_type": "code",
   "execution_count": 16,
   "metadata": {
    "colab": {
     "base_uri": "https://localhost:8080/",
     "height": 430
    },
    "id": "KSa_mX51a654",
    "outputId": "740334c4-b2ed-4a26-f45a-a37f29d0ece5"
   },
   "outputs": [
    {
     "data": {
      "image/png": "[encoded data removed]",
      "text/plain": [
       "<Figure size 640x480 with 1 Axes>"
      ]
     },
     "metadata": {},
     "output_type": "display_data"
    }
   ],
   "source": [
    "# 14.Vẽ hình\n",
    "\n",
    "train_data_index = pd.RangeIndex(start=0, stop=train_size, step=1)\n",
    "plt.plot(scaler.inverse_transform(train_data))\n",
    "\n",
    "test_data_index = pd.RangeIndex(start=train_size, stop=train_size+test_size, step=1)\n",
    "plt.plot(test_data_index,scaler.inverse_transform(test_data))\n",
    "\n",
    "test_data_index = pd.RangeIndex(start=train_size+2, stop=train_size+test_size, step=1)\n",
    "plt.plot(test_data_index,(y_pred))\n",
    "\n",
    "val_data_index = pd.RangeIndex(start=train_size+test_size, stop=train_size+test_size+val_size, step=1)\n",
    "plt.plot(val_data_index,scaler.inverse_transform(val_data))\n",
    "\n",
    "val_data_index = pd.RangeIndex(start=train_size+test_size+2, stop=train_size+test_size+val_size, step=1)\n",
    "plt.plot(val_data_index,y_pred_val)\n",
    "\n",
    "prediect_data_index = pd.RangeIndex(start=len(df1)-1, stop=len(df1)+29, step=1)\n",
    "plt.plot(prediect_data_index,lst_output)\n",
    "\n",
    "plt.legend(['Train','Test','Predict','Validate','ValidatePred','Predict30days'])\n",
    "plt.show()"
   ]
  },
  {
   "cell_type": "code",
   "execution_count": null,
   "metadata": {},
   "outputs": [],
   "source": []
  }
 ],
 "metadata": {
  "accelerator": "GPU",
  "colab": {
   "gpuType": "T4",
   "provenance": []
  },
  "gpuClass": "standard",
  "kernelspec": {
   "display_name": "Python 3 (ipykernel)",
   "language": "python",
   "name": "python3"
  },
  "language_info": {
   "codemirror_mode": {
    "name": "ipython",
    "version": 3
   },
   "file_extension": ".py",
   "mimetype": "text/x-python",
   "name": "python",
   "nbconvert_exporter": "python",
   "pygments_lexer": "ipython3",
   "version": "3.11.2"
  }
 },
 "nbformat": 4,
 "nbformat_minor": 1
}
