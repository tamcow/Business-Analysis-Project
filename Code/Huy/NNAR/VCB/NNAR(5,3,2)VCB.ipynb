{
 "cells": [
  {
   "cell_type": "code",
   "execution_count": 1,
   "metadata": {
    "id": "FMDKda-XIUAK"
   },
   "outputs": [],
   "source": [
    "# 1. Import thư viện cần thiết\n",
    "import numpy as np\n",
    "import pandas as pd\n",
    "import matplotlib.pyplot as plt\n",
    "from sklearn.preprocessing import MinMaxScaler\n",
    "from keras.models import Sequential\n",
    "from keras.layers import Dense, LSTM"
   ]
  },
  {
   "cell_type": "code",
   "execution_count": 2,
   "metadata": {
    "colab": {
     "base_uri": "https://localhost:8080/"
    },
    "id": "aRm9GQ8KJJ5N",
    "outputId": "746287de-2834-44d9-cde1-8d3124f09eea"
   },
   "outputs": [
    {
     "data": {
      "text/plain": [
       "0       43216\n",
       "1       44960\n",
       "2       44429\n",
       "3       44808\n",
       "4       44505\n",
       "        ...  \n",
       "1237    91700\n",
       "1238    92600\n",
       "1239    92800\n",
       "1240    95000\n",
       "1241    94200\n",
       "Name: Price, Length: 1242, dtype: int64"
      ]
     },
     "execution_count": 2,
     "metadata": {},
     "output_type": "execute_result"
    }
   ],
   "source": [
    "# 2. Đọc file csv và gắng index với giá Price\n",
    "df = pd.read_csv('VCB.csv')\n",
    "#df1=df.reset_index()['Price']\n",
    "df=df.reset_index()['Price']\n",
    "df"
   ]
  },
  {
   "cell_type": "code",
   "execution_count": 3,
   "metadata": {
    "colab": {
     "base_uri": "https://localhost:8080/",
     "height": 527
    },
    "id": "V78gRa98KLjC",
    "outputId": "9a5b3ef9-70d6-4513-c978-0b9a75d24f30"
   },
   "outputs": [
    {
     "name": "stderr",
     "output_type": "stream",
     "text": [
      "C:\\Users\\giangle\\AppData\\Local\\Programs\\Python\\Python311\\Lib\\site-packages\\statsmodels\\graphics\\tsaplots.py:348: FutureWarning: The default method 'yw' can produce PACF values outside of the [-1,1] interval. After 0.13, the default will change tounadjusted Yule-Walker ('ywm'). You can use this method now by setting method='ywm'.\n",
      "  warnings.warn(\n"
     ]
    },
    {
     "data": {
      "image/png": "[encoded data removed]",
      "text/plain": [
       "<Figure size 640x480 with 1 Axes>"
      ]
     },
     "metadata": {},
     "output_type": "display_data"
    }
   ],
   "source": [
    "import numpy as np\n",
    "import matplotlib.pyplot as plt\n",
    "from statsmodels.graphics.tsaplots import plot_pacf\n",
    "\n",
    "# Dữ liệu chuỗi thời gian\n",
    "data = np.array([1, 2, 3, 4, 5, 6, 7, 8, 9])\n",
    "\n",
    "# Vẽ đồ thị PACF\n",
    "plot_pacf(df, lags=10)\n",
    "plt.xlabel('Lag')\n",
    "plt.ylabel('PACF')\n",
    "plt.show()"
   ]
  },
  {
   "cell_type": "code",
   "execution_count": 4,
   "metadata": {
    "id": "RdVpDho2JgL5"
   },
   "outputs": [],
   "source": [
    "# 3. Scaler data\n",
    "scaler=MinMaxScaler(feature_range=(0,1))\n",
    "df1=scaler.fit_transform(np.array(df).reshape(-1,1))"
   ]
  },
  {
   "cell_type": "code",
   "execution_count": 5,
   "metadata": {
    "id": "B5JXpenzJoR3"
   },
   "outputs": [],
   "source": [
    "# 4. Chia train test\n",
    "train_size = int(0.5 * len(df1))\n",
    "test_size = int(0.3 * len(df1))\n",
    "val_size = len(df1) - train_size - test_size\n",
    "\n",
    "train_data = df1[:train_size]\n",
    "test_data = df1[train_size:train_size+test_size]\n",
    "val_data = df1[train_size+test_size:]"
   ]
  },
  {
   "cell_type": "code",
   "execution_count": 6,
   "metadata": {
    "id": "yJfmuBORLSfC"
   },
   "outputs": [],
   "source": [
    "# 5. Hàm Create Dataset\n",
    "import numpy\n",
    "# convert an array of values into a dataset matrix\n",
    "def create_dataset(dataset, time_step=1):\n",
    "\tdataX, dataY = [], []\n",
    "\tfor i in range(len(dataset)-time_step-1):\n",
    "\t\ta = dataset[i:(i+time_step), 0]   ###i=0, X=0,1,2,3-----99   Y=100\n",
    "\t\tdataX.append(a)\n",
    "\t\tdataY.append(dataset[i + time_step, 0])\n",
    "\treturn numpy.array(dataX), numpy.array(dataY)"
   ]
  },
  {
   "cell_type": "code",
   "execution_count": 7,
   "metadata": {
    "id": "e81cKq03LXFB"
   },
   "outputs": [],
   "source": [
    "#6. Reshape into X=t,t+1,t+2..t+99 and Y=t+100\n",
    "\n",
    "time_step = 1\n",
    "X_train, y_train = create_dataset(train_data, time_step)\n",
    "X_val, yval = create_dataset(val_data, time_step)\n",
    "X_test, ytest = create_dataset(test_data, time_step)"
   ]
  },
  {
   "cell_type": "code",
   "execution_count": 8,
   "metadata": {
    "id": "RdBVfku7O2qb"
   },
   "outputs": [],
   "source": [
    "# 7. Reshape input to be [samples, time steps, features] which is required for LSTM\n",
    "X_train =X_train.reshape(X_train.shape[0],X_train.shape[1] , 1)\n",
    "X_test = X_test.reshape(X_test.shape[0],X_test.shape[1] , 1)\n",
    "X_val = X_val.reshape(X_val.shape[0],X_val.shape[1] , 1)"
   ]
  },
  {
   "cell_type": "code",
   "execution_count": 9,
   "metadata": {
    "id": "sSfxrE7BO9vX"
   },
   "outputs": [],
   "source": [
    "# 8. Define LSTM Model\n",
    "\n",
    "model=Sequential()\n",
    "model.add(LSTM(50,return_sequences=True,input_shape=(1,1)))\n",
    "model.add(LSTM(50,return_sequences=True))\n",
    "model.add(LSTM(50))\n",
    "model.add(Dense(1))\n",
    "model.compile(loss='mean_squared_error',optimizer='adam')"
   ]
  },
  {
   "cell_type": "code",
   "execution_count": 10,
   "metadata": {
    "colab": {
     "base_uri": "https://localhost:8080/"
    },
    "id": "zgfeujZSPEKr",
    "outputId": "75217352-75e3-4ef9-f945-5faff4da736d"
   },
   "outputs": [
    {
     "name": "stdout",
     "output_type": "stream",
     "text": [
      "Epoch 1/50\n",
      "10/10 [==============================] - 13s 289ms/step - loss: 0.1052 - val_loss: 0.4280\n",
      "Epoch 2/50\n",
      "10/10 [==============================] - 0s 16ms/step - loss: 0.0816 - val_loss: 0.3510\n",
      "Epoch 3/50\n",
      "10/10 [==============================] - 0s 15ms/step - loss: 0.0540 - val_loss: 0.2431\n",
      "Epoch 4/50\n",
      "10/10 [==============================] - 0s 19ms/step - loss: 0.0278 - val_loss: 0.1151\n",
      "Epoch 5/50\n",
      "10/10 [==============================] - 0s 20ms/step - loss: 0.0194 - val_loss: 0.0575\n",
      "Epoch 6/50\n",
      "10/10 [==============================] - 0s 16ms/step - loss: 0.0183 - val_loss: 0.0796\n",
      "Epoch 7/50\n",
      "10/10 [==============================] - 0s 17ms/step - loss: 0.0157 - val_loss: 0.0806\n",
      "Epoch 8/50\n",
      "10/10 [==============================] - 0s 16ms/step - loss: 0.0135 - val_loss: 0.0512\n",
      "Epoch 9/50\n",
      "10/10 [==============================] - 0s 14ms/step - loss: 0.0111 - val_loss: 0.0344\n",
      "Epoch 10/50\n",
      "10/10 [==============================] - 0s 18ms/step - loss: 0.0083 - val_loss: 0.0229\n",
      "Epoch 11/50\n",
      "10/10 [==============================] - 0s 15ms/step - loss: 0.0056 - val_loss: 0.0076\n",
      "Epoch 12/50\n",
      "10/10 [==============================] - 0s 18ms/step - loss: 0.0033 - val_loss: 0.0015\n",
      "Epoch 13/50\n",
      "10/10 [==============================] - 0s 19ms/step - loss: 0.0015 - val_loss: 0.0029\n",
      "Epoch 14/50\n",
      "10/10 [==============================] - 0s 15ms/step - loss: 6.6601e-04 - val_loss: 0.0088\n",
      "Epoch 15/50\n",
      "10/10 [==============================] - 0s 15ms/step - loss: 4.6870e-04 - val_loss: 0.0140\n",
      "Epoch 16/50\n",
      "10/10 [==============================] - 0s 20ms/step - loss: 4.7718e-04 - val_loss: 0.0157\n",
      "Epoch 17/50\n",
      "10/10 [==============================] - 0s 16ms/step - loss: 4.8343e-04 - val_loss: 0.0131\n",
      "Epoch 18/50\n",
      "10/10 [==============================] - 0s 15ms/step - loss: 4.6147e-04 - val_loss: 0.0122\n",
      "Epoch 19/50\n",
      "10/10 [==============================] - 0s 20ms/step - loss: 4.5039e-04 - val_loss: 0.0109\n",
      "Epoch 20/50\n",
      "10/10 [==============================] - 0s 17ms/step - loss: 4.4620e-04 - val_loss: 0.0111\n",
      "Epoch 21/50\n",
      "10/10 [==============================] - 0s 15ms/step - loss: 4.4295e-04 - val_loss: 0.0105\n",
      "Epoch 22/50\n",
      "10/10 [==============================] - 0s 16ms/step - loss: 4.3903e-04 - val_loss: 0.0108\n",
      "Epoch 23/50\n",
      "10/10 [==============================] - 0s 17ms/step - loss: 4.3670e-04 - val_loss: 0.0096\n",
      "Epoch 24/50\n",
      "10/10 [==============================] - 0s 16ms/step - loss: 4.3059e-04 - val_loss: 0.0100\n",
      "Epoch 25/50\n",
      "10/10 [==============================] - 0s 15ms/step - loss: 4.2676e-04 - val_loss: 0.0088\n",
      "Epoch 26/50\n",
      "10/10 [==============================] - 0s 18ms/step - loss: 4.2469e-04 - val_loss: 0.0096\n",
      "Epoch 27/50\n",
      "10/10 [==============================] - 0s 16ms/step - loss: 4.2005e-04 - val_loss: 0.0089\n",
      "Epoch 28/50\n",
      "10/10 [==============================] - 0s 18ms/step - loss: 4.1657e-04 - val_loss: 0.0080\n",
      "Epoch 29/50\n",
      "10/10 [==============================] - 0s 16ms/step - loss: 4.1504e-04 - val_loss: 0.0087\n",
      "Epoch 30/50\n",
      "10/10 [==============================] - 0s 15ms/step - loss: 4.0878e-04 - val_loss: 0.0074\n",
      "Epoch 31/50\n",
      "10/10 [==============================] - 0s 16ms/step - loss: 4.0226e-04 - val_loss: 0.0079\n",
      "Epoch 32/50\n",
      "10/10 [==============================] - 0s 15ms/step - loss: 4.0161e-04 - val_loss: 0.0070\n",
      "Epoch 33/50\n",
      "10/10 [==============================] - 0s 19ms/step - loss: 4.0373e-04 - val_loss: 0.0067\n",
      "Epoch 34/50\n",
      "10/10 [==============================] - 0s 18ms/step - loss: 3.9937e-04 - val_loss: 0.0065\n",
      "Epoch 35/50\n",
      "10/10 [==============================] - 0s 18ms/step - loss: 3.9152e-04 - val_loss: 0.0072\n",
      "Epoch 36/50\n",
      "10/10 [==============================] - 0s 19ms/step - loss: 3.8973e-04 - val_loss: 0.0066\n",
      "Epoch 37/50\n",
      "10/10 [==============================] - 0s 18ms/step - loss: 3.8246e-04 - val_loss: 0.0053\n",
      "Epoch 38/50\n",
      "10/10 [==============================] - 0s 16ms/step - loss: 3.8285e-04 - val_loss: 0.0060\n",
      "Epoch 39/50\n",
      "10/10 [==============================] - 0s 20ms/step - loss: 3.8014e-04 - val_loss: 0.0058\n",
      "Epoch 40/50\n",
      "10/10 [==============================] - 0s 16ms/step - loss: 3.8094e-04 - val_loss: 0.0047\n",
      "Epoch 41/50\n",
      "10/10 [==============================] - 0s 15ms/step - loss: 3.7923e-04 - val_loss: 0.0041\n",
      "Epoch 42/50\n",
      "10/10 [==============================] - 0s 20ms/step - loss: 3.7855e-04 - val_loss: 0.0063\n",
      "Epoch 43/50\n",
      "10/10 [==============================] - 0s 15ms/step - loss: 3.7135e-04 - val_loss: 0.0038\n",
      "Epoch 44/50\n",
      "10/10 [==============================] - 0s 15ms/step - loss: 3.5891e-04 - val_loss: 0.0050\n",
      "Epoch 45/50\n",
      "10/10 [==============================] - 0s 19ms/step - loss: 3.5766e-04 - val_loss: 0.0045\n",
      "Epoch 46/50\n",
      "10/10 [==============================] - 0s 16ms/step - loss: 3.5095e-04 - val_loss: 0.0036\n",
      "Epoch 47/50\n",
      "10/10 [==============================] - 0s 15ms/step - loss: 3.5062e-04 - val_loss: 0.0043\n",
      "Epoch 48/50\n",
      "10/10 [==============================] - 0s 18ms/step - loss: 3.4561e-04 - val_loss: 0.0038\n",
      "Epoch 49/50\n",
      "10/10 [==============================] - 0s 18ms/step - loss: 3.4237e-04 - val_loss: 0.0038\n",
      "Epoch 50/50\n",
      "10/10 [==============================] - 0s 15ms/step - loss: 3.3776e-04 - val_loss: 0.0028\n"
     ]
    },
    {
     "data": {
      "text/plain": [
       "<keras.callbacks.History at 0x28a3e4b3510>"
      ]
     },
     "execution_count": 10,
     "metadata": {},
     "output_type": "execute_result"
    }
   ],
   "source": [
    "# 9. Fit mô hình với dữ liệu train\n",
    "model.fit(X_train,y_train,validation_data=(X_test,ytest),epochs=50,batch_size=64,verbose=1)"
   ]
  },
  {
   "cell_type": "code",
   "execution_count": 11,
   "metadata": {
    "colab": {
     "base_uri": "https://localhost:8080/"
    },
    "id": "Rxx_KQSkQpBG",
    "outputId": "3fe32233-5aca-4d1a-e850-e119eedaf6cc"
   },
   "outputs": [
    {
     "name": "stdout",
     "output_type": "stream",
     "text": [
      "20/20 [==============================] - 2s 4ms/step\n",
      "12/12 [==============================] - 0s 4ms/step\n",
      "8/8 [==============================] - 0s 6ms/step\n"
     ]
    }
   ],
   "source": [
    "# 10. Dự báo dữ liệu test, val\n",
    "train_predict=model.predict(X_train)\n",
    "y_pred=model.predict(X_test)\n",
    "y_pred_val=model.predict(X_val)\n"
   ]
  },
  {
   "cell_type": "code",
   "execution_count": 12,
   "metadata": {
    "id": "5rwTN10LQ7rj"
   },
   "outputs": [],
   "source": [
    "# 11. Chuẩn hóa dữ liệu y_pred, y_pred_val\n",
    "train_predict=scaler.inverse_transform(train_predict)\n",
    "y_pred=scaler.inverse_transform(y_pred)\n",
    "y_pred_val=scaler.inverse_transform(y_pred_val)\n"
   ]
  },
  {
   "cell_type": "code",
   "execution_count": 13,
   "metadata": {
    "id": "VelR5kM7baBR"
   },
   "outputs": [],
   "source": [
    "train_size1 = int(0.5 * len(df))\n",
    "test_size1 = int(0.3 * len(df))\n",
    "\n",
    "train_data1 = df[:train_size1]\n",
    "test_data1 = df[train_size1:train_size1+test_size1]\n",
    "val_data1 = df[train_size1+test_size1:]\n",
    "\n",
    "x_test1 = np.array(test_data1.index).reshape(-1, 1)\n",
    "y_test1 = np.array(test_data1)\n",
    "\n",
    "x_val1 = np.array(val_data1.index).reshape(-1, 1)\n",
    "y_val1 = np.array(val_data1)"
   ]
  },
  {
   "cell_type": "code",
   "execution_count": 14,
   "metadata": {
    "colab": {
     "base_uri": "https://localhost:8080/"
    },
    "id": "wu_9j94kRonD",
    "outputId": "df4b8794-21df-4271-96b7-cf637909e15a"
   },
   "outputs": [
    {
     "name": "stdout",
     "output_type": "stream",
     "text": [
      "Validation RMSE: 13183.99266157966\n",
      "Testing RMSE: 7860.202666913074\n",
      "Validation MAPE: 13.425282182060391\n",
      "Testing MAPE: 7.586364240009915\n",
      "Validation MAE: 10713.244492964266\n",
      "Testing MAE: 5940.981832702158\n"
     ]
    }
   ],
   "source": [
    "# 12. Đánh giá độ chính xác thuật toán\n",
    "#RMSE\n",
    "valid_rmse = np.sqrt(np.mean((y_pred_val - y_val1)**2))\n",
    "test_rmse = np.sqrt(np.mean((y_pred - y_test1)**2))\n",
    "print('Validation RMSE:', valid_rmse)\n",
    "print('Testing RMSE:', test_rmse)\n",
    "\n",
    "#MAPE\n",
    "valid_mape = np.mean(np.abs((y_val1 - y_pred_val) / y_val1)) * 100\n",
    "test_mape = np.mean(np.abs((y_test1 - y_pred) / y_test1)) * 100\n",
    "print('Validation MAPE:', valid_mape)\n",
    "print('Testing MAPE:', test_mape)\n",
    "\n",
    "#MAE\n",
    "valid_mae = np.mean(np.abs(y_pred_val - y_val1))\n",
    "test_mae = np.mean(np.abs(y_pred - y_test1))\n",
    "print('Validation MAE:', valid_mae)\n",
    "print('Testing MAE:', test_mae)"
   ]
  },
  {
   "cell_type": "code",
   "execution_count": 15,
   "metadata": {
    "colab": {
     "base_uri": "https://localhost:8080/"
    },
    "id": "izQZ1iQyYl6N",
    "outputId": "680528b8-0fb2-4d83-9c2c-d9ee1ba632b5"
   },
   "outputs": [
    {
     "name": "stdout",
     "output_type": "stream",
     "text": [
      "[1.0922971]\n",
      "2\n",
      "1 day input [1.09229708]\n",
      "1 day output [[1.2620202]]\n",
      "2 day input [1.26202023]\n",
      "2 day output [[1.4974645]]\n",
      "3 day input [1.49746454]\n",
      "3 day output [[1.8207864]]\n",
      "4 day input [1.82078636]\n",
      "4 day output [[2.240662]]\n",
      "5 day input [2.2406621]\n",
      "5 day output [[2.719794]]\n",
      "6 day input [2.71979403]\n",
      "6 day output [[3.1643782]]\n",
      "7 day input [3.16437817]\n",
      "7 day output [[3.4890068]]\n",
      "8 day input [3.48900676]\n",
      "8 day output [[3.681998]]\n",
      "9 day input [3.68199801]\n",
      "9 day output [[3.782028]]\n",
      "10 day input [3.78202796]\n",
      "10 day output [[3.83006]]\n",
      "11 day input [3.83006001]\n",
      "11 day output [[3.8522596]]\n",
      "12 day input [3.85225964]\n",
      "12 day output [[3.8623364]]\n",
      "13 day input [3.8623364]\n",
      "13 day output [[3.866874]]\n",
      "14 day input [3.86687398]\n",
      "14 day output [[3.8689091]]\n",
      "15 day input [3.86890912]\n",
      "15 day output [[3.8698199]]\n",
      "16 day input [3.86981988]\n",
      "16 day output [[3.8702283]]\n",
      "17 day input [3.87022829]\n",
      "17 day output [[3.8704112]]\n",
      "18 day input [3.87041116]\n",
      "18 day output [[3.870492]]\n",
      "19 day input [3.87049198]\n",
      "19 day output [[3.8705282]]\n",
      "20 day input [3.87052822]\n",
      "20 day output [[3.8705447]]\n",
      "21 day input [3.87054467]\n",
      "21 day output [[3.8705528]]\n",
      "22 day input [3.87055278]\n",
      "22 day output [[3.8705552]]\n",
      "23 day input [3.87055516]\n",
      "23 day output [[3.870556]]\n",
      "24 day input [3.87055612]\n",
      "24 day output [[3.8705564]]\n",
      "25 day input [3.87055635]\n",
      "25 day output [[3.8705568]]\n",
      "26 day input [3.87055683]\n",
      "26 day output [[3.8705568]]\n",
      "27 day input [3.87055683]\n",
      "27 day output [[3.8705568]]\n",
      "28 day input [3.87055683]\n",
      "28 day output [[3.8705568]]\n",
      "29 day input [3.87055683]\n",
      "29 day output [[3.8705568]]\n",
      "[[101277.63917017]\n",
      " [110982.5787884 ]\n",
      " [124445.51972568]\n",
      " [142933.38467538]\n",
      " [166942.29942179]\n",
      " [194339.54271293]\n",
      " [219761.30792141]\n",
      " [238323.89541411]\n",
      " [249359.32846427]\n",
      " [255079.14077067]\n",
      " [257825.66115665]\n",
      " [259095.05824184]\n",
      " [259671.25752664]\n",
      " [259930.72102571]\n",
      " [260047.09242272]\n",
      " [260099.17053151]\n",
      " [260122.52388239]\n",
      " [260132.98040318]\n",
      " [260137.60199451]\n",
      " [260139.67421246]\n",
      " [260140.61489034]\n",
      " [260141.07841277]\n",
      " [260141.2147429 ]\n",
      " [260141.26927495]\n",
      " [260141.28290796]\n",
      " [260141.31017399]\n",
      " [260141.31017399]\n",
      " [260141.31017399]\n",
      " [260141.31017399]\n",
      " [260141.31017399]]\n"
     ]
    }
   ],
   "source": [
    "# 13. Dự báo 30 ngày tiếp theo\n",
    "x_input=val_data[len(val_data)-time_step:].reshape(1,-1)\n",
    "x_input.shape\n",
    "\n",
    "temp_input=list(x_input)\n",
    "temp_input=temp_input[0].tolist()\n",
    "\n",
    "from numpy import array\n",
    "\n",
    "lst_output=[]\n",
    "n_steps=1\n",
    "i=0\n",
    "while(i<30):\n",
    "\n",
    "    if(len(temp_input)>1):\n",
    "        #print(temp_input)\n",
    "        x_input=np.array(temp_input[1:])\n",
    "        print(\"{} day input {}\".format(i,x_input))\n",
    "        x_input=x_input.reshape(1,-1)\n",
    "        x_input = x_input.reshape((1, n_steps, 1))\n",
    "        #print(x_input)\n",
    "        yhat = model.predict(x_input, verbose=0)\n",
    "        print(\"{} day output {}\".format(i,yhat))\n",
    "        temp_input.extend(yhat[0].tolist())\n",
    "        temp_input=temp_input[1:]\n",
    "        #print(temp_input)\n",
    "        lst_output.extend(yhat.tolist())\n",
    "        i=i+1\n",
    "    else:\n",
    "        x_input = x_input.reshape((1, n_steps,1))\n",
    "        yhat = model.predict(x_input, verbose=0)\n",
    "        print(yhat[0])\n",
    "        temp_input.extend(yhat[0].tolist())\n",
    "        print(len(temp_input))\n",
    "        lst_output.extend(yhat.tolist())\n",
    "        i=i+1\n",
    "lst_output=scaler.inverse_transform(lst_output)\n",
    "print(lst_output)"
   ]
  },
  {
   "cell_type": "code",
   "execution_count": 16,
   "metadata": {
    "colab": {
     "base_uri": "https://localhost:8080/",
     "height": 430
    },
    "id": "KSa_mX51a654",
    "outputId": "740334c4-b2ed-4a26-f45a-a37f29d0ece5"
   },
   "outputs": [
    {
     "data": {
      "image/png": "[encoded data removed]",
      "text/plain": [
       "<Figure size 640x480 with 1 Axes>"
      ]
     },
     "metadata": {},
     "output_type": "display_data"
    }
   ],
   "source": [
    "# 14.Vẽ hình\n",
    "\n",
    "train_data_index = pd.RangeIndex(start=0, stop=train_size, step=1)\n",
    "plt.plot(scaler.inverse_transform(train_data))\n",
    "\n",
    "test_data_index = pd.RangeIndex(start=train_size, stop=train_size+test_size, step=1)\n",
    "plt.plot(test_data_index,scaler.inverse_transform(test_data))\n",
    "\n",
    "test_data_index = pd.RangeIndex(start=train_size+2, stop=train_size+test_size, step=1)\n",
    "plt.plot(test_data_index,(y_pred))\n",
    "\n",
    "val_data_index = pd.RangeIndex(start=train_size+test_size, stop=train_size+test_size+val_size, step=1)\n",
    "plt.plot(val_data_index,scaler.inverse_transform(val_data))\n",
    "\n",
    "val_data_index = pd.RangeIndex(start=train_size+test_size+2, stop=train_size+test_size+val_size, step=1)\n",
    "plt.plot(val_data_index,y_pred_val)\n",
    "\n",
    "prediect_data_index = pd.RangeIndex(start=len(df1)-1, stop=len(df1)+29, step=1)\n",
    "plt.plot(prediect_data_index,lst_output)\n",
    "\n",
    "plt.legend(['Train','Test','Predict','Validate','ValidatePred','Predict30days'])\n",
    "plt.show()"
   ]
  },
  {
   "cell_type": "code",
   "execution_count": null,
   "metadata": {},
   "outputs": [],
   "source": []
  }
 ],
 "metadata": {
  "accelerator": "GPU",
  "colab": {
   "gpuType": "T4",
   "provenance": []
  },
  "gpuClass": "standard",
  "kernelspec": {
   "display_name": "Python 3 (ipykernel)",
   "language": "python",
   "name": "python3"
  },
  "language_info": {
   "codemirror_mode": {
    "name": "ipython",
    "version": 3
   },
   "file_extension": ".py",
   "mimetype": "text/x-python",
   "name": "python",
   "nbconvert_exporter": "python",
   "pygments_lexer": "ipython3",
   "version": "3.11.2"
  }
 },
 "nbformat": 4,
 "nbformat_minor": 1
}
