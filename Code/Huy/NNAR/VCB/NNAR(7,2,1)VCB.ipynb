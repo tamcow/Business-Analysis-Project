{
 "cells": [
  {
   "cell_type": "code",
   "execution_count": 1,
   "metadata": {
    "id": "FMDKda-XIUAK"
   },
   "outputs": [],
   "source": [
    "# 1. Import thư viện cần thiết\n",
    "\n",
    "import numpy as np\n",
    "import pandas as pd\n",
    "import matplotlib.pyplot as plt\n",
    "from sklearn.preprocessing import MinMaxScaler\n",
    "from keras.models import Sequential\n",
    "from keras.layers import Dense, LSTM"
   ]
  },
  {
   "cell_type": "code",
   "execution_count": 2,
   "metadata": {
    "colab": {
     "base_uri": "https://localhost:8080/"
    },
    "id": "aRm9GQ8KJJ5N",
    "outputId": "746287de-2834-44d9-cde1-8d3124f09eea"
   },
   "outputs": [
    {
     "data": {
      "text/plain": [
       "0       43216\n",
       "1       44960\n",
       "2       44429\n",
       "3       44808\n",
       "4       44505\n",
       "        ...  \n",
       "1237    91700\n",
       "1238    92600\n",
       "1239    92800\n",
       "1240    95000\n",
       "1241    94200\n",
       "Name: Price, Length: 1242, dtype: int64"
      ]
     },
     "execution_count": 2,
     "metadata": {},
     "output_type": "execute_result"
    }
   ],
   "source": [
    "# 2. Đọc file csv và gắng index với giá Price\n",
    "df = pd.read_csv('VCB.csv')\n",
    "#df1=df.reset_index()['Price']\n",
    "df=df.reset_index()['Price']\n",
    "df"
   ]
  },
  {
   "cell_type": "code",
   "execution_count": 3,
   "metadata": {
    "colab": {
     "base_uri": "https://localhost:8080/",
     "height": 527
    },
    "id": "V78gRa98KLjC",
    "outputId": "9a5b3ef9-70d6-4513-c978-0b9a75d24f30"
   },
   "outputs": [
    {
     "name": "stderr",
     "output_type": "stream",
     "text": [
      "C:\\Users\\giangle\\AppData\\Local\\Programs\\Python\\Python311\\Lib\\site-packages\\statsmodels\\graphics\\tsaplots.py:348: FutureWarning: The default method 'yw' can produce PACF values outside of the [-1,1] interval. After 0.13, the default will change tounadjusted Yule-Walker ('ywm'). You can use this method now by setting method='ywm'.\n",
      "  warnings.warn(\n"
     ]
    },
    {
     "data": {
      "image/png": "[encoded data removed]",
      "text/plain": [
       "<Figure size 640x480 with 1 Axes>"
      ]
     },
     "metadata": {},
     "output_type": "display_data"
    }
   ],
   "source": [
    "import numpy as np\n",
    "import matplotlib.pyplot as plt\n",
    "from statsmodels.graphics.tsaplots import plot_pacf\n",
    "\n",
    "# Dữ liệu chuỗi thời gian\n",
    "data = np.array([1, 2, 3, 4, 5, 6, 7, 8, 9])\n",
    "\n",
    "# Vẽ đồ thị PACF\n",
    "plot_pacf(df, lags=10)\n",
    "plt.xlabel('Lag')\n",
    "plt.ylabel('PACF')\n",
    "plt.show()"
   ]
  },
  {
   "cell_type": "code",
   "execution_count": 4,
   "metadata": {
    "id": "RdVpDho2JgL5"
   },
   "outputs": [],
   "source": [
    "# 3. Scaler data\n",
    "scaler=MinMaxScaler(feature_range=(0,1))\n",
    "df1=scaler.fit_transform(np.array(df).reshape(-1,1))"
   ]
  },
  {
   "cell_type": "code",
   "execution_count": 5,
   "metadata": {
    "id": "B5JXpenzJoR3"
   },
   "outputs": [],
   "source": [
    "# 4. Chia train test\n",
    "train_size = int(0.7 * len(df1))\n",
    "test_size = int(0.2 * len(df1))\n",
    "val_size = len(df1) - train_size - test_size\n",
    "\n",
    "train_data = df1[:train_size]\n",
    "test_data = df1[train_size:train_size+test_size]\n",
    "val_data = df1[train_size+test_size:]"
   ]
  },
  {
   "cell_type": "code",
   "execution_count": 6,
   "metadata": {
    "id": "yJfmuBORLSfC"
   },
   "outputs": [],
   "source": [
    "# 5. Hàm Create Dataset\n",
    "import numpy\n",
    "# convert an array of values into a dataset matrix\n",
    "def create_dataset(dataset, time_step=1):\n",
    "\tdataX, dataY = [], []\n",
    "\tfor i in range(len(dataset)-time_step-1):\n",
    "\t\ta = dataset[i:(i+time_step), 0]   ###i=0, X=0,1,2,3-----99   Y=100\n",
    "\t\tdataX.append(a)\n",
    "\t\tdataY.append(dataset[i + time_step, 0])\n",
    "\treturn numpy.array(dataX), numpy.array(dataY)"
   ]
  },
  {
   "cell_type": "code",
   "execution_count": 7,
   "metadata": {
    "id": "e81cKq03LXFB"
   },
   "outputs": [],
   "source": [
    "#6. Reshape into X=t,t+1,t+2..t+99 and Y=t+100\n",
    "\n",
    "time_step = 1\n",
    "X_train, y_train = create_dataset(train_data, time_step)\n",
    "X_val, yval = create_dataset(val_data, time_step)\n",
    "X_test, ytest = create_dataset(test_data, time_step)"
   ]
  },
  {
   "cell_type": "code",
   "execution_count": 8,
   "metadata": {
    "id": "RdBVfku7O2qb"
   },
   "outputs": [],
   "source": [
    "# 7. Reshape input to be [samples, time steps, features] which is required for LSTM\n",
    "X_train =X_train.reshape(X_train.shape[0],X_train.shape[1] , 1)\n",
    "X_test = X_test.reshape(X_test.shape[0],X_test.shape[1] , 1)\n",
    "X_val = X_val.reshape(X_val.shape[0],X_val.shape[1] , 1)"
   ]
  },
  {
   "cell_type": "code",
   "execution_count": 9,
   "metadata": {
    "id": "sSfxrE7BO9vX"
   },
   "outputs": [],
   "source": [
    "# 8. Define LSTM Model\n",
    "\n",
    "model=Sequential()\n",
    "model.add(LSTM(50,return_sequences=True,input_shape=(1,1)))\n",
    "model.add(LSTM(50,return_sequences=True))\n",
    "model.add(LSTM(50))\n",
    "model.add(Dense(1))\n",
    "model.compile(loss='mean_squared_error',optimizer='adam')"
   ]
  },
  {
   "cell_type": "code",
   "execution_count": 10,
   "metadata": {
    "colab": {
     "base_uri": "https://localhost:8080/"
    },
    "id": "zgfeujZSPEKr",
    "outputId": "75217352-75e3-4ef9-f945-5faff4da736d"
   },
   "outputs": [
    {
     "name": "stdout",
     "output_type": "stream",
     "text": [
      "Epoch 1/50\n",
      "14/14 [==============================] - 12s 185ms/step - loss: 0.1879 - val_loss: 0.4059\n",
      "Epoch 2/50\n",
      "14/14 [==============================] - 0s 13ms/step - loss: 0.1329 - val_loss: 0.2674\n",
      "Epoch 3/50\n",
      "14/14 [==============================] - 0s 15ms/step - loss: 0.0634 - val_loss: 0.0794\n",
      "Epoch 4/50\n",
      "14/14 [==============================] - 0s 12ms/step - loss: 0.0315 - val_loss: 0.0191\n",
      "Epoch 5/50\n",
      "14/14 [==============================] - 0s 14ms/step - loss: 0.0264 - val_loss: 0.0419\n",
      "Epoch 6/50\n",
      "14/14 [==============================] - 0s 14ms/step - loss: 0.0208 - val_loss: 0.0195\n",
      "Epoch 7/50\n",
      "14/14 [==============================] - 0s 12ms/step - loss: 0.0147 - val_loss: 0.0108\n",
      "Epoch 8/50\n",
      "14/14 [==============================] - 0s 12ms/step - loss: 0.0089 - val_loss: 0.0044\n",
      "Epoch 9/50\n",
      "14/14 [==============================] - 0s 12ms/step - loss: 0.0043 - val_loss: 0.0012\n",
      "Epoch 10/50\n",
      "14/14 [==============================] - 0s 15ms/step - loss: 0.0018 - val_loss: 0.0016\n",
      "Epoch 11/50\n",
      "14/14 [==============================] - 0s 14ms/step - loss: 0.0011 - val_loss: 0.0025\n",
      "Epoch 12/50\n",
      "14/14 [==============================] - 0s 15ms/step - loss: 0.0010 - val_loss: 0.0023\n",
      "Epoch 13/50\n",
      "14/14 [==============================] - 0s 16ms/step - loss: 9.8551e-04 - val_loss: 0.0024\n",
      "Epoch 14/50\n",
      "14/14 [==============================] - 0s 14ms/step - loss: 9.3890e-04 - val_loss: 0.0022\n",
      "Epoch 15/50\n",
      "14/14 [==============================] - 0s 12ms/step - loss: 9.0597e-04 - val_loss: 0.0024\n",
      "Epoch 16/50\n",
      "14/14 [==============================] - 0s 13ms/step - loss: 8.8500e-04 - val_loss: 0.0020\n",
      "Epoch 17/50\n",
      "14/14 [==============================] - 0s 15ms/step - loss: 8.5447e-04 - val_loss: 0.0021\n",
      "Epoch 18/50\n",
      "14/14 [==============================] - 0s 14ms/step - loss: 8.2714e-04 - val_loss: 0.0021\n",
      "Epoch 19/50\n",
      "14/14 [==============================] - 0s 13ms/step - loss: 8.4342e-04 - val_loss: 0.0016\n",
      "Epoch 20/50\n",
      "14/14 [==============================] - 0s 13ms/step - loss: 7.8313e-04 - val_loss: 0.0015\n",
      "Epoch 21/50\n",
      "14/14 [==============================] - 0s 14ms/step - loss: 7.4232e-04 - val_loss: 0.0015\n",
      "Epoch 22/50\n",
      "14/14 [==============================] - 0s 13ms/step - loss: 7.1562e-04 - val_loss: 0.0015\n",
      "Epoch 23/50\n",
      "14/14 [==============================] - 0s 15ms/step - loss: 6.9149e-04 - val_loss: 0.0015\n",
      "Epoch 24/50\n",
      "14/14 [==============================] - 0s 14ms/step - loss: 6.6674e-04 - val_loss: 0.0018\n",
      "Epoch 25/50\n",
      "14/14 [==============================] - 0s 13ms/step - loss: 6.4282e-04 - val_loss: 0.0013\n",
      "Epoch 26/50\n",
      "14/14 [==============================] - 0s 14ms/step - loss: 6.1883e-04 - val_loss: 0.0014\n",
      "Epoch 27/50\n",
      "14/14 [==============================] - 0s 12ms/step - loss: 5.9613e-04 - val_loss: 0.0013\n",
      "Epoch 28/50\n",
      "14/14 [==============================] - 0s 15ms/step - loss: 5.7991e-04 - val_loss: 0.0012\n",
      "Epoch 29/50\n",
      "14/14 [==============================] - 0s 15ms/step - loss: 5.5967e-04 - val_loss: 0.0013\n",
      "Epoch 30/50\n",
      "14/14 [==============================] - 0s 15ms/step - loss: 5.4589e-04 - val_loss: 0.0011\n",
      "Epoch 31/50\n",
      "14/14 [==============================] - 0s 13ms/step - loss: 5.2974e-04 - val_loss: 8.8944e-04\n",
      "Epoch 32/50\n",
      "14/14 [==============================] - 0s 13ms/step - loss: 5.2735e-04 - val_loss: 9.2401e-04\n",
      "Epoch 33/50\n",
      "14/14 [==============================] - 0s 14ms/step - loss: 5.0333e-04 - val_loss: 8.3677e-04\n",
      "Epoch 34/50\n",
      "14/14 [==============================] - 0s 14ms/step - loss: 4.9986e-04 - val_loss: 8.4504e-04\n",
      "Epoch 35/50\n",
      "14/14 [==============================] - 0s 14ms/step - loss: 4.7420e-04 - val_loss: 8.5499e-04\n",
      "Epoch 36/50\n",
      "14/14 [==============================] - 0s 12ms/step - loss: 4.6204e-04 - val_loss: 8.9831e-04\n",
      "Epoch 37/50\n",
      "14/14 [==============================] - 0s 14ms/step - loss: 4.4908e-04 - val_loss: 8.4452e-04\n",
      "Epoch 38/50\n",
      "14/14 [==============================] - 0s 13ms/step - loss: 4.3888e-04 - val_loss: 7.3918e-04\n",
      "Epoch 39/50\n",
      "14/14 [==============================] - 0s 12ms/step - loss: 4.3568e-04 - val_loss: 8.0159e-04\n",
      "Epoch 40/50\n",
      "14/14 [==============================] - 0s 12ms/step - loss: 4.2950e-04 - val_loss: 7.5313e-04\n",
      "Epoch 41/50\n",
      "14/14 [==============================] - 0s 14ms/step - loss: 4.1877e-04 - val_loss: 7.7251e-04\n",
      "Epoch 42/50\n",
      "14/14 [==============================] - 0s 12ms/step - loss: 4.1130e-04 - val_loss: 6.9832e-04\n",
      "Epoch 43/50\n",
      "14/14 [==============================] - 0s 12ms/step - loss: 4.0563e-04 - val_loss: 7.0832e-04\n",
      "Epoch 44/50\n",
      "14/14 [==============================] - 0s 13ms/step - loss: 4.0590e-04 - val_loss: 7.5794e-04\n",
      "Epoch 45/50\n",
      "14/14 [==============================] - 0s 13ms/step - loss: 4.0462e-04 - val_loss: 7.4291e-04\n",
      "Epoch 46/50\n",
      "14/14 [==============================] - 0s 14ms/step - loss: 3.9397e-04 - val_loss: 7.3625e-04\n",
      "Epoch 47/50\n",
      "14/14 [==============================] - 0s 14ms/step - loss: 3.9599e-04 - val_loss: 6.7098e-04\n",
      "Epoch 48/50\n",
      "14/14 [==============================] - 0s 16ms/step - loss: 3.8766e-04 - val_loss: 6.3634e-04\n",
      "Epoch 49/50\n",
      "14/14 [==============================] - 0s 15ms/step - loss: 3.8687e-04 - val_loss: 6.3760e-04\n",
      "Epoch 50/50\n",
      "14/14 [==============================] - 0s 14ms/step - loss: 3.8074e-04 - val_loss: 6.3880e-04\n"
     ]
    },
    {
     "data": {
      "text/plain": [
       "<keras.callbacks.History at 0x211dd627610>"
      ]
     },
     "execution_count": 10,
     "metadata": {},
     "output_type": "execute_result"
    }
   ],
   "source": [
    "# 9. Fit mô hình với dữ liệu train\n",
    "model.fit(X_train,y_train,validation_data=(X_test,ytest),epochs=50,batch_size=64,verbose=1)"
   ]
  },
  {
   "cell_type": "code",
   "execution_count": 11,
   "metadata": {
    "colab": {
     "base_uri": "https://localhost:8080/"
    },
    "id": "Rxx_KQSkQpBG",
    "outputId": "3fe32233-5aca-4d1a-e850-e119eedaf6cc"
   },
   "outputs": [
    {
     "name": "stdout",
     "output_type": "stream",
     "text": [
      "28/28 [==============================] - 2s 4ms/step\n",
      "8/8 [==============================] - 0s 5ms/step\n",
      "4/4 [==============================] - 0s 5ms/step\n"
     ]
    }
   ],
   "source": [
    "# 10. Dự báo dữ liệu test, val\n",
    "train_predict=model.predict(X_train)\n",
    "y_pred=model.predict(X_test)\n",
    "y_pred_val=model.predict(X_val)\n"
   ]
  },
  {
   "cell_type": "code",
   "execution_count": 12,
   "metadata": {
    "id": "5rwTN10LQ7rj"
   },
   "outputs": [],
   "source": [
    "# 11. Chuẩn hóa dữ liệu y_pred, y_pred_val\n",
    "train_predict=scaler.inverse_transform(train_predict)\n",
    "y_pred=scaler.inverse_transform(y_pred)\n",
    "y_pred_val=scaler.inverse_transform(y_pred_val)\n"
   ]
  },
  {
   "cell_type": "code",
   "execution_count": 13,
   "metadata": {
    "id": "VelR5kM7baBR"
   },
   "outputs": [],
   "source": [
    "train_size1 = int(0.7 * len(df))\n",
    "test_size1 = int(0.2 * len(df))\n",
    "\n",
    "train_data1 = df[:train_size1]\n",
    "test_data1 = df[train_size1:train_size1+test_size1]\n",
    "val_data1 = df[train_size1+test_size1:]\n",
    "\n",
    "x_test1 = np.array(test_data1.index).reshape(-1, 1)\n",
    "y_test1 = np.array(test_data1)\n",
    "\n",
    "x_val1 = np.array(val_data1.index).reshape(-1, 1)\n",
    "y_val1 = np.array(val_data1)"
   ]
  },
  {
   "cell_type": "code",
   "execution_count": 14,
   "metadata": {
    "colab": {
     "base_uri": "https://localhost:8080/"
    },
    "id": "wu_9j94kRonD",
    "outputId": "df4b8794-21df-4271-96b7-cf637909e15a"
   },
   "outputs": [
    {
     "name": "stdout",
     "output_type": "stream",
     "text": [
      "Validation RMSE: 8784.74350625773\n",
      "Testing RMSE: 7981.22477911198\n",
      "Validation MAPE: 8.029272664089735\n",
      "Testing MAPE: 8.051630033420153\n",
      "Validation MAE: 6815.8138775406505\n",
      "Testing MAE: 6289.612658765039\n"
     ]
    }
   ],
   "source": [
    "# 12. Đánh giá độ chính xác thuật toán\n",
    "#RMSE\n",
    "valid_rmse = np.sqrt(np.mean((y_pred_val - y_val1)**2))\n",
    "test_rmse = np.sqrt(np.mean((y_pred - y_test1)**2))\n",
    "print('Validation RMSE:', valid_rmse)\n",
    "print('Testing RMSE:', test_rmse)\n",
    "\n",
    "#MAPE\n",
    "valid_mape = np.mean(np.abs((y_val1 - y_pred_val) / y_val1)) * 100\n",
    "test_mape = np.mean(np.abs((y_test1 - y_pred) / y_test1)) * 100\n",
    "print('Validation MAPE:', valid_mape)\n",
    "print('Testing MAPE:', test_mape)\n",
    "\n",
    "#MAE\n",
    "valid_mae = np.mean(np.abs(y_pred_val - y_val1))\n",
    "test_mae = np.mean(np.abs(y_pred - y_test1))\n",
    "print('Validation MAE:', valid_mae)\n",
    "print('Testing MAE:', test_mae)"
   ]
  },
  {
   "cell_type": "code",
   "execution_count": 15,
   "metadata": {
    "colab": {
     "base_uri": "https://localhost:8080/"
    },
    "id": "izQZ1iQyYl6N",
    "outputId": "680528b8-0fb2-4d83-9c2c-d9ee1ba632b5"
   },
   "outputs": [
    {
     "name": "stdout",
     "output_type": "stream",
     "text": [
      "[0.97335297]\n",
      "2\n",
      "1 day input [0.97335297]\n",
      "1 day output [[0.978132]]\n",
      "2 day input [0.97813201]\n",
      "2 day output [[0.9828553]]\n",
      "3 day input [0.98285532]\n",
      "3 day output [[0.9875197]]\n",
      "4 day input [0.98751968]\n",
      "4 day output [[0.99212146]]\n",
      "5 day input [0.99212146]\n",
      "5 day output [[0.9966581]]\n",
      "6 day input [0.99665809]\n",
      "6 day output [[1.0011262]]\n",
      "7 day input [1.00112617]\n",
      "7 day output [[1.0055236]]\n",
      "8 day input [1.00552356]\n",
      "8 day output [[1.0098476]]\n",
      "9 day input [1.00984764]\n",
      "9 day output [[1.0140959]]\n",
      "10 day input [1.0140959]\n",
      "10 day output [[1.0182666]]\n",
      "11 day input [1.01826656]\n",
      "11 day output [[1.0223576]]\n",
      "12 day input [1.02235758]\n",
      "12 day output [[1.0263673]]\n",
      "13 day input [1.02636731]\n",
      "13 day output [[1.030294]]\n",
      "14 day input [1.03029394]\n",
      "14 day output [[1.0341362]]\n",
      "15 day input [1.03413618]\n",
      "15 day output [[1.0378932]]\n",
      "16 day input [1.03789318]\n",
      "16 day output [[1.041564]]\n",
      "17 day input [1.04156399]\n",
      "17 day output [[1.0451474]]\n",
      "18 day input [1.04514742]\n",
      "18 day output [[1.0486432]]\n",
      "19 day input [1.04864323]\n",
      "19 day output [[1.0520511]]\n",
      "20 day input [1.05205107]\n",
      "20 day output [[1.0553706]]\n",
      "21 day input [1.05537057]\n",
      "21 day output [[1.0586019]]\n",
      "22 day input [1.05860186]\n",
      "22 day output [[1.0617452]]\n",
      "23 day input [1.06174517]\n",
      "23 day output [[1.0648004]]\n",
      "24 day input [1.06480038]\n",
      "24 day output [[1.0677683]]\n",
      "25 day input [1.06776834]\n",
      "25 day output [[1.0706497]]\n",
      "26 day input [1.07064974]\n",
      "26 day output [[1.073445]]\n",
      "27 day input [1.07344496]\n",
      "27 day output [[1.0761552]]\n",
      "28 day input [1.07615519]\n",
      "28 day output [[1.0787812]]\n",
      "29 day input [1.07878125]\n",
      "29 day output [[1.0813242]]\n",
      "[[ 94476.29610282]\n",
      " [ 94749.56643558]\n",
      " [ 95019.65005159]\n",
      " [ 95286.3629052 ]\n",
      " [ 95549.49709296]\n",
      " [ 95808.90605998]\n",
      " [ 96064.39553583]\n",
      " [ 96315.84282339]\n",
      " [ 96563.09795952]\n",
      " [ 96806.01779759]\n",
      " [ 97044.50009   ]\n",
      " [ 97278.42895615]\n",
      " [ 97507.70896494]\n",
      " [ 97732.23786879]\n",
      " [ 97951.94068611]\n",
      " [ 98166.76970136]\n",
      " [ 98376.6703825 ]\n",
      " [ 98581.57456446]\n",
      " [ 98781.46861422]\n",
      " [ 98976.33208227]\n",
      " [ 99166.14451909]\n",
      " [ 99350.91274118]\n",
      " [ 99530.65038157]\n",
      " [ 99705.35062373]\n",
      " [ 99875.06118321]\n",
      " [100039.82295907]\n",
      " [100199.6564008 ]\n",
      " [100354.62967348]\n",
      " [100504.79049265]\n",
      " [100650.20020688]]\n"
     ]
    }
   ],
   "source": [
    "# 13. Dự báo 30 ngày tiếp theo\n",
    "x_input=val_data[len(val_data)-time_step:].reshape(1,-1)\n",
    "x_input.shape\n",
    "\n",
    "temp_input=list(x_input)\n",
    "temp_input=temp_input[0].tolist()\n",
    "\n",
    "from numpy import array\n",
    "\n",
    "lst_output=[]\n",
    "n_steps=1\n",
    "i=0\n",
    "while(i<30):\n",
    "\n",
    "    if(len(temp_input)>1):\n",
    "        #print(temp_input)\n",
    "        x_input=np.array(temp_input[1:])\n",
    "        print(\"{} day input {}\".format(i,x_input))\n",
    "        x_input=x_input.reshape(1,-1)\n",
    "        x_input = x_input.reshape((1, n_steps, 1))\n",
    "        #print(x_input)\n",
    "        yhat = model.predict(x_input, verbose=0)\n",
    "        print(\"{} day output {}\".format(i,yhat))\n",
    "        temp_input.extend(yhat[0].tolist())\n",
    "        temp_input=temp_input[1:]\n",
    "        #print(temp_input)\n",
    "        lst_output.extend(yhat.tolist())\n",
    "        i=i+1\n",
    "    else:\n",
    "        x_input = x_input.reshape((1, n_steps,1))\n",
    "        yhat = model.predict(x_input, verbose=0)\n",
    "        print(yhat[0])\n",
    "        temp_input.extend(yhat[0].tolist())\n",
    "        print(len(temp_input))\n",
    "        lst_output.extend(yhat.tolist())\n",
    "        i=i+1\n",
    "lst_output=scaler.inverse_transform(lst_output)\n",
    "print(lst_output)"
   ]
  },
  {
   "cell_type": "code",
   "execution_count": 16,
   "metadata": {
    "colab": {
     "base_uri": "https://localhost:8080/",
     "height": 430
    },
    "id": "KSa_mX51a654",
    "outputId": "740334c4-b2ed-4a26-f45a-a37f29d0ece5"
   },
   "outputs": [
    {
     "data": {
      "image/png": "[encoded data removed]",
      "text/plain": [
       "<Figure size 640x480 with 1 Axes>"
      ]
     },
     "metadata": {},
     "output_type": "display_data"
    }
   ],
   "source": [
    "# 14.Vẽ hình\n",
    "\n",
    "train_data_index = pd.RangeIndex(start=0, stop=train_size, step=1)\n",
    "plt.plot(scaler.inverse_transform(train_data))\n",
    "\n",
    "test_data_index = pd.RangeIndex(start=train_size, stop=train_size+test_size, step=1)\n",
    "plt.plot(test_data_index,scaler.inverse_transform(test_data))\n",
    "\n",
    "test_data_index = pd.RangeIndex(start=train_size+2, stop=train_size+test_size, step=1)\n",
    "plt.plot(test_data_index,(y_pred))\n",
    "\n",
    "val_data_index = pd.RangeIndex(start=train_size+test_size, stop=train_size+test_size+val_size, step=1)\n",
    "plt.plot(val_data_index,scaler.inverse_transform(val_data))\n",
    "\n",
    "val_data_index = pd.RangeIndex(start=train_size+test_size+2, stop=train_size+test_size+val_size, step=1)\n",
    "plt.plot(val_data_index,y_pred_val)\n",
    "\n",
    "prediect_data_index = pd.RangeIndex(start=len(df1)-1, stop=len(df1)+29, step=1)\n",
    "plt.plot(prediect_data_index,lst_output)\n",
    "\n",
    "plt.legend(['Train','Test','Predict','Validate','ValidatePred','Predict30days'])\n",
    "plt.show()"
   ]
  },
  {
   "cell_type": "code",
   "execution_count": null,
   "metadata": {},
   "outputs": [],
   "source": []
  }
 ],
 "metadata": {
  "accelerator": "GPU",
  "colab": {
   "gpuType": "T4",
   "provenance": []
  },
  "gpuClass": "standard",
  "kernelspec": {
   "display_name": "Python 3 (ipykernel)",
   "language": "python",
   "name": "python3"
  },
  "language_info": {
   "codemirror_mode": {
    "name": "ipython",
    "version": 3
   },
   "file_extension": ".py",
   "mimetype": "text/x-python",
   "name": "python",
   "nbconvert_exporter": "python",
   "pygments_lexer": "ipython3",
   "version": "3.11.2"
  }
 },
 "nbformat": 4,
 "nbformat_minor": 1
}
