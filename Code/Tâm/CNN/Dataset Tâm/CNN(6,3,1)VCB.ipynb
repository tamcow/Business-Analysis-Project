{
 "cells": [
  {
   "cell_type": "code",
   "execution_count": 1,
   "metadata": {
    "executionInfo": {
     "elapsed": 2755,
     "status": "ok",
     "timestamp": 1686852654166,
     "user": {
      "displayName": "Dương Bảo Tâm",
      "userId": "08793744146526902568"
     },
     "user_tz": -420
    },
    "id": "Ut552Xmq1O8N"
   },
   "outputs": [],
   "source": [
    "import pandas as pd\n",
    "import numpy as np\n",
    "import matplotlib.pyplot as plt\n",
    "from tensorflow.keras.models import Sequential\n",
    "from tensorflow.keras.layers import Conv1D, MaxPooling1D, Flatten, Dense"
   ]
  },
  {
   "cell_type": "code",
   "execution_count": 2,
   "metadata": {
    "colab": {
     "base_uri": "https://localhost:8080/",
     "height": 424
    },
    "executionInfo": {
     "elapsed": 1736,
     "status": "ok",
     "timestamp": 1686852680244,
     "user": {
      "displayName": "Dương Bảo Tâm",
      "userId": "08793744146526902568"
     },
     "user_tz": -420
    },
    "id": "gEE-U3gn1r2W",
    "outputId": "c8db3e7b-e4d6-46ca-e8ee-2efcbdefcc0a"
   },
   "outputs": [
    {
     "data": {
      "text/html": [
       "<div>\n",
       "<style scoped>\n",
       "    .dataframe tbody tr th:only-of-type {\n",
       "        vertical-align: middle;\n",
       "    }\n",
       "\n",
       "    .dataframe tbody tr th {\n",
       "        vertical-align: top;\n",
       "    }\n",
       "\n",
       "    .dataframe thead th {\n",
       "        text-align: right;\n",
       "    }\n",
       "</style>\n",
       "<table border=\"1\" class=\"dataframe\">\n",
       "  <thead>\n",
       "    <tr style=\"text-align: right;\">\n",
       "      <th></th>\n",
       "      <th>Price</th>\n",
       "    </tr>\n",
       "  </thead>\n",
       "  <tbody>\n",
       "    <tr>\n",
       "      <th>0</th>\n",
       "      <td>43216</td>\n",
       "    </tr>\n",
       "    <tr>\n",
       "      <th>1</th>\n",
       "      <td>44960</td>\n",
       "    </tr>\n",
       "    <tr>\n",
       "      <th>2</th>\n",
       "      <td>44429</td>\n",
       "    </tr>\n",
       "    <tr>\n",
       "      <th>3</th>\n",
       "      <td>44808</td>\n",
       "    </tr>\n",
       "    <tr>\n",
       "      <th>4</th>\n",
       "      <td>44505</td>\n",
       "    </tr>\n",
       "    <tr>\n",
       "      <th>...</th>\n",
       "      <td>...</td>\n",
       "    </tr>\n",
       "    <tr>\n",
       "      <th>1237</th>\n",
       "      <td>91700</td>\n",
       "    </tr>\n",
       "    <tr>\n",
       "      <th>1238</th>\n",
       "      <td>92600</td>\n",
       "    </tr>\n",
       "    <tr>\n",
       "      <th>1239</th>\n",
       "      <td>92800</td>\n",
       "    </tr>\n",
       "    <tr>\n",
       "      <th>1240</th>\n",
       "      <td>95000</td>\n",
       "    </tr>\n",
       "    <tr>\n",
       "      <th>1241</th>\n",
       "      <td>94200</td>\n",
       "    </tr>\n",
       "  </tbody>\n",
       "</table>\n",
       "<p>1242 rows × 1 columns</p>\n",
       "</div>"
      ],
      "text/plain": [
       "      Price\n",
       "0     43216\n",
       "1     44960\n",
       "2     44429\n",
       "3     44808\n",
       "4     44505\n",
       "...     ...\n",
       "1237  91700\n",
       "1238  92600\n",
       "1239  92800\n",
       "1240  95000\n",
       "1241  94200\n",
       "\n",
       "[1242 rows x 1 columns]"
      ]
     },
     "execution_count": 2,
     "metadata": {},
     "output_type": "execute_result"
    }
   ],
   "source": [
    "# Read dataset file\n",
    "df = pd.read_csv('VCB.csv')\n",
    "df = df[['Price']]\n",
    "df = df.dropna()\n",
    "df"
   ]
  },
  {
   "cell_type": "code",
   "execution_count": 3,
   "metadata": {
    "executionInfo": {
     "elapsed": 10,
     "status": "ok",
     "timestamp": 1686852680245,
     "user": {
      "displayName": "Dương Bảo Tâm",
      "userId": "08793744146526902568"
     },
     "user_tz": -420
    },
    "id": "oDkSuGJm2GXa"
   },
   "outputs": [],
   "source": [
    "# Split the data into training, testing, and validation sets\n",
    "train_size = int(0.6 * len(df))\n",
    "test_size = int(0.3 * len(df))\n",
    "val_size = len(df) - train_size - test_size\n",
    "\n",
    "train_data = df[:train_size]\n",
    "test_data = df[train_size:train_size+test_size]\n",
    "val_data = df[train_size+test_size:]"
   ]
  },
  {
   "cell_type": "code",
   "execution_count": 4,
   "metadata": {
    "executionInfo": {
     "elapsed": 9,
     "status": "ok",
     "timestamp": 1686852680245,
     "user": {
      "displayName": "Dương Bảo Tâm",
      "userId": "08793744146526902568"
     },
     "user_tz": -420
    },
    "id": "p-ZDchgy2SCA"
   },
   "outputs": [],
   "source": [
    "# Normalize the data\n",
    "mean = train_data.mean()\n",
    "meant = test_data.mean()\n",
    "meanv = val_data.mean()\n",
    "std = train_data.std()\n",
    "stdt = test_data.std()\n",
    "stdv = val_data.std()\n",
    "train_data = (train_data - mean) / std\n",
    "test_data = (test_data - meant) / stdt\n",
    "val_data = (val_data - meanv) / stdv"
   ]
  },
  {
   "cell_type": "code",
   "execution_count": 5,
   "metadata": {
    "executionInfo": {
     "elapsed": 9,
     "status": "ok",
     "timestamp": 1686852680246,
     "user": {
      "displayName": "Dương Bảo Tâm",
      "userId": "08793744146526902568"
     },
     "user_tz": -420
    },
    "id": "HT8OLwhF2VfJ"
   },
   "outputs": [],
   "source": [
    "# Prepare the data for CNN\n",
    "window_size = 10\n",
    "\n",
    "def create_sequences(data, window_size):\n",
    "    X = []\n",
    "    y = []\n",
    "    for i in range(len(data) - window_size):\n",
    "        X.append(data[i:i+window_size])\n",
    "        y.append(data[i+window_size])\n",
    "    return np.array(X), np.array(y)\n",
    "\n",
    "X_train, y_train = create_sequences(train_data.values, window_size)\n",
    "X_test, y_test = create_sequences(test_data.values, window_size)\n",
    "X_val, y_val = create_sequences(val_data.values, window_size)\n"
   ]
  },
  {
   "cell_type": "code",
   "execution_count": 6,
   "metadata": {
    "executionInfo": {
     "elapsed": 6562,
     "status": "ok",
     "timestamp": 1686852686800,
     "user": {
      "displayName": "Dương Bảo Tâm",
      "userId": "08793744146526902568"
     },
     "user_tz": -420
    },
    "id": "zIexGZ5W3atX"
   },
   "outputs": [],
   "source": [
    "# Build the CNN model\n",
    "model = Sequential()\n",
    "model.add(Conv1D(filters=32, kernel_size=3, activation='relu', input_shape=(window_size, 1)))\n",
    "model.add(MaxPooling1D(pool_size=2))\n",
    "model.add(Flatten())\n",
    "model.add(Dense(64, activation='relu'))\n",
    "model.add(Dense(1))\n",
    "\n",
    "model.compile(optimizer='adam', loss='mse')"
   ]
  },
  {
   "cell_type": "code",
   "execution_count": 7,
   "metadata": {
    "colab": {
     "base_uri": "https://localhost:8080/"
    },
    "executionInfo": {
     "elapsed": 19460,
     "status": "ok",
     "timestamp": 1686852706246,
     "user": {
      "displayName": "Dương Bảo Tâm",
      "userId": "08793744146526902568"
     },
     "user_tz": -420
    },
    "id": "EqYPxtyA3cky",
    "outputId": "9bf6ad3f-4f20-4342-8de3-1485032ac49e"
   },
   "outputs": [
    {
     "name": "stdout",
     "output_type": "stream",
     "text": [
      "Epoch 1/100\n",
      "23/23 [==============================] - 2s 22ms/step - loss: 0.5008 - val_loss: 0.1601\n",
      "Epoch 2/100\n",
      "23/23 [==============================] - 0s 5ms/step - loss: 0.0460 - val_loss: 0.1661\n",
      "Epoch 3/100\n",
      "23/23 [==============================] - 0s 6ms/step - loss: 0.0277 - val_loss: 0.1368\n",
      "Epoch 4/100\n",
      "23/23 [==============================] - 0s 7ms/step - loss: 0.0230 - val_loss: 0.1221\n",
      "Epoch 5/100\n",
      "23/23 [==============================] - 0s 5ms/step - loss: 0.0198 - val_loss: 0.1130\n",
      "Epoch 6/100\n",
      "23/23 [==============================] - 0s 5ms/step - loss: 0.0173 - val_loss: 0.1062\n",
      "Epoch 7/100\n",
      "23/23 [==============================] - 0s 5ms/step - loss: 0.0165 - val_loss: 0.1046\n",
      "Epoch 8/100\n",
      "23/23 [==============================] - 0s 6ms/step - loss: 0.0155 - val_loss: 0.1040\n",
      "Epoch 9/100\n",
      "23/23 [==============================] - 0s 6ms/step - loss: 0.0139 - val_loss: 0.1007\n",
      "Epoch 10/100\n",
      "23/23 [==============================] - 0s 5ms/step - loss: 0.0137 - val_loss: 0.0969\n",
      "Epoch 11/100\n",
      "23/23 [==============================] - 0s 5ms/step - loss: 0.0136 - val_loss: 0.0976\n",
      "Epoch 12/100\n",
      "23/23 [==============================] - 0s 5ms/step - loss: 0.0126 - val_loss: 0.0925\n",
      "Epoch 13/100\n",
      "23/23 [==============================] - 0s 6ms/step - loss: 0.0124 - val_loss: 0.0893\n",
      "Epoch 14/100\n",
      "23/23 [==============================] - 0s 7ms/step - loss: 0.0121 - val_loss: 0.0911\n",
      "Epoch 15/100\n",
      "23/23 [==============================] - 0s 5ms/step - loss: 0.0124 - val_loss: 0.0894\n",
      "Epoch 16/100\n",
      "23/23 [==============================] - 0s 5ms/step - loss: 0.0129 - val_loss: 0.0903\n",
      "Epoch 17/100\n",
      "23/23 [==============================] - 0s 6ms/step - loss: 0.0132 - val_loss: 0.0848\n",
      "Epoch 18/100\n",
      "23/23 [==============================] - 0s 5ms/step - loss: 0.0111 - val_loss: 0.0847\n",
      "Epoch 19/100\n",
      "23/23 [==============================] - 0s 8ms/step - loss: 0.0110 - val_loss: 0.0881\n",
      "Epoch 20/100\n",
      "23/23 [==============================] - 0s 5ms/step - loss: 0.0124 - val_loss: 0.0850\n",
      "Epoch 21/100\n",
      "23/23 [==============================] - 0s 5ms/step - loss: 0.0111 - val_loss: 0.0835\n",
      "Epoch 22/100\n",
      "23/23 [==============================] - 0s 5ms/step - loss: 0.0115 - val_loss: 0.0813\n",
      "Epoch 23/100\n",
      "23/23 [==============================] - 0s 5ms/step - loss: 0.0108 - val_loss: 0.0803\n",
      "Epoch 24/100\n",
      "23/23 [==============================] - 0s 5ms/step - loss: 0.0108 - val_loss: 0.0830\n",
      "Epoch 25/100\n",
      "23/23 [==============================] - 0s 6ms/step - loss: 0.0105 - val_loss: 0.0809\n",
      "Epoch 26/100\n",
      "23/23 [==============================] - 0s 6ms/step - loss: 0.0112 - val_loss: 0.0812\n",
      "Epoch 27/100\n",
      "23/23 [==============================] - 0s 5ms/step - loss: 0.0111 - val_loss: 0.0823\n",
      "Epoch 28/100\n",
      "23/23 [==============================] - 0s 5ms/step - loss: 0.0105 - val_loss: 0.0803\n",
      "Epoch 29/100\n",
      "23/23 [==============================] - 0s 5ms/step - loss: 0.0101 - val_loss: 0.0835\n",
      "Epoch 30/100\n",
      "23/23 [==============================] - 0s 6ms/step - loss: 0.0106 - val_loss: 0.0823\n",
      "Epoch 31/100\n",
      "23/23 [==============================] - 0s 6ms/step - loss: 0.0105 - val_loss: 0.0782\n",
      "Epoch 32/100\n",
      "23/23 [==============================] - 0s 6ms/step - loss: 0.0104 - val_loss: 0.0797\n",
      "Epoch 33/100\n",
      "23/23 [==============================] - 0s 6ms/step - loss: 0.0101 - val_loss: 0.0815\n",
      "Epoch 34/100\n",
      "23/23 [==============================] - 0s 6ms/step - loss: 0.0101 - val_loss: 0.0765\n",
      "Epoch 35/100\n",
      "23/23 [==============================] - 0s 6ms/step - loss: 0.0102 - val_loss: 0.0821\n",
      "Epoch 36/100\n",
      "23/23 [==============================] - 0s 6ms/step - loss: 0.0109 - val_loss: 0.0769\n",
      "Epoch 37/100\n",
      "23/23 [==============================] - 0s 7ms/step - loss: 0.0100 - val_loss: 0.0759\n",
      "Epoch 38/100\n",
      "23/23 [==============================] - 0s 5ms/step - loss: 0.0096 - val_loss: 0.0791\n",
      "Epoch 39/100\n",
      "23/23 [==============================] - 0s 7ms/step - loss: 0.0101 - val_loss: 0.0779\n",
      "Epoch 40/100\n",
      "23/23 [==============================] - 0s 6ms/step - loss: 0.0100 - val_loss: 0.0762\n",
      "Epoch 41/100\n",
      "23/23 [==============================] - 0s 5ms/step - loss: 0.0100 - val_loss: 0.0784\n",
      "Epoch 42/100\n",
      "23/23 [==============================] - 0s 6ms/step - loss: 0.0099 - val_loss: 0.0752\n",
      "Epoch 43/100\n",
      "23/23 [==============================] - 0s 7ms/step - loss: 0.0096 - val_loss: 0.0743\n",
      "Epoch 44/100\n",
      "23/23 [==============================] - 0s 5ms/step - loss: 0.0094 - val_loss: 0.0767\n",
      "Epoch 45/100\n",
      "23/23 [==============================] - 0s 5ms/step - loss: 0.0097 - val_loss: 0.0785\n",
      "Epoch 46/100\n",
      "23/23 [==============================] - 0s 6ms/step - loss: 0.0102 - val_loss: 0.0744\n",
      "Epoch 47/100\n",
      "23/23 [==============================] - 0s 7ms/step - loss: 0.0096 - val_loss: 0.0772\n",
      "Epoch 48/100\n",
      "23/23 [==============================] - 0s 5ms/step - loss: 0.0100 - val_loss: 0.0757\n",
      "Epoch 49/100\n",
      "23/23 [==============================] - 0s 5ms/step - loss: 0.0093 - val_loss: 0.0766\n",
      "Epoch 50/100\n",
      "23/23 [==============================] - 0s 6ms/step - loss: 0.0094 - val_loss: 0.0753\n",
      "Epoch 51/100\n",
      "23/23 [==============================] - 0s 7ms/step - loss: 0.0099 - val_loss: 0.0731\n",
      "Epoch 52/100\n",
      "23/23 [==============================] - 0s 5ms/step - loss: 0.0099 - val_loss: 0.0758\n",
      "Epoch 53/100\n",
      "23/23 [==============================] - 0s 5ms/step - loss: 0.0091 - val_loss: 0.0763\n",
      "Epoch 54/100\n",
      "23/23 [==============================] - 0s 6ms/step - loss: 0.0099 - val_loss: 0.0744\n",
      "Epoch 55/100\n",
      "23/23 [==============================] - 0s 6ms/step - loss: 0.0100 - val_loss: 0.0736\n",
      "Epoch 56/100\n",
      "23/23 [==============================] - 0s 7ms/step - loss: 0.0090 - val_loss: 0.0752\n",
      "Epoch 57/100\n",
      "23/23 [==============================] - 0s 5ms/step - loss: 0.0100 - val_loss: 0.0709\n",
      "Epoch 58/100\n",
      "23/23 [==============================] - 0s 6ms/step - loss: 0.0104 - val_loss: 0.0775\n",
      "Epoch 59/100\n",
      "23/23 [==============================] - 0s 6ms/step - loss: 0.0091 - val_loss: 0.0738\n",
      "Epoch 60/100\n",
      "23/23 [==============================] - 0s 6ms/step - loss: 0.0097 - val_loss: 0.0762\n",
      "Epoch 61/100\n",
      "23/23 [==============================] - 0s 7ms/step - loss: 0.0096 - val_loss: 0.0749\n",
      "Epoch 62/100\n",
      "23/23 [==============================] - 0s 6ms/step - loss: 0.0094 - val_loss: 0.0739\n",
      "Epoch 63/100\n",
      "23/23 [==============================] - 0s 6ms/step - loss: 0.0088 - val_loss: 0.0725\n",
      "Epoch 64/100\n",
      "23/23 [==============================] - 0s 5ms/step - loss: 0.0090 - val_loss: 0.0746\n",
      "Epoch 65/100\n",
      "23/23 [==============================] - 0s 7ms/step - loss: 0.0099 - val_loss: 0.0715\n",
      "Epoch 66/100\n",
      "23/23 [==============================] - 0s 5ms/step - loss: 0.0091 - val_loss: 0.0731\n",
      "Epoch 67/100\n",
      "23/23 [==============================] - 0s 6ms/step - loss: 0.0088 - val_loss: 0.0759\n",
      "Epoch 68/100\n",
      "23/23 [==============================] - 0s 6ms/step - loss: 0.0090 - val_loss: 0.0768\n",
      "Epoch 69/100\n",
      "23/23 [==============================] - 0s 6ms/step - loss: 0.0094 - val_loss: 0.0739\n",
      "Epoch 70/100\n",
      "23/23 [==============================] - 0s 6ms/step - loss: 0.0097 - val_loss: 0.0715\n",
      "Epoch 71/100\n",
      "23/23 [==============================] - 0s 6ms/step - loss: 0.0088 - val_loss: 0.0715\n",
      "Epoch 72/100\n",
      "23/23 [==============================] - 0s 6ms/step - loss: 0.0090 - val_loss: 0.0749\n",
      "Epoch 73/100\n",
      "23/23 [==============================] - 0s 7ms/step - loss: 0.0087 - val_loss: 0.0742\n",
      "Epoch 74/100\n",
      "23/23 [==============================] - 0s 6ms/step - loss: 0.0089 - val_loss: 0.0712\n",
      "Epoch 75/100\n",
      "23/23 [==============================] - 0s 7ms/step - loss: 0.0091 - val_loss: 0.0760\n",
      "Epoch 76/100\n",
      "23/23 [==============================] - 0s 5ms/step - loss: 0.0090 - val_loss: 0.0756\n",
      "Epoch 77/100\n",
      "23/23 [==============================] - 0s 6ms/step - loss: 0.0092 - val_loss: 0.0760\n",
      "Epoch 78/100\n",
      "23/23 [==============================] - 0s 6ms/step - loss: 0.0089 - val_loss: 0.0756\n",
      "Epoch 79/100\n",
      "23/23 [==============================] - 0s 5ms/step - loss: 0.0088 - val_loss: 0.0745\n",
      "Epoch 80/100\n",
      "23/23 [==============================] - 0s 7ms/step - loss: 0.0094 - val_loss: 0.0714\n",
      "Epoch 81/100\n",
      "23/23 [==============================] - 0s 6ms/step - loss: 0.0096 - val_loss: 0.0736\n",
      "Epoch 82/100\n",
      "23/23 [==============================] - 0s 5ms/step - loss: 0.0096 - val_loss: 0.0710\n",
      "Epoch 83/100\n"
     ]
    },
    {
     "name": "stdout",
     "output_type": "stream",
     "text": [
      "23/23 [==============================] - 0s 5ms/step - loss: 0.0089 - val_loss: 0.0716\n",
      "Epoch 84/100\n",
      "23/23 [==============================] - 0s 8ms/step - loss: 0.0093 - val_loss: 0.0721\n",
      "Epoch 85/100\n",
      "23/23 [==============================] - 0s 6ms/step - loss: 0.0101 - val_loss: 0.0749\n",
      "Epoch 86/100\n",
      "23/23 [==============================] - 0s 6ms/step - loss: 0.0083 - val_loss: 0.0724\n",
      "Epoch 87/100\n",
      "23/23 [==============================] - 0s 6ms/step - loss: 0.0087 - val_loss: 0.0732\n",
      "Epoch 88/100\n",
      "23/23 [==============================] - 0s 6ms/step - loss: 0.0085 - val_loss: 0.0703\n",
      "Epoch 89/100\n",
      "23/23 [==============================] - 0s 6ms/step - loss: 0.0087 - val_loss: 0.0730\n",
      "Epoch 90/100\n",
      "23/23 [==============================] - 0s 6ms/step - loss: 0.0085 - val_loss: 0.0752\n",
      "Epoch 91/100\n",
      "23/23 [==============================] - 0s 5ms/step - loss: 0.0090 - val_loss: 0.0711\n",
      "Epoch 92/100\n",
      "23/23 [==============================] - 0s 6ms/step - loss: 0.0087 - val_loss: 0.0715\n",
      "Epoch 93/100\n",
      "23/23 [==============================] - 0s 7ms/step - loss: 0.0086 - val_loss: 0.0733\n",
      "Epoch 94/100\n",
      "23/23 [==============================] - 0s 6ms/step - loss: 0.0085 - val_loss: 0.0721\n",
      "Epoch 95/100\n",
      "23/23 [==============================] - 0s 5ms/step - loss: 0.0085 - val_loss: 0.0711\n",
      "Epoch 96/100\n",
      "23/23 [==============================] - 0s 7ms/step - loss: 0.0088 - val_loss: 0.0727\n",
      "Epoch 97/100\n",
      "23/23 [==============================] - 0s 6ms/step - loss: 0.0092 - val_loss: 0.0719\n",
      "Epoch 98/100\n",
      "23/23 [==============================] - 0s 6ms/step - loss: 0.0083 - val_loss: 0.0732\n",
      "Epoch 99/100\n",
      "23/23 [==============================] - 0s 6ms/step - loss: 0.0083 - val_loss: 0.0739\n",
      "Epoch 100/100\n",
      "23/23 [==============================] - 0s 5ms/step - loss: 0.0090 - val_loss: 0.0719\n"
     ]
    },
    {
     "data": {
      "text/plain": [
       "<keras.callbacks.History at 0x169e57b0dd0>"
      ]
     },
     "execution_count": 7,
     "metadata": {},
     "output_type": "execute_result"
    }
   ],
   "source": [
    "# Train the model\n",
    "model.fit(X_train, y_train, epochs=100, batch_size=32, validation_data=(X_val, y_val))\n"
   ]
  },
  {
   "cell_type": "code",
   "execution_count": 8,
   "metadata": {
    "colab": {
     "base_uri": "https://localhost:8080/"
    },
    "executionInfo": {
     "elapsed": 998,
     "status": "ok",
     "timestamp": 1686852707222,
     "user": {
      "displayName": "Dương Bảo Tâm",
      "userId": "08793744146526902568"
     },
     "user_tz": -420
    },
    "id": "j30RbOEf3eLd",
    "outputId": "b5c8b55a-08fa-4039-ec4f-6093a6060789"
   },
   "outputs": [
    {
     "name": "stdout",
     "output_type": "stream",
     "text": [
      "12/12 [==============================] - 0s 2ms/step\n"
     ]
    }
   ],
   "source": [
    "# Make predictions\n",
    "y_pred = model.predict(X_test)\n",
    "# Inverse transform the predictions\n",
    "y_pred = y_pred * pd.Series(stdt).values[0] + pd.Series(meant).values[0]"
   ]
  },
  {
   "cell_type": "code",
   "execution_count": 9,
   "metadata": {
    "colab": {
     "base_uri": "https://localhost:8080/"
    },
    "executionInfo": {
     "elapsed": 47,
     "status": "ok",
     "timestamp": 1686852707225,
     "user": {
      "displayName": "Dương Bảo Tâm",
      "userId": "08793744146526902568"
     },
     "user_tz": -420
    },
    "id": "zD8hFfaH3sXm",
    "outputId": "fd9cf120-6faf-41dc-d87a-a4381c312c8a"
   },
   "outputs": [
    {
     "name": "stdout",
     "output_type": "stream",
     "text": [
      "4/4 [==============================] - 0s 3ms/step\n"
     ]
    }
   ],
   "source": [
    "# Make predictions\n",
    "y_vpred = model.predict(X_val)\n",
    "# Inverse transform the predictions\n",
    "y_vpred = y_vpred * pd.Series(stdv).values[0] + pd.Series(meanv).values[0]"
   ]
  },
  {
   "cell_type": "code",
   "execution_count": 10,
   "metadata": {
    "colab": {
     "base_uri": "https://localhost:8080/",
     "height": 424
    },
    "executionInfo": {
     "elapsed": 51,
     "status": "ok",
     "timestamp": 1686852707232,
     "user": {
      "displayName": "Dương Bảo Tâm",
      "userId": "08793744146526902568"
     },
     "user_tz": -420
    },
    "id": "6GvbpBMF3wFz",
    "outputId": "d0ca9cfc-d438-4c0f-f79d-460963a2a4c0"
   },
   "outputs": [
    {
     "data": {
      "text/html": [
       "<div>\n",
       "<style scoped>\n",
       "    .dataframe tbody tr th:only-of-type {\n",
       "        vertical-align: middle;\n",
       "    }\n",
       "\n",
       "    .dataframe tbody tr th {\n",
       "        vertical-align: top;\n",
       "    }\n",
       "\n",
       "    .dataframe thead th {\n",
       "        text-align: right;\n",
       "    }\n",
       "</style>\n",
       "<table border=\"1\" class=\"dataframe\">\n",
       "  <thead>\n",
       "    <tr style=\"text-align: right;\">\n",
       "      <th></th>\n",
       "      <th>Price</th>\n",
       "    </tr>\n",
       "  </thead>\n",
       "  <tbody>\n",
       "    <tr>\n",
       "      <th>0</th>\n",
       "      <td>43216</td>\n",
       "    </tr>\n",
       "    <tr>\n",
       "      <th>1</th>\n",
       "      <td>44960</td>\n",
       "    </tr>\n",
       "    <tr>\n",
       "      <th>2</th>\n",
       "      <td>44429</td>\n",
       "    </tr>\n",
       "    <tr>\n",
       "      <th>3</th>\n",
       "      <td>44808</td>\n",
       "    </tr>\n",
       "    <tr>\n",
       "      <th>4</th>\n",
       "      <td>44505</td>\n",
       "    </tr>\n",
       "    <tr>\n",
       "      <th>...</th>\n",
       "      <td>...</td>\n",
       "    </tr>\n",
       "    <tr>\n",
       "      <th>1237</th>\n",
       "      <td>91700</td>\n",
       "    </tr>\n",
       "    <tr>\n",
       "      <th>1238</th>\n",
       "      <td>92600</td>\n",
       "    </tr>\n",
       "    <tr>\n",
       "      <th>1239</th>\n",
       "      <td>92800</td>\n",
       "    </tr>\n",
       "    <tr>\n",
       "      <th>1240</th>\n",
       "      <td>95000</td>\n",
       "    </tr>\n",
       "    <tr>\n",
       "      <th>1241</th>\n",
       "      <td>94200</td>\n",
       "    </tr>\n",
       "  </tbody>\n",
       "</table>\n",
       "<p>1242 rows × 1 columns</p>\n",
       "</div>"
      ],
      "text/plain": [
       "      Price\n",
       "0     43216\n",
       "1     44960\n",
       "2     44429\n",
       "3     44808\n",
       "4     44505\n",
       "...     ...\n",
       "1237  91700\n",
       "1238  92600\n",
       "1239  92800\n",
       "1240  95000\n",
       "1241  94200\n",
       "\n",
       "[1242 rows x 1 columns]"
      ]
     },
     "execution_count": 10,
     "metadata": {},
     "output_type": "execute_result"
    }
   ],
   "source": [
    "df"
   ]
  },
  {
   "cell_type": "code",
   "execution_count": 11,
   "metadata": {
    "colab": {
     "base_uri": "https://localhost:8080/"
    },
    "executionInfo": {
     "elapsed": 50,
     "status": "ok",
     "timestamp": 1686852707233,
     "user": {
      "displayName": "Dương Bảo Tâm",
      "userId": "08793744146526902568"
     },
     "user_tz": -420
    },
    "id": "Kap2YTi44Emr",
    "outputId": "e0368674-a946-4afe-f406-7e59b21f1fc8"
   },
   "outputs": [
    {
     "name": "stdout",
     "output_type": "stream",
     "text": [
      "Validation RMSE: 8264.155439352895\n",
      "Testing RMSE: 7234.111231358466\n",
      "Validation MAPE: 7.601109492873894\n",
      "Testing MAPE: 7.204572827333896\n",
      "Validation MAE: 6397.718324456522\n",
      "Testing MAE: 5650.20470891905\n"
     ]
    }
   ],
   "source": [
    "train_size = int(0.6 * len(df))\n",
    "test_size = int(0.3 * len(df))\n",
    "val_size = len(df) - train_size - test_size\n",
    "\n",
    "train_data = df[:train_size]\n",
    "test_data = df[train_size:train_size+test_size]\n",
    "val_data = df[train_size+test_size:]\n",
    "# re make predictions on the testing set\n",
    "x_test = np.array(test_data.index).reshape(-1, 1)\n",
    "y_test = np.array(test_data['Price'])\n",
    "# re make predictions on the validate set\n",
    "x_val = np.array(val_data.index).reshape(-1, 1)\n",
    "y_val = np.array(val_data['Price'])\n",
    "train_data = df[:train_size]\n",
    "test_data = df[train_size:train_size+test_size]\n",
    "val_data = df[train_size+test_size:]\n",
    "# calculate the RMSE\n",
    "valid_rmse = np.sqrt(np.mean((y_vpred - y_val)**2))\n",
    "test_rmse = np.sqrt(np.mean((y_pred - y_test)**2))\n",
    "print('Validation RMSE:', valid_rmse)\n",
    "print('Testing RMSE:', test_rmse)\n",
    "\n",
    "# calculate the MAPE\n",
    "valid_mape = np.mean(np.abs((y_val - y_vpred) / y_val)) * 100\n",
    "test_mape = np.mean(np.abs((y_test - y_pred) / y_test)) * 100\n",
    "print(\"Validation MAPE:\", valid_mape)\n",
    "print(\"Testing MAPE:\", test_mape)\n",
    "\n",
    "# calculate the MAE\n",
    "valid_mae = np.mean(np.abs(y_vpred - y_val))\n",
    "test_mae = np.mean(np.abs(y_pred - y_test))\n",
    "print(\"Validation MAE:\", valid_mae)\n",
    "print(\"Testing MAE:\", test_mae)"
   ]
  },
  {
   "cell_type": "code",
   "execution_count": 12,
   "metadata": {
    "colab": {
     "base_uri": "https://localhost:8080/",
     "height": 430
    },
    "executionInfo": {
     "elapsed": 49,
     "status": "ok",
     "timestamp": 1686852707235,
     "user": {
      "displayName": "Dương Bảo Tâm",
      "userId": "08793744146526902568"
     },
     "user_tz": -420
    },
    "id": "dd8GpZQ69LJI",
    "outputId": "2d33de4b-a419-4652-bd7f-8cab23874d46"
   },
   "outputs": [
    {
     "data": {
      "image/png": "[encoded data removed]",
      "text/plain": [
       "<Figure size 640x480 with 1 Axes>"
      ]
     },
     "metadata": {},
     "output_type": "display_data"
    }
   ],
   "source": [
    "# ploting the actual values and predicted values\n",
    "plt.plot(train_data.index, train_data['Price'])\n",
    "plt.plot(test_data.index, test_data['Price'])\n",
    "plt.plot(val_data.index, val_data['Price'])\n",
    "plt.plot(test_data.index[-len(y_pred):], y_pred)\n",
    "plt.plot(val_data.index[-len(y_vpred):], y_vpred)\n",
    "plt.legend(['Train', 'Test','Validate', 'Predictions_test','Predictions_validate'])\n",
    "plt.show()"
   ]
  },
  {
   "cell_type": "code",
   "execution_count": 13,
   "metadata": {
    "colab": {
     "base_uri": "https://localhost:8080/"
    },
    "executionInfo": {
     "elapsed": 49,
     "status": "ok",
     "timestamp": 1686852707237,
     "user": {
      "displayName": "Dương Bảo Tâm",
      "userId": "08793744146526902568"
     },
     "user_tz": -420
    },
    "id": "IFQBwxui4NGd",
    "outputId": "359d5160-cd98-4d2c-ab94-c598b87a54ac"
   },
   "outputs": [
    {
     "data": {
      "text/plain": [
       "array([75000, 75100, 76500, 76500, 75000, 73500, 73500, 73000, 73100,\n",
       "       76700, 79800, 81000, 80000, 85000, 85000, 80000, 78500, 77000,\n",
       "       77300, 77400, 78200, 78800, 79500, 79700, 79200, 79000, 78700,\n",
       "       79300, 79100, 78900, 79100, 80000, 80700, 80000, 82600, 82800,\n",
       "       84000, 84000, 86900, 87300, 85100, 84800, 85800, 87300, 89400,\n",
       "       90000, 93000, 93000, 89900, 91900, 89100, 90600, 93000, 96000,\n",
       "       92000, 94200, 93000, 94500, 93500, 92500, 93000, 92400, 93000,\n",
       "       93800, 94200, 93000, 93300, 93500, 92800, 93500, 93000, 93200,\n",
       "       90900, 91000, 91900, 92200, 93000, 92100, 91500, 91000, 91400,\n",
       "       91000, 89000, 85100, 86500, 89000, 90700, 89000, 91000, 91800,\n",
       "       92300, 92700, 91400, 92800, 92000, 92100, 91200, 90000, 89000,\n",
       "       88200, 88300, 88200, 88400, 88400, 88000, 88500, 88300, 87500,\n",
       "       87900, 88300, 89400, 90000, 90500, 88500, 89800, 93000, 92300,\n",
       "       92000, 91000, 92800, 91700, 92600, 92800, 95000, 94200],\n",
       "      dtype=int64)"
      ]
     },
     "execution_count": 13,
     "metadata": {},
     "output_type": "execute_result"
    }
   ],
   "source": [
    "y_val"
   ]
  },
  {
   "cell_type": "code",
   "execution_count": 14,
   "metadata": {
    "colab": {
     "base_uri": "https://localhost:8080/"
    },
    "executionInfo": {
     "elapsed": 47,
     "status": "ok",
     "timestamp": 1686852707238,
     "user": {
      "displayName": "Dương Bảo Tâm",
      "userId": "08793744146526902568"
     },
     "user_tz": -420
    },
    "id": "vrX7jwUR5dtR",
    "outputId": "30ee7c74-2bef-4411-de23-31f87348f885"
   },
   "outputs": [
    {
     "data": {
      "text/plain": [
       "array([[76012.37 ],\n",
       "       [79231.42 ],\n",
       "       [81334.945],\n",
       "       [81178.84 ],\n",
       "       [84273.08 ],\n",
       "       [86258.734],\n",
       "       [81389.12 ],\n",
       "       [77719.58 ],\n",
       "       [77583.65 ],\n",
       "       [78519.21 ],\n",
       "       [77824.195],\n",
       "       [77103.44 ],\n",
       "       [77496.3  ],\n",
       "       [79253.96 ],\n",
       "       [80150.055],\n",
       "       [79941.94 ],\n",
       "       [79284.85 ],\n",
       "       [79027.42 ],\n",
       "       [79354.67 ],\n",
       "       [79375.33 ],\n",
       "       [78883.516],\n",
       "       [79182.734],\n",
       "       [80060.56 ],\n",
       "       [80713.74 ],\n",
       "       [80796.9  ],\n",
       "       [82059.516],\n",
       "       [83291.72 ],\n",
       "       [83321.01 ],\n",
       "       [84374.57 ],\n",
       "       [86320.875],\n",
       "       [87859.266],\n",
       "       [86329.67 ],\n",
       "       [84522.14 ],\n",
       "       [85896.7  ],\n",
       "       [87133.27 ],\n",
       "       [88790.98 ],\n",
       "       [89896.26 ],\n",
       "       [92345.89 ],\n",
       "       [93427.68 ],\n",
       "       [91460.49 ],\n",
       "       [90629.5  ],\n",
       "       [90725.21 ],\n",
       "       [89752.35 ],\n",
       "       [92847.9  ],\n",
       "       [94998.61 ],\n",
       "       [94107.85 ],\n",
       "       [92664.89 ],\n",
       "       [94627.88 ],\n",
       "       [95318.28 ],\n",
       "       [95060.086],\n",
       "       [92897.04 ],\n",
       "       [92732.68 ],\n",
       "       [93488.766],\n",
       "       [93533.805],\n",
       "       [94023.805],\n",
       "       [94150.71 ],\n",
       "       [93449.016],\n",
       "       [93088.5  ],\n",
       "       [93774.47 ],\n",
       "       [93683.08 ],\n",
       "       [93498.51 ],\n",
       "       [93524.86 ],\n",
       "       [93218.516],\n",
       "       [92219.18 ],\n",
       "       [90912.61 ],\n",
       "       [91970.766],\n",
       "       [92891.875],\n",
       "       [93148.96 ],\n",
       "       [92697.24 ],\n",
       "       [91393.35 ],\n",
       "       [91130.586],\n",
       "       [91743.016],\n",
       "       [91674.78 ],\n",
       "       [89916.98 ],\n",
       "       [85825.52 ],\n",
       "       [85266.82 ],\n",
       "       [87676.39 ],\n",
       "       [90013.98 ],\n",
       "       [89485.83 ],\n",
       "       [89616.78 ],\n",
       "       [92476.914],\n",
       "       [92924.37 ],\n",
       "       [93109.016],\n",
       "       [92085.93 ],\n",
       "       [92598.14 ],\n",
       "       [93248.51 ],\n",
       "       [92248.836],\n",
       "       [91651.22 ],\n",
       "       [90442.44 ],\n",
       "       [89502.555],\n",
       "       [88584.54 ],\n",
       "       [88889.984],\n",
       "       [88982.82 ],\n",
       "       [89226.54 ],\n",
       "       [89298.414],\n",
       "       [88760.02 ],\n",
       "       [88799.38 ],\n",
       "       [88577.52 ],\n",
       "       [87792.45 ],\n",
       "       [87899.914],\n",
       "       [88391.53 ],\n",
       "       [89370.05 ],\n",
       "       [89987.66 ],\n",
       "       [90304.43 ],\n",
       "       [89290.89 ],\n",
       "       [88950.75 ],\n",
       "       [92355.8  ],\n",
       "       [92787.805],\n",
       "       [91710.33 ],\n",
       "       [90960.734],\n",
       "       [92803.35 ],\n",
       "       [93656.44 ],\n",
       "       [92836.53 ],\n",
       "       [92800.49 ],\n",
       "       [94648.734]], dtype=float32)"
      ]
     },
     "execution_count": 14,
     "metadata": {},
     "output_type": "execute_result"
    }
   ],
   "source": [
    "y_vpred"
   ]
  },
  {
   "cell_type": "code",
   "execution_count": null,
   "metadata": {
    "executionInfo": {
     "elapsed": 43,
     "status": "ok",
     "timestamp": 1686852707239,
     "user": {
      "displayName": "Dương Bảo Tâm",
      "userId": "08793744146526902568"
     },
     "user_tz": -420
    },
    "id": "D7QT1tPo5eSX"
   },
   "outputs": [],
   "source": []
  },
  {
   "cell_type": "code",
   "execution_count": 15,
   "metadata": {
    "executionInfo": {
     "elapsed": 43,
     "status": "ok",
     "timestamp": 1686852707240,
     "user": {
      "displayName": "Dương Bảo Tâm",
      "userId": "08793744146526902568"
     },
     "user_tz": -420
    },
    "id": "AUsTfrKK-rCe"
   },
   "outputs": [],
   "source": []
  }
 ],
 "metadata": {
  "accelerator": "GPU",
  "colab": {
   "gpuType": "T4",
   "provenance": []
  },
  "gpuClass": "standard",
  "kernelspec": {
   "display_name": "Python 3 (ipykernel)",
   "language": "python",
   "name": "python3"
  },
  "language_info": {
   "codemirror_mode": {
    "name": "ipython",
    "version": 3
   },
   "file_extension": ".py",
   "mimetype": "text/x-python",
   "name": "python",
   "nbconvert_exporter": "python",
   "pygments_lexer": "ipython3",
   "version": "3.11.2"
  }
 },
 "nbformat": 4,
 "nbformat_minor": 1
}
