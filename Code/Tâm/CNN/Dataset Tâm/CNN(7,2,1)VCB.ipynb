{
 "cells": [
  {
   "cell_type": "code",
   "execution_count": 1,
   "metadata": {
    "executionInfo": {
     "elapsed": 3674,
     "status": "ok",
     "timestamp": 1686818442789,
     "user": {
      "displayName": "Dương Bảo Tâm",
      "userId": "08793744146526902568"
     },
     "user_tz": -420
    },
    "id": "Ut552Xmq1O8N"
   },
   "outputs": [],
   "source": [
    "import pandas as pd\n",
    "import numpy as np\n",
    "import matplotlib.pyplot as plt\n",
    "from tensorflow.keras.models import Sequential\n",
    "from tensorflow.keras.layers import Conv1D, MaxPooling1D, Flatten, Dense"
   ]
  },
  {
   "cell_type": "code",
   "execution_count": 2,
   "metadata": {
    "colab": {
     "base_uri": "https://localhost:8080/",
     "height": 424
    },
    "executionInfo": {
     "elapsed": 645,
     "status": "ok",
     "timestamp": 1686818468033,
     "user": {
      "displayName": "Dương Bảo Tâm",
      "userId": "08793744146526902568"
     },
     "user_tz": -420
    },
    "id": "gEE-U3gn1r2W",
    "outputId": "4d0f0a84-9d5c-4e0e-a203-1d26d633b5e4"
   },
   "outputs": [
    {
     "data": {
      "text/html": [
       "<div>\n",
       "<style scoped>\n",
       "    .dataframe tbody tr th:only-of-type {\n",
       "        vertical-align: middle;\n",
       "    }\n",
       "\n",
       "    .dataframe tbody tr th {\n",
       "        vertical-align: top;\n",
       "    }\n",
       "\n",
       "    .dataframe thead th {\n",
       "        text-align: right;\n",
       "    }\n",
       "</style>\n",
       "<table border=\"1\" class=\"dataframe\">\n",
       "  <thead>\n",
       "    <tr style=\"text-align: right;\">\n",
       "      <th></th>\n",
       "      <th>Price</th>\n",
       "    </tr>\n",
       "  </thead>\n",
       "  <tbody>\n",
       "    <tr>\n",
       "      <th>0</th>\n",
       "      <td>43216</td>\n",
       "    </tr>\n",
       "    <tr>\n",
       "      <th>1</th>\n",
       "      <td>44960</td>\n",
       "    </tr>\n",
       "    <tr>\n",
       "      <th>2</th>\n",
       "      <td>44429</td>\n",
       "    </tr>\n",
       "    <tr>\n",
       "      <th>3</th>\n",
       "      <td>44808</td>\n",
       "    </tr>\n",
       "    <tr>\n",
       "      <th>4</th>\n",
       "      <td>44505</td>\n",
       "    </tr>\n",
       "    <tr>\n",
       "      <th>...</th>\n",
       "      <td>...</td>\n",
       "    </tr>\n",
       "    <tr>\n",
       "      <th>1237</th>\n",
       "      <td>91700</td>\n",
       "    </tr>\n",
       "    <tr>\n",
       "      <th>1238</th>\n",
       "      <td>92600</td>\n",
       "    </tr>\n",
       "    <tr>\n",
       "      <th>1239</th>\n",
       "      <td>92800</td>\n",
       "    </tr>\n",
       "    <tr>\n",
       "      <th>1240</th>\n",
       "      <td>95000</td>\n",
       "    </tr>\n",
       "    <tr>\n",
       "      <th>1241</th>\n",
       "      <td>94200</td>\n",
       "    </tr>\n",
       "  </tbody>\n",
       "</table>\n",
       "<p>1242 rows × 1 columns</p>\n",
       "</div>"
      ],
      "text/plain": [
       "      Price\n",
       "0     43216\n",
       "1     44960\n",
       "2     44429\n",
       "3     44808\n",
       "4     44505\n",
       "...     ...\n",
       "1237  91700\n",
       "1238  92600\n",
       "1239  92800\n",
       "1240  95000\n",
       "1241  94200\n",
       "\n",
       "[1242 rows x 1 columns]"
      ]
     },
     "execution_count": 2,
     "metadata": {},
     "output_type": "execute_result"
    }
   ],
   "source": [
    "# Read dataset file\n",
    "df = pd.read_csv('VCB.csv')\n",
    "df = df[['Price']]\n",
    "df = df.dropna()\n",
    "df"
   ]
  },
  {
   "cell_type": "code",
   "execution_count": 3,
   "metadata": {
    "executionInfo": {
     "elapsed": 28,
     "status": "ok",
     "timestamp": 1686818468034,
     "user": {
      "displayName": "Dương Bảo Tâm",
      "userId": "08793744146526902568"
     },
     "user_tz": -420
    },
    "id": "oDkSuGJm2GXa"
   },
   "outputs": [],
   "source": [
    "# Split the data into training, testing, and validation sets\n",
    "train_size = int(0.7 * len(df))\n",
    "test_size = int(0.2 * len(df))\n",
    "val_size = len(df) - train_size - test_size\n",
    "\n",
    "train_data = df[:train_size]\n",
    "test_data = df[train_size:train_size+test_size]\n",
    "val_data = df[train_size+test_size:]"
   ]
  },
  {
   "cell_type": "code",
   "execution_count": 4,
   "metadata": {
    "executionInfo": {
     "elapsed": 22,
     "status": "ok",
     "timestamp": 1686818468035,
     "user": {
      "displayName": "Dương Bảo Tâm",
      "userId": "08793744146526902568"
     },
     "user_tz": -420
    },
    "id": "p-ZDchgy2SCA"
   },
   "outputs": [],
   "source": [
    "# Normalize the data\n",
    "mean = train_data.mean()\n",
    "meant = test_data.mean()\n",
    "meanv = val_data.mean()\n",
    "std = train_data.std()\n",
    "stdt = test_data.std()\n",
    "stdv = val_data.std()\n",
    "train_data = (train_data - mean) / std\n",
    "test_data = (test_data - meant) / stdt\n",
    "val_data = (val_data - meanv) / stdv"
   ]
  },
  {
   "cell_type": "code",
   "execution_count": 5,
   "metadata": {
    "executionInfo": {
     "elapsed": 18,
     "status": "ok",
     "timestamp": 1686818468036,
     "user": {
      "displayName": "Dương Bảo Tâm",
      "userId": "08793744146526902568"
     },
     "user_tz": -420
    },
    "id": "HT8OLwhF2VfJ"
   },
   "outputs": [],
   "source": [
    "# Prepare the data for CNN\n",
    "window_size = 10\n",
    "\n",
    "def create_sequences(data, window_size):\n",
    "    X = []\n",
    "    y = []\n",
    "    for i in range(len(data) - window_size):\n",
    "        X.append(data[i:i+window_size])\n",
    "        y.append(data[i+window_size])\n",
    "    return np.array(X), np.array(y)\n",
    "\n",
    "X_train, y_train = create_sequences(train_data.values, window_size)\n",
    "X_test, y_test = create_sequences(test_data.values, window_size)\n",
    "X_val, y_val = create_sequences(val_data.values, window_size)\n"
   ]
  },
  {
   "cell_type": "code",
   "execution_count": 6,
   "metadata": {
    "executionInfo": {
     "elapsed": 18,
     "status": "ok",
     "timestamp": 1686818468037,
     "user": {
      "displayName": "Dương Bảo Tâm",
      "userId": "08793744146526902568"
     },
     "user_tz": -420
    },
    "id": "zIexGZ5W3atX"
   },
   "outputs": [],
   "source": [
    "# Build the CNN model\n",
    "model = Sequential()\n",
    "model.add(Conv1D(filters=32, kernel_size=3, activation='relu', input_shape=(window_size, 1)))\n",
    "model.add(MaxPooling1D(pool_size=2))\n",
    "model.add(Flatten())\n",
    "model.add(Dense(64, activation='relu'))\n",
    "model.add(Dense(1))\n",
    "\n",
    "model.compile(optimizer='adam', loss='mse')"
   ]
  },
  {
   "cell_type": "code",
   "execution_count": 7,
   "metadata": {
    "colab": {
     "base_uri": "https://localhost:8080/"
    },
    "executionInfo": {
     "elapsed": 14836,
     "status": "ok",
     "timestamp": 1686818482856,
     "user": {
      "displayName": "Dương Bảo Tâm",
      "userId": "08793744146526902568"
     },
     "user_tz": -420
    },
    "id": "EqYPxtyA3cky",
    "outputId": "8a7001a2-013b-4cc0-cc18-a50d0a037f32"
   },
   "outputs": [
    {
     "name": "stdout",
     "output_type": "stream",
     "text": [
      "Epoch 1/100\n",
      "27/27 [==============================] - 2s 15ms/step - loss: 0.3568 - val_loss: 0.2334\n",
      "Epoch 2/100\n",
      "27/27 [==============================] - 0s 5ms/step - loss: 0.0355 - val_loss: 0.1682\n",
      "Epoch 3/100\n",
      "27/27 [==============================] - 0s 5ms/step - loss: 0.0279 - val_loss: 0.1412\n",
      "Epoch 4/100\n",
      "27/27 [==============================] - 0s 5ms/step - loss: 0.0232 - val_loss: 0.1253\n",
      "Epoch 5/100\n",
      "27/27 [==============================] - 0s 5ms/step - loss: 0.0201 - val_loss: 0.1109\n",
      "Epoch 6/100\n",
      "27/27 [==============================] - 0s 5ms/step - loss: 0.0181 - val_loss: 0.1122\n",
      "Epoch 7/100\n",
      "27/27 [==============================] - 0s 5ms/step - loss: 0.0158 - val_loss: 0.0984\n",
      "Epoch 8/100\n",
      "27/27 [==============================] - 0s 5ms/step - loss: 0.0135 - val_loss: 0.0954\n",
      "Epoch 9/100\n",
      "27/27 [==============================] - 0s 5ms/step - loss: 0.0137 - val_loss: 0.0887\n",
      "Epoch 10/100\n",
      "27/27 [==============================] - 0s 5ms/step - loss: 0.0128 - val_loss: 0.0917\n",
      "Epoch 11/100\n",
      "27/27 [==============================] - 0s 5ms/step - loss: 0.0131 - val_loss: 0.0865\n",
      "Epoch 12/100\n",
      "27/27 [==============================] - 0s 5ms/step - loss: 0.0111 - val_loss: 0.0853\n",
      "Epoch 13/100\n",
      "27/27 [==============================] - 0s 5ms/step - loss: 0.0111 - val_loss: 0.0852\n",
      "Epoch 14/100\n",
      "27/27 [==============================] - 0s 5ms/step - loss: 0.0105 - val_loss: 0.0835\n",
      "Epoch 15/100\n",
      "27/27 [==============================] - 0s 5ms/step - loss: 0.0106 - val_loss: 0.0822\n",
      "Epoch 16/100\n",
      "27/27 [==============================] - 0s 5ms/step - loss: 0.0103 - val_loss: 0.0783\n",
      "Epoch 17/100\n",
      "27/27 [==============================] - 0s 5ms/step - loss: 0.0104 - val_loss: 0.0797\n",
      "Epoch 18/100\n",
      "27/27 [==============================] - 0s 5ms/step - loss: 0.0100 - val_loss: 0.0804\n",
      "Epoch 19/100\n",
      "27/27 [==============================] - 0s 5ms/step - loss: 0.0103 - val_loss: 0.0875\n",
      "Epoch 20/100\n",
      "27/27 [==============================] - 0s 5ms/step - loss: 0.0103 - val_loss: 0.0800\n",
      "Epoch 21/100\n",
      "27/27 [==============================] - 0s 5ms/step - loss: 0.0095 - val_loss: 0.0817\n",
      "Epoch 22/100\n",
      "27/27 [==============================] - 0s 5ms/step - loss: 0.0095 - val_loss: 0.0783\n",
      "Epoch 23/100\n",
      "27/27 [==============================] - 0s 5ms/step - loss: 0.0098 - val_loss: 0.0810\n",
      "Epoch 24/100\n",
      "27/27 [==============================] - 0s 5ms/step - loss: 0.0094 - val_loss: 0.0797\n",
      "Epoch 25/100\n",
      "27/27 [==============================] - 0s 5ms/step - loss: 0.0098 - val_loss: 0.0764\n",
      "Epoch 26/100\n",
      "27/27 [==============================] - 0s 6ms/step - loss: 0.0094 - val_loss: 0.0778\n",
      "Epoch 27/100\n",
      "27/27 [==============================] - 0s 5ms/step - loss: 0.0094 - val_loss: 0.0794\n",
      "Epoch 28/100\n",
      "27/27 [==============================] - 0s 5ms/step - loss: 0.0097 - val_loss: 0.0810\n",
      "Epoch 29/100\n",
      "27/27 [==============================] - 0s 5ms/step - loss: 0.0089 - val_loss: 0.0776\n",
      "Epoch 30/100\n",
      "27/27 [==============================] - 0s 5ms/step - loss: 0.0094 - val_loss: 0.0785\n",
      "Epoch 31/100\n",
      "27/27 [==============================] - 0s 5ms/step - loss: 0.0099 - val_loss: 0.0778\n",
      "Epoch 32/100\n",
      "27/27 [==============================] - 0s 5ms/step - loss: 0.0091 - val_loss: 0.0786\n",
      "Epoch 33/100\n",
      "27/27 [==============================] - 0s 5ms/step - loss: 0.0088 - val_loss: 0.0805\n",
      "Epoch 34/100\n",
      "27/27 [==============================] - 0s 5ms/step - loss: 0.0089 - val_loss: 0.0794\n",
      "Epoch 35/100\n",
      "27/27 [==============================] - 0s 5ms/step - loss: 0.0090 - val_loss: 0.0781\n",
      "Epoch 36/100\n",
      "27/27 [==============================] - 0s 5ms/step - loss: 0.0097 - val_loss: 0.0764\n",
      "Epoch 37/100\n",
      "27/27 [==============================] - 0s 5ms/step - loss: 0.0093 - val_loss: 0.0757\n",
      "Epoch 38/100\n",
      "27/27 [==============================] - 0s 5ms/step - loss: 0.0090 - val_loss: 0.0768\n",
      "Epoch 39/100\n",
      "27/27 [==============================] - 0s 5ms/step - loss: 0.0096 - val_loss: 0.0772\n",
      "Epoch 40/100\n",
      "27/27 [==============================] - 0s 5ms/step - loss: 0.0101 - val_loss: 0.0751\n",
      "Epoch 41/100\n",
      "27/27 [==============================] - 0s 5ms/step - loss: 0.0089 - val_loss: 0.0768\n",
      "Epoch 42/100\n",
      "27/27 [==============================] - 0s 5ms/step - loss: 0.0089 - val_loss: 0.0764\n",
      "Epoch 43/100\n",
      "27/27 [==============================] - 0s 5ms/step - loss: 0.0090 - val_loss: 0.0740\n",
      "Epoch 44/100\n",
      "27/27 [==============================] - 0s 5ms/step - loss: 0.0096 - val_loss: 0.0756\n",
      "Epoch 45/100\n",
      "27/27 [==============================] - 0s 6ms/step - loss: 0.0091 - val_loss: 0.0741\n",
      "Epoch 46/100\n",
      "27/27 [==============================] - 0s 5ms/step - loss: 0.0092 - val_loss: 0.0762\n",
      "Epoch 47/100\n",
      "27/27 [==============================] - 0s 5ms/step - loss: 0.0085 - val_loss: 0.0756\n",
      "Epoch 48/100\n",
      "27/27 [==============================] - 0s 5ms/step - loss: 0.0088 - val_loss: 0.0743\n",
      "Epoch 49/100\n",
      "27/27 [==============================] - 0s 5ms/step - loss: 0.0087 - val_loss: 0.0759\n",
      "Epoch 50/100\n",
      "27/27 [==============================] - 0s 5ms/step - loss: 0.0088 - val_loss: 0.0804\n",
      "Epoch 51/100\n",
      "27/27 [==============================] - 0s 5ms/step - loss: 0.0088 - val_loss: 0.0749\n",
      "Epoch 52/100\n",
      "27/27 [==============================] - 0s 5ms/step - loss: 0.0088 - val_loss: 0.0759\n",
      "Epoch 53/100\n",
      "27/27 [==============================] - 0s 5ms/step - loss: 0.0084 - val_loss: 0.0734\n",
      "Epoch 54/100\n",
      "27/27 [==============================] - 0s 5ms/step - loss: 0.0090 - val_loss: 0.0767\n",
      "Epoch 55/100\n",
      "27/27 [==============================] - 0s 5ms/step - loss: 0.0086 - val_loss: 0.0783\n",
      "Epoch 56/100\n",
      "27/27 [==============================] - 0s 6ms/step - loss: 0.0090 - val_loss: 0.0757\n",
      "Epoch 57/100\n",
      "27/27 [==============================] - 0s 5ms/step - loss: 0.0085 - val_loss: 0.0764\n",
      "Epoch 58/100\n",
      "27/27 [==============================] - 0s 5ms/step - loss: 0.0084 - val_loss: 0.0756\n",
      "Epoch 59/100\n",
      "27/27 [==============================] - 0s 5ms/step - loss: 0.0086 - val_loss: 0.0734\n",
      "Epoch 60/100\n",
      "27/27 [==============================] - 0s 5ms/step - loss: 0.0089 - val_loss: 0.0763\n",
      "Epoch 61/100\n",
      "27/27 [==============================] - 0s 5ms/step - loss: 0.0083 - val_loss: 0.0753\n",
      "Epoch 62/100\n",
      "27/27 [==============================] - 0s 5ms/step - loss: 0.0089 - val_loss: 0.0777\n",
      "Epoch 63/100\n",
      "27/27 [==============================] - 0s 5ms/step - loss: 0.0086 - val_loss: 0.0778\n",
      "Epoch 64/100\n",
      "27/27 [==============================] - 0s 5ms/step - loss: 0.0091 - val_loss: 0.0750\n",
      "Epoch 65/100\n",
      "27/27 [==============================] - 0s 5ms/step - loss: 0.0087 - val_loss: 0.0754\n",
      "Epoch 66/100\n",
      "27/27 [==============================] - 0s 5ms/step - loss: 0.0087 - val_loss: 0.0746\n",
      "Epoch 67/100\n",
      "27/27 [==============================] - 0s 5ms/step - loss: 0.0084 - val_loss: 0.0728\n",
      "Epoch 68/100\n",
      "27/27 [==============================] - 0s 5ms/step - loss: 0.0089 - val_loss: 0.0759\n",
      "Epoch 69/100\n",
      "27/27 [==============================] - 0s 5ms/step - loss: 0.0094 - val_loss: 0.0782\n",
      "Epoch 70/100\n",
      "27/27 [==============================] - 0s 5ms/step - loss: 0.0089 - val_loss: 0.0729\n",
      "Epoch 71/100\n",
      "27/27 [==============================] - 0s 6ms/step - loss: 0.0081 - val_loss: 0.0748\n",
      "Epoch 72/100\n",
      "27/27 [==============================] - 0s 5ms/step - loss: 0.0082 - val_loss: 0.0748\n",
      "Epoch 73/100\n",
      "27/27 [==============================] - 0s 6ms/step - loss: 0.0085 - val_loss: 0.0746\n",
      "Epoch 74/100\n",
      "27/27 [==============================] - 0s 5ms/step - loss: 0.0084 - val_loss: 0.0760\n",
      "Epoch 75/100\n",
      "27/27 [==============================] - 0s 5ms/step - loss: 0.0081 - val_loss: 0.0734\n",
      "Epoch 76/100\n",
      "27/27 [==============================] - 0s 5ms/step - loss: 0.0092 - val_loss: 0.0751\n",
      "Epoch 77/100\n",
      "27/27 [==============================] - 0s 5ms/step - loss: 0.0090 - val_loss: 0.0738\n",
      "Epoch 78/100\n",
      "27/27 [==============================] - 0s 5ms/step - loss: 0.0082 - val_loss: 0.0732\n",
      "Epoch 79/100\n",
      "27/27 [==============================] - 0s 5ms/step - loss: 0.0082 - val_loss: 0.0766\n",
      "Epoch 80/100\n",
      "27/27 [==============================] - 0s 5ms/step - loss: 0.0091 - val_loss: 0.0730\n",
      "Epoch 81/100\n",
      "27/27 [==============================] - 0s 5ms/step - loss: 0.0089 - val_loss: 0.0760\n",
      "Epoch 82/100\n",
      "27/27 [==============================] - 0s 5ms/step - loss: 0.0082 - val_loss: 0.0741\n",
      "Epoch 83/100\n"
     ]
    },
    {
     "name": "stdout",
     "output_type": "stream",
     "text": [
      "27/27 [==============================] - 0s 5ms/step - loss: 0.0082 - val_loss: 0.0713\n",
      "Epoch 84/100\n",
      "27/27 [==============================] - 0s 5ms/step - loss: 0.0087 - val_loss: 0.0740\n",
      "Epoch 85/100\n",
      "27/27 [==============================] - 0s 5ms/step - loss: 0.0086 - val_loss: 0.0726\n",
      "Epoch 86/100\n",
      "27/27 [==============================] - 0s 5ms/step - loss: 0.0084 - val_loss: 0.0715\n",
      "Epoch 87/100\n",
      "27/27 [==============================] - 0s 5ms/step - loss: 0.0082 - val_loss: 0.0740\n",
      "Epoch 88/100\n",
      "27/27 [==============================] - 0s 5ms/step - loss: 0.0083 - val_loss: 0.0762\n",
      "Epoch 89/100\n",
      "27/27 [==============================] - 0s 5ms/step - loss: 0.0085 - val_loss: 0.0723\n",
      "Epoch 90/100\n",
      "27/27 [==============================] - 0s 5ms/step - loss: 0.0081 - val_loss: 0.0753\n",
      "Epoch 91/100\n",
      "27/27 [==============================] - 0s 5ms/step - loss: 0.0087 - val_loss: 0.0715\n",
      "Epoch 92/100\n",
      "27/27 [==============================] - 0s 5ms/step - loss: 0.0082 - val_loss: 0.0727\n",
      "Epoch 93/100\n",
      "27/27 [==============================] - 0s 5ms/step - loss: 0.0081 - val_loss: 0.0712\n",
      "Epoch 94/100\n",
      "27/27 [==============================] - 0s 5ms/step - loss: 0.0080 - val_loss: 0.0726\n",
      "Epoch 95/100\n",
      "27/27 [==============================] - 0s 5ms/step - loss: 0.0090 - val_loss: 0.0751\n",
      "Epoch 96/100\n",
      "27/27 [==============================] - 0s 5ms/step - loss: 0.0080 - val_loss: 0.0705\n",
      "Epoch 97/100\n",
      "27/27 [==============================] - 0s 5ms/step - loss: 0.0081 - val_loss: 0.0732\n",
      "Epoch 98/100\n",
      "27/27 [==============================] - 0s 5ms/step - loss: 0.0080 - val_loss: 0.0728\n",
      "Epoch 99/100\n",
      "27/27 [==============================] - 0s 5ms/step - loss: 0.0082 - val_loss: 0.0715\n",
      "Epoch 100/100\n",
      "27/27 [==============================] - 0s 5ms/step - loss: 0.0083 - val_loss: 0.0716\n"
     ]
    },
    {
     "data": {
      "text/plain": [
       "<keras.callbacks.History at 0x29cb23bdd10>"
      ]
     },
     "execution_count": 7,
     "metadata": {},
     "output_type": "execute_result"
    }
   ],
   "source": [
    "# Train the model\n",
    "model.fit(X_train, y_train, epochs=100, batch_size=32, validation_data=(X_val, y_val))\n"
   ]
  },
  {
   "cell_type": "code",
   "execution_count": 8,
   "metadata": {
    "colab": {
     "base_uri": "https://localhost:8080/"
    },
    "executionInfo": {
     "elapsed": 76,
     "status": "ok",
     "timestamp": 1686818482863,
     "user": {
      "displayName": "Dương Bảo Tâm",
      "userId": "08793744146526902568"
     },
     "user_tz": -420
    },
    "id": "j30RbOEf3eLd",
    "outputId": "322ca4b8-0c4a-4275-e850-5f57228ecadd"
   },
   "outputs": [
    {
     "name": "stdout",
     "output_type": "stream",
     "text": [
      "8/8 [==============================] - 0s 2ms/step\n"
     ]
    }
   ],
   "source": [
    "# Make predictions\n",
    "y_pred = model.predict(X_test)\n",
    "# Inverse transform the predictions\n",
    "y_pred = y_pred * pd.Series(stdt).values[0] + pd.Series(meant).values[0]"
   ]
  },
  {
   "cell_type": "code",
   "execution_count": 9,
   "metadata": {
    "colab": {
     "base_uri": "https://localhost:8080/"
    },
    "executionInfo": {
     "elapsed": 1503,
     "status": "ok",
     "timestamp": 1686818484313,
     "user": {
      "displayName": "Dương Bảo Tâm",
      "userId": "08793744146526902568"
     },
     "user_tz": -420
    },
    "id": "zD8hFfaH3sXm",
    "outputId": "753e39b7-f47a-4328-b788-8ba8187cdb9d"
   },
   "outputs": [
    {
     "name": "stdout",
     "output_type": "stream",
     "text": [
      "4/4 [==============================] - 0s 3ms/step\n"
     ]
    }
   ],
   "source": [
    "# Make predictions\n",
    "y_vpred = model.predict(X_val)\n",
    "# Inverse transform the predictions\n",
    "y_vpred = y_vpred * pd.Series(stdv).values[0] + pd.Series(meanv).values[0]"
   ]
  },
  {
   "cell_type": "code",
   "execution_count": 10,
   "metadata": {
    "colab": {
     "base_uri": "https://localhost:8080/",
     "height": 424
    },
    "executionInfo": {
     "elapsed": 234,
     "status": "ok",
     "timestamp": 1686818484316,
     "user": {
      "displayName": "Dương Bảo Tâm",
      "userId": "08793744146526902568"
     },
     "user_tz": -420
    },
    "id": "6GvbpBMF3wFz",
    "outputId": "ee883e94-8798-43a1-f244-368983362f22"
   },
   "outputs": [
    {
     "data": {
      "text/html": [
       "<div>\n",
       "<style scoped>\n",
       "    .dataframe tbody tr th:only-of-type {\n",
       "        vertical-align: middle;\n",
       "    }\n",
       "\n",
       "    .dataframe tbody tr th {\n",
       "        vertical-align: top;\n",
       "    }\n",
       "\n",
       "    .dataframe thead th {\n",
       "        text-align: right;\n",
       "    }\n",
       "</style>\n",
       "<table border=\"1\" class=\"dataframe\">\n",
       "  <thead>\n",
       "    <tr style=\"text-align: right;\">\n",
       "      <th></th>\n",
       "      <th>Price</th>\n",
       "    </tr>\n",
       "  </thead>\n",
       "  <tbody>\n",
       "    <tr>\n",
       "      <th>0</th>\n",
       "      <td>43216</td>\n",
       "    </tr>\n",
       "    <tr>\n",
       "      <th>1</th>\n",
       "      <td>44960</td>\n",
       "    </tr>\n",
       "    <tr>\n",
       "      <th>2</th>\n",
       "      <td>44429</td>\n",
       "    </tr>\n",
       "    <tr>\n",
       "      <th>3</th>\n",
       "      <td>44808</td>\n",
       "    </tr>\n",
       "    <tr>\n",
       "      <th>4</th>\n",
       "      <td>44505</td>\n",
       "    </tr>\n",
       "    <tr>\n",
       "      <th>...</th>\n",
       "      <td>...</td>\n",
       "    </tr>\n",
       "    <tr>\n",
       "      <th>1237</th>\n",
       "      <td>91700</td>\n",
       "    </tr>\n",
       "    <tr>\n",
       "      <th>1238</th>\n",
       "      <td>92600</td>\n",
       "    </tr>\n",
       "    <tr>\n",
       "      <th>1239</th>\n",
       "      <td>92800</td>\n",
       "    </tr>\n",
       "    <tr>\n",
       "      <th>1240</th>\n",
       "      <td>95000</td>\n",
       "    </tr>\n",
       "    <tr>\n",
       "      <th>1241</th>\n",
       "      <td>94200</td>\n",
       "    </tr>\n",
       "  </tbody>\n",
       "</table>\n",
       "<p>1242 rows × 1 columns</p>\n",
       "</div>"
      ],
      "text/plain": [
       "      Price\n",
       "0     43216\n",
       "1     44960\n",
       "2     44429\n",
       "3     44808\n",
       "4     44505\n",
       "...     ...\n",
       "1237  91700\n",
       "1238  92600\n",
       "1239  92800\n",
       "1240  95000\n",
       "1241  94200\n",
       "\n",
       "[1242 rows x 1 columns]"
      ]
     },
     "execution_count": 10,
     "metadata": {},
     "output_type": "execute_result"
    }
   ],
   "source": [
    "df"
   ]
  },
  {
   "cell_type": "code",
   "execution_count": 11,
   "metadata": {
    "colab": {
     "base_uri": "https://localhost:8080/"
    },
    "executionInfo": {
     "elapsed": 230,
     "status": "ok",
     "timestamp": 1686818484318,
     "user": {
      "displayName": "Dương Bảo Tâm",
      "userId": "08793744146526902568"
     },
     "user_tz": -420
    },
    "id": "Kap2YTi44Emr",
    "outputId": "fedbbc17-5884-41fb-8d9a-a6f386ec2c9d"
   },
   "outputs": [
    {
     "name": "stdout",
     "output_type": "stream",
     "text": [
      "Validation RMSE: 8220.36642720023\n",
      "Testing RMSE: 7875.019058537578\n",
      "Validation MAPE: 7.559596136008088\n",
      "Testing MAPE: 7.97735768426037\n",
      "Validation MAE: 6368.5345483695655\n",
      "Testing MAE: 6239.023911089133\n"
     ]
    }
   ],
   "source": [
    "train_size = int(0.7 * len(df))\n",
    "test_size = int(0.2 * len(df))\n",
    "val_size = len(df) - train_size - test_size\n",
    "\n",
    "train_data = df[:train_size]\n",
    "test_data = df[train_size:train_size+test_size]\n",
    "val_data = df[train_size+test_size:]\n",
    "# re make predictions on the testing set\n",
    "x_test = np.array(test_data.index).reshape(-1, 1)\n",
    "y_test = np.array(test_data['Price'])\n",
    "# re make predictions on the validate set\n",
    "x_val = np.array(val_data.index).reshape(-1, 1)\n",
    "y_val = np.array(val_data['Price'])\n",
    "train_data = df[:train_size]\n",
    "test_data = df[train_size:train_size+test_size]\n",
    "val_data = df[train_size+test_size:]\n",
    "# calculate the RMSE\n",
    "valid_rmse = np.sqrt(np.mean((y_vpred - y_val)**2))\n",
    "test_rmse = np.sqrt(np.mean((y_pred - y_test)**2))\n",
    "print('Validation RMSE:', valid_rmse)\n",
    "print('Testing RMSE:', test_rmse)\n",
    "\n",
    "# calculate the MAPE\n",
    "valid_mape = np.mean(np.abs((y_val - y_vpred) / y_val)) * 100\n",
    "test_mape = np.mean(np.abs((y_test - y_pred) / y_test)) * 100\n",
    "print(\"Validation MAPE:\", valid_mape)\n",
    "print(\"Testing MAPE:\", test_mape)\n",
    "\n",
    "# calculate the MAE\n",
    "valid_mae = np.mean(np.abs(y_vpred - y_val))\n",
    "test_mae = np.mean(np.abs(y_pred - y_test))\n",
    "print(\"Validation MAE:\", valid_mae)\n",
    "print(\"Testing MAE:\", test_mae)"
   ]
  },
  {
   "cell_type": "code",
   "execution_count": 12,
   "metadata": {
    "colab": {
     "base_uri": "https://localhost:8080/"
    },
    "executionInfo": {
     "elapsed": 417,
     "status": "ok",
     "timestamp": 1686819029390,
     "user": {
      "displayName": "Dương Bảo Tâm",
      "userId": "08793744146526902568"
     },
     "user_tz": -420
    },
    "id": "LzFYVdx8P5g-",
    "outputId": "cd1a6a69-d4d5-458b-ac63-6cabfe010576"
   },
   "outputs": [
    {
     "data": {
      "text/plain": [
       "array([75000, 75100, 76500, 76500, 75000, 73500, 73500, 73000, 73100,\n",
       "       76700, 79800, 81000, 80000, 85000, 85000, 80000, 78500, 77000,\n",
       "       77300, 77400, 78200, 78800, 79500, 79700, 79200, 79000, 78700,\n",
       "       79300, 79100, 78900, 79100, 80000, 80700, 80000, 82600, 82800,\n",
       "       84000, 84000, 86900, 87300, 85100, 84800, 85800, 87300, 89400,\n",
       "       90000, 93000, 93000, 89900, 91900, 89100, 90600, 93000, 96000,\n",
       "       92000, 94200, 93000, 94500, 93500, 92500, 93000, 92400, 93000,\n",
       "       93800, 94200, 93000, 93300, 93500, 92800, 93500, 93000, 93200,\n",
       "       90900, 91000, 91900, 92200, 93000, 92100, 91500, 91000, 91400,\n",
       "       91000, 89000, 85100, 86500, 89000, 90700, 89000, 91000, 91800,\n",
       "       92300, 92700, 91400, 92800, 92000, 92100, 91200, 90000, 89000,\n",
       "       88200, 88300, 88200, 88400, 88400, 88000, 88500, 88300, 87500,\n",
       "       87900, 88300, 89400, 90000, 90500, 88500, 89800, 93000, 92300,\n",
       "       92000, 91000, 92800, 91700, 92600, 92800, 95000, 94200],\n",
       "      dtype=int64)"
      ]
     },
     "execution_count": 12,
     "metadata": {},
     "output_type": "execute_result"
    }
   ],
   "source": [
    "y_val"
   ]
  },
  {
   "cell_type": "code",
   "execution_count": 13,
   "metadata": {
    "colab": {
     "base_uri": "https://localhost:8080/"
    },
    "executionInfo": {
     "elapsed": 21,
     "status": "ok",
     "timestamp": 1686819054036,
     "user": {
      "displayName": "Dương Bảo Tâm",
      "userId": "08793744146526902568"
     },
     "user_tz": -420
    },
    "id": "9lLSKSBIQAJC",
    "outputId": "e020b575-e051-4484-edb6-9a6b397577ba"
   },
   "outputs": [
    {
     "data": {
      "text/plain": [
       "array([[75025.72 ],\n",
       "       [78926.875],\n",
       "       [81085.17 ],\n",
       "       [80626.945],\n",
       "       [82772.01 ],\n",
       "       [85568.05 ],\n",
       "       [82225.14 ],\n",
       "       [78600.56 ],\n",
       "       [77826.94 ],\n",
       "       [78228.98 ],\n",
       "       [77811.61 ],\n",
       "       [77174.74 ],\n",
       "       [78663.84 ],\n",
       "       [79823.73 ],\n",
       "       [80153.33 ],\n",
       "       [79799.555],\n",
       "       [79174.664],\n",
       "       [79039.68 ],\n",
       "       [79262.805],\n",
       "       [79314.76 ],\n",
       "       [78894.37 ],\n",
       "       [79071.35 ],\n",
       "       [79877.625],\n",
       "       [80755.51 ],\n",
       "       [80538.984],\n",
       "       [81180.805],\n",
       "       [83008.96 ],\n",
       "       [83429.42 ],\n",
       "       [84358.266],\n",
       "       [85793.87 ],\n",
       "       [87365.695],\n",
       "       [86338.016],\n",
       "       [84254.8  ],\n",
       "       [85507.92 ],\n",
       "       [87398.8  ],\n",
       "       [89034.31 ],\n",
       "       [89888.67 ],\n",
       "       [91912.19 ],\n",
       "       [92828.8  ],\n",
       "       [91185.32 ],\n",
       "       [90607.64 ],\n",
       "       [90699.15 ],\n",
       "       [89890.54 ],\n",
       "       [93387.2  ],\n",
       "       [94652.69 ],\n",
       "       [93761.1  ],\n",
       "       [92298.89 ],\n",
       "       [94336.75 ],\n",
       "       [94882.93 ],\n",
       "       [94669.26 ],\n",
       "       [92451.57 ],\n",
       "       [92297.79 ],\n",
       "       [93150.766],\n",
       "       [93079.65 ],\n",
       "       [93915.38 ],\n",
       "       [94157.52 ],\n",
       "       [93632.26 ],\n",
       "       [93080.29 ],\n",
       "       [93743.49 ],\n",
       "       [93462.805],\n",
       "       [93339.555],\n",
       "       [93361.19 ],\n",
       "       [93094.48 ],\n",
       "       [92003.01 ],\n",
       "       [90587.59 ],\n",
       "       [92000.91 ],\n",
       "       [92771.15 ],\n",
       "       [93100.03 ],\n",
       "       [92551.79 ],\n",
       "       [91396.734],\n",
       "       [91196.016],\n",
       "       [91474.95 ],\n",
       "       [91546.016],\n",
       "       [89606.52 ],\n",
       "       [85581.66 ],\n",
       "       [84723.01 ],\n",
       "       [89344.39 ],\n",
       "       [91187.85 ],\n",
       "       [89905.95 ],\n",
       "       [89036.734],\n",
       "       [92096.24 ],\n",
       "       [92954.58 ],\n",
       "       [92759.94 ],\n",
       "       [91652.15 ],\n",
       "       [92361.16 ],\n",
       "       [93227.58 ],\n",
       "       [92290.13 ],\n",
       "       [91491.05 ],\n",
       "       [90129.4  ],\n",
       "       [89216.87 ],\n",
       "       [88519.31 ],\n",
       "       [88231.13 ],\n",
       "       [88360.6  ],\n",
       "       [88230.57 ],\n",
       "       [88195.83 ],\n",
       "       [87817.27 ],\n",
       "       [88033.234],\n",
       "       [88413.484],\n",
       "       [87757.35 ],\n",
       "       [87475.695],\n",
       "       [88301.26 ],\n",
       "       [89384.28 ],\n",
       "       [90118.54 ],\n",
       "       [90294.305],\n",
       "       [89062.26 ],\n",
       "       [88957.53 ],\n",
       "       [92298.72 ],\n",
       "       [92838.95 ],\n",
       "       [91888.92 ],\n",
       "       [90661.336],\n",
       "       [92484.76 ],\n",
       "       [93522.41 ],\n",
       "       [92470.16 ],\n",
       "       [92880.84 ],\n",
       "       [94474.22 ]], dtype=float32)"
      ]
     },
     "execution_count": 13,
     "metadata": {},
     "output_type": "execute_result"
    }
   ],
   "source": [
    "y_vpred"
   ]
  },
  {
   "cell_type": "code",
   "execution_count": 14,
   "metadata": {
    "colab": {
     "base_uri": "https://localhost:8080/",
     "height": 430
    },
    "executionInfo": {
     "elapsed": 233,
     "status": "ok",
     "timestamp": 1686818484328,
     "user": {
      "displayName": "Dương Bảo Tâm",
      "userId": "08793744146526902568"
     },
     "user_tz": -420
    },
    "id": "dd8GpZQ69LJI",
    "outputId": "eda2e9ad-ff41-4441-94bf-1b52ecb2d793"
   },
   "outputs": [
    {
     "data": {
      "image/png": "[encoded data removed]",
      "text/plain": [
       "<Figure size 640x480 with 1 Axes>"
      ]
     },
     "metadata": {},
     "output_type": "display_data"
    }
   ],
   "source": [
    "# ploting the actual values and predicted values\n",
    "plt.plot(train_data.index, train_data['Price'])\n",
    "plt.plot(test_data.index, test_data['Price'])\n",
    "plt.plot(val_data.index, val_data['Price'])\n",
    "plt.plot(test_data.index[-len(y_pred):], y_pred)\n",
    "plt.plot(val_data.index[-len(y_vpred):], y_vpred)\n",
    "plt.legend(['Train', 'Test','Validate', 'Predictions_test','Predictions_validate'])\n",
    "plt.show()"
   ]
  },
  {
   "cell_type": "code",
   "execution_count": 15,
   "metadata": {
    "colab": {
     "base_uri": "https://localhost:8080/"
    },
    "executionInfo": {
     "elapsed": 234,
     "status": "ok",
     "timestamp": 1686818484344,
     "user": {
      "displayName": "Dương Bảo Tâm",
      "userId": "08793744146526902568"
     },
     "user_tz": -420
    },
    "id": "IFQBwxui4NGd",
    "outputId": "145ec49c-a9e1-4043-c5b2-eff475430517"
   },
   "outputs": [
    {
     "data": {
      "text/plain": [
       "array([75000, 75100, 76500, 76500, 75000, 73500, 73500, 73000, 73100,\n",
       "       76700, 79800, 81000, 80000, 85000, 85000, 80000, 78500, 77000,\n",
       "       77300, 77400, 78200, 78800, 79500, 79700, 79200, 79000, 78700,\n",
       "       79300, 79100, 78900, 79100, 80000, 80700, 80000, 82600, 82800,\n",
       "       84000, 84000, 86900, 87300, 85100, 84800, 85800, 87300, 89400,\n",
       "       90000, 93000, 93000, 89900, 91900, 89100, 90600, 93000, 96000,\n",
       "       92000, 94200, 93000, 94500, 93500, 92500, 93000, 92400, 93000,\n",
       "       93800, 94200, 93000, 93300, 93500, 92800, 93500, 93000, 93200,\n",
       "       90900, 91000, 91900, 92200, 93000, 92100, 91500, 91000, 91400,\n",
       "       91000, 89000, 85100, 86500, 89000, 90700, 89000, 91000, 91800,\n",
       "       92300, 92700, 91400, 92800, 92000, 92100, 91200, 90000, 89000,\n",
       "       88200, 88300, 88200, 88400, 88400, 88000, 88500, 88300, 87500,\n",
       "       87900, 88300, 89400, 90000, 90500, 88500, 89800, 93000, 92300,\n",
       "       92000, 91000, 92800, 91700, 92600, 92800, 95000, 94200],\n",
       "      dtype=int64)"
      ]
     },
     "execution_count": 15,
     "metadata": {},
     "output_type": "execute_result"
    }
   ],
   "source": [
    "y_val"
   ]
  },
  {
   "cell_type": "code",
   "execution_count": 16,
   "metadata": {
    "colab": {
     "base_uri": "https://localhost:8080/"
    },
    "executionInfo": {
     "elapsed": 223,
     "status": "ok",
     "timestamp": 1686818484346,
     "user": {
      "displayName": "Dương Bảo Tâm",
      "userId": "08793744146526902568"
     },
     "user_tz": -420
    },
    "id": "vrX7jwUR5dtR",
    "outputId": "bcbd2591-82e1-4ff6-a1cc-984e4a3f9ff6"
   },
   "outputs": [
    {
     "data": {
      "text/plain": [
       "array([[75025.72 ],\n",
       "       [78926.875],\n",
       "       [81085.17 ],\n",
       "       [80626.945],\n",
       "       [82772.01 ],\n",
       "       [85568.05 ],\n",
       "       [82225.14 ],\n",
       "       [78600.56 ],\n",
       "       [77826.94 ],\n",
       "       [78228.98 ],\n",
       "       [77811.61 ],\n",
       "       [77174.74 ],\n",
       "       [78663.84 ],\n",
       "       [79823.73 ],\n",
       "       [80153.33 ],\n",
       "       [79799.555],\n",
       "       [79174.664],\n",
       "       [79039.68 ],\n",
       "       [79262.805],\n",
       "       [79314.76 ],\n",
       "       [78894.37 ],\n",
       "       [79071.35 ],\n",
       "       [79877.625],\n",
       "       [80755.51 ],\n",
       "       [80538.984],\n",
       "       [81180.805],\n",
       "       [83008.96 ],\n",
       "       [83429.42 ],\n",
       "       [84358.266],\n",
       "       [85793.87 ],\n",
       "       [87365.695],\n",
       "       [86338.016],\n",
       "       [84254.8  ],\n",
       "       [85507.92 ],\n",
       "       [87398.8  ],\n",
       "       [89034.31 ],\n",
       "       [89888.67 ],\n",
       "       [91912.19 ],\n",
       "       [92828.8  ],\n",
       "       [91185.32 ],\n",
       "       [90607.64 ],\n",
       "       [90699.15 ],\n",
       "       [89890.54 ],\n",
       "       [93387.2  ],\n",
       "       [94652.69 ],\n",
       "       [93761.1  ],\n",
       "       [92298.89 ],\n",
       "       [94336.75 ],\n",
       "       [94882.93 ],\n",
       "       [94669.26 ],\n",
       "       [92451.57 ],\n",
       "       [92297.79 ],\n",
       "       [93150.766],\n",
       "       [93079.65 ],\n",
       "       [93915.38 ],\n",
       "       [94157.52 ],\n",
       "       [93632.26 ],\n",
       "       [93080.29 ],\n",
       "       [93743.49 ],\n",
       "       [93462.805],\n",
       "       [93339.555],\n",
       "       [93361.19 ],\n",
       "       [93094.48 ],\n",
       "       [92003.01 ],\n",
       "       [90587.59 ],\n",
       "       [92000.91 ],\n",
       "       [92771.15 ],\n",
       "       [93100.03 ],\n",
       "       [92551.79 ],\n",
       "       [91396.734],\n",
       "       [91196.016],\n",
       "       [91474.95 ],\n",
       "       [91546.016],\n",
       "       [89606.52 ],\n",
       "       [85581.66 ],\n",
       "       [84723.01 ],\n",
       "       [89344.39 ],\n",
       "       [91187.85 ],\n",
       "       [89905.95 ],\n",
       "       [89036.734],\n",
       "       [92096.24 ],\n",
       "       [92954.58 ],\n",
       "       [92759.94 ],\n",
       "       [91652.15 ],\n",
       "       [92361.16 ],\n",
       "       [93227.58 ],\n",
       "       [92290.13 ],\n",
       "       [91491.05 ],\n",
       "       [90129.4  ],\n",
       "       [89216.87 ],\n",
       "       [88519.31 ],\n",
       "       [88231.13 ],\n",
       "       [88360.6  ],\n",
       "       [88230.57 ],\n",
       "       [88195.83 ],\n",
       "       [87817.27 ],\n",
       "       [88033.234],\n",
       "       [88413.484],\n",
       "       [87757.35 ],\n",
       "       [87475.695],\n",
       "       [88301.26 ],\n",
       "       [89384.28 ],\n",
       "       [90118.54 ],\n",
       "       [90294.305],\n",
       "       [89062.26 ],\n",
       "       [88957.53 ],\n",
       "       [92298.72 ],\n",
       "       [92838.95 ],\n",
       "       [91888.92 ],\n",
       "       [90661.336],\n",
       "       [92484.76 ],\n",
       "       [93522.41 ],\n",
       "       [92470.16 ],\n",
       "       [92880.84 ],\n",
       "       [94474.22 ]], dtype=float32)"
      ]
     },
     "execution_count": 16,
     "metadata": {},
     "output_type": "execute_result"
    }
   ],
   "source": [
    "y_vpred"
   ]
  },
  {
   "cell_type": "code",
   "execution_count": null,
   "metadata": {},
   "outputs": [],
   "source": []
  }
 ],
 "metadata": {
  "accelerator": "GPU",
  "colab": {
   "gpuType": "T4",
   "provenance": []
  },
  "gpuClass": "standard",
  "kernelspec": {
   "display_name": "Python 3 (ipykernel)",
   "language": "python",
   "name": "python3"
  },
  "language_info": {
   "codemirror_mode": {
    "name": "ipython",
    "version": 3
   },
   "file_extension": ".py",
   "mimetype": "text/x-python",
   "name": "python",
   "nbconvert_exporter": "python",
   "pygments_lexer": "ipython3",
   "version": "3.11.2"
  }
 },
 "nbformat": 4,
 "nbformat_minor": 1
}
