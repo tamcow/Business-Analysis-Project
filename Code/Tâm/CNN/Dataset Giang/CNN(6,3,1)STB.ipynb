{
 "cells": [
  {
   "cell_type": "code",
   "execution_count": 1,
   "metadata": {
    "executionInfo": {
     "elapsed": 2755,
     "status": "ok",
     "timestamp": 1686852654166,
     "user": {
      "displayName": "Dương Bảo Tâm",
      "userId": "08793744146526902568"
     },
     "user_tz": -420
    },
    "id": "Ut552Xmq1O8N"
   },
   "outputs": [],
   "source": [
    "import pandas as pd\n",
    "import numpy as np\n",
    "import matplotlib.pyplot as plt\n",
    "from tensorflow.keras.models import Sequential\n",
    "from tensorflow.keras.layers import Conv1D, MaxPooling1D, Flatten, Dense"
   ]
  },
  {
   "cell_type": "code",
   "execution_count": 2,
   "metadata": {
    "colab": {
     "base_uri": "https://localhost:8080/",
     "height": 424
    },
    "executionInfo": {
     "elapsed": 1736,
     "status": "ok",
     "timestamp": 1686852680244,
     "user": {
      "displayName": "Dương Bảo Tâm",
      "userId": "08793744146526902568"
     },
     "user_tz": -420
    },
    "id": "gEE-U3gn1r2W",
    "outputId": "c8db3e7b-e4d6-46ca-e8ee-2efcbdefcc0a"
   },
   "outputs": [
    {
     "data": {
      "text/html": [
       "<div>\n",
       "<style scoped>\n",
       "    .dataframe tbody tr th:only-of-type {\n",
       "        vertical-align: middle;\n",
       "    }\n",
       "\n",
       "    .dataframe tbody tr th {\n",
       "        vertical-align: top;\n",
       "    }\n",
       "\n",
       "    .dataframe thead th {\n",
       "        text-align: right;\n",
       "    }\n",
       "</style>\n",
       "<table border=\"1\" class=\"dataframe\">\n",
       "  <thead>\n",
       "    <tr style=\"text-align: right;\">\n",
       "      <th></th>\n",
       "      <th>Price</th>\n",
       "    </tr>\n",
       "  </thead>\n",
       "  <tbody>\n",
       "    <tr>\n",
       "      <th>0</th>\n",
       "      <td>11750</td>\n",
       "    </tr>\n",
       "    <tr>\n",
       "      <th>1</th>\n",
       "      <td>12550</td>\n",
       "    </tr>\n",
       "    <tr>\n",
       "      <th>2</th>\n",
       "      <td>12900</td>\n",
       "    </tr>\n",
       "    <tr>\n",
       "      <th>3</th>\n",
       "      <td>13300</td>\n",
       "    </tr>\n",
       "    <tr>\n",
       "      <th>4</th>\n",
       "      <td>13000</td>\n",
       "    </tr>\n",
       "    <tr>\n",
       "      <th>...</th>\n",
       "      <td>...</td>\n",
       "    </tr>\n",
       "    <tr>\n",
       "      <th>1237</th>\n",
       "      <td>27000</td>\n",
       "    </tr>\n",
       "    <tr>\n",
       "      <th>1238</th>\n",
       "      <td>27400</td>\n",
       "    </tr>\n",
       "    <tr>\n",
       "      <th>1239</th>\n",
       "      <td>27000</td>\n",
       "    </tr>\n",
       "    <tr>\n",
       "      <th>1240</th>\n",
       "      <td>27200</td>\n",
       "    </tr>\n",
       "    <tr>\n",
       "      <th>1241</th>\n",
       "      <td>27850</td>\n",
       "    </tr>\n",
       "  </tbody>\n",
       "</table>\n",
       "<p>1242 rows × 1 columns</p>\n",
       "</div>"
      ],
      "text/plain": [
       "      Price\n",
       "0     11750\n",
       "1     12550\n",
       "2     12900\n",
       "3     13300\n",
       "4     13000\n",
       "...     ...\n",
       "1237  27000\n",
       "1238  27400\n",
       "1239  27000\n",
       "1240  27200\n",
       "1241  27850\n",
       "\n",
       "[1242 rows x 1 columns]"
      ]
     },
     "execution_count": 2,
     "metadata": {},
     "output_type": "execute_result"
    }
   ],
   "source": [
    "# Read dataset file\n",
    "df = pd.read_csv('STB.csv')\n",
    "df = df[['Price']]\n",
    "df = df.dropna()\n",
    "df"
   ]
  },
  {
   "cell_type": "code",
   "execution_count": 3,
   "metadata": {
    "executionInfo": {
     "elapsed": 10,
     "status": "ok",
     "timestamp": 1686852680245,
     "user": {
      "displayName": "Dương Bảo Tâm",
      "userId": "08793744146526902568"
     },
     "user_tz": -420
    },
    "id": "oDkSuGJm2GXa"
   },
   "outputs": [],
   "source": [
    "# Split the data into training, testing, and validation sets\n",
    "train_size = int(0.6 * len(df))\n",
    "test_size = int(0.3 * len(df))\n",
    "val_size = len(df) - train_size - test_size\n",
    "\n",
    "train_data = df[:train_size]\n",
    "test_data = df[train_size:train_size+test_size]\n",
    "val_data = df[train_size+test_size:]"
   ]
  },
  {
   "cell_type": "code",
   "execution_count": 4,
   "metadata": {
    "executionInfo": {
     "elapsed": 9,
     "status": "ok",
     "timestamp": 1686852680245,
     "user": {
      "displayName": "Dương Bảo Tâm",
      "userId": "08793744146526902568"
     },
     "user_tz": -420
    },
    "id": "p-ZDchgy2SCA"
   },
   "outputs": [],
   "source": [
    "# Normalize the data\n",
    "mean = train_data.mean()\n",
    "meant = test_data.mean()\n",
    "meanv = val_data.mean()\n",
    "std = train_data.std()\n",
    "stdt = test_data.std()\n",
    "stdv = val_data.std()\n",
    "train_data = (train_data - mean) / std\n",
    "test_data = (test_data - meant) / stdt\n",
    "val_data = (val_data - meanv) / stdv"
   ]
  },
  {
   "cell_type": "code",
   "execution_count": 5,
   "metadata": {
    "executionInfo": {
     "elapsed": 9,
     "status": "ok",
     "timestamp": 1686852680246,
     "user": {
      "displayName": "Dương Bảo Tâm",
      "userId": "08793744146526902568"
     },
     "user_tz": -420
    },
    "id": "HT8OLwhF2VfJ"
   },
   "outputs": [],
   "source": [
    "# Prepare the data for CNN\n",
    "window_size = 10\n",
    "\n",
    "def create_sequences(data, window_size):\n",
    "    X = []\n",
    "    y = []\n",
    "    for i in range(len(data) - window_size):\n",
    "        X.append(data[i:i+window_size])\n",
    "        y.append(data[i+window_size])\n",
    "    return np.array(X), np.array(y)\n",
    "\n",
    "X_train, y_train = create_sequences(train_data.values, window_size)\n",
    "X_test, y_test = create_sequences(test_data.values, window_size)\n",
    "X_val, y_val = create_sequences(val_data.values, window_size)\n"
   ]
  },
  {
   "cell_type": "code",
   "execution_count": 6,
   "metadata": {
    "executionInfo": {
     "elapsed": 6562,
     "status": "ok",
     "timestamp": 1686852686800,
     "user": {
      "displayName": "Dương Bảo Tâm",
      "userId": "08793744146526902568"
     },
     "user_tz": -420
    },
    "id": "zIexGZ5W3atX"
   },
   "outputs": [],
   "source": [
    "# Build the CNN model\n",
    "model = Sequential()\n",
    "model.add(Conv1D(filters=32, kernel_size=3, activation='relu', input_shape=(window_size, 1)))\n",
    "model.add(MaxPooling1D(pool_size=2))\n",
    "model.add(Flatten())\n",
    "model.add(Dense(64, activation='relu'))\n",
    "model.add(Dense(1))\n",
    "\n",
    "model.compile(optimizer='adam', loss='mse')"
   ]
  },
  {
   "cell_type": "code",
   "execution_count": 7,
   "metadata": {
    "colab": {
     "base_uri": "https://localhost:8080/"
    },
    "executionInfo": {
     "elapsed": 19460,
     "status": "ok",
     "timestamp": 1686852706246,
     "user": {
      "displayName": "Dương Bảo Tâm",
      "userId": "08793744146526902568"
     },
     "user_tz": -420
    },
    "id": "EqYPxtyA3cky",
    "outputId": "9bf6ad3f-4f20-4342-8de3-1485032ac49e"
   },
   "outputs": [
    {
     "name": "stdout",
     "output_type": "stream",
     "text": [
      "Epoch 1/100\n",
      "23/23 [==============================] - 2s 19ms/step - loss: 0.2781 - val_loss: 0.2513\n",
      "Epoch 2/100\n",
      "23/23 [==============================] - 0s 7ms/step - loss: 0.0386 - val_loss: 0.1395\n",
      "Epoch 3/100\n",
      "23/23 [==============================] - 0s 6ms/step - loss: 0.0266 - val_loss: 0.1189\n",
      "Epoch 4/100\n",
      "23/23 [==============================] - 0s 6ms/step - loss: 0.0221 - val_loss: 0.1109\n",
      "Epoch 5/100\n",
      "23/23 [==============================] - 0s 6ms/step - loss: 0.0201 - val_loss: 0.0927\n",
      "Epoch 6/100\n",
      "23/23 [==============================] - 0s 7ms/step - loss: 0.0203 - val_loss: 0.0867\n",
      "Epoch 7/100\n",
      "23/23 [==============================] - 0s 6ms/step - loss: 0.0205 - val_loss: 0.0954\n",
      "Epoch 8/100\n",
      "23/23 [==============================] - 0s 6ms/step - loss: 0.0165 - val_loss: 0.0777\n",
      "Epoch 9/100\n",
      "23/23 [==============================] - 0s 6ms/step - loss: 0.0158 - val_loss: 0.0852\n",
      "Epoch 10/100\n",
      "23/23 [==============================] - 0s 8ms/step - loss: 0.0155 - val_loss: 0.0824\n",
      "Epoch 11/100\n",
      "23/23 [==============================] - 0s 6ms/step - loss: 0.0150 - val_loss: 0.0784\n",
      "Epoch 12/100\n",
      "23/23 [==============================] - 0s 6ms/step - loss: 0.0135 - val_loss: 0.0803\n",
      "Epoch 13/100\n",
      "23/23 [==============================] - 0s 6ms/step - loss: 0.0171 - val_loss: 0.0840\n",
      "Epoch 14/100\n",
      "23/23 [==============================] - 0s 6ms/step - loss: 0.0151 - val_loss: 0.0798\n",
      "Epoch 15/100\n",
      "23/23 [==============================] - 0s 6ms/step - loss: 0.0145 - val_loss: 0.0787\n",
      "Epoch 16/100\n",
      "23/23 [==============================] - 0s 6ms/step - loss: 0.0126 - val_loss: 0.0775\n",
      "Epoch 17/100\n",
      "23/23 [==============================] - 0s 6ms/step - loss: 0.0134 - val_loss: 0.0797\n",
      "Epoch 18/100\n",
      "23/23 [==============================] - 0s 7ms/step - loss: 0.0150 - val_loss: 0.0820\n",
      "Epoch 19/100\n",
      "23/23 [==============================] - 0s 6ms/step - loss: 0.0128 - val_loss: 0.0764\n",
      "Epoch 20/100\n",
      "23/23 [==============================] - 0s 6ms/step - loss: 0.0132 - val_loss: 0.0817\n",
      "Epoch 21/100\n",
      "23/23 [==============================] - 0s 6ms/step - loss: 0.0125 - val_loss: 0.0795\n",
      "Epoch 22/100\n",
      "23/23 [==============================] - 0s 6ms/step - loss: 0.0120 - val_loss: 0.0764\n",
      "Epoch 23/100\n",
      "23/23 [==============================] - 0s 5ms/step - loss: 0.0124 - val_loss: 0.0740\n",
      "Epoch 24/100\n",
      "23/23 [==============================] - 0s 6ms/step - loss: 0.0118 - val_loss: 0.0861\n",
      "Epoch 25/100\n",
      "23/23 [==============================] - 0s 5ms/step - loss: 0.0127 - val_loss: 0.0800\n",
      "Epoch 26/100\n",
      "23/23 [==============================] - 0s 6ms/step - loss: 0.0117 - val_loss: 0.0778\n",
      "Epoch 27/100\n",
      "23/23 [==============================] - 0s 7ms/step - loss: 0.0117 - val_loss: 0.0775\n",
      "Epoch 28/100\n",
      "23/23 [==============================] - 0s 6ms/step - loss: 0.0123 - val_loss: 0.0807\n",
      "Epoch 29/100\n",
      "23/23 [==============================] - 0s 6ms/step - loss: 0.0124 - val_loss: 0.0765\n",
      "Epoch 30/100\n",
      "23/23 [==============================] - 0s 6ms/step - loss: 0.0111 - val_loss: 0.0800\n",
      "Epoch 31/100\n",
      "23/23 [==============================] - 0s 5ms/step - loss: 0.0126 - val_loss: 0.0738\n",
      "Epoch 32/100\n",
      "23/23 [==============================] - 0s 6ms/step - loss: 0.0135 - val_loss: 0.0751\n",
      "Epoch 33/100\n",
      "23/23 [==============================] - 0s 5ms/step - loss: 0.0117 - val_loss: 0.0828\n",
      "Epoch 34/100\n",
      "23/23 [==============================] - 0s 5ms/step - loss: 0.0146 - val_loss: 0.0759\n",
      "Epoch 35/100\n",
      "23/23 [==============================] - 0s 5ms/step - loss: 0.0147 - val_loss: 0.0882\n",
      "Epoch 36/100\n",
      "23/23 [==============================] - 0s 6ms/step - loss: 0.0131 - val_loss: 0.0759\n",
      "Epoch 37/100\n",
      "23/23 [==============================] - 0s 5ms/step - loss: 0.0118 - val_loss: 0.0771\n",
      "Epoch 38/100\n",
      "23/23 [==============================] - 0s 5ms/step - loss: 0.0108 - val_loss: 0.0739\n",
      "Epoch 39/100\n",
      "23/23 [==============================] - 0s 6ms/step - loss: 0.0129 - val_loss: 0.0823\n",
      "Epoch 40/100\n",
      "23/23 [==============================] - 0s 5ms/step - loss: 0.0107 - val_loss: 0.0753\n",
      "Epoch 41/100\n",
      "23/23 [==============================] - 0s 6ms/step - loss: 0.0115 - val_loss: 0.0756\n",
      "Epoch 42/100\n",
      "23/23 [==============================] - 0s 5ms/step - loss: 0.0110 - val_loss: 0.0732\n",
      "Epoch 43/100\n",
      "23/23 [==============================] - 0s 5ms/step - loss: 0.0109 - val_loss: 0.0771\n",
      "Epoch 44/100\n",
      "23/23 [==============================] - 0s 6ms/step - loss: 0.0106 - val_loss: 0.0783\n",
      "Epoch 45/100\n",
      "23/23 [==============================] - 0s 6ms/step - loss: 0.0111 - val_loss: 0.0806\n",
      "Epoch 46/100\n",
      "23/23 [==============================] - 0s 6ms/step - loss: 0.0117 - val_loss: 0.0802\n",
      "Epoch 47/100\n",
      "23/23 [==============================] - 0s 6ms/step - loss: 0.0109 - val_loss: 0.0742\n",
      "Epoch 48/100\n",
      "23/23 [==============================] - 0s 6ms/step - loss: 0.0124 - val_loss: 0.0731\n",
      "Epoch 49/100\n",
      "23/23 [==============================] - 0s 7ms/step - loss: 0.0115 - val_loss: 0.0788\n",
      "Epoch 50/100\n",
      "23/23 [==============================] - 0s 5ms/step - loss: 0.0114 - val_loss: 0.0764\n",
      "Epoch 51/100\n",
      "23/23 [==============================] - 0s 5ms/step - loss: 0.0100 - val_loss: 0.0750\n",
      "Epoch 52/100\n",
      "23/23 [==============================] - 0s 7ms/step - loss: 0.0100 - val_loss: 0.0793\n",
      "Epoch 53/100\n",
      "23/23 [==============================] - 0s 5ms/step - loss: 0.0101 - val_loss: 0.0741\n",
      "Epoch 54/100\n",
      "23/23 [==============================] - 0s 5ms/step - loss: 0.0137 - val_loss: 0.0694\n",
      "Epoch 55/100\n",
      "23/23 [==============================] - 0s 5ms/step - loss: 0.0102 - val_loss: 0.0758\n",
      "Epoch 56/100\n",
      "23/23 [==============================] - 0s 6ms/step - loss: 0.0103 - val_loss: 0.0728\n",
      "Epoch 57/100\n",
      "23/23 [==============================] - 0s 5ms/step - loss: 0.0093 - val_loss: 0.0729\n",
      "Epoch 58/100\n",
      "23/23 [==============================] - 0s 6ms/step - loss: 0.0092 - val_loss: 0.0729\n",
      "Epoch 59/100\n",
      "23/23 [==============================] - 0s 5ms/step - loss: 0.0107 - val_loss: 0.0766\n",
      "Epoch 60/100\n",
      "23/23 [==============================] - 0s 7ms/step - loss: 0.0097 - val_loss: 0.0708\n",
      "Epoch 61/100\n",
      "23/23 [==============================] - 0s 6ms/step - loss: 0.0099 - val_loss: 0.0723\n",
      "Epoch 62/100\n",
      "23/23 [==============================] - 0s 5ms/step - loss: 0.0098 - val_loss: 0.0715\n",
      "Epoch 63/100\n",
      "23/23 [==============================] - 0s 5ms/step - loss: 0.0095 - val_loss: 0.0744\n",
      "Epoch 64/100\n",
      "23/23 [==============================] - 0s 5ms/step - loss: 0.0101 - val_loss: 0.0753\n",
      "Epoch 65/100\n",
      "23/23 [==============================] - 0s 6ms/step - loss: 0.0115 - val_loss: 0.0754\n",
      "Epoch 66/100\n",
      "23/23 [==============================] - 0s 6ms/step - loss: 0.0092 - val_loss: 0.0739\n",
      "Epoch 67/100\n",
      "23/23 [==============================] - 0s 5ms/step - loss: 0.0103 - val_loss: 0.0739\n",
      "Epoch 68/100\n",
      "23/23 [==============================] - 0s 5ms/step - loss: 0.0097 - val_loss: 0.0707\n",
      "Epoch 69/100\n",
      "23/23 [==============================] - 0s 5ms/step - loss: 0.0098 - val_loss: 0.0723\n",
      "Epoch 70/100\n",
      "23/23 [==============================] - 0s 5ms/step - loss: 0.0092 - val_loss: 0.0726\n",
      "Epoch 71/100\n",
      "23/23 [==============================] - 0s 6ms/step - loss: 0.0093 - val_loss: 0.0713\n",
      "Epoch 72/100\n",
      "23/23 [==============================] - 0s 5ms/step - loss: 0.0089 - val_loss: 0.0712\n",
      "Epoch 73/100\n",
      "23/23 [==============================] - 0s 5ms/step - loss: 0.0090 - val_loss: 0.0721\n",
      "Epoch 74/100\n",
      "23/23 [==============================] - 0s 5ms/step - loss: 0.0092 - val_loss: 0.0719\n",
      "Epoch 75/100\n",
      "23/23 [==============================] - 0s 5ms/step - loss: 0.0101 - val_loss: 0.0701\n",
      "Epoch 76/100\n",
      "23/23 [==============================] - 0s 5ms/step - loss: 0.0094 - val_loss: 0.0816\n",
      "Epoch 77/100\n",
      "23/23 [==============================] - 0s 6ms/step - loss: 0.0109 - val_loss: 0.0746\n",
      "Epoch 78/100\n",
      "23/23 [==============================] - 0s 7ms/step - loss: 0.0092 - val_loss: 0.0744\n",
      "Epoch 79/100\n",
      "23/23 [==============================] - 0s 5ms/step - loss: 0.0089 - val_loss: 0.0718\n",
      "Epoch 80/100\n",
      "23/23 [==============================] - 0s 5ms/step - loss: 0.0103 - val_loss: 0.0742\n",
      "Epoch 81/100\n",
      "23/23 [==============================] - 0s 5ms/step - loss: 0.0089 - val_loss: 0.0688\n",
      "Epoch 82/100\n",
      "23/23 [==============================] - 0s 5ms/step - loss: 0.0094 - val_loss: 0.0738\n",
      "Epoch 83/100\n"
     ]
    },
    {
     "name": "stdout",
     "output_type": "stream",
     "text": [
      "23/23 [==============================] - 0s 5ms/step - loss: 0.0097 - val_loss: 0.0717\n",
      "Epoch 84/100\n",
      "23/23 [==============================] - 0s 5ms/step - loss: 0.0118 - val_loss: 0.0746\n",
      "Epoch 85/100\n",
      "23/23 [==============================] - 0s 6ms/step - loss: 0.0099 - val_loss: 0.0731\n",
      "Epoch 86/100\n",
      "23/23 [==============================] - 0s 5ms/step - loss: 0.0088 - val_loss: 0.0737\n",
      "Epoch 87/100\n",
      "23/23 [==============================] - 0s 5ms/step - loss: 0.0095 - val_loss: 0.0749\n",
      "Epoch 88/100\n",
      "23/23 [==============================] - 0s 5ms/step - loss: 0.0118 - val_loss: 0.0718\n",
      "Epoch 89/100\n",
      "23/23 [==============================] - 0s 5ms/step - loss: 0.0204 - val_loss: 0.0727\n",
      "Epoch 90/100\n",
      "23/23 [==============================] - 0s 5ms/step - loss: 0.0162 - val_loss: 0.0729\n",
      "Epoch 91/100\n",
      "23/23 [==============================] - 0s 6ms/step - loss: 0.0134 - val_loss: 0.0740\n",
      "Epoch 92/100\n",
      "23/23 [==============================] - 0s 6ms/step - loss: 0.0093 - val_loss: 0.0709\n",
      "Epoch 93/100\n",
      "23/23 [==============================] - 0s 7ms/step - loss: 0.0093 - val_loss: 0.0683\n",
      "Epoch 94/100\n",
      "23/23 [==============================] - 0s 6ms/step - loss: 0.0092 - val_loss: 0.0761\n",
      "Epoch 95/100\n",
      "23/23 [==============================] - 0s 6ms/step - loss: 0.0103 - val_loss: 0.0764\n",
      "Epoch 96/100\n",
      "23/23 [==============================] - 0s 6ms/step - loss: 0.0108 - val_loss: 0.0692\n",
      "Epoch 97/100\n",
      "23/23 [==============================] - 0s 6ms/step - loss: 0.0089 - val_loss: 0.0695\n",
      "Epoch 98/100\n",
      "23/23 [==============================] - 0s 5ms/step - loss: 0.0102 - val_loss: 0.0748\n",
      "Epoch 99/100\n",
      "23/23 [==============================] - 0s 5ms/step - loss: 0.0102 - val_loss: 0.0712\n",
      "Epoch 100/100\n",
      "23/23 [==============================] - 0s 5ms/step - loss: 0.0104 - val_loss: 0.0720\n"
     ]
    },
    {
     "data": {
      "text/plain": [
       "<keras.callbacks.History at 0x2c9d69032d0>"
      ]
     },
     "execution_count": 7,
     "metadata": {},
     "output_type": "execute_result"
    }
   ],
   "source": [
    "# Train the model\n",
    "model.fit(X_train, y_train, epochs=100, batch_size=32, validation_data=(X_val, y_val))\n"
   ]
  },
  {
   "cell_type": "code",
   "execution_count": 8,
   "metadata": {
    "colab": {
     "base_uri": "https://localhost:8080/"
    },
    "executionInfo": {
     "elapsed": 998,
     "status": "ok",
     "timestamp": 1686852707222,
     "user": {
      "displayName": "Dương Bảo Tâm",
      "userId": "08793744146526902568"
     },
     "user_tz": -420
    },
    "id": "j30RbOEf3eLd",
    "outputId": "b5c8b55a-08fa-4039-ec4f-6093a6060789"
   },
   "outputs": [
    {
     "name": "stdout",
     "output_type": "stream",
     "text": [
      "12/12 [==============================] - 0s 2ms/step\n"
     ]
    }
   ],
   "source": [
    "# Make predictions\n",
    "y_pred = model.predict(X_test)\n",
    "# Inverse transform the predictions\n",
    "y_pred = y_pred * pd.Series(stdt).values[0] + pd.Series(meant).values[0]"
   ]
  },
  {
   "cell_type": "code",
   "execution_count": 9,
   "metadata": {
    "colab": {
     "base_uri": "https://localhost:8080/"
    },
    "executionInfo": {
     "elapsed": 47,
     "status": "ok",
     "timestamp": 1686852707225,
     "user": {
      "displayName": "Dương Bảo Tâm",
      "userId": "08793744146526902568"
     },
     "user_tz": -420
    },
    "id": "zD8hFfaH3sXm",
    "outputId": "fd9cf120-6faf-41dc-d87a-a4381c312c8a"
   },
   "outputs": [
    {
     "name": "stdout",
     "output_type": "stream",
     "text": [
      "4/4 [==============================] - 0s 4ms/step\n"
     ]
    }
   ],
   "source": [
    "# Make predictions\n",
    "y_vpred = model.predict(X_val)\n",
    "# Inverse transform the predictions\n",
    "y_vpred = y_vpred * pd.Series(stdv).values[0] + pd.Series(meanv).values[0]"
   ]
  },
  {
   "cell_type": "code",
   "execution_count": 10,
   "metadata": {
    "colab": {
     "base_uri": "https://localhost:8080/",
     "height": 424
    },
    "executionInfo": {
     "elapsed": 51,
     "status": "ok",
     "timestamp": 1686852707232,
     "user": {
      "displayName": "Dương Bảo Tâm",
      "userId": "08793744146526902568"
     },
     "user_tz": -420
    },
    "id": "6GvbpBMF3wFz",
    "outputId": "d0ca9cfc-d438-4c0f-f79d-460963a2a4c0"
   },
   "outputs": [
    {
     "data": {
      "text/html": [
       "<div>\n",
       "<style scoped>\n",
       "    .dataframe tbody tr th:only-of-type {\n",
       "        vertical-align: middle;\n",
       "    }\n",
       "\n",
       "    .dataframe tbody tr th {\n",
       "        vertical-align: top;\n",
       "    }\n",
       "\n",
       "    .dataframe thead th {\n",
       "        text-align: right;\n",
       "    }\n",
       "</style>\n",
       "<table border=\"1\" class=\"dataframe\">\n",
       "  <thead>\n",
       "    <tr style=\"text-align: right;\">\n",
       "      <th></th>\n",
       "      <th>Price</th>\n",
       "    </tr>\n",
       "  </thead>\n",
       "  <tbody>\n",
       "    <tr>\n",
       "      <th>0</th>\n",
       "      <td>11750</td>\n",
       "    </tr>\n",
       "    <tr>\n",
       "      <th>1</th>\n",
       "      <td>12550</td>\n",
       "    </tr>\n",
       "    <tr>\n",
       "      <th>2</th>\n",
       "      <td>12900</td>\n",
       "    </tr>\n",
       "    <tr>\n",
       "      <th>3</th>\n",
       "      <td>13300</td>\n",
       "    </tr>\n",
       "    <tr>\n",
       "      <th>4</th>\n",
       "      <td>13000</td>\n",
       "    </tr>\n",
       "    <tr>\n",
       "      <th>...</th>\n",
       "      <td>...</td>\n",
       "    </tr>\n",
       "    <tr>\n",
       "      <th>1237</th>\n",
       "      <td>27000</td>\n",
       "    </tr>\n",
       "    <tr>\n",
       "      <th>1238</th>\n",
       "      <td>27400</td>\n",
       "    </tr>\n",
       "    <tr>\n",
       "      <th>1239</th>\n",
       "      <td>27000</td>\n",
       "    </tr>\n",
       "    <tr>\n",
       "      <th>1240</th>\n",
       "      <td>27200</td>\n",
       "    </tr>\n",
       "    <tr>\n",
       "      <th>1241</th>\n",
       "      <td>27850</td>\n",
       "    </tr>\n",
       "  </tbody>\n",
       "</table>\n",
       "<p>1242 rows × 1 columns</p>\n",
       "</div>"
      ],
      "text/plain": [
       "      Price\n",
       "0     11750\n",
       "1     12550\n",
       "2     12900\n",
       "3     13300\n",
       "4     13000\n",
       "...     ...\n",
       "1237  27000\n",
       "1238  27400\n",
       "1239  27000\n",
       "1240  27200\n",
       "1241  27850\n",
       "\n",
       "[1242 rows x 1 columns]"
      ]
     },
     "execution_count": 10,
     "metadata": {},
     "output_type": "execute_result"
    }
   ],
   "source": [
    "df"
   ]
  },
  {
   "cell_type": "code",
   "execution_count": 11,
   "metadata": {
    "colab": {
     "base_uri": "https://localhost:8080/"
    },
    "executionInfo": {
     "elapsed": 50,
     "status": "ok",
     "timestamp": 1686852707233,
     "user": {
      "displayName": "Dương Bảo Tâm",
      "userId": "08793744146526902568"
     },
     "user_tz": -420
    },
    "id": "Kap2YTi44Emr",
    "outputId": "e0368674-a946-4afe-f406-7e59b21f1fc8"
   },
   "outputs": [
    {
     "name": "stdout",
     "output_type": "stream",
     "text": [
      "Validation RMSE: 3246.4811813544834\n",
      "Testing RMSE: 6984.165795402376\n",
      "Validation MAPE: 10.868866338532742\n",
      "Testing MAPE: 22.75827587091843\n",
      "Validation MAE: 2376.306625\n",
      "Testing MAE: 5609.695324073945\n"
     ]
    }
   ],
   "source": [
    "train_size = int(0.6 * len(df))\n",
    "test_size = int(0.3 * len(df))\n",
    "val_size = len(df) - train_size - test_size\n",
    "\n",
    "train_data = df[:train_size]\n",
    "test_data = df[train_size:train_size+test_size]\n",
    "val_data = df[train_size+test_size:]\n",
    "# re make predictions on the testing set\n",
    "x_test = np.array(test_data.index).reshape(-1, 1)\n",
    "y_test = np.array(test_data['Price'])\n",
    "# re make predictions on the validate set\n",
    "x_val = np.array(val_data.index).reshape(-1, 1)\n",
    "y_val = np.array(val_data['Price'])\n",
    "train_data = df[:train_size]\n",
    "test_data = df[train_size:train_size+test_size]\n",
    "val_data = df[train_size+test_size:]\n",
    "# calculate the RMSE\n",
    "valid_rmse = np.sqrt(np.mean((y_vpred - y_val)**2))\n",
    "test_rmse = np.sqrt(np.mean((y_pred - y_test)**2))\n",
    "print('Validation RMSE:', valid_rmse)\n",
    "print('Testing RMSE:', test_rmse)\n",
    "\n",
    "# calculate the MAPE\n",
    "valid_mape = np.mean(np.abs((y_val - y_vpred) / y_val)) * 100\n",
    "test_mape = np.mean(np.abs((y_test - y_pred) / y_test)) * 100\n",
    "print(\"Validation MAPE:\", valid_mape)\n",
    "print(\"Testing MAPE:\", test_mape)\n",
    "\n",
    "# calculate the MAE\n",
    "valid_mae = np.mean(np.abs(y_vpred - y_val))\n",
    "test_mae = np.mean(np.abs(y_pred - y_test))\n",
    "print(\"Validation MAE:\", valid_mae)\n",
    "print(\"Testing MAE:\", test_mae)"
   ]
  },
  {
   "cell_type": "code",
   "execution_count": 12,
   "metadata": {
    "colab": {
     "base_uri": "https://localhost:8080/",
     "height": 430
    },
    "executionInfo": {
     "elapsed": 49,
     "status": "ok",
     "timestamp": 1686852707235,
     "user": {
      "displayName": "Dương Bảo Tâm",
      "userId": "08793744146526902568"
     },
     "user_tz": -420
    },
    "id": "dd8GpZQ69LJI",
    "outputId": "2d33de4b-a419-4652-bd7f-8cab23874d46"
   },
   "outputs": [
    {
     "data": {
      "image/png": "[encoded data removed]",
      "text/plain": [
       "<Figure size 640x480 with 1 Axes>"
      ]
     },
     "metadata": {},
     "output_type": "display_data"
    }
   ],
   "source": [
    "# ploting the actual values and predicted values\n",
    "plt.plot(train_data.index, train_data['Price'])\n",
    "plt.plot(test_data.index, test_data['Price'])\n",
    "plt.plot(val_data.index, val_data['Price'])\n",
    "plt.plot(test_data.index[-len(y_pred):], y_pred)\n",
    "plt.plot(val_data.index[-len(y_vpred):], y_vpred)\n",
    "plt.legend(['Train', 'Test','Validate', 'Predictions_test','Predictions_validate'])\n",
    "plt.show()"
   ]
  },
  {
   "cell_type": "code",
   "execution_count": 13,
   "metadata": {
    "colab": {
     "base_uri": "https://localhost:8080/"
    },
    "executionInfo": {
     "elapsed": 49,
     "status": "ok",
     "timestamp": 1686852707237,
     "user": {
      "displayName": "Dương Bảo Tâm",
      "userId": "08793744146526902568"
     },
     "user_tz": -420
    },
    "id": "IFQBwxui4NGd",
    "outputId": "359d5160-cd98-4d2c-ab94-c598b87a54ac"
   },
   "outputs": [
    {
     "data": {
      "text/plain": [
       "array([15100, 16150, 17200, 17100, 16700, 16900, 17500, 18200, 18900,\n",
       "       19700, 19750, 20000, 19500, 20850, 22300, 20750, 20300, 21700,\n",
       "       22400, 21300, 22550, 23250, 23250, 22800, 22400, 22450, 23550,\n",
       "       23400, 23500, 21900, 22500, 22900, 22350, 22500, 23500, 23300,\n",
       "       24200, 24300, 24650, 24950, 24700, 24950, 25300, 25500, 26550,\n",
       "       26800, 26800, 26650, 25850, 27100, 25650, 26150, 26050, 25700,\n",
       "       25750, 25000, 24450, 23650, 24500, 24400, 23350, 23900, 24400,\n",
       "       25700, 25350, 24700, 25000, 24300, 23600, 23750, 25400, 25600,\n",
       "       25000, 24900, 25000, 25350, 26500, 26000, 25000, 24400, 25350,\n",
       "       24600, 25050, 24200, 24600, 24800, 25000, 25050, 25500, 25400,\n",
       "       25350, 26000, 26200, 26750, 26900, 26250, 25650, 26000, 25950,\n",
       "       25950, 26100, 26450, 25700, 25900, 25900, 25500, 25700, 25600,\n",
       "       25550, 25050, 25400, 25150, 25300, 25150, 24950, 25650, 25750,\n",
       "       26350, 26400, 26800, 27000, 27400, 27000, 27200, 27850],\n",
       "      dtype=int64)"
      ]
     },
     "execution_count": 13,
     "metadata": {},
     "output_type": "execute_result"
    }
   ],
   "source": [
    "y_val"
   ]
  },
  {
   "cell_type": "code",
   "execution_count": 14,
   "metadata": {
    "colab": {
     "base_uri": "https://localhost:8080/"
    },
    "executionInfo": {
     "elapsed": 47,
     "status": "ok",
     "timestamp": 1686852707238,
     "user": {
      "displayName": "Dương Bảo Tâm",
      "userId": "08793744146526902568"
     },
     "user_tz": -420
    },
    "id": "vrX7jwUR5dtR",
    "outputId": "30ee7c74-2bef-4411-de23-31f87348f885"
   },
   "outputs": [
    {
     "data": {
      "text/plain": [
       "array([[19426.816],\n",
       "       [19816.479],\n",
       "       [19796.123],\n",
       "       [19682.416],\n",
       "       [20309.117],\n",
       "       [22002.344],\n",
       "       [21444.26 ],\n",
       "       [20402.014],\n",
       "       [21380.91 ],\n",
       "       [21963.682],\n",
       "       [21692.332],\n",
       "       [22027.96 ],\n",
       "       [23035.758],\n",
       "       [22677.426],\n",
       "       [22828.129],\n",
       "       [22418.863],\n",
       "       [21982.203],\n",
       "       [23095.75 ],\n",
       "       [23534.014],\n",
       "       [23429.84 ],\n",
       "       [21921.354],\n",
       "       [21939.852],\n",
       "       [22615.215],\n",
       "       [22203.93 ],\n",
       "       [22398.201],\n",
       "       [23297.938],\n",
       "       [23090.59 ],\n",
       "       [23633.771],\n",
       "       [24474.484],\n",
       "       [24292.613],\n",
       "       [24885.074],\n",
       "       [24710.504],\n",
       "       [24844.545],\n",
       "       [25234.648],\n",
       "       [25348.088],\n",
       "       [26361.852],\n",
       "       [26740.863],\n",
       "       [26797.584],\n",
       "       [26740.123],\n",
       "       [26306.703],\n",
       "       [26988.295],\n",
       "       [26844.098],\n",
       "       [26001.156],\n",
       "       [26699.498],\n",
       "       [25875.293],\n",
       "       [25631.775],\n",
       "       [25065.42 ],\n",
       "       [24269.416],\n",
       "       [24110.184],\n",
       "       [24208.537],\n",
       "       [24816.06 ],\n",
       "       [23546.48 ],\n",
       "       [23394.463],\n",
       "       [24298.174],\n",
       "       [25430.27 ],\n",
       "       [25440.635],\n",
       "       [24666.969],\n",
       "       [24641.29 ],\n",
       "       [24667.049],\n",
       "       [23567.49 ],\n",
       "       [23229.117],\n",
       "       [24833.725],\n",
       "       [25840.998],\n",
       "       [25239.693],\n",
       "       [24765.127],\n",
       "       [24830.059],\n",
       "       [25123.17 ],\n",
       "       [26055.791],\n",
       "       [26208.781],\n",
       "       [25122.004],\n",
       "       [24853.525],\n",
       "       [25324.148],\n",
       "       [25353.426],\n",
       "       [24575.518],\n",
       "       [24377.92 ],\n",
       "       [24096.453],\n",
       "       [24904.238],\n",
       "       [24560.95 ],\n",
       "       [24776.361],\n",
       "       [25413.248],\n",
       "       [25476.408],\n",
       "       [25406.574],\n",
       "       [25932.314],\n",
       "       [26245.693],\n",
       "       [26642.852],\n",
       "       [26893.604],\n",
       "       [26652.49 ],\n",
       "       [26063.936],\n",
       "       [25999.643],\n",
       "       [26310.523],\n",
       "       [25999.068],\n",
       "       [26005.02 ],\n",
       "       [26327.082],\n",
       "       [26340.53 ],\n",
       "       [25943.06 ],\n",
       "       [26319.734],\n",
       "       [25941.492],\n",
       "       [25737.348],\n",
       "       [25799.152],\n",
       "       [25513.914],\n",
       "       [25392.826],\n",
       "       [25305.68 ],\n",
       "       [25610.352],\n",
       "       [25455.29 ],\n",
       "       [25392.354],\n",
       "       [25065.865],\n",
       "       [25665.031],\n",
       "       [25972.213],\n",
       "       [26400.459],\n",
       "       [26622.256],\n",
       "       [26797.545],\n",
       "       [26991.797],\n",
       "       [27219.443],\n",
       "       [27285.441],\n",
       "       [27282.35 ]], dtype=float32)"
      ]
     },
     "execution_count": 14,
     "metadata": {},
     "output_type": "execute_result"
    }
   ],
   "source": [
    "y_vpred"
   ]
  },
  {
   "cell_type": "code",
   "execution_count": null,
   "metadata": {
    "executionInfo": {
     "elapsed": 43,
     "status": "ok",
     "timestamp": 1686852707239,
     "user": {
      "displayName": "Dương Bảo Tâm",
      "userId": "08793744146526902568"
     },
     "user_tz": -420
    },
    "id": "D7QT1tPo5eSX"
   },
   "outputs": [],
   "source": []
  },
  {
   "cell_type": "code",
   "execution_count": 15,
   "metadata": {
    "executionInfo": {
     "elapsed": 43,
     "status": "ok",
     "timestamp": 1686852707240,
     "user": {
      "displayName": "Dương Bảo Tâm",
      "userId": "08793744146526902568"
     },
     "user_tz": -420
    },
    "id": "AUsTfrKK-rCe"
   },
   "outputs": [],
   "source": []
  }
 ],
 "metadata": {
  "accelerator": "GPU",
  "colab": {
   "gpuType": "T4",
   "provenance": []
  },
  "gpuClass": "standard",
  "kernelspec": {
   "display_name": "Python 3 (ipykernel)",
   "language": "python",
   "name": "python3"
  },
  "language_info": {
   "codemirror_mode": {
    "name": "ipython",
    "version": 3
   },
   "file_extension": ".py",
   "mimetype": "text/x-python",
   "name": "python",
   "nbconvert_exporter": "python",
   "pygments_lexer": "ipython3",
   "version": "3.11.2"
  }
 },
 "nbformat": 4,
 "nbformat_minor": 1
}
