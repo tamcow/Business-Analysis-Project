{
 "cells": [
  {
   "cell_type": "code",
   "execution_count": 1,
   "metadata": {
    "executionInfo": {
     "elapsed": 3674,
     "status": "ok",
     "timestamp": 1686818442789,
     "user": {
      "displayName": "Dương Bảo Tâm",
      "userId": "08793744146526902568"
     },
     "user_tz": -420
    },
    "id": "Ut552Xmq1O8N"
   },
   "outputs": [],
   "source": [
    "import pandas as pd\n",
    "import numpy as np\n",
    "import matplotlib.pyplot as plt\n",
    "from tensorflow.keras.models import Sequential\n",
    "from tensorflow.keras.layers import Conv1D, MaxPooling1D, Flatten, Dense"
   ]
  },
  {
   "cell_type": "code",
   "execution_count": 2,
   "metadata": {
    "colab": {
     "base_uri": "https://localhost:8080/",
     "height": 424
    },
    "executionInfo": {
     "elapsed": 645,
     "status": "ok",
     "timestamp": 1686818468033,
     "user": {
      "displayName": "Dương Bảo Tâm",
      "userId": "08793744146526902568"
     },
     "user_tz": -420
    },
    "id": "gEE-U3gn1r2W",
    "outputId": "4d0f0a84-9d5c-4e0e-a203-1d26d633b5e4"
   },
   "outputs": [
    {
     "data": {
      "text/html": [
       "<div>\n",
       "<style scoped>\n",
       "    .dataframe tbody tr th:only-of-type {\n",
       "        vertical-align: middle;\n",
       "    }\n",
       "\n",
       "    .dataframe tbody tr th {\n",
       "        vertical-align: top;\n",
       "    }\n",
       "\n",
       "    .dataframe thead th {\n",
       "        text-align: right;\n",
       "    }\n",
       "</style>\n",
       "<table border=\"1\" class=\"dataframe\">\n",
       "  <thead>\n",
       "    <tr style=\"text-align: right;\">\n",
       "      <th></th>\n",
       "      <th>Price</th>\n",
       "    </tr>\n",
       "  </thead>\n",
       "  <tbody>\n",
       "    <tr>\n",
       "      <th>0</th>\n",
       "      <td>11750</td>\n",
       "    </tr>\n",
       "    <tr>\n",
       "      <th>1</th>\n",
       "      <td>12550</td>\n",
       "    </tr>\n",
       "    <tr>\n",
       "      <th>2</th>\n",
       "      <td>12900</td>\n",
       "    </tr>\n",
       "    <tr>\n",
       "      <th>3</th>\n",
       "      <td>13300</td>\n",
       "    </tr>\n",
       "    <tr>\n",
       "      <th>4</th>\n",
       "      <td>13000</td>\n",
       "    </tr>\n",
       "    <tr>\n",
       "      <th>...</th>\n",
       "      <td>...</td>\n",
       "    </tr>\n",
       "    <tr>\n",
       "      <th>1237</th>\n",
       "      <td>27000</td>\n",
       "    </tr>\n",
       "    <tr>\n",
       "      <th>1238</th>\n",
       "      <td>27400</td>\n",
       "    </tr>\n",
       "    <tr>\n",
       "      <th>1239</th>\n",
       "      <td>27000</td>\n",
       "    </tr>\n",
       "    <tr>\n",
       "      <th>1240</th>\n",
       "      <td>27200</td>\n",
       "    </tr>\n",
       "    <tr>\n",
       "      <th>1241</th>\n",
       "      <td>27850</td>\n",
       "    </tr>\n",
       "  </tbody>\n",
       "</table>\n",
       "<p>1242 rows × 1 columns</p>\n",
       "</div>"
      ],
      "text/plain": [
       "      Price\n",
       "0     11750\n",
       "1     12550\n",
       "2     12900\n",
       "3     13300\n",
       "4     13000\n",
       "...     ...\n",
       "1237  27000\n",
       "1238  27400\n",
       "1239  27000\n",
       "1240  27200\n",
       "1241  27850\n",
       "\n",
       "[1242 rows x 1 columns]"
      ]
     },
     "execution_count": 2,
     "metadata": {},
     "output_type": "execute_result"
    }
   ],
   "source": [
    "# Read dataset file\n",
    "df = pd.read_csv('STB.csv')\n",
    "df = df[['Price']]\n",
    "df = df.dropna()\n",
    "df"
   ]
  },
  {
   "cell_type": "code",
   "execution_count": 3,
   "metadata": {
    "executionInfo": {
     "elapsed": 28,
     "status": "ok",
     "timestamp": 1686818468034,
     "user": {
      "displayName": "Dương Bảo Tâm",
      "userId": "08793744146526902568"
     },
     "user_tz": -420
    },
    "id": "oDkSuGJm2GXa"
   },
   "outputs": [],
   "source": [
    "# Split the data into training, testing, and validation sets\n",
    "train_size = int(0.7 * len(df))\n",
    "test_size = int(0.2 * len(df))\n",
    "val_size = len(df) - train_size - test_size\n",
    "\n",
    "train_data = df[:train_size]\n",
    "test_data = df[train_size:train_size+test_size]\n",
    "val_data = df[train_size+test_size:]"
   ]
  },
  {
   "cell_type": "code",
   "execution_count": 4,
   "metadata": {
    "executionInfo": {
     "elapsed": 22,
     "status": "ok",
     "timestamp": 1686818468035,
     "user": {
      "displayName": "Dương Bảo Tâm",
      "userId": "08793744146526902568"
     },
     "user_tz": -420
    },
    "id": "p-ZDchgy2SCA"
   },
   "outputs": [],
   "source": [
    "# Normalize the data\n",
    "mean = train_data.mean()\n",
    "meant = test_data.mean()\n",
    "meanv = val_data.mean()\n",
    "std = train_data.std()\n",
    "stdt = test_data.std()\n",
    "stdv = val_data.std()\n",
    "train_data = (train_data - mean) / std\n",
    "test_data = (test_data - meant) / stdt\n",
    "val_data = (val_data - meanv) / stdv"
   ]
  },
  {
   "cell_type": "code",
   "execution_count": 5,
   "metadata": {
    "executionInfo": {
     "elapsed": 18,
     "status": "ok",
     "timestamp": 1686818468036,
     "user": {
      "displayName": "Dương Bảo Tâm",
      "userId": "08793744146526902568"
     },
     "user_tz": -420
    },
    "id": "HT8OLwhF2VfJ"
   },
   "outputs": [],
   "source": [
    "# Prepare the data for CNN\n",
    "window_size = 10\n",
    "\n",
    "def create_sequences(data, window_size):\n",
    "    X = []\n",
    "    y = []\n",
    "    for i in range(len(data) - window_size):\n",
    "        X.append(data[i:i+window_size])\n",
    "        y.append(data[i+window_size])\n",
    "    return np.array(X), np.array(y)\n",
    "\n",
    "X_train, y_train = create_sequences(train_data.values, window_size)\n",
    "X_test, y_test = create_sequences(test_data.values, window_size)\n",
    "X_val, y_val = create_sequences(val_data.values, window_size)\n"
   ]
  },
  {
   "cell_type": "code",
   "execution_count": 6,
   "metadata": {
    "executionInfo": {
     "elapsed": 18,
     "status": "ok",
     "timestamp": 1686818468037,
     "user": {
      "displayName": "Dương Bảo Tâm",
      "userId": "08793744146526902568"
     },
     "user_tz": -420
    },
    "id": "zIexGZ5W3atX"
   },
   "outputs": [],
   "source": [
    "# Build the CNN model\n",
    "model = Sequential()\n",
    "model.add(Conv1D(filters=32, kernel_size=3, activation='relu', input_shape=(window_size, 1)))\n",
    "model.add(MaxPooling1D(pool_size=2))\n",
    "model.add(Flatten())\n",
    "model.add(Dense(64, activation='relu'))\n",
    "model.add(Dense(1))\n",
    "\n",
    "model.compile(optimizer='adam', loss='mse')"
   ]
  },
  {
   "cell_type": "code",
   "execution_count": 7,
   "metadata": {
    "colab": {
     "base_uri": "https://localhost:8080/"
    },
    "executionInfo": {
     "elapsed": 14836,
     "status": "ok",
     "timestamp": 1686818482856,
     "user": {
      "displayName": "Dương Bảo Tâm",
      "userId": "08793744146526902568"
     },
     "user_tz": -420
    },
    "id": "EqYPxtyA3cky",
    "outputId": "8a7001a2-013b-4cc0-cc18-a50d0a037f32"
   },
   "outputs": [
    {
     "name": "stdout",
     "output_type": "stream",
     "text": [
      "Epoch 1/100\n",
      "27/27 [==============================] - 2s 15ms/step - loss: 0.1188 - val_loss: 0.1684\n",
      "Epoch 2/100\n",
      "27/27 [==============================] - 0s 5ms/step - loss: 0.0154 - val_loss: 0.1453\n",
      "Epoch 3/100\n",
      "27/27 [==============================] - 0s 5ms/step - loss: 0.0123 - val_loss: 0.1237\n",
      "Epoch 4/100\n",
      "27/27 [==============================] - 0s 5ms/step - loss: 0.0114 - val_loss: 0.1133\n",
      "Epoch 5/100\n",
      "27/27 [==============================] - 0s 5ms/step - loss: 0.0106 - val_loss: 0.1116\n",
      "Epoch 6/100\n",
      "27/27 [==============================] - 0s 6ms/step - loss: 0.0102 - val_loss: 0.1014\n",
      "Epoch 7/100\n",
      "27/27 [==============================] - 0s 5ms/step - loss: 0.0096 - val_loss: 0.1047\n",
      "Epoch 8/100\n",
      "27/27 [==============================] - 0s 5ms/step - loss: 0.0098 - val_loss: 0.0945\n",
      "Epoch 9/100\n",
      "27/27 [==============================] - 0s 5ms/step - loss: 0.0094 - val_loss: 0.0941\n",
      "Epoch 10/100\n",
      "27/27 [==============================] - 0s 5ms/step - loss: 0.0091 - val_loss: 0.0946\n",
      "Epoch 11/100\n",
      "27/27 [==============================] - 0s 5ms/step - loss: 0.0083 - val_loss: 0.0914\n",
      "Epoch 12/100\n",
      "27/27 [==============================] - 0s 5ms/step - loss: 0.0082 - val_loss: 0.0921\n",
      "Epoch 13/100\n",
      "27/27 [==============================] - 0s 5ms/step - loss: 0.0085 - val_loss: 0.0905\n",
      "Epoch 14/100\n",
      "27/27 [==============================] - 0s 5ms/step - loss: 0.0088 - val_loss: 0.0854\n",
      "Epoch 15/100\n",
      "27/27 [==============================] - 0s 5ms/step - loss: 0.0072 - val_loss: 0.0823\n",
      "Epoch 16/100\n",
      "27/27 [==============================] - 0s 5ms/step - loss: 0.0081 - val_loss: 0.0977\n",
      "Epoch 17/100\n",
      "27/27 [==============================] - 0s 6ms/step - loss: 0.0099 - val_loss: 0.0750\n",
      "Epoch 18/100\n",
      "27/27 [==============================] - 0s 6ms/step - loss: 0.0076 - val_loss: 0.0777\n",
      "Epoch 19/100\n",
      "27/27 [==============================] - 0s 5ms/step - loss: 0.0070 - val_loss: 0.0853\n",
      "Epoch 20/100\n",
      "27/27 [==============================] - 0s 6ms/step - loss: 0.0073 - val_loss: 0.0817\n",
      "Epoch 21/100\n",
      "27/27 [==============================] - 0s 5ms/step - loss: 0.0071 - val_loss: 0.0817\n",
      "Epoch 22/100\n",
      "27/27 [==============================] - 0s 5ms/step - loss: 0.0067 - val_loss: 0.0753\n",
      "Epoch 23/100\n",
      "27/27 [==============================] - 0s 6ms/step - loss: 0.0071 - val_loss: 0.0749\n",
      "Epoch 24/100\n",
      "27/27 [==============================] - 0s 5ms/step - loss: 0.0070 - val_loss: 0.0791\n",
      "Epoch 25/100\n",
      "27/27 [==============================] - 0s 5ms/step - loss: 0.0063 - val_loss: 0.0789\n",
      "Epoch 26/100\n",
      "27/27 [==============================] - 0s 6ms/step - loss: 0.0069 - val_loss: 0.0811\n",
      "Epoch 27/100\n",
      "27/27 [==============================] - 0s 6ms/step - loss: 0.0061 - val_loss: 0.0772\n",
      "Epoch 28/100\n",
      "27/27 [==============================] - 0s 6ms/step - loss: 0.0060 - val_loss: 0.0798\n",
      "Epoch 29/100\n",
      "27/27 [==============================] - 0s 5ms/step - loss: 0.0063 - val_loss: 0.0802\n",
      "Epoch 30/100\n",
      "27/27 [==============================] - 0s 6ms/step - loss: 0.0064 - val_loss: 0.0827\n",
      "Epoch 31/100\n",
      "27/27 [==============================] - 0s 5ms/step - loss: 0.0059 - val_loss: 0.0772\n",
      "Epoch 32/100\n",
      "27/27 [==============================] - 0s 5ms/step - loss: 0.0065 - val_loss: 0.0798\n",
      "Epoch 33/100\n",
      "27/27 [==============================] - 0s 5ms/step - loss: 0.0059 - val_loss: 0.0777\n",
      "Epoch 34/100\n",
      "27/27 [==============================] - 0s 5ms/step - loss: 0.0060 - val_loss: 0.0760\n",
      "Epoch 35/100\n",
      "27/27 [==============================] - 0s 5ms/step - loss: 0.0058 - val_loss: 0.0737\n",
      "Epoch 36/100\n",
      "27/27 [==============================] - 0s 5ms/step - loss: 0.0057 - val_loss: 0.0773\n",
      "Epoch 37/100\n",
      "27/27 [==============================] - 0s 6ms/step - loss: 0.0057 - val_loss: 0.0752\n",
      "Epoch 38/100\n",
      "27/27 [==============================] - 0s 5ms/step - loss: 0.0063 - val_loss: 0.0757\n",
      "Epoch 39/100\n",
      "27/27 [==============================] - 0s 5ms/step - loss: 0.0057 - val_loss: 0.0780\n",
      "Epoch 40/100\n",
      "27/27 [==============================] - 0s 5ms/step - loss: 0.0068 - val_loss: 0.0750\n",
      "Epoch 41/100\n",
      "27/27 [==============================] - 0s 6ms/step - loss: 0.0068 - val_loss: 0.0730\n",
      "Epoch 42/100\n",
      "27/27 [==============================] - 0s 5ms/step - loss: 0.0064 - val_loss: 0.0730\n",
      "Epoch 43/100\n",
      "27/27 [==============================] - 0s 5ms/step - loss: 0.0069 - val_loss: 0.0816\n",
      "Epoch 44/100\n",
      "27/27 [==============================] - 0s 5ms/step - loss: 0.0055 - val_loss: 0.0779\n",
      "Epoch 45/100\n",
      "27/27 [==============================] - 0s 5ms/step - loss: 0.0055 - val_loss: 0.0765\n",
      "Epoch 46/100\n",
      "27/27 [==============================] - 0s 5ms/step - loss: 0.0056 - val_loss: 0.0756\n",
      "Epoch 47/100\n",
      "27/27 [==============================] - 0s 6ms/step - loss: 0.0054 - val_loss: 0.0831\n",
      "Epoch 48/100\n",
      "27/27 [==============================] - 0s 5ms/step - loss: 0.0064 - val_loss: 0.0730\n",
      "Epoch 49/100\n",
      "27/27 [==============================] - 0s 5ms/step - loss: 0.0071 - val_loss: 0.0736\n",
      "Epoch 50/100\n",
      "27/27 [==============================] - 0s 5ms/step - loss: 0.0061 - val_loss: 0.0812\n",
      "Epoch 51/100\n",
      "27/27 [==============================] - 0s 5ms/step - loss: 0.0060 - val_loss: 0.0801\n",
      "Epoch 52/100\n",
      "27/27 [==============================] - 0s 5ms/step - loss: 0.0066 - val_loss: 0.0720\n",
      "Epoch 53/100\n",
      "27/27 [==============================] - 0s 5ms/step - loss: 0.0071 - val_loss: 0.0735\n",
      "Epoch 54/100\n",
      "27/27 [==============================] - 0s 5ms/step - loss: 0.0052 - val_loss: 0.0752\n",
      "Epoch 55/100\n",
      "27/27 [==============================] - 0s 5ms/step - loss: 0.0051 - val_loss: 0.0745\n",
      "Epoch 56/100\n",
      "27/27 [==============================] - 0s 5ms/step - loss: 0.0052 - val_loss: 0.0742\n",
      "Epoch 57/100\n",
      "27/27 [==============================] - 0s 5ms/step - loss: 0.0063 - val_loss: 0.0748\n",
      "Epoch 58/100\n",
      "27/27 [==============================] - 0s 5ms/step - loss: 0.0052 - val_loss: 0.0726\n",
      "Epoch 59/100\n",
      "27/27 [==============================] - 0s 5ms/step - loss: 0.0052 - val_loss: 0.0765\n",
      "Epoch 60/100\n",
      "27/27 [==============================] - 0s 4ms/step - loss: 0.0058 - val_loss: 0.0729\n",
      "Epoch 61/100\n",
      "27/27 [==============================] - 0s 5ms/step - loss: 0.0060 - val_loss: 0.0714\n",
      "Epoch 62/100\n",
      "27/27 [==============================] - 0s 5ms/step - loss: 0.0057 - val_loss: 0.0760\n",
      "Epoch 63/100\n",
      "27/27 [==============================] - 0s 5ms/step - loss: 0.0052 - val_loss: 0.0738\n",
      "Epoch 64/100\n",
      "27/27 [==============================] - 0s 5ms/step - loss: 0.0049 - val_loss: 0.0733\n",
      "Epoch 65/100\n",
      "27/27 [==============================] - 0s 5ms/step - loss: 0.0051 - val_loss: 0.0748\n",
      "Epoch 66/100\n",
      "27/27 [==============================] - 0s 5ms/step - loss: 0.0062 - val_loss: 0.0755\n",
      "Epoch 67/100\n",
      "27/27 [==============================] - 0s 6ms/step - loss: 0.0052 - val_loss: 0.0712\n",
      "Epoch 68/100\n",
      "27/27 [==============================] - 0s 5ms/step - loss: 0.0050 - val_loss: 0.0753\n",
      "Epoch 69/100\n",
      "27/27 [==============================] - 0s 5ms/step - loss: 0.0051 - val_loss: 0.0763\n",
      "Epoch 70/100\n",
      "27/27 [==============================] - 0s 5ms/step - loss: 0.0055 - val_loss: 0.0737\n",
      "Epoch 71/100\n",
      "27/27 [==============================] - 0s 5ms/step - loss: 0.0051 - val_loss: 0.0759\n",
      "Epoch 72/100\n",
      "27/27 [==============================] - 0s 5ms/step - loss: 0.0053 - val_loss: 0.0737\n",
      "Epoch 73/100\n",
      "27/27 [==============================] - 0s 5ms/step - loss: 0.0052 - val_loss: 0.0718\n",
      "Epoch 74/100\n",
      "27/27 [==============================] - 0s 5ms/step - loss: 0.0048 - val_loss: 0.0748\n",
      "Epoch 75/100\n",
      "27/27 [==============================] - 0s 5ms/step - loss: 0.0048 - val_loss: 0.0757\n",
      "Epoch 76/100\n",
      "27/27 [==============================] - 0s 5ms/step - loss: 0.0050 - val_loss: 0.0749\n",
      "Epoch 77/100\n",
      "27/27 [==============================] - 0s 5ms/step - loss: 0.0052 - val_loss: 0.0750\n",
      "Epoch 78/100\n",
      "27/27 [==============================] - 0s 5ms/step - loss: 0.0050 - val_loss: 0.0743\n",
      "Epoch 79/100\n",
      "27/27 [==============================] - 0s 5ms/step - loss: 0.0054 - val_loss: 0.0733\n",
      "Epoch 80/100\n",
      "27/27 [==============================] - 0s 5ms/step - loss: 0.0053 - val_loss: 0.0718\n",
      "Epoch 81/100\n",
      "27/27 [==============================] - 0s 5ms/step - loss: 0.0053 - val_loss: 0.0738\n",
      "Epoch 82/100\n",
      "27/27 [==============================] - 0s 5ms/step - loss: 0.0048 - val_loss: 0.0762\n",
      "Epoch 83/100\n"
     ]
    },
    {
     "name": "stdout",
     "output_type": "stream",
     "text": [
      "27/27 [==============================] - 0s 6ms/step - loss: 0.0048 - val_loss: 0.0751\n",
      "Epoch 84/100\n",
      "27/27 [==============================] - 0s 5ms/step - loss: 0.0051 - val_loss: 0.0747\n",
      "Epoch 85/100\n",
      "27/27 [==============================] - 0s 5ms/step - loss: 0.0053 - val_loss: 0.0706\n",
      "Epoch 86/100\n",
      "27/27 [==============================] - 0s 5ms/step - loss: 0.0049 - val_loss: 0.0713\n",
      "Epoch 87/100\n",
      "27/27 [==============================] - 0s 5ms/step - loss: 0.0045 - val_loss: 0.0703\n",
      "Epoch 88/100\n",
      "27/27 [==============================] - 0s 5ms/step - loss: 0.0048 - val_loss: 0.0718\n",
      "Epoch 89/100\n",
      "27/27 [==============================] - 0s 5ms/step - loss: 0.0048 - val_loss: 0.0727\n",
      "Epoch 90/100\n",
      "27/27 [==============================] - 0s 6ms/step - loss: 0.0046 - val_loss: 0.0690\n",
      "Epoch 91/100\n",
      "27/27 [==============================] - 0s 5ms/step - loss: 0.0048 - val_loss: 0.0723\n",
      "Epoch 92/100\n",
      "27/27 [==============================] - 0s 6ms/step - loss: 0.0051 - val_loss: 0.0677\n",
      "Epoch 93/100\n",
      "27/27 [==============================] - 0s 6ms/step - loss: 0.0072 - val_loss: 0.0709\n",
      "Epoch 94/100\n",
      "27/27 [==============================] - 0s 6ms/step - loss: 0.0046 - val_loss: 0.0722\n",
      "Epoch 95/100\n",
      "27/27 [==============================] - 0s 6ms/step - loss: 0.0046 - val_loss: 0.0714\n",
      "Epoch 96/100\n",
      "27/27 [==============================] - 0s 6ms/step - loss: 0.0047 - val_loss: 0.0747\n",
      "Epoch 97/100\n",
      "27/27 [==============================] - 0s 5ms/step - loss: 0.0061 - val_loss: 0.0756\n",
      "Epoch 98/100\n",
      "27/27 [==============================] - 0s 5ms/step - loss: 0.0065 - val_loss: 0.0717\n",
      "Epoch 99/100\n",
      "27/27 [==============================] - 0s 5ms/step - loss: 0.0047 - val_loss: 0.0708\n",
      "Epoch 100/100\n",
      "27/27 [==============================] - 0s 5ms/step - loss: 0.0046 - val_loss: 0.0704\n"
     ]
    },
    {
     "data": {
      "text/plain": [
       "<keras.callbacks.History at 0x200d77bfe90>"
      ]
     },
     "execution_count": 7,
     "metadata": {},
     "output_type": "execute_result"
    }
   ],
   "source": [
    "# Train the model\n",
    "model.fit(X_train, y_train, epochs=100, batch_size=32, validation_data=(X_val, y_val))\n"
   ]
  },
  {
   "cell_type": "code",
   "execution_count": 8,
   "metadata": {
    "colab": {
     "base_uri": "https://localhost:8080/"
    },
    "executionInfo": {
     "elapsed": 76,
     "status": "ok",
     "timestamp": 1686818482863,
     "user": {
      "displayName": "Dương Bảo Tâm",
      "userId": "08793744146526902568"
     },
     "user_tz": -420
    },
    "id": "j30RbOEf3eLd",
    "outputId": "322ca4b8-0c4a-4275-e850-5f57228ecadd"
   },
   "outputs": [
    {
     "name": "stdout",
     "output_type": "stream",
     "text": [
      "8/8 [==============================] - 0s 2ms/step\n"
     ]
    }
   ],
   "source": [
    "# Make predictions\n",
    "y_pred = model.predict(X_test)\n",
    "# Inverse transform the predictions\n",
    "y_pred = y_pred * pd.Series(stdt).values[0] + pd.Series(meant).values[0]"
   ]
  },
  {
   "cell_type": "code",
   "execution_count": 9,
   "metadata": {
    "colab": {
     "base_uri": "https://localhost:8080/"
    },
    "executionInfo": {
     "elapsed": 1503,
     "status": "ok",
     "timestamp": 1686818484313,
     "user": {
      "displayName": "Dương Bảo Tâm",
      "userId": "08793744146526902568"
     },
     "user_tz": -420
    },
    "id": "zD8hFfaH3sXm",
    "outputId": "753e39b7-f47a-4328-b788-8ba8187cdb9d"
   },
   "outputs": [
    {
     "name": "stdout",
     "output_type": "stream",
     "text": [
      "4/4 [==============================] - 0s 3ms/step\n"
     ]
    }
   ],
   "source": [
    "# Make predictions\n",
    "y_vpred = model.predict(X_val)\n",
    "# Inverse transform the predictions\n",
    "y_vpred = y_vpred * pd.Series(stdv).values[0] + pd.Series(meanv).values[0]"
   ]
  },
  {
   "cell_type": "code",
   "execution_count": 10,
   "metadata": {
    "colab": {
     "base_uri": "https://localhost:8080/",
     "height": 424
    },
    "executionInfo": {
     "elapsed": 234,
     "status": "ok",
     "timestamp": 1686818484316,
     "user": {
      "displayName": "Dương Bảo Tâm",
      "userId": "08793744146526902568"
     },
     "user_tz": -420
    },
    "id": "6GvbpBMF3wFz",
    "outputId": "ee883e94-8798-43a1-f244-368983362f22"
   },
   "outputs": [
    {
     "data": {
      "text/html": [
       "<div>\n",
       "<style scoped>\n",
       "    .dataframe tbody tr th:only-of-type {\n",
       "        vertical-align: middle;\n",
       "    }\n",
       "\n",
       "    .dataframe tbody tr th {\n",
       "        vertical-align: top;\n",
       "    }\n",
       "\n",
       "    .dataframe thead th {\n",
       "        text-align: right;\n",
       "    }\n",
       "</style>\n",
       "<table border=\"1\" class=\"dataframe\">\n",
       "  <thead>\n",
       "    <tr style=\"text-align: right;\">\n",
       "      <th></th>\n",
       "      <th>Price</th>\n",
       "    </tr>\n",
       "  </thead>\n",
       "  <tbody>\n",
       "    <tr>\n",
       "      <th>0</th>\n",
       "      <td>11750</td>\n",
       "    </tr>\n",
       "    <tr>\n",
       "      <th>1</th>\n",
       "      <td>12550</td>\n",
       "    </tr>\n",
       "    <tr>\n",
       "      <th>2</th>\n",
       "      <td>12900</td>\n",
       "    </tr>\n",
       "    <tr>\n",
       "      <th>3</th>\n",
       "      <td>13300</td>\n",
       "    </tr>\n",
       "    <tr>\n",
       "      <th>4</th>\n",
       "      <td>13000</td>\n",
       "    </tr>\n",
       "    <tr>\n",
       "      <th>...</th>\n",
       "      <td>...</td>\n",
       "    </tr>\n",
       "    <tr>\n",
       "      <th>1237</th>\n",
       "      <td>27000</td>\n",
       "    </tr>\n",
       "    <tr>\n",
       "      <th>1238</th>\n",
       "      <td>27400</td>\n",
       "    </tr>\n",
       "    <tr>\n",
       "      <th>1239</th>\n",
       "      <td>27000</td>\n",
       "    </tr>\n",
       "    <tr>\n",
       "      <th>1240</th>\n",
       "      <td>27200</td>\n",
       "    </tr>\n",
       "    <tr>\n",
       "      <th>1241</th>\n",
       "      <td>27850</td>\n",
       "    </tr>\n",
       "  </tbody>\n",
       "</table>\n",
       "<p>1242 rows × 1 columns</p>\n",
       "</div>"
      ],
      "text/plain": [
       "      Price\n",
       "0     11750\n",
       "1     12550\n",
       "2     12900\n",
       "3     13300\n",
       "4     13000\n",
       "...     ...\n",
       "1237  27000\n",
       "1238  27400\n",
       "1239  27000\n",
       "1240  27200\n",
       "1241  27850\n",
       "\n",
       "[1242 rows x 1 columns]"
      ]
     },
     "execution_count": 10,
     "metadata": {},
     "output_type": "execute_result"
    }
   ],
   "source": [
    "df"
   ]
  },
  {
   "cell_type": "code",
   "execution_count": 11,
   "metadata": {
    "colab": {
     "base_uri": "https://localhost:8080/"
    },
    "executionInfo": {
     "elapsed": 230,
     "status": "ok",
     "timestamp": 1686818484318,
     "user": {
      "displayName": "Dương Bảo Tâm",
      "userId": "08793744146526902568"
     },
     "user_tz": -420
    },
    "id": "Kap2YTi44Emr",
    "outputId": "fedbbc17-5884-41fb-8d9a-a6f386ec2c9d"
   },
   "outputs": [
    {
     "name": "stdout",
     "output_type": "stream",
     "text": [
      "Validation RMSE: 3230.2284299790613\n",
      "Testing RMSE: 7943.879614785134\n",
      "Validation MAPE: 10.74341047994584\n",
      "Testing MAPE: 26.729385506473946\n",
      "Validation MAE: 2338.111897146739\n",
      "Testing MAE: 6452.862396215417\n"
     ]
    }
   ],
   "source": [
    "train_size = int(0.7 * len(df))\n",
    "test_size = int(0.2 * len(df))\n",
    "val_size = len(df) - train_size - test_size\n",
    "\n",
    "train_data = df[:train_size]\n",
    "test_data = df[train_size:train_size+test_size]\n",
    "val_data = df[train_size+test_size:]\n",
    "# re make predictions on the testing set\n",
    "x_test = np.array(test_data.index).reshape(-1, 1)\n",
    "y_test = np.array(test_data['Price'])\n",
    "# re make predictions on the validate set\n",
    "x_val = np.array(val_data.index).reshape(-1, 1)\n",
    "y_val = np.array(val_data['Price'])\n",
    "train_data = df[:train_size]\n",
    "test_data = df[train_size:train_size+test_size]\n",
    "val_data = df[train_size+test_size:]\n",
    "# calculate the RMSE\n",
    "valid_rmse = np.sqrt(np.mean((y_vpred - y_val)**2))\n",
    "test_rmse = np.sqrt(np.mean((y_pred - y_test)**2))\n",
    "print('Validation RMSE:', valid_rmse)\n",
    "print('Testing RMSE:', test_rmse)\n",
    "\n",
    "# calculate the MAPE\n",
    "valid_mape = np.mean(np.abs((y_val - y_vpred) / y_val)) * 100\n",
    "test_mape = np.mean(np.abs((y_test - y_pred) / y_test)) * 100\n",
    "print(\"Validation MAPE:\", valid_mape)\n",
    "print(\"Testing MAPE:\", test_mape)\n",
    "\n",
    "# calculate the MAE\n",
    "valid_mae = np.mean(np.abs(y_vpred - y_val))\n",
    "test_mae = np.mean(np.abs(y_pred - y_test))\n",
    "print(\"Validation MAE:\", valid_mae)\n",
    "print(\"Testing MAE:\", test_mae)"
   ]
  },
  {
   "cell_type": "code",
   "execution_count": 12,
   "metadata": {
    "colab": {
     "base_uri": "https://localhost:8080/"
    },
    "executionInfo": {
     "elapsed": 417,
     "status": "ok",
     "timestamp": 1686819029390,
     "user": {
      "displayName": "Dương Bảo Tâm",
      "userId": "08793744146526902568"
     },
     "user_tz": -420
    },
    "id": "LzFYVdx8P5g-",
    "outputId": "cd1a6a69-d4d5-458b-ac63-6cabfe010576"
   },
   "outputs": [
    {
     "data": {
      "text/plain": [
       "array([15100, 16150, 17200, 17100, 16700, 16900, 17500, 18200, 18900,\n",
       "       19700, 19750, 20000, 19500, 20850, 22300, 20750, 20300, 21700,\n",
       "       22400, 21300, 22550, 23250, 23250, 22800, 22400, 22450, 23550,\n",
       "       23400, 23500, 21900, 22500, 22900, 22350, 22500, 23500, 23300,\n",
       "       24200, 24300, 24650, 24950, 24700, 24950, 25300, 25500, 26550,\n",
       "       26800, 26800, 26650, 25850, 27100, 25650, 26150, 26050, 25700,\n",
       "       25750, 25000, 24450, 23650, 24500, 24400, 23350, 23900, 24400,\n",
       "       25700, 25350, 24700, 25000, 24300, 23600, 23750, 25400, 25600,\n",
       "       25000, 24900, 25000, 25350, 26500, 26000, 25000, 24400, 25350,\n",
       "       24600, 25050, 24200, 24600, 24800, 25000, 25050, 25500, 25400,\n",
       "       25350, 26000, 26200, 26750, 26900, 26250, 25650, 26000, 25950,\n",
       "       25950, 26100, 26450, 25700, 25900, 25900, 25500, 25700, 25600,\n",
       "       25550, 25050, 25400, 25150, 25300, 25150, 24950, 25650, 25750,\n",
       "       26350, 26400, 26800, 27000, 27400, 27000, 27200, 27850],\n",
       "      dtype=int64)"
      ]
     },
     "execution_count": 12,
     "metadata": {},
     "output_type": "execute_result"
    }
   ],
   "source": [
    "y_val"
   ]
  },
  {
   "cell_type": "code",
   "execution_count": 13,
   "metadata": {
    "colab": {
     "base_uri": "https://localhost:8080/"
    },
    "executionInfo": {
     "elapsed": 21,
     "status": "ok",
     "timestamp": 1686819054036,
     "user": {
      "displayName": "Dương Bảo Tâm",
      "userId": "08793744146526902568"
     },
     "user_tz": -420
    },
    "id": "9lLSKSBIQAJC",
    "outputId": "e020b575-e051-4484-edb6-9a6b397577ba"
   },
   "outputs": [
    {
     "data": {
      "text/plain": [
       "array([[19321.625],\n",
       "       [19849.172],\n",
       "       [19890.906],\n",
       "       [19867.133],\n",
       "       [20336.367],\n",
       "       [22014.99 ],\n",
       "       [21942.752],\n",
       "       [20539.477],\n",
       "       [21763.426],\n",
       "       [21969.871],\n",
       "       [22118.686],\n",
       "       [21809.299],\n",
       "       [22965.52 ],\n",
       "       [23015.998],\n",
       "       [23015.422],\n",
       "       [21949.941],\n",
       "       [21884.48 ],\n",
       "       [23364.03 ],\n",
       "       [23470.402],\n",
       "       [23124.855],\n",
       "       [22309.16 ],\n",
       "       [22124.072],\n",
       "       [22929.875],\n",
       "       [22606.758],\n",
       "       [22124.828],\n",
       "       [23359.53 ],\n",
       "       [23436.703],\n",
       "       [23783.197],\n",
       "       [24515.4  ],\n",
       "       [24281.693],\n",
       "       [24857.082],\n",
       "       [24518.979],\n",
       "       [24530.068],\n",
       "       [24965.006],\n",
       "       [25316.57 ],\n",
       "       [26429.531],\n",
       "       [26847.447],\n",
       "       [26819.832],\n",
       "       [26722.994],\n",
       "       [26338.662],\n",
       "       [26856.656],\n",
       "       [26620.164],\n",
       "       [26086.96 ],\n",
       "       [26482.26 ],\n",
       "       [25754.914],\n",
       "       [25502.074],\n",
       "       [25262.963],\n",
       "       [24761.357],\n",
       "       [24520.342],\n",
       "       [24623.88 ],\n",
       "       [25067.553],\n",
       "       [24331.088],\n",
       "       [24152.072],\n",
       "       [24838.5  ],\n",
       "       [25585.305],\n",
       "       [25804.373],\n",
       "       [25031.73 ],\n",
       "       [24950.37 ],\n",
       "       [24788.924],\n",
       "       [23873.658],\n",
       "       [23866.95 ],\n",
       "       [25618.037],\n",
       "       [26234.338],\n",
       "       [25648.398],\n",
       "       [25026.023],\n",
       "       [25041.936],\n",
       "       [25233.195],\n",
       "       [26159.11 ],\n",
       "       [26449.426],\n",
       "       [25856.318],\n",
       "       [24965.967],\n",
       "       [25374.521],\n",
       "       [25188.244],\n",
       "       [24910.068],\n",
       "       [24826.582],\n",
       "       [24698.05 ],\n",
       "       [25056.008],\n",
       "       [24871.205],\n",
       "       [24985.047],\n",
       "       [25500.076],\n",
       "       [25552.014],\n",
       "       [25514.812],\n",
       "       [25972.184],\n",
       "       [26319.98 ],\n",
       "       [26616.69 ],\n",
       "       [26892.543],\n",
       "       [26631.29 ],\n",
       "       [26051.084],\n",
       "       [25886.22 ],\n",
       "       [26145.795],\n",
       "       [25740.922],\n",
       "       [25962.   ],\n",
       "       [26361.244],\n",
       "       [26190.658],\n",
       "       [25858.076],\n",
       "       [26086.69 ],\n",
       "       [25705.695],\n",
       "       [25488.59 ],\n",
       "       [25643.88 ],\n",
       "       [25481.166],\n",
       "       [25326.883],\n",
       "       [25226.707],\n",
       "       [25433.963],\n",
       "       [25249.195],\n",
       "       [25215.182],\n",
       "       [25030.443],\n",
       "       [25584.22 ],\n",
       "       [25979.115],\n",
       "       [26240.768],\n",
       "       [26538.082],\n",
       "       [26628.725],\n",
       "       [26994.922],\n",
       "       [27244.27 ],\n",
       "       [27200.6  ],\n",
       "       [27103.322]], dtype=float32)"
      ]
     },
     "execution_count": 13,
     "metadata": {},
     "output_type": "execute_result"
    }
   ],
   "source": [
    "y_vpred"
   ]
  },
  {
   "cell_type": "code",
   "execution_count": 14,
   "metadata": {
    "colab": {
     "base_uri": "https://localhost:8080/",
     "height": 430
    },
    "executionInfo": {
     "elapsed": 233,
     "status": "ok",
     "timestamp": 1686818484328,
     "user": {
      "displayName": "Dương Bảo Tâm",
      "userId": "08793744146526902568"
     },
     "user_tz": -420
    },
    "id": "dd8GpZQ69LJI",
    "outputId": "eda2e9ad-ff41-4441-94bf-1b52ecb2d793"
   },
   "outputs": [
    {
     "data": {
      "image/png": "[encoded data removed]",
      "text/plain": [
       "<Figure size 640x480 with 1 Axes>"
      ]
     },
     "metadata": {},
     "output_type": "display_data"
    }
   ],
   "source": [
    "# ploting the actual values and predicted values\n",
    "plt.plot(train_data.index, train_data['Price'])\n",
    "plt.plot(test_data.index, test_data['Price'])\n",
    "plt.plot(val_data.index, val_data['Price'])\n",
    "plt.plot(test_data.index[-len(y_pred):], y_pred)\n",
    "plt.plot(val_data.index[-len(y_vpred):], y_vpred)\n",
    "plt.legend(['Train', 'Test','Validate', 'Predictions_test','Predictions_validate'])\n",
    "plt.show()"
   ]
  },
  {
   "cell_type": "code",
   "execution_count": 15,
   "metadata": {
    "colab": {
     "base_uri": "https://localhost:8080/"
    },
    "executionInfo": {
     "elapsed": 234,
     "status": "ok",
     "timestamp": 1686818484344,
     "user": {
      "displayName": "Dương Bảo Tâm",
      "userId": "08793744146526902568"
     },
     "user_tz": -420
    },
    "id": "IFQBwxui4NGd",
    "outputId": "145ec49c-a9e1-4043-c5b2-eff475430517"
   },
   "outputs": [
    {
     "data": {
      "text/plain": [
       "array([15100, 16150, 17200, 17100, 16700, 16900, 17500, 18200, 18900,\n",
       "       19700, 19750, 20000, 19500, 20850, 22300, 20750, 20300, 21700,\n",
       "       22400, 21300, 22550, 23250, 23250, 22800, 22400, 22450, 23550,\n",
       "       23400, 23500, 21900, 22500, 22900, 22350, 22500, 23500, 23300,\n",
       "       24200, 24300, 24650, 24950, 24700, 24950, 25300, 25500, 26550,\n",
       "       26800, 26800, 26650, 25850, 27100, 25650, 26150, 26050, 25700,\n",
       "       25750, 25000, 24450, 23650, 24500, 24400, 23350, 23900, 24400,\n",
       "       25700, 25350, 24700, 25000, 24300, 23600, 23750, 25400, 25600,\n",
       "       25000, 24900, 25000, 25350, 26500, 26000, 25000, 24400, 25350,\n",
       "       24600, 25050, 24200, 24600, 24800, 25000, 25050, 25500, 25400,\n",
       "       25350, 26000, 26200, 26750, 26900, 26250, 25650, 26000, 25950,\n",
       "       25950, 26100, 26450, 25700, 25900, 25900, 25500, 25700, 25600,\n",
       "       25550, 25050, 25400, 25150, 25300, 25150, 24950, 25650, 25750,\n",
       "       26350, 26400, 26800, 27000, 27400, 27000, 27200, 27850],\n",
       "      dtype=int64)"
      ]
     },
     "execution_count": 15,
     "metadata": {},
     "output_type": "execute_result"
    }
   ],
   "source": [
    "y_val"
   ]
  },
  {
   "cell_type": "code",
   "execution_count": 16,
   "metadata": {
    "colab": {
     "base_uri": "https://localhost:8080/"
    },
    "executionInfo": {
     "elapsed": 223,
     "status": "ok",
     "timestamp": 1686818484346,
     "user": {
      "displayName": "Dương Bảo Tâm",
      "userId": "08793744146526902568"
     },
     "user_tz": -420
    },
    "id": "vrX7jwUR5dtR",
    "outputId": "bcbd2591-82e1-4ff6-a1cc-984e4a3f9ff6"
   },
   "outputs": [
    {
     "data": {
      "text/plain": [
       "array([[19321.625],\n",
       "       [19849.172],\n",
       "       [19890.906],\n",
       "       [19867.133],\n",
       "       [20336.367],\n",
       "       [22014.99 ],\n",
       "       [21942.752],\n",
       "       [20539.477],\n",
       "       [21763.426],\n",
       "       [21969.871],\n",
       "       [22118.686],\n",
       "       [21809.299],\n",
       "       [22965.52 ],\n",
       "       [23015.998],\n",
       "       [23015.422],\n",
       "       [21949.941],\n",
       "       [21884.48 ],\n",
       "       [23364.03 ],\n",
       "       [23470.402],\n",
       "       [23124.855],\n",
       "       [22309.16 ],\n",
       "       [22124.072],\n",
       "       [22929.875],\n",
       "       [22606.758],\n",
       "       [22124.828],\n",
       "       [23359.53 ],\n",
       "       [23436.703],\n",
       "       [23783.197],\n",
       "       [24515.4  ],\n",
       "       [24281.693],\n",
       "       [24857.082],\n",
       "       [24518.979],\n",
       "       [24530.068],\n",
       "       [24965.006],\n",
       "       [25316.57 ],\n",
       "       [26429.531],\n",
       "       [26847.447],\n",
       "       [26819.832],\n",
       "       [26722.994],\n",
       "       [26338.662],\n",
       "       [26856.656],\n",
       "       [26620.164],\n",
       "       [26086.96 ],\n",
       "       [26482.26 ],\n",
       "       [25754.914],\n",
       "       [25502.074],\n",
       "       [25262.963],\n",
       "       [24761.357],\n",
       "       [24520.342],\n",
       "       [24623.88 ],\n",
       "       [25067.553],\n",
       "       [24331.088],\n",
       "       [24152.072],\n",
       "       [24838.5  ],\n",
       "       [25585.305],\n",
       "       [25804.373],\n",
       "       [25031.73 ],\n",
       "       [24950.37 ],\n",
       "       [24788.924],\n",
       "       [23873.658],\n",
       "       [23866.95 ],\n",
       "       [25618.037],\n",
       "       [26234.338],\n",
       "       [25648.398],\n",
       "       [25026.023],\n",
       "       [25041.936],\n",
       "       [25233.195],\n",
       "       [26159.11 ],\n",
       "       [26449.426],\n",
       "       [25856.318],\n",
       "       [24965.967],\n",
       "       [25374.521],\n",
       "       [25188.244],\n",
       "       [24910.068],\n",
       "       [24826.582],\n",
       "       [24698.05 ],\n",
       "       [25056.008],\n",
       "       [24871.205],\n",
       "       [24985.047],\n",
       "       [25500.076],\n",
       "       [25552.014],\n",
       "       [25514.812],\n",
       "       [25972.184],\n",
       "       [26319.98 ],\n",
       "       [26616.69 ],\n",
       "       [26892.543],\n",
       "       [26631.29 ],\n",
       "       [26051.084],\n",
       "       [25886.22 ],\n",
       "       [26145.795],\n",
       "       [25740.922],\n",
       "       [25962.   ],\n",
       "       [26361.244],\n",
       "       [26190.658],\n",
       "       [25858.076],\n",
       "       [26086.69 ],\n",
       "       [25705.695],\n",
       "       [25488.59 ],\n",
       "       [25643.88 ],\n",
       "       [25481.166],\n",
       "       [25326.883],\n",
       "       [25226.707],\n",
       "       [25433.963],\n",
       "       [25249.195],\n",
       "       [25215.182],\n",
       "       [25030.443],\n",
       "       [25584.22 ],\n",
       "       [25979.115],\n",
       "       [26240.768],\n",
       "       [26538.082],\n",
       "       [26628.725],\n",
       "       [26994.922],\n",
       "       [27244.27 ],\n",
       "       [27200.6  ],\n",
       "       [27103.322]], dtype=float32)"
      ]
     },
     "execution_count": 16,
     "metadata": {},
     "output_type": "execute_result"
    }
   ],
   "source": [
    "y_vpred"
   ]
  },
  {
   "cell_type": "code",
   "execution_count": null,
   "metadata": {},
   "outputs": [],
   "source": []
  }
 ],
 "metadata": {
  "accelerator": "GPU",
  "colab": {
   "gpuType": "T4",
   "provenance": []
  },
  "gpuClass": "standard",
  "kernelspec": {
   "display_name": "Python 3 (ipykernel)",
   "language": "python",
   "name": "python3"
  },
  "language_info": {
   "codemirror_mode": {
    "name": "ipython",
    "version": 3
   },
   "file_extension": ".py",
   "mimetype": "text/x-python",
   "name": "python",
   "nbconvert_exporter": "python",
   "pygments_lexer": "ipython3",
   "version": "3.11.2"
  }
 },
 "nbformat": 4,
 "nbformat_minor": 1
}
