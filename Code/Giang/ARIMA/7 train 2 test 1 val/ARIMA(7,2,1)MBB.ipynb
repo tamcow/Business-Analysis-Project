{
 "cells": [
  {
   "cell_type": "code",
   "execution_count": 1,
   "id": "05d93a96",
   "metadata": {},
   "outputs": [],
   "source": [
    "import numpy as np\n",
    "import pandas as pd\n",
    "import matplotlib.pyplot as plt\n",
    "from sklearn.preprocessing import MinMaxScaler\n",
    "from sklearn.linear_model import LinearRegression"
   ]
  },
  {
   "cell_type": "code",
   "execution_count": 2,
   "id": "339b27e4",
   "metadata": {},
   "outputs": [],
   "source": [
    "# 2. Đọc file dữ liệu chứng khoán AAPL và chia train test validate theo tỉ lệ 7:1:2\n",
    "df = pd.read_csv('MBB.csv')\n",
    "df = df[['Price']]\n",
    "df = df.dropna() # Drop missing values\n",
    "df = df.reset_index(drop=True) # Reset the index\n",
    "\n",
    "# Split the data into training, testing, and validation sets\n",
    "train_size = int(0.7 * len(df))\n",
    "test_size = int(0.2 * len(df))\n",
    "val_size = len(df) - train_size - test_size\n",
    "\n",
    "train_data = df[:train_size]\n",
    "test_data = df[train_size:train_size+test_size]\n",
    "val_data = df[train_size+test_size:]"
   ]
  },
  {
   "cell_type": "code",
   "execution_count": 3,
   "id": "9b97bda0",
   "metadata": {},
   "outputs": [
    {
     "data": {
      "text/html": [
       "<div>\n",
       "<style scoped>\n",
       "    .dataframe tbody tr th:only-of-type {\n",
       "        vertical-align: middle;\n",
       "    }\n",
       "\n",
       "    .dataframe tbody tr th {\n",
       "        vertical-align: top;\n",
       "    }\n",
       "\n",
       "    .dataframe thead th {\n",
       "        text-align: right;\n",
       "    }\n",
       "</style>\n",
       "<table border=\"1\" class=\"dataframe\">\n",
       "  <thead>\n",
       "    <tr style=\"text-align: right;\">\n",
       "      <th></th>\n",
       "      <th>Price</th>\n",
       "    </tr>\n",
       "  </thead>\n",
       "  <tbody>\n",
       "    <tr>\n",
       "      <th>0</th>\n",
       "      <td>11783.9</td>\n",
       "    </tr>\n",
       "    <tr>\n",
       "      <th>1</th>\n",
       "      <td>12267.4</td>\n",
       "    </tr>\n",
       "    <tr>\n",
       "      <th>2</th>\n",
       "      <td>12267.4</td>\n",
       "    </tr>\n",
       "    <tr>\n",
       "      <th>3</th>\n",
       "      <td>12307.6</td>\n",
       "    </tr>\n",
       "    <tr>\n",
       "      <th>4</th>\n",
       "      <td>12448.7</td>\n",
       "    </tr>\n",
       "    <tr>\n",
       "      <th>...</th>\n",
       "      <td>...</td>\n",
       "    </tr>\n",
       "    <tr>\n",
       "      <th>1237</th>\n",
       "      <td>18850.0</td>\n",
       "    </tr>\n",
       "    <tr>\n",
       "      <th>1238</th>\n",
       "      <td>18800.0</td>\n",
       "    </tr>\n",
       "    <tr>\n",
       "      <th>1239</th>\n",
       "      <td>18450.0</td>\n",
       "    </tr>\n",
       "    <tr>\n",
       "      <th>1240</th>\n",
       "      <td>18600.0</td>\n",
       "    </tr>\n",
       "    <tr>\n",
       "      <th>1241</th>\n",
       "      <td>18650.0</td>\n",
       "    </tr>\n",
       "  </tbody>\n",
       "</table>\n",
       "<p>1242 rows × 1 columns</p>\n",
       "</div>"
      ],
      "text/plain": [
       "        Price\n",
       "0     11783.9\n",
       "1     12267.4\n",
       "2     12267.4\n",
       "3     12307.6\n",
       "4     12448.7\n",
       "...       ...\n",
       "1237  18850.0\n",
       "1238  18800.0\n",
       "1239  18450.0\n",
       "1240  18600.0\n",
       "1241  18650.0\n",
       "\n",
       "[1242 rows x 1 columns]"
      ]
     },
     "execution_count": 3,
     "metadata": {},
     "output_type": "execute_result"
    }
   ],
   "source": [
    "df"
   ]
  },
  {
   "cell_type": "code",
   "execution_count": 4,
   "id": "b6a1b824",
   "metadata": {},
   "outputs": [
    {
     "name": "stdout",
     "output_type": "stream",
     "text": [
      "Performing stepwise search to minimize aic\n",
      " ARIMA(2,1,2)(0,0,0)[0] intercept   : AIC=12296.501, Time=0.95 sec\n",
      " ARIMA(0,1,0)(0,0,0)[0] intercept   : AIC=12289.832, Time=0.03 sec\n",
      " ARIMA(1,1,0)(0,0,0)[0] intercept   : AIC=12291.279, Time=0.07 sec\n",
      " ARIMA(0,1,1)(0,0,0)[0] intercept   : AIC=12291.305, Time=0.08 sec\n",
      " ARIMA(0,1,0)(0,0,0)[0]             : AIC=12289.881, Time=0.01 sec\n",
      " ARIMA(1,1,1)(0,0,0)[0] intercept   : AIC=12292.965, Time=0.29 sec\n",
      "\n",
      "Best model:  ARIMA(0,1,0)(0,0,0)[0] intercept\n",
      "Total fit time: 1.444 seconds\n"
     ]
    },
    {
     "data": {
      "text/html": [
       "<style>#sk-container-id-1 {color: black;background-color: white;}#sk-container-id-1 pre{padding: 0;}#sk-container-id-1 div.sk-toggleable {background-color: white;}#sk-container-id-1 label.sk-toggleable__label {cursor: pointer;display: block;width: 100%;margin-bottom: 0;padding: 0.3em;box-sizing: border-box;text-align: center;}#sk-container-id-1 label.sk-toggleable__label-arrow:before {content: \"▸\";float: left;margin-right: 0.25em;color: #696969;}#sk-container-id-1 label.sk-toggleable__label-arrow:hover:before {color: black;}#sk-container-id-1 div.sk-estimator:hover label.sk-toggleable__label-arrow:before {color: black;}#sk-container-id-1 div.sk-toggleable__content {max-height: 0;max-width: 0;overflow: hidden;text-align: left;background-color: #f0f8ff;}#sk-container-id-1 div.sk-toggleable__content pre {margin: 0.2em;color: black;border-radius: 0.25em;background-color: #f0f8ff;}#sk-container-id-1 input.sk-toggleable__control:checked~div.sk-toggleable__content {max-height: 200px;max-width: 100%;overflow: auto;}#sk-container-id-1 input.sk-toggleable__control:checked~label.sk-toggleable__label-arrow:before {content: \"▾\";}#sk-container-id-1 div.sk-estimator input.sk-toggleable__control:checked~label.sk-toggleable__label {background-color: #d4ebff;}#sk-container-id-1 div.sk-label input.sk-toggleable__control:checked~label.sk-toggleable__label {background-color: #d4ebff;}#sk-container-id-1 input.sk-hidden--visually {border: 0;clip: rect(1px 1px 1px 1px);clip: rect(1px, 1px, 1px, 1px);height: 1px;margin: -1px;overflow: hidden;padding: 0;position: absolute;width: 1px;}#sk-container-id-1 div.sk-estimator {font-family: monospace;background-color: #f0f8ff;border: 1px dotted black;border-radius: 0.25em;box-sizing: border-box;margin-bottom: 0.5em;}#sk-container-id-1 div.sk-estimator:hover {background-color: #d4ebff;}#sk-container-id-1 div.sk-parallel-item::after {content: \"\";width: 100%;border-bottom: 1px solid gray;flex-grow: 1;}#sk-container-id-1 div.sk-label:hover label.sk-toggleable__label {background-color: #d4ebff;}#sk-container-id-1 div.sk-serial::before {content: \"\";position: absolute;border-left: 1px solid gray;box-sizing: border-box;top: 0;bottom: 0;left: 50%;z-index: 0;}#sk-container-id-1 div.sk-serial {display: flex;flex-direction: column;align-items: center;background-color: white;padding-right: 0.2em;padding-left: 0.2em;position: relative;}#sk-container-id-1 div.sk-item {position: relative;z-index: 1;}#sk-container-id-1 div.sk-parallel {display: flex;align-items: stretch;justify-content: center;background-color: white;position: relative;}#sk-container-id-1 div.sk-item::before, #sk-container-id-1 div.sk-parallel-item::before {content: \"\";position: absolute;border-left: 1px solid gray;box-sizing: border-box;top: 0;bottom: 0;left: 50%;z-index: -1;}#sk-container-id-1 div.sk-parallel-item {display: flex;flex-direction: column;z-index: 1;position: relative;background-color: white;}#sk-container-id-1 div.sk-parallel-item:first-child::after {align-self: flex-end;width: 50%;}#sk-container-id-1 div.sk-parallel-item:last-child::after {align-self: flex-start;width: 50%;}#sk-container-id-1 div.sk-parallel-item:only-child::after {width: 0;}#sk-container-id-1 div.sk-dashed-wrapped {border: 1px dashed gray;margin: 0 0.4em 0.5em 0.4em;box-sizing: border-box;padding-bottom: 0.4em;background-color: white;}#sk-container-id-1 div.sk-label label {font-family: monospace;font-weight: bold;display: inline-block;line-height: 1.2em;}#sk-container-id-1 div.sk-label-container {text-align: center;}#sk-container-id-1 div.sk-container {/* jupyter's `normalize.less` sets `[hidden] { display: none; }` but bootstrap.min.css set `[hidden] { display: none !important; }` so we also need the `!important` here to be able to override the default hidden behavior on the sphinx rendered scikit-learn.org. See: https://github.com/scikit-learn/scikit-learn/issues/21755 */display: inline-block !important;position: relative;}#sk-container-id-1 div.sk-text-repr-fallback {display: none;}</style><div id=\"sk-container-id-1\" class=\"sk-top-container\"><div class=\"sk-text-repr-fallback\"><pre> ARIMA(0,1,0)(0,0,0)[0] intercept</pre><b>In a Jupyter environment, please rerun this cell to show the HTML representation or trust the notebook. <br />On GitHub, the HTML representation is unable to render, please try loading this page with nbviewer.org.</b></div><div class=\"sk-container\" hidden><div class=\"sk-item\"><div class=\"sk-estimator sk-toggleable\"><input class=\"sk-toggleable__control sk-hidden--visually\" id=\"sk-estimator-id-1\" type=\"checkbox\" checked><label for=\"sk-estimator-id-1\" class=\"sk-toggleable__label sk-toggleable__label-arrow\">ARIMA</label><div class=\"sk-toggleable__content\"><pre> ARIMA(0,1,0)(0,0,0)[0] intercept</pre></div></div></div></div></div>"
      ],
      "text/plain": [
       "ARIMA(order=(0, 1, 0), scoring_args={}, suppress_warnings=True)"
      ]
     },
     "execution_count": 4,
     "metadata": {},
     "output_type": "execute_result"
    }
   ],
   "source": [
    "# 3. Quá trình Training\n",
    "x_train = np.array(train_data.index).reshape(-1, 1)\n",
    "y_train = np.array(train_data['Price'])\n",
    "\n",
    "# Find the best ARIMA model using auto_arima\n",
    "from pmdarima.arima import auto_arima\n",
    "model = auto_arima(y_train, trace=True, error_action='ignore', suppress_warnings=True)\n",
    "\n",
    "# Fit the model\n",
    "model.fit(y_train)"
   ]
  },
  {
   "cell_type": "code",
   "execution_count": 5,
   "id": "4f981a3d",
   "metadata": {},
   "outputs": [],
   "source": [
    "# 4. Quá trình testing \n",
    "x_test = np.array(test_data.index).reshape(-1, 1)\n",
    "y_test = np.array(test_data['Price'])\n",
    "y_pred = model.predict(n_periods=len(y_test))\n",
    "\n",
    "# 5. Quá trình Validate\n",
    "x_val= np.array(val_data.index).reshape(-1, 1)\n",
    "y_val = np.array(val_data['Price'])\n",
    "y_pred_val = model.predict(n_periods=len(y_val))"
   ]
  },
  {
   "cell_type": "code",
   "execution_count": 6,
   "id": "4124306d",
   "metadata": {},
   "outputs": [
    {
     "name": "stdout",
     "output_type": "stream",
     "text": [
      "Predicted closing prices for the next 30 days:\n",
      "[23888.92983871 23902.85967742 23916.78951613 23930.71935484\n",
      " 23944.64919355 23958.57903226 23972.50887097 23986.43870968\n",
      " 24000.36854839 24014.2983871  24028.22822581 24042.15806452\n",
      " 24056.08790323 24070.01774194 24083.94758065 24097.87741935\n",
      " 24111.80725806 24125.73709677 24139.66693548 24153.59677419\n",
      " 24167.5266129  24181.45645161 24195.38629032 24209.31612903\n",
      " 24223.24596774 24237.17580645 24251.10564516 24265.03548387\n",
      " 24278.96532258 24292.89516129]\n"
     ]
    }
   ],
   "source": [
    "# 6. Quá trình tạo index predict 30 ngày tiếp theo\n",
    "last_index =  df.index[-1]\n",
    "last_data = pd.RangeIndex(start=last_index, stop=last_index+30, step=1)\n",
    "\n",
    "# Create an array of 30 consecutive integers starting from last_index\n",
    "x_next_30_days = np.array(range(last_index+1, last_index+31)).reshape(-1, 1)\n",
    "\n",
    "# Predict the closing prices for the next 30 days\n",
    "y_next_30_days = model.predict(n_periods=len(x_next_30_days))\n",
    "\n",
    "# Print the predicted closing prices for the next 30 days\n",
    "print('Predicted closing prices for the next 30 days:')\n",
    "print(y_next_30_days)"
   ]
  },
  {
   "cell_type": "code",
   "execution_count": 7,
   "id": "0accd6a0",
   "metadata": {},
   "outputs": [
    {
     "name": "stdout",
     "output_type": "stream",
     "text": [
      "Validation RMSE: 6838.300637677053\n",
      "Testing RMSE: 4755.678635549915\n",
      "Validation MAPE: 38.10050784585303\n",
      "Testing MAPE: 18.360811453314614\n",
      "Validation MAE: 6788.97983870976\n",
      "Testing MAE: 3747.595083246735\n"
     ]
    }
   ],
   "source": [
    "# 7. Đánh giá độ chính xác validate, test\n",
    "valid_rmse = np.sqrt(np.mean((y_pred_val - y_val)**2))\n",
    "test_rmse = np.sqrt(np.mean((y_pred - y_test)**2))\n",
    "print('Validation RMSE:', valid_rmse)\n",
    "print('Testing RMSE:', test_rmse)\n",
    "\n",
    "valid_mape = np.mean(np.abs((y_pred_val - y_val) / y_val)) * 100\n",
    "test_mape = np.mean(np.abs((y_pred - y_test) / y_test)) * 100\n",
    "print('Validation MAPE:', valid_mape)\n",
    "print('Testing MAPE:', test_mape)\n",
    "\n",
    "valid_mae = np.mean(np.abs(y_pred_val - y_val))\n",
    "test_mae = np.mean(np.abs(y_pred - y_test))\n",
    "print('Validation MAE:', valid_mae)\n",
    "print('Testing MAE:', test_mae)"
   ]
  },
  {
   "cell_type": "code",
   "execution_count": 8,
   "id": "8cc036f7",
   "metadata": {},
   "outputs": [
    {
     "name": "stdout",
     "output_type": "stream",
     "text": [
      "Validation RMSE: 6838.300637677053\n",
      "Testing RMSE: 4755.678635549915\n"
     ]
    },
    {
     "data": {
      "image/png": "[encoded data removed]",
      "text/plain": [
       "<Figure size 640x480 with 1 Axes>"
      ]
     },
     "metadata": {},
     "output_type": "display_data"
    }
   ],
   "source": [
    "# 8. Tính RMSE\n",
    "valid_rmse = np.sqrt(np.mean((y_pred_val - y_val)**2))\n",
    "test_rmse = np.sqrt(np.mean((y_pred - y_test)**2))\n",
    "print('Validation RMSE:', valid_rmse)\n",
    "print('Testing RMSE:', test_rmse)\n",
    "\n",
    "# 9.Vẽ hình\n",
    "plt.plot(train_data.index, train_data['Price'])\n",
    "plt.plot(test_data.index, test_data['Price'])\n",
    "plt.plot(test_data.index, y_pred)\n",
    "plt.plot(val_data.index, y_pred_val)\n",
    "plt.plot(last_data,y_next_30_days)\n",
    "plt.legend(['Train', 'Test', 'Predictions','Validate','Next30Day'])\n",
    "plt.show()"
   ]
  },
  {
   "cell_type": "code",
   "execution_count": null,
   "id": "8dc0d0d4",
   "metadata": {},
   "outputs": [],
   "source": []
  }
 ],
 "metadata": {
  "kernelspec": {
   "display_name": "Python 3 (ipykernel)",
   "language": "python",
   "name": "python3"
  },
  "language_info": {
   "codemirror_mode": {
    "name": "ipython",
    "version": 3
   },
   "file_extension": ".py",
   "mimetype": "text/x-python",
   "name": "python",
   "nbconvert_exporter": "python",
   "pygments_lexer": "ipython3",
   "version": "3.11.2"
  }
 },
 "nbformat": 4,
 "nbformat_minor": 5
}
