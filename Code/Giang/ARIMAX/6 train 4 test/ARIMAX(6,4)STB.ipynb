{
 "cells": [
  {
   "cell_type": "code",
   "execution_count": 11,
   "id": "98a35022",
   "metadata": {},
   "outputs": [],
   "source": [
    "from statsmodels.tsa.stattools import adfuller\n",
    "from statsmodels.graphics.tsaplots import plot_acf, plot_pacf\n",
    "import numpy as np\n",
    "import pandas as pd\n",
    "import matplotlib.pyplot as plt\n",
    "from sklearn.linear_model import LinearRegression\n",
    "from statsmodels.tsa.arima.model import ARIMA"
   ]
  },
  {
   "cell_type": "code",
   "execution_count": 12,
   "id": "34656a32",
   "metadata": {},
   "outputs": [
    {
     "data": {
      "text/html": [
       "<div>\n",
       "<style scoped>\n",
       "    .dataframe tbody tr th:only-of-type {\n",
       "        vertical-align: middle;\n",
       "    }\n",
       "\n",
       "    .dataframe tbody tr th {\n",
       "        vertical-align: top;\n",
       "    }\n",
       "\n",
       "    .dataframe thead th {\n",
       "        text-align: right;\n",
       "    }\n",
       "</style>\n",
       "<table border=\"1\" class=\"dataframe\">\n",
       "  <thead>\n",
       "    <tr style=\"text-align: right;\">\n",
       "      <th></th>\n",
       "      <th>Date</th>\n",
       "      <th>Price</th>\n",
       "      <th>Open</th>\n",
       "      <th>High</th>\n",
       "      <th>Low</th>\n",
       "      <th>Vol.</th>\n",
       "      <th>Change %</th>\n",
       "    </tr>\n",
       "  </thead>\n",
       "  <tbody>\n",
       "    <tr>\n",
       "      <th>0</th>\n",
       "      <td>06/01/2018</td>\n",
       "      <td>11750</td>\n",
       "      <td>11700</td>\n",
       "      <td>12000</td>\n",
       "      <td>11700</td>\n",
       "      <td>4.31M</td>\n",
       "      <td>0.0000</td>\n",
       "    </tr>\n",
       "    <tr>\n",
       "      <th>1</th>\n",
       "      <td>06/04/2018</td>\n",
       "      <td>12550</td>\n",
       "      <td>12000</td>\n",
       "      <td>12550</td>\n",
       "      <td>12000</td>\n",
       "      <td>7.42M</td>\n",
       "      <td>0.0681</td>\n",
       "    </tr>\n",
       "    <tr>\n",
       "      <th>2</th>\n",
       "      <td>06/05/2018</td>\n",
       "      <td>12900</td>\n",
       "      <td>12700</td>\n",
       "      <td>13150</td>\n",
       "      <td>12600</td>\n",
       "      <td>8.11M</td>\n",
       "      <td>0.0279</td>\n",
       "    </tr>\n",
       "    <tr>\n",
       "      <th>3</th>\n",
       "      <td>06/06/2018</td>\n",
       "      <td>13300</td>\n",
       "      <td>12800</td>\n",
       "      <td>13450</td>\n",
       "      <td>12700</td>\n",
       "      <td>8.48M</td>\n",
       "      <td>0.0310</td>\n",
       "    </tr>\n",
       "    <tr>\n",
       "      <th>4</th>\n",
       "      <td>06/07/2018</td>\n",
       "      <td>13000</td>\n",
       "      <td>13300</td>\n",
       "      <td>13350</td>\n",
       "      <td>12950</td>\n",
       "      <td>7.11M</td>\n",
       "      <td>-0.0226</td>\n",
       "    </tr>\n",
       "  </tbody>\n",
       "</table>\n",
       "</div>"
      ],
      "text/plain": [
       "         Date  Price   Open   High    Low   Vol.  Change %\n",
       "0  06/01/2018  11750  11700  12000  11700  4.31M    0.0000\n",
       "1  06/04/2018  12550  12000  12550  12000  7.42M    0.0681\n",
       "2  06/05/2018  12900  12700  13150  12600  8.11M    0.0279\n",
       "3  06/06/2018  13300  12800  13450  12700  8.48M    0.0310\n",
       "4  06/07/2018  13000  13300  13350  12950  7.11M   -0.0226"
      ]
     },
     "execution_count": 12,
     "metadata": {},
     "output_type": "execute_result"
    }
   ],
   "source": [
    "df = pd.read_csv('STB.csv')\n",
    "df.head()"
   ]
  },
  {
   "cell_type": "code",
   "execution_count": 13,
   "id": "bd61e62f",
   "metadata": {},
   "outputs": [],
   "source": [
    "# Take AR Model of lag = 3, 2 differencing for stationary\n",
    "train_size = int(0.6 * len(df))\n",
    "test_size = len(df) - train_size\n",
    "\n",
    "train_data = df['Price'].iloc[:train_size]\n",
    "test_data =  df['Price'].iloc[train_size:]"
   ]
  },
  {
   "cell_type": "code",
   "execution_count": 14,
   "id": "6417fba0",
   "metadata": {},
   "outputs": [
    {
     "name": "stdout",
     "output_type": "stream",
     "text": [
      "Performing stepwise search to minimize aic\n",
      " ARIMA(2,2,2)(0,0,0)[0]             : AIC=10736.587, Time=0.86 sec\n",
      " ARIMA(0,2,0)(0,0,0)[0]             : AIC=11188.107, Time=0.03 sec\n",
      " ARIMA(1,2,0)(0,0,0)[0]             : AIC=11005.067, Time=0.07 sec\n",
      " ARIMA(0,2,1)(0,0,0)[0]             : AIC=10732.853, Time=0.26 sec\n",
      " ARIMA(1,2,1)(0,0,0)[0]             : AIC=10732.974, Time=0.84 sec\n",
      " ARIMA(0,2,2)(0,0,0)[0]             : AIC=10732.923, Time=0.40 sec\n",
      " ARIMA(1,2,2)(0,0,0)[0]             : AIC=10734.656, Time=1.02 sec\n",
      " ARIMA(0,2,1)(0,0,0)[0] intercept   : AIC=inf, Time=0.36 sec\n",
      "\n",
      "Best model:  ARIMA(0,2,1)(0,0,0)[0]          \n",
      "Total fit time: 3.851 seconds\n",
      "                               SARIMAX Results                                \n",
      "==============================================================================\n",
      "Dep. Variable:                      y   No. Observations:                  745\n",
      "Model:               SARIMAX(0, 2, 1)   Log Likelihood               -5364.426\n",
      "Date:                Fri, 16 Jun 2023   AIC                          10732.853\n",
      "Time:                        22:10:06   BIC                          10742.074\n",
      "Sample:                             0   HQIC                         10736.408\n",
      "                                - 745                                         \n",
      "Covariance Type:                  opg                                         \n",
      "==============================================================================\n",
      "                 coef    std err          z      P>|z|      [0.025      0.975]\n",
      "------------------------------------------------------------------------------\n",
      "ma.L1         -0.9884      0.005   -190.231      0.000      -0.999      -0.978\n",
      "sigma2      1.051e+05   3136.219     33.499      0.000    9.89e+04    1.11e+05\n",
      "===================================================================================\n",
      "Ljung-Box (L1) (Q):                   2.23   Jarque-Bera (JB):               453.07\n",
      "Prob(Q):                              0.14   Prob(JB):                         0.00\n",
      "Heteroskedasticity (H):               3.07   Skew:                             0.21\n",
      "Prob(H) (two-sided):                  0.00   Kurtosis:                         6.80\n",
      "===================================================================================\n",
      "\n",
      "Warnings:\n",
      "[1] Covariance matrix calculated using the outer product of gradients (complex-step).\n"
     ]
    }
   ],
   "source": [
    "from pmdarima.arima import auto_arima\n",
    "best_arima = auto_arima(train_data,trace=True)\n",
    "best_arima.fit(train_data)\n",
    "print(best_arima.summary())"
   ]
  },
  {
   "cell_type": "code",
   "execution_count": 16,
   "id": "4a102f7b",
   "metadata": {},
   "outputs": [
    {
     "name": "stderr",
     "output_type": "stream",
     "text": [
      "C:\\Users\\giangle\\AppData\\Local\\Programs\\Python\\Python311\\Lib\\site-packages\\statsmodels\\tsa\\statespace\\sarimax.py:978: UserWarning: Non-invertible starting MA parameters found. Using zeros as starting parameters.\n",
      "  warn('Non-invertible starting MA parameters found.'\n"
     ]
    },
    {
     "name": "stdout",
     "output_type": "stream",
     "text": [
      "                               SARIMAX Results                                \n",
      "==============================================================================\n",
      "Dep. Variable:                  Price   No. Observations:                  745\n",
      "Model:                 ARIMA(0, 2, 1)   Log Likelihood               -5133.956\n",
      "Date:                Fri, 16 Jun 2023   AIC                          10273.913\n",
      "Time:                        22:10:17   BIC                          10287.745\n",
      "Sample:                             0   HQIC                         10279.245\n",
      "                                - 745                                         \n",
      "Covariance Type:                  opg                                         \n",
      "==============================================================================\n",
      "                 coef    std err          z      P>|z|      [0.025      0.975]\n",
      "------------------------------------------------------------------------------\n",
      "High           0.7518      0.022     33.523      0.000       0.708       0.796\n",
      "ma.L1         -1.0000      0.891     -1.122      0.262      -2.747       0.747\n",
      "sigma2      5.813e+04   5.15e+04      1.128      0.259   -4.28e+04    1.59e+05\n",
      "===================================================================================\n",
      "Ljung-Box (L1) (Q):                 172.14   Jarque-Bera (JB):              1168.33\n",
      "Prob(Q):                              0.00   Prob(JB):                         0.00\n",
      "Heteroskedasticity (H):               3.88   Skew:                             0.38\n",
      "Prob(H) (two-sided):                  0.00   Kurtosis:                         9.09\n",
      "===================================================================================\n",
      "\n",
      "Warnings:\n",
      "[1] Covariance matrix calculated using the outer product of gradients (complex-step).\n"
     ]
    }
   ],
   "source": [
    "# summary of fit model\n",
    "arimax_train = df[['Price','High']].iloc[:train_size]\n",
    "arimax_test = df[['Price','High']].iloc[train_size:]\n",
    "arimax_model = ARIMA(arimax_train['Price'],exog=arimax_train['High'],order=(0,2,1))\n",
    "arimax_fitted = arimax_model.fit()\n",
    "print(arimax_fitted.summary())"
   ]
  },
  {
   "cell_type": "code",
   "execution_count": 17,
   "id": "dfc79eb3",
   "metadata": {},
   "outputs": [],
   "source": [
    "# 4. Quá trình testing \n",
    "x_test = np.array(test_data.index).reshape(-1, 1)\n",
    "y_test = np.array(test_data)\n",
    "y_pred_arimax= arimax_fitted.predict(start=len(df)-test_size,end=len(df)-1,exog= arimax_test['High'])\n",
    "\n",
    "# 5. Quá trình Validate\n",
    "x_val= np.array(df['Price'].index).reshape(-1, 1)\n",
    "y_val = np.array(df['Price'])\n",
    "y_pred_val_arimax =  arimax_fitted.predict(start=0,end=train_size-1,exog=arimax_train['High'])\n",
    "y_pred_val_arimax = pd.concat([y_pred_val_arimax,y_pred_arimax])"
   ]
  },
  {
   "cell_type": "code",
   "execution_count": 18,
   "id": "99b94dc3",
   "metadata": {},
   "outputs": [
    {
     "name": "stdout",
     "output_type": "stream",
     "text": [
      "ARIMAX Validation RMSE: 1824.4382075989681\n",
      "ARIMAX Testing RMSE: 2865.8666272493456\n",
      "Validation MAPE: 4.9337529887597595\n",
      "Testing MAPE: 10.435864331396868\n",
      "Validation MAE: 1035.9646049401638\n",
      "Testing MAE: 2338.811996956027\n"
     ]
    },
    {
     "data": {
      "image/png": "[encoded data removed]",
      "text/plain": [
       "<Figure size 640x480 with 1 Axes>"
      ]
     },
     "metadata": {},
     "output_type": "display_data"
    }
   ],
   "source": [
    "# 7. Đánh giá độ chính xác validate, test\n",
    "valid_rmse = np.sqrt(np.mean((y_pred_val_arimax - y_val)**2))\n",
    "test_rmse = np.sqrt(np.mean((y_pred_arimax - y_test)**2))\n",
    "print('ARIMAX Validation RMSE:', valid_rmse)\n",
    "print('ARIMAX Testing RMSE:', test_rmse)\n",
    "\n",
    "valid_mape = np.mean(np.abs((y_pred_val_arimax - y_val) / y_val)) * 100\n",
    "test_mape = np.mean(np.abs((y_pred_arimax - y_test) / y_test)) * 100\n",
    "print('Validation MAPE:', valid_mape)\n",
    "print('Testing MAPE:', test_mape)\n",
    "\n",
    "valid_mae = np.mean(np.abs(y_pred_val_arimax - y_val))\n",
    "test_mae = np.mean(np.abs(y_pred_arimax - y_test))\n",
    "print('Validation MAE:', valid_mae)\n",
    "print('Testing MAE:', test_mae)\n",
    "\n",
    "# 9.Vẽ hình\n",
    "plt.plot(train_data.index, train_data)\n",
    "plt.plot(test_data.index, test_data)\n",
    "plt.plot(df['Price'].index, y_pred_val_arimax)\n",
    "# plt.plot(last_data,y_next_10_arima)\n",
    "plt.legend(['Train', 'Test', 'Predictions','Validate'])\n",
    "plt.show()"
   ]
  },
  {
   "cell_type": "code",
   "execution_count": null,
   "id": "bc362a79",
   "metadata": {},
   "outputs": [],
   "source": []
  }
 ],
 "metadata": {
  "kernelspec": {
   "display_name": "Python 3 (ipykernel)",
   "language": "python",
   "name": "python3"
  },
  "language_info": {
   "codemirror_mode": {
    "name": "ipython",
    "version": 3
   },
   "file_extension": ".py",
   "mimetype": "text/x-python",
   "name": "python",
   "nbconvert_exporter": "python",
   "pygments_lexer": "ipython3",
   "version": "3.11.2"
  }
 },
 "nbformat": 4,
 "nbformat_minor": 5
}
