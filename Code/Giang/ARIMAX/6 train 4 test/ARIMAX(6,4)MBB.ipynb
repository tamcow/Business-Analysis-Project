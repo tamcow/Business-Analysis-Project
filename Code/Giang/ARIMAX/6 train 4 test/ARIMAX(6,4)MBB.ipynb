{
 "cells": [
  {
   "cell_type": "code",
   "execution_count": 1,
   "id": "98a35022",
   "metadata": {},
   "outputs": [],
   "source": [
    "from statsmodels.tsa.stattools import adfuller\n",
    "from statsmodels.graphics.tsaplots import plot_acf, plot_pacf\n",
    "import numpy as np\n",
    "import pandas as pd\n",
    "import matplotlib.pyplot as plt\n",
    "from sklearn.linear_model import LinearRegression\n",
    "from statsmodels.tsa.arima.model import ARIMA"
   ]
  },
  {
   "cell_type": "code",
   "execution_count": 2,
   "id": "34656a32",
   "metadata": {},
   "outputs": [
    {
     "data": {
      "text/html": [
       "<div>\n",
       "<style scoped>\n",
       "    .dataframe tbody tr th:only-of-type {\n",
       "        vertical-align: middle;\n",
       "    }\n",
       "\n",
       "    .dataframe tbody tr th {\n",
       "        vertical-align: top;\n",
       "    }\n",
       "\n",
       "    .dataframe thead th {\n",
       "        text-align: right;\n",
       "    }\n",
       "</style>\n",
       "<table border=\"1\" class=\"dataframe\">\n",
       "  <thead>\n",
       "    <tr style=\"text-align: right;\">\n",
       "      <th></th>\n",
       "      <th>Date</th>\n",
       "      <th>Price</th>\n",
       "      <th>Open</th>\n",
       "      <th>High</th>\n",
       "      <th>Low</th>\n",
       "      <th>Vol.</th>\n",
       "      <th>Change %</th>\n",
       "    </tr>\n",
       "  </thead>\n",
       "  <tbody>\n",
       "    <tr>\n",
       "      <th>0</th>\n",
       "      <td>6/1/2018</td>\n",
       "      <td>11783.9</td>\n",
       "      <td>11642.9</td>\n",
       "      <td>11965.2</td>\n",
       "      <td>11562.3</td>\n",
       "      <td>15.87M</td>\n",
       "      <td>0.52%</td>\n",
       "    </tr>\n",
       "    <tr>\n",
       "      <th>1</th>\n",
       "      <td>6/4/2018</td>\n",
       "      <td>12267.4</td>\n",
       "      <td>11723.5</td>\n",
       "      <td>12267.4</td>\n",
       "      <td>11683.2</td>\n",
       "      <td>16.32M</td>\n",
       "      <td>4.10%</td>\n",
       "    </tr>\n",
       "    <tr>\n",
       "      <th>2</th>\n",
       "      <td>6/5/2018</td>\n",
       "      <td>12267.4</td>\n",
       "      <td>12247.2</td>\n",
       "      <td>12408.4</td>\n",
       "      <td>12005.5</td>\n",
       "      <td>13.13M</td>\n",
       "      <td>0.00%</td>\n",
       "    </tr>\n",
       "    <tr>\n",
       "      <th>3</th>\n",
       "      <td>6/6/2018</td>\n",
       "      <td>12307.6</td>\n",
       "      <td>12126.4</td>\n",
       "      <td>12388.2</td>\n",
       "      <td>12045.8</td>\n",
       "      <td>17.76M</td>\n",
       "      <td>0.33%</td>\n",
       "    </tr>\n",
       "    <tr>\n",
       "      <th>4</th>\n",
       "      <td>6/7/2018</td>\n",
       "      <td>12448.7</td>\n",
       "      <td>12408.4</td>\n",
       "      <td>12650.1</td>\n",
       "      <td>12327.8</td>\n",
       "      <td>22.65M</td>\n",
       "      <td>1.15%</td>\n",
       "    </tr>\n",
       "  </tbody>\n",
       "</table>\n",
       "</div>"
      ],
      "text/plain": [
       "       Date    Price     Open     High      Low    Vol. Change %\n",
       "0  6/1/2018  11783.9  11642.9  11965.2  11562.3  15.87M    0.52%\n",
       "1  6/4/2018  12267.4  11723.5  12267.4  11683.2  16.32M    4.10%\n",
       "2  6/5/2018  12267.4  12247.2  12408.4  12005.5  13.13M    0.00%\n",
       "3  6/6/2018  12307.6  12126.4  12388.2  12045.8  17.76M    0.33%\n",
       "4  6/7/2018  12448.7  12408.4  12650.1  12327.8  22.65M    1.15%"
      ]
     },
     "execution_count": 2,
     "metadata": {},
     "output_type": "execute_result"
    }
   ],
   "source": [
    "df = pd.read_csv('MBB.csv')\n",
    "df.head()"
   ]
  },
  {
   "cell_type": "code",
   "execution_count": 3,
   "id": "bd61e62f",
   "metadata": {},
   "outputs": [],
   "source": [
    "# Take AR Model of lag = 3, 2 differencing for stationary\n",
    "train_size = int(0.6 * len(df))\n",
    "test_size = len(df) - train_size\n",
    "\n",
    "train_data = df['Price'].iloc[:train_size]\n",
    "test_data =  df['Price'].iloc[train_size:]"
   ]
  },
  {
   "cell_type": "code",
   "execution_count": 4,
   "id": "6417fba0",
   "metadata": {},
   "outputs": [
    {
     "name": "stdout",
     "output_type": "stream",
     "text": [
      "Performing stepwise search to minimize aic\n",
      " ARIMA(2,2,2)(0,0,0)[0]             : AIC=inf, Time=1.06 sec\n",
      " ARIMA(0,2,0)(0,0,0)[0]             : AIC=10721.475, Time=0.02 sec\n",
      " ARIMA(1,2,0)(0,0,0)[0]             : AIC=10465.709, Time=0.06 sec\n",
      " ARIMA(0,2,1)(0,0,0)[0]             : AIC=10212.189, Time=0.26 sec\n",
      " ARIMA(1,2,1)(0,0,0)[0]             : AIC=10213.910, Time=0.43 sec\n",
      " ARIMA(0,2,2)(0,0,0)[0]             : AIC=10213.944, Time=0.37 sec\n",
      " ARIMA(1,2,2)(0,0,0)[0]             : AIC=inf, Time=0.76 sec\n",
      " ARIMA(0,2,1)(0,0,0)[0] intercept   : AIC=inf, Time=0.28 sec\n",
      "\n",
      "Best model:  ARIMA(0,2,1)(0,0,0)[0]          \n",
      "Total fit time: 3.255 seconds\n",
      "                               SARIMAX Results                                \n",
      "==============================================================================\n",
      "Dep. Variable:                      y   No. Observations:                  745\n",
      "Model:               SARIMAX(0, 2, 1)   Log Likelihood               -5104.095\n",
      "Date:                Fri, 16 Jun 2023   AIC                          10212.189\n",
      "Time:                        22:12:09   BIC                          10221.411\n",
      "Sample:                             0   HQIC                         10215.744\n",
      "                                - 745                                         \n",
      "Covariance Type:                  opg                                         \n",
      "==============================================================================\n",
      "                 coef    std err          z      P>|z|      [0.025      0.975]\n",
      "------------------------------------------------------------------------------\n",
      "ma.L1         -0.9893      0.005   -201.484      0.000      -0.999      -0.980\n",
      "sigma2      5.262e+04   1677.859     31.363      0.000    4.93e+04    5.59e+04\n",
      "===================================================================================\n",
      "Ljung-Box (L1) (Q):                   0.19   Jarque-Bera (JB):               357.13\n",
      "Prob(Q):                              0.66   Prob(JB):                         0.00\n",
      "Heteroskedasticity (H):               2.00   Skew:                            -0.37\n",
      "Prob(H) (two-sided):                  0.00   Kurtosis:                         6.32\n",
      "===================================================================================\n",
      "\n",
      "Warnings:\n",
      "[1] Covariance matrix calculated using the outer product of gradients (complex-step).\n"
     ]
    }
   ],
   "source": [
    "from pmdarima.arima import auto_arima\n",
    "best_arima = auto_arima(train_data,trace=True)\n",
    "best_arima.fit(train_data)\n",
    "print(best_arima.summary())"
   ]
  },
  {
   "cell_type": "code",
   "execution_count": 5,
   "id": "4a102f7b",
   "metadata": {},
   "outputs": [
    {
     "name": "stderr",
     "output_type": "stream",
     "text": [
      "C:\\Users\\giangle\\AppData\\Local\\Programs\\Python\\Python311\\Lib\\site-packages\\statsmodels\\tsa\\statespace\\sarimax.py:978: UserWarning: Non-invertible starting MA parameters found. Using zeros as starting parameters.\n",
      "  warn('Non-invertible starting MA parameters found.'\n"
     ]
    },
    {
     "name": "stdout",
     "output_type": "stream",
     "text": [
      "                               SARIMAX Results                                \n",
      "==============================================================================\n",
      "Dep. Variable:                  Price   No. Observations:                  745\n",
      "Model:                 ARIMA(0, 2, 1)   Log Likelihood               -4898.969\n",
      "Date:                Fri, 16 Jun 2023   AIC                           9803.937\n",
      "Time:                        22:12:13   BIC                           9817.769\n",
      "Sample:                             0   HQIC                          9809.269\n",
      "                                - 745                                         \n",
      "Covariance Type:                  opg                                         \n",
      "==============================================================================\n",
      "                 coef    std err          z      P>|z|      [0.025      0.975]\n",
      "------------------------------------------------------------------------------\n",
      "High           0.7187      0.023     31.005      0.000       0.673       0.764\n",
      "ma.L1         -1.0000      0.381     -2.625      0.009      -1.747      -0.253\n",
      "sigma2      3.088e+04   1.18e+04      2.611      0.009    7699.320    5.41e+04\n",
      "===================================================================================\n",
      "Ljung-Box (L1) (Q):                 186.34   Jarque-Bera (JB):               626.81\n",
      "Prob(Q):                              0.00   Prob(JB):                         0.00\n",
      "Heteroskedasticity (H):               2.08   Skew:                            -0.19\n",
      "Prob(H) (two-sided):                  0.00   Kurtosis:                         7.48\n",
      "===================================================================================\n",
      "\n",
      "Warnings:\n",
      "[1] Covariance matrix calculated using the outer product of gradients (complex-step).\n"
     ]
    }
   ],
   "source": [
    "# summary of fit model\n",
    "arimax_train = df[['Price','High']].iloc[:train_size]\n",
    "arimax_test = df[['Price','High']].iloc[train_size:]\n",
    "arimax_model = ARIMA(arimax_train['Price'],exog=arimax_train['High'],order=(0,2,1))\n",
    "arimax_fitted = arimax_model.fit()\n",
    "print(arimax_fitted.summary())"
   ]
  },
  {
   "cell_type": "code",
   "execution_count": 6,
   "id": "dfc79eb3",
   "metadata": {},
   "outputs": [],
   "source": [
    "# 4. Quá trình testing \n",
    "x_test = np.array(test_data.index).reshape(-1, 1)\n",
    "y_test = np.array(test_data)\n",
    "y_pred_arimax= arimax_fitted.predict(start=len(df)-test_size,end=len(df)-1,exog= arimax_test['High'])\n",
    "\n",
    "# 5. Quá trình Validate\n",
    "x_val= np.array(df['Price'].index).reshape(-1, 1)\n",
    "y_val = np.array(df['Price'])\n",
    "y_pred_val_arimax =  arimax_fitted.predict(start=0,end=train_size-1,exog=arimax_train['High'])\n",
    "y_pred_val_arimax = pd.concat([y_pred_val_arimax,y_pred_arimax])"
   ]
  },
  {
   "cell_type": "code",
   "execution_count": 7,
   "id": "99b94dc3",
   "metadata": {},
   "outputs": [
    {
     "name": "stdout",
     "output_type": "stream",
     "text": [
      "ARIMAX Validation RMSE: 1077.1075233156614\n",
      "ARIMAX Testing RMSE: 1681.7612244500376\n",
      "Validation MAPE: 3.3767965731870166\n",
      "Testing MAPE: 6.778573846694391\n",
      "Validation MAE: 598.3932969399149\n",
      "Testing MAE: 1303.6980334942166\n"
     ]
    },
    {
     "data": {
      "image/png": "[encoded data removed]",
      "text/plain": [
       "<Figure size 640x480 with 1 Axes>"
      ]
     },
     "metadata": {},
     "output_type": "display_data"
    }
   ],
   "source": [
    "# 7. Đánh giá độ chính xác validate, test\n",
    "valid_rmse = np.sqrt(np.mean((y_pred_val_arimax - y_val)**2))\n",
    "test_rmse = np.sqrt(np.mean((y_pred_arimax - y_test)**2))\n",
    "print('ARIMAX Validation RMSE:', valid_rmse)\n",
    "print('ARIMAX Testing RMSE:', test_rmse)\n",
    "\n",
    "valid_mape = np.mean(np.abs((y_pred_val_arimax - y_val) / y_val)) * 100\n",
    "test_mape = np.mean(np.abs((y_pred_arimax - y_test) / y_test)) * 100\n",
    "print('Validation MAPE:', valid_mape)\n",
    "print('Testing MAPE:', test_mape)\n",
    "\n",
    "valid_mae = np.mean(np.abs(y_pred_val_arimax - y_val))\n",
    "test_mae = np.mean(np.abs(y_pred_arimax - y_test))\n",
    "print('Validation MAE:', valid_mae)\n",
    "print('Testing MAE:', test_mae)\n",
    "\n",
    "# 9.Vẽ hình\n",
    "plt.plot(train_data.index, train_data)\n",
    "plt.plot(test_data.index, test_data)\n",
    "plt.plot(df['Price'].index, y_pred_val_arimax)\n",
    "# plt.plot(last_data,y_next_10_arima)\n",
    "plt.legend(['Train', 'Test', 'Predictions','Validate'])\n",
    "plt.show()"
   ]
  },
  {
   "cell_type": "code",
   "execution_count": null,
   "id": "bc362a79",
   "metadata": {},
   "outputs": [],
   "source": []
  }
 ],
 "metadata": {
  "kernelspec": {
   "display_name": "Python 3 (ipykernel)",
   "language": "python",
   "name": "python3"
  },
  "language_info": {
   "codemirror_mode": {
    "name": "ipython",
    "version": 3
   },
   "file_extension": ".py",
   "mimetype": "text/x-python",
   "name": "python",
   "nbconvert_exporter": "python",
   "pygments_lexer": "ipython3",
   "version": "3.11.2"
  }
 },
 "nbformat": 4,
 "nbformat_minor": 5
}
