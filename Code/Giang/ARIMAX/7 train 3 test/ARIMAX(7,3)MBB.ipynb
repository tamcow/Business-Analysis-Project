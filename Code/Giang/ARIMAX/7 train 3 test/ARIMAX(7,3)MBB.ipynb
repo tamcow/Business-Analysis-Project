{
 "cells": [
  {
   "cell_type": "code",
   "execution_count": 1,
   "id": "98a35022",
   "metadata": {},
   "outputs": [],
   "source": [
    "from statsmodels.tsa.stattools import adfuller\n",
    "from statsmodels.graphics.tsaplots import plot_acf, plot_pacf\n",
    "import numpy as np\n",
    "import pandas as pd\n",
    "import matplotlib.pyplot as plt\n",
    "from sklearn.linear_model import LinearRegression\n",
    "from statsmodels.tsa.arima.model import ARIMA"
   ]
  },
  {
   "cell_type": "code",
   "execution_count": 2,
   "id": "34656a32",
   "metadata": {},
   "outputs": [
    {
     "data": {
      "text/html": [
       "<div>\n",
       "<style scoped>\n",
       "    .dataframe tbody tr th:only-of-type {\n",
       "        vertical-align: middle;\n",
       "    }\n",
       "\n",
       "    .dataframe tbody tr th {\n",
       "        vertical-align: top;\n",
       "    }\n",
       "\n",
       "    .dataframe thead th {\n",
       "        text-align: right;\n",
       "    }\n",
       "</style>\n",
       "<table border=\"1\" class=\"dataframe\">\n",
       "  <thead>\n",
       "    <tr style=\"text-align: right;\">\n",
       "      <th></th>\n",
       "      <th>Date</th>\n",
       "      <th>Price</th>\n",
       "      <th>Open</th>\n",
       "      <th>High</th>\n",
       "      <th>Low</th>\n",
       "      <th>Vol.</th>\n",
       "      <th>Change %</th>\n",
       "    </tr>\n",
       "  </thead>\n",
       "  <tbody>\n",
       "    <tr>\n",
       "      <th>0</th>\n",
       "      <td>6/1/2018</td>\n",
       "      <td>11783.9</td>\n",
       "      <td>11642.9</td>\n",
       "      <td>11965.2</td>\n",
       "      <td>11562.3</td>\n",
       "      <td>15.87M</td>\n",
       "      <td>0.52%</td>\n",
       "    </tr>\n",
       "    <tr>\n",
       "      <th>1</th>\n",
       "      <td>6/4/2018</td>\n",
       "      <td>12267.4</td>\n",
       "      <td>11723.5</td>\n",
       "      <td>12267.4</td>\n",
       "      <td>11683.2</td>\n",
       "      <td>16.32M</td>\n",
       "      <td>4.10%</td>\n",
       "    </tr>\n",
       "    <tr>\n",
       "      <th>2</th>\n",
       "      <td>6/5/2018</td>\n",
       "      <td>12267.4</td>\n",
       "      <td>12247.2</td>\n",
       "      <td>12408.4</td>\n",
       "      <td>12005.5</td>\n",
       "      <td>13.13M</td>\n",
       "      <td>0.00%</td>\n",
       "    </tr>\n",
       "    <tr>\n",
       "      <th>3</th>\n",
       "      <td>6/6/2018</td>\n",
       "      <td>12307.6</td>\n",
       "      <td>12126.4</td>\n",
       "      <td>12388.2</td>\n",
       "      <td>12045.8</td>\n",
       "      <td>17.76M</td>\n",
       "      <td>0.33%</td>\n",
       "    </tr>\n",
       "    <tr>\n",
       "      <th>4</th>\n",
       "      <td>6/7/2018</td>\n",
       "      <td>12448.7</td>\n",
       "      <td>12408.4</td>\n",
       "      <td>12650.1</td>\n",
       "      <td>12327.8</td>\n",
       "      <td>22.65M</td>\n",
       "      <td>1.15%</td>\n",
       "    </tr>\n",
       "  </tbody>\n",
       "</table>\n",
       "</div>"
      ],
      "text/plain": [
       "       Date    Price     Open     High      Low    Vol. Change %\n",
       "0  6/1/2018  11783.9  11642.9  11965.2  11562.3  15.87M    0.52%\n",
       "1  6/4/2018  12267.4  11723.5  12267.4  11683.2  16.32M    4.10%\n",
       "2  6/5/2018  12267.4  12247.2  12408.4  12005.5  13.13M    0.00%\n",
       "3  6/6/2018  12307.6  12126.4  12388.2  12045.8  17.76M    0.33%\n",
       "4  6/7/2018  12448.7  12408.4  12650.1  12327.8  22.65M    1.15%"
      ]
     },
     "execution_count": 2,
     "metadata": {},
     "output_type": "execute_result"
    }
   ],
   "source": [
    "df = pd.read_csv('MBB.csv')\n",
    "df.head()"
   ]
  },
  {
   "cell_type": "code",
   "execution_count": 3,
   "id": "bd61e62f",
   "metadata": {},
   "outputs": [],
   "source": [
    "# Take AR Model of lag = 3, 2 differencing for stationary\n",
    "train_size = int(0.7 * len(df))\n",
    "test_size = len(df) - train_size\n",
    "\n",
    "train_data = df['Price'].iloc[:train_size]\n",
    "test_data =  df['Price'].iloc[train_size:]"
   ]
  },
  {
   "cell_type": "code",
   "execution_count": 4,
   "id": "83e941d5",
   "metadata": {},
   "outputs": [
    {
     "name": "stdout",
     "output_type": "stream",
     "text": [
      "Performing stepwise search to minimize aic\n",
      " ARIMA(2,1,2)(0,0,0)[0] intercept   : AIC=12296.501, Time=0.86 sec\n",
      " ARIMA(0,1,0)(0,0,0)[0] intercept   : AIC=12289.832, Time=0.04 sec\n",
      " ARIMA(1,1,0)(0,0,0)[0] intercept   : AIC=12291.279, Time=0.08 sec\n",
      " ARIMA(0,1,1)(0,0,0)[0] intercept   : AIC=12291.305, Time=0.09 sec\n",
      " ARIMA(0,1,0)(0,0,0)[0]             : AIC=12289.881, Time=0.03 sec\n",
      " ARIMA(1,1,1)(0,0,0)[0] intercept   : AIC=12292.965, Time=0.31 sec\n",
      "\n",
      "Best model:  ARIMA(0,1,0)(0,0,0)[0] intercept\n",
      "Total fit time: 1.428 seconds\n",
      "                               SARIMAX Results                                \n",
      "==============================================================================\n",
      "Dep. Variable:                      y   No. Observations:                  869\n",
      "Model:               SARIMAX(0, 1, 0)   Log Likelihood               -6142.916\n",
      "Date:                Fri, 16 Jun 2023   AIC                          12289.832\n",
      "Time:                        22:07:39   BIC                          12299.365\n",
      "Sample:                             0   HQIC                         12293.480\n",
      "                                - 869                                         \n",
      "Covariance Type:                  opg                                         \n",
      "==============================================================================\n",
      "                 coef    std err          z      P>|z|      [0.025      0.975]\n",
      "------------------------------------------------------------------------------\n",
      "intercept     13.9298      9.840      1.416      0.157      -5.356      33.216\n",
      "sigma2      8.215e+04   1852.404     44.348      0.000    7.85e+04    8.58e+04\n",
      "===================================================================================\n",
      "Ljung-Box (L1) (Q):                   0.86   Jarque-Bera (JB):              1943.16\n",
      "Prob(Q):                              0.36   Prob(JB):                         0.00\n",
      "Heteroskedasticity (H):               5.03   Skew:                            -0.46\n",
      "Prob(H) (two-sided):                  0.00   Kurtosis:                        10.27\n",
      "===================================================================================\n",
      "\n",
      "Warnings:\n",
      "[1] Covariance matrix calculated using the outer product of gradients (complex-step).\n"
     ]
    }
   ],
   "source": [
    "from pmdarima.arima import auto_arima\n",
    "best_arima = auto_arima(train_data,trace=True)\n",
    "best_arima.fit(train_data)\n",
    "print(best_arima.summary())"
   ]
  },
  {
   "cell_type": "code",
   "execution_count": 5,
   "id": "4a102f7b",
   "metadata": {},
   "outputs": [
    {
     "name": "stdout",
     "output_type": "stream",
     "text": [
      "                               SARIMAX Results                                \n",
      "==============================================================================\n",
      "Dep. Variable:                  Price   No. Observations:                  869\n",
      "Model:                 ARIMA(0, 1, 0)   Log Likelihood               -5946.595\n",
      "Date:                Fri, 16 Jun 2023   AIC                          11897.190\n",
      "Time:                        22:07:40   BIC                          11906.723\n",
      "Sample:                             0   HQIC                         11900.838\n",
      "                                - 869                                         \n",
      "Covariance Type:                  opg                                         \n",
      "==============================================================================\n",
      "                 coef    std err          z      P>|z|      [0.025      0.975]\n",
      "------------------------------------------------------------------------------\n",
      "High           0.6811      0.017     39.251      0.000       0.647       0.715\n",
      "sigma2      5.227e+04    967.282     54.033      0.000    5.04e+04    5.42e+04\n",
      "===================================================================================\n",
      "Ljung-Box (L1) (Q):                 187.36   Jarque-Bera (JB):              5844.75\n",
      "Prob(Q):                              0.00   Prob(JB):                         0.00\n",
      "Heteroskedasticity (H):               5.28   Skew:                            -0.17\n",
      "Prob(H) (two-sided):                  0.00   Kurtosis:                        15.71\n",
      "===================================================================================\n",
      "\n",
      "Warnings:\n",
      "[1] Covariance matrix calculated using the outer product of gradients (complex-step).\n"
     ]
    }
   ],
   "source": [
    "# summary of fit model\n",
    "arimax_train = df[['Price','High']].iloc[:train_size]\n",
    "arimax_test = df[['Price','High']].iloc[train_size:]\n",
    "arimax_model = ARIMA(arimax_train['Price'],exog=arimax_train['High'],order=(0,1,0))\n",
    "arimax_fitted = arimax_model.fit()\n",
    "print(arimax_fitted.summary())"
   ]
  },
  {
   "cell_type": "code",
   "execution_count": 6,
   "id": "dfc79eb3",
   "metadata": {},
   "outputs": [],
   "source": [
    "# 4. Quá trình testing \n",
    "x_test = np.array(test_data.index).reshape(-1, 1)\n",
    "y_test = np.array(test_data)\n",
    "y_pred_arimax= arimax_fitted.predict(start=len(df)-test_size,end=len(df)-1,exog= arimax_test['High'])\n",
    "\n",
    "# 5. Quá trình Validate\n",
    "x_val= np.array(df['Price'].index).reshape(-1, 1)\n",
    "y_val = np.array(df['Price'])\n",
    "y_pred_val_arimax =  arimax_fitted.predict(start=0,end=train_size-1,exog=arimax_train['High'])\n",
    "y_pred_val_arimax = pd.concat([y_pred_val_arimax,y_pred_arimax])"
   ]
  },
  {
   "cell_type": "code",
   "execution_count": 7,
   "id": "99b94dc3",
   "metadata": {},
   "outputs": [
    {
     "name": "stdout",
     "output_type": "stream",
     "text": [
      "ARIMAX Validation RMSE: 816.4616466504531\n",
      "ARIMAX Testing RMSE: 1436.1836527685405\n",
      "Validation MAPE: 2.6597135784204875\n",
      "Testing MAPE: 6.285826294186022\n",
      "Validation MAE: 463.1601652176162\n",
      "Testing MAE: 1197.200877117767\n"
     ]
    },
    {
     "data": {
      "image/png": "[encoded data removed]",
      "text/plain": [
       "<Figure size 640x480 with 1 Axes>"
      ]
     },
     "metadata": {},
     "output_type": "display_data"
    }
   ],
   "source": [
    "# 7. Đánh giá độ chính xác validate, test\n",
    "valid_rmse = np.sqrt(np.mean((y_pred_val_arimax - y_val)**2))\n",
    "test_rmse = np.sqrt(np.mean((y_pred_arimax - y_test)**2))\n",
    "print('ARIMAX Validation RMSE:', valid_rmse)\n",
    "print('ARIMAX Testing RMSE:', test_rmse)\n",
    "\n",
    "valid_mape = np.mean(np.abs((y_pred_val_arimax - y_val) / y_val)) * 100\n",
    "test_mape = np.mean(np.abs((y_pred_arimax - y_test) / y_test)) * 100\n",
    "print('Validation MAPE:', valid_mape)\n",
    "print('Testing MAPE:', test_mape)\n",
    "\n",
    "valid_mae = np.mean(np.abs(y_pred_val_arimax - y_val))\n",
    "test_mae = np.mean(np.abs(y_pred_arimax - y_test))\n",
    "print('Validation MAE:', valid_mae)\n",
    "print('Testing MAE:', test_mae)\n",
    "\n",
    "# 9.Vẽ hình\n",
    "plt.plot(train_data.index, train_data)\n",
    "plt.plot(test_data.index, test_data)\n",
    "plt.plot(df['Price'].index, y_pred_val_arimax)\n",
    "# plt.plot(last_data,y_next_10_arima)\n",
    "plt.legend(['Train', 'Test', 'Predictions','Validate'])\n",
    "plt.show()"
   ]
  },
  {
   "cell_type": "code",
   "execution_count": null,
   "id": "bc362a79",
   "metadata": {},
   "outputs": [],
   "source": []
  }
 ],
 "metadata": {
  "kernelspec": {
   "display_name": "Python 3 (ipykernel)",
   "language": "python",
   "name": "python3"
  },
  "language_info": {
   "codemirror_mode": {
    "name": "ipython",
    "version": 3
   },
   "file_extension": ".py",
   "mimetype": "text/x-python",
   "name": "python",
   "nbconvert_exporter": "python",
   "pygments_lexer": "ipython3",
   "version": "3.11.2"
  }
 },
 "nbformat": 4,
 "nbformat_minor": 5
}
