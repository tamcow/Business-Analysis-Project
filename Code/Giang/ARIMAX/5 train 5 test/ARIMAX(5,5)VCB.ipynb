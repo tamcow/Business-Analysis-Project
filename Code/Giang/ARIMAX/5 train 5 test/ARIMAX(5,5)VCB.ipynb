{
 "cells": [
  {
   "cell_type": "code",
   "execution_count": 1,
   "id": "98a35022",
   "metadata": {},
   "outputs": [],
   "source": [
    "from statsmodels.tsa.stattools import adfuller\n",
    "from statsmodels.graphics.tsaplots import plot_acf, plot_pacf\n",
    "import numpy as np\n",
    "import pandas as pd\n",
    "import matplotlib.pyplot as plt\n",
    "from sklearn.linear_model import LinearRegression\n",
    "from statsmodels.tsa.arima.model import ARIMA"
   ]
  },
  {
   "cell_type": "code",
   "execution_count": 2,
   "id": "34656a32",
   "metadata": {},
   "outputs": [
    {
     "data": {
      "text/html": [
       "<div>\n",
       "<style scoped>\n",
       "    .dataframe tbody tr th:only-of-type {\n",
       "        vertical-align: middle;\n",
       "    }\n",
       "\n",
       "    .dataframe tbody tr th {\n",
       "        vertical-align: top;\n",
       "    }\n",
       "\n",
       "    .dataframe thead th {\n",
       "        text-align: right;\n",
       "    }\n",
       "</style>\n",
       "<table border=\"1\" class=\"dataframe\">\n",
       "  <thead>\n",
       "    <tr style=\"text-align: right;\">\n",
       "      <th></th>\n",
       "      <th>Date</th>\n",
       "      <th>Price</th>\n",
       "      <th>Open</th>\n",
       "      <th>High</th>\n",
       "      <th>Low</th>\n",
       "      <th>Vol.</th>\n",
       "      <th>Change %</th>\n",
       "    </tr>\n",
       "  </thead>\n",
       "  <tbody>\n",
       "    <tr>\n",
       "      <th>0</th>\n",
       "      <td>6/1/2018</td>\n",
       "      <td>43216</td>\n",
       "      <td>41017</td>\n",
       "      <td>43595</td>\n",
       "      <td>40866</td>\n",
       "      <td>7.57M</td>\n",
       "      <td>5.36%</td>\n",
       "    </tr>\n",
       "    <tr>\n",
       "      <th>1</th>\n",
       "      <td>6/4/2018</td>\n",
       "      <td>44960</td>\n",
       "      <td>42837</td>\n",
       "      <td>45187</td>\n",
       "      <td>42458</td>\n",
       "      <td>4.90M</td>\n",
       "      <td>4.04%</td>\n",
       "    </tr>\n",
       "    <tr>\n",
       "      <th>2</th>\n",
       "      <td>6/5/2018</td>\n",
       "      <td>44429</td>\n",
       "      <td>44429</td>\n",
       "      <td>45187</td>\n",
       "      <td>43747</td>\n",
       "      <td>4.51M</td>\n",
       "      <td>-1.18%</td>\n",
       "    </tr>\n",
       "    <tr>\n",
       "      <th>3</th>\n",
       "      <td>6/6/2018</td>\n",
       "      <td>44808</td>\n",
       "      <td>44050</td>\n",
       "      <td>45263</td>\n",
       "      <td>43671</td>\n",
       "      <td>2.79M</td>\n",
       "      <td>0.85%</td>\n",
       "    </tr>\n",
       "    <tr>\n",
       "      <th>4</th>\n",
       "      <td>6/7/2018</td>\n",
       "      <td>44505</td>\n",
       "      <td>44732</td>\n",
       "      <td>44960</td>\n",
       "      <td>44278</td>\n",
       "      <td>3.24M</td>\n",
       "      <td>-0.68%</td>\n",
       "    </tr>\n",
       "  </tbody>\n",
       "</table>\n",
       "</div>"
      ],
      "text/plain": [
       "       Date  Price   Open   High    Low   Vol. Change %\n",
       "0  6/1/2018  43216  41017  43595  40866  7.57M    5.36%\n",
       "1  6/4/2018  44960  42837  45187  42458  4.90M    4.04%\n",
       "2  6/5/2018  44429  44429  45187  43747  4.51M   -1.18%\n",
       "3  6/6/2018  44808  44050  45263  43671  2.79M    0.85%\n",
       "4  6/7/2018  44505  44732  44960  44278  3.24M   -0.68%"
      ]
     },
     "execution_count": 2,
     "metadata": {},
     "output_type": "execute_result"
    }
   ],
   "source": [
    "df = pd.read_csv('VCB.csv')\n",
    "df.head()"
   ]
  },
  {
   "cell_type": "code",
   "execution_count": 3,
   "id": "bd61e62f",
   "metadata": {},
   "outputs": [],
   "source": [
    "# Take AR Model of lag = 3, 2 differencing for stationary\n",
    "train_size = int(0.5 * len(df))\n",
    "test_size = len(df) - train_size\n",
    "\n",
    "train_data = df['Price'].iloc[:train_size]\n",
    "test_data =  df['Price'].iloc[train_size:]"
   ]
  },
  {
   "cell_type": "code",
   "execution_count": 4,
   "id": "7bf66e4c",
   "metadata": {},
   "outputs": [
    {
     "name": "stdout",
     "output_type": "stream",
     "text": [
      "Performing stepwise search to minimize aic\n",
      " ARIMA(2,1,2)(0,0,0)[0] intercept   : AIC=10242.432, Time=0.78 sec\n",
      " ARIMA(0,1,0)(0,0,0)[0] intercept   : AIC=10257.053, Time=0.03 sec\n",
      " ARIMA(1,1,0)(0,0,0)[0] intercept   : AIC=10256.453, Time=0.08 sec\n",
      " ARIMA(0,1,1)(0,0,0)[0] intercept   : AIC=10256.436, Time=0.12 sec\n",
      " ARIMA(0,1,0)(0,0,0)[0]             : AIC=10256.101, Time=0.03 sec\n",
      " ARIMA(1,1,2)(0,0,0)[0] intercept   : AIC=10260.474, Time=0.16 sec\n",
      " ARIMA(2,1,1)(0,0,0)[0] intercept   : AIC=inf, Time=0.47 sec\n",
      " ARIMA(3,1,2)(0,0,0)[0] intercept   : AIC=10263.400, Time=1.02 sec\n",
      " ARIMA(2,1,3)(0,0,0)[0] intercept   : AIC=10258.452, Time=1.69 sec\n",
      " ARIMA(1,1,1)(0,0,0)[0] intercept   : AIC=10258.432, Time=0.37 sec\n",
      " ARIMA(1,1,3)(0,0,0)[0] intercept   : AIC=10262.432, Time=0.22 sec\n",
      " ARIMA(3,1,1)(0,0,0)[0] intercept   : AIC=10262.427, Time=0.18 sec\n",
      " ARIMA(3,1,3)(0,0,0)[0] intercept   : AIC=10257.670, Time=1.94 sec\n",
      " ARIMA(2,1,2)(0,0,0)[0]             : AIC=10240.858, Time=0.57 sec\n",
      " ARIMA(1,1,2)(0,0,0)[0]             : AIC=10259.344, Time=0.11 sec\n",
      " ARIMA(2,1,1)(0,0,0)[0]             : AIC=10258.387, Time=0.24 sec\n",
      " ARIMA(3,1,2)(0,0,0)[0]             : AIC=10262.000, Time=0.82 sec\n",
      " ARIMA(2,1,3)(0,0,0)[0]             : AIC=10257.275, Time=1.45 sec\n",
      " ARIMA(1,1,1)(0,0,0)[0]             : AIC=10257.306, Time=0.13 sec\n",
      " ARIMA(1,1,3)(0,0,0)[0]             : AIC=10261.305, Time=0.12 sec\n",
      " ARIMA(3,1,1)(0,0,0)[0]             : AIC=10261.305, Time=0.10 sec\n",
      " ARIMA(3,1,3)(0,0,0)[0]             : AIC=10256.281, Time=1.45 sec\n",
      "\n",
      "Best model:  ARIMA(2,1,2)(0,0,0)[0]          \n",
      "Total fit time: 12.127 seconds\n",
      "                               SARIMAX Results                                \n",
      "==============================================================================\n",
      "Dep. Variable:                      y   No. Observations:                  621\n",
      "Model:               SARIMAX(2, 1, 2)   Log Likelihood               -5115.429\n",
      "Date:                Fri, 16 Jun 2023   AIC                          10240.858\n",
      "Time:                        22:13:25   BIC                          10263.007\n",
      "Sample:                             0   HQIC                         10249.468\n",
      "                                - 621                                         \n",
      "Covariance Type:                  opg                                         \n",
      "==============================================================================\n",
      "                 coef    std err          z      P>|z|      [0.025      0.975]\n",
      "------------------------------------------------------------------------------\n",
      "ar.L1         -1.6345      0.020    -82.949      0.000      -1.673      -1.596\n",
      "ar.L2         -0.9558      0.019    -51.329      0.000      -0.992      -0.919\n",
      "ma.L1          1.6686      0.020     82.163      0.000       1.629       1.708\n",
      "ma.L2          0.9671      0.020     47.375      0.000       0.927       1.007\n",
      "sigma2      8.761e+05   3.63e+04     24.165      0.000    8.05e+05    9.47e+05\n",
      "===================================================================================\n",
      "Ljung-Box (L1) (Q):                   0.32   Jarque-Bera (JB):               177.08\n",
      "Prob(Q):                              0.57   Prob(JB):                         0.00\n",
      "Heteroskedasticity (H):               1.98   Skew:                            -0.29\n",
      "Prob(H) (two-sided):                  0.00   Kurtosis:                         5.55\n",
      "===================================================================================\n",
      "\n",
      "Warnings:\n",
      "[1] Covariance matrix calculated using the outer product of gradients (complex-step).\n"
     ]
    }
   ],
   "source": [
    "from pmdarima.arima import auto_arima\n",
    "best_arima = auto_arima(train_data,trace=True)\n",
    "best_arima.fit(train_data)\n",
    "print(best_arima.summary())"
   ]
  },
  {
   "cell_type": "code",
   "execution_count": 5,
   "id": "4a102f7b",
   "metadata": {},
   "outputs": [
    {
     "name": "stdout",
     "output_type": "stream",
     "text": [
      "                               SARIMAX Results                                \n",
      "==============================================================================\n",
      "Dep. Variable:                  Price   No. Observations:                  621\n",
      "Model:                 ARIMA(2, 1, 2)   Log Likelihood               -4764.812\n",
      "Date:                Fri, 16 Jun 2023   AIC                           9541.624\n",
      "Time:                        22:13:28   BIC                           9568.202\n",
      "Sample:                             0   HQIC                          9551.955\n",
      "                                - 621                                         \n",
      "Covariance Type:                  opg                                         \n",
      "==============================================================================\n",
      "                 coef    std err          z      P>|z|      [0.025      0.975]\n",
      "------------------------------------------------------------------------------\n",
      "High           1.0027      0.005    205.237      0.000       0.993       1.012\n",
      "ar.L1         -0.9690      0.041    -23.859      0.000      -1.049      -0.889\n",
      "ar.L2          0.0309      0.041      0.747      0.455      -0.050       0.112\n",
      "ma.L1          0.0308      0.046      0.667      0.505      -0.060       0.121\n",
      "ma.L2         -0.9692      0.045    -21.619      0.000      -1.057      -0.881\n",
      "sigma2       2.76e+05   3.43e-07   8.04e+11      0.000    2.76e+05    2.76e+05\n",
      "===================================================================================\n",
      "Ljung-Box (L1) (Q):                   0.01   Jarque-Bera (JB):               439.52\n",
      "Prob(Q):                              0.94   Prob(JB):                         0.00\n",
      "Heteroskedasticity (H):               1.69   Skew:                            -1.39\n",
      "Prob(H) (two-sided):                  0.00   Kurtosis:                         6.04\n",
      "===================================================================================\n",
      "\n",
      "Warnings:\n",
      "[1] Covariance matrix calculated using the outer product of gradients (complex-step).\n",
      "[2] Covariance matrix is singular or near-singular, with condition number 1.46e+26. Standard errors may be unstable.\n"
     ]
    }
   ],
   "source": [
    "# summary of fit model\n",
    "arimax_train = df[['Price','High']].iloc[:train_size]\n",
    "arimax_test = df[['Price','High']].iloc[train_size:]\n",
    "arimax_model = ARIMA(arimax_train['Price'],exog=arimax_train['High'],order=(2,1,2))\n",
    "arimax_fitted = arimax_model.fit()\n",
    "print(arimax_fitted.summary())"
   ]
  },
  {
   "cell_type": "code",
   "execution_count": 6,
   "id": "dfc79eb3",
   "metadata": {},
   "outputs": [],
   "source": [
    "# 4. Quá trình testing \n",
    "x_test = np.array(test_data.index).reshape(-1, 1)\n",
    "y_test = np.array(test_data)\n",
    "y_pred_arimax= arimax_fitted.predict(start=len(df)-test_size,end=len(df)-1,exog= arimax_test['High'])\n",
    "\n",
    "# 5. Quá trình Validate\n",
    "x_val= np.array(df['Price'].index).reshape(-1, 1)\n",
    "y_val = np.array(df['Price'])\n",
    "y_pred_val_arimax =  arimax_fitted.predict(start=0,end=train_size-1,exog=arimax_train['High'])\n",
    "y_pred_val_arimax = pd.concat([y_pred_val_arimax,y_pred_arimax])"
   ]
  },
  {
   "cell_type": "code",
   "execution_count": 7,
   "id": "99b94dc3",
   "metadata": {},
   "outputs": [
    {
     "name": "stdout",
     "output_type": "stream",
     "text": [
      "ARIMAX Validation RMSE: 822.6332227757473\n",
      "ARIMAX Testing RMSE: 1037.5257627310025\n",
      "Validation MAPE: 0.816715735866683\n",
      "Testing MAPE: 0.9039053171731469\n",
      "Validation MAE: 554.1046387540746\n",
      "Testing MAE: 710.786825230324\n"
     ]
    },
    {
     "data": {
      "image/png": "[encoded data removed]",
      "text/plain": [
       "<Figure size 640x480 with 1 Axes>"
      ]
     },
     "metadata": {},
     "output_type": "display_data"
    }
   ],
   "source": [
    "# 7. Đánh giá độ chính xác validate, test\n",
    "valid_rmse = np.sqrt(np.mean((y_pred_val_arimax - y_val)**2))\n",
    "test_rmse = np.sqrt(np.mean((y_pred_arimax - y_test)**2))\n",
    "print('ARIMAX Validation RMSE:', valid_rmse)\n",
    "print('ARIMAX Testing RMSE:', test_rmse)\n",
    "\n",
    "valid_mape = np.mean(np.abs((y_pred_val_arimax - y_val) / y_val)) * 100\n",
    "test_mape = np.mean(np.abs((y_pred_arimax - y_test) / y_test)) * 100\n",
    "print('Validation MAPE:', valid_mape)\n",
    "print('Testing MAPE:', test_mape)\n",
    "\n",
    "valid_mae = np.mean(np.abs(y_pred_val_arimax - y_val))\n",
    "test_mae = np.mean(np.abs(y_pred_arimax - y_test))\n",
    "print('Validation MAE:', valid_mae)\n",
    "print('Testing MAE:', test_mae)\n",
    "\n",
    "# 9.Vẽ hình\n",
    "plt.plot(train_data.index, train_data)\n",
    "plt.plot(test_data.index, test_data)\n",
    "plt.plot(df['Price'].index, y_pred_val_arimax)\n",
    "# plt.plot(last_data,y_next_10_arima)\n",
    "plt.legend(['Train', 'Test', 'Predictions','Validate'])\n",
    "plt.show()"
   ]
  },
  {
   "cell_type": "code",
   "execution_count": null,
   "id": "bc362a79",
   "metadata": {},
   "outputs": [],
   "source": []
  },
  {
   "cell_type": "code",
   "execution_count": null,
   "id": "ce01d7db",
   "metadata": {},
   "outputs": [],
   "source": []
  }
 ],
 "metadata": {
  "kernelspec": {
   "display_name": "Python 3 (ipykernel)",
   "language": "python",
   "name": "python3"
  },
  "language_info": {
   "codemirror_mode": {
    "name": "ipython",
    "version": 3
   },
   "file_extension": ".py",
   "mimetype": "text/x-python",
   "name": "python",
   "nbconvert_exporter": "python",
   "pygments_lexer": "ipython3",
   "version": "3.11.2"
  }
 },
 "nbformat": 4,
 "nbformat_minor": 5
}
