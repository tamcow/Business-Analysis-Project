{
 "cells": [
  {
   "cell_type": "code",
   "execution_count": 1,
   "id": "98a35022",
   "metadata": {},
   "outputs": [],
   "source": [
    "from statsmodels.tsa.stattools import adfuller\n",
    "from statsmodels.graphics.tsaplots import plot_acf, plot_pacf\n",
    "import numpy as np\n",
    "import pandas as pd\n",
    "import matplotlib.pyplot as plt\n",
    "from sklearn.linear_model import LinearRegression\n",
    "from statsmodels.tsa.arima.model import ARIMA"
   ]
  },
  {
   "cell_type": "code",
   "execution_count": 2,
   "id": "34656a32",
   "metadata": {},
   "outputs": [
    {
     "data": {
      "text/html": [
       "<div>\n",
       "<style scoped>\n",
       "    .dataframe tbody tr th:only-of-type {\n",
       "        vertical-align: middle;\n",
       "    }\n",
       "\n",
       "    .dataframe tbody tr th {\n",
       "        vertical-align: top;\n",
       "    }\n",
       "\n",
       "    .dataframe thead th {\n",
       "        text-align: right;\n",
       "    }\n",
       "</style>\n",
       "<table border=\"1\" class=\"dataframe\">\n",
       "  <thead>\n",
       "    <tr style=\"text-align: right;\">\n",
       "      <th></th>\n",
       "      <th>Date</th>\n",
       "      <th>Price</th>\n",
       "      <th>Open</th>\n",
       "      <th>High</th>\n",
       "      <th>Low</th>\n",
       "      <th>Vol.</th>\n",
       "      <th>Change %</th>\n",
       "    </tr>\n",
       "  </thead>\n",
       "  <tbody>\n",
       "    <tr>\n",
       "      <th>0</th>\n",
       "      <td>06/01/2018</td>\n",
       "      <td>11750</td>\n",
       "      <td>11700</td>\n",
       "      <td>12000</td>\n",
       "      <td>11700</td>\n",
       "      <td>4.31M</td>\n",
       "      <td>0.0000</td>\n",
       "    </tr>\n",
       "    <tr>\n",
       "      <th>1</th>\n",
       "      <td>06/04/2018</td>\n",
       "      <td>12550</td>\n",
       "      <td>12000</td>\n",
       "      <td>12550</td>\n",
       "      <td>12000</td>\n",
       "      <td>7.42M</td>\n",
       "      <td>0.0681</td>\n",
       "    </tr>\n",
       "    <tr>\n",
       "      <th>2</th>\n",
       "      <td>06/05/2018</td>\n",
       "      <td>12900</td>\n",
       "      <td>12700</td>\n",
       "      <td>13150</td>\n",
       "      <td>12600</td>\n",
       "      <td>8.11M</td>\n",
       "      <td>0.0279</td>\n",
       "    </tr>\n",
       "    <tr>\n",
       "      <th>3</th>\n",
       "      <td>06/06/2018</td>\n",
       "      <td>13300</td>\n",
       "      <td>12800</td>\n",
       "      <td>13450</td>\n",
       "      <td>12700</td>\n",
       "      <td>8.48M</td>\n",
       "      <td>0.0310</td>\n",
       "    </tr>\n",
       "    <tr>\n",
       "      <th>4</th>\n",
       "      <td>06/07/2018</td>\n",
       "      <td>13000</td>\n",
       "      <td>13300</td>\n",
       "      <td>13350</td>\n",
       "      <td>12950</td>\n",
       "      <td>7.11M</td>\n",
       "      <td>-0.0226</td>\n",
       "    </tr>\n",
       "  </tbody>\n",
       "</table>\n",
       "</div>"
      ],
      "text/plain": [
       "         Date  Price   Open   High    Low   Vol.  Change %\n",
       "0  06/01/2018  11750  11700  12000  11700  4.31M    0.0000\n",
       "1  06/04/2018  12550  12000  12550  12000  7.42M    0.0681\n",
       "2  06/05/2018  12900  12700  13150  12600  8.11M    0.0279\n",
       "3  06/06/2018  13300  12800  13450  12700  8.48M    0.0310\n",
       "4  06/07/2018  13000  13300  13350  12950  7.11M   -0.0226"
      ]
     },
     "execution_count": 2,
     "metadata": {},
     "output_type": "execute_result"
    }
   ],
   "source": [
    "df = pd.read_csv('STB.csv')\n",
    "df.head()"
   ]
  },
  {
   "cell_type": "code",
   "execution_count": 3,
   "id": "bd61e62f",
   "metadata": {},
   "outputs": [],
   "source": [
    "# Take AR Model of lag = 3, 2 differencing for stationary\n",
    "train_size = int(0.5 * len(df))\n",
    "test_size = len(df) - train_size\n",
    "\n",
    "train_data = df['Price'].iloc[:train_size]\n",
    "test_data =  df['Price'].iloc[train_size:]"
   ]
  },
  {
   "cell_type": "code",
   "execution_count": 4,
   "id": "7bf66e4c",
   "metadata": {},
   "outputs": [
    {
     "name": "stdout",
     "output_type": "stream",
     "text": [
      "Performing stepwise search to minimize aic\n",
      " ARIMA(2,1,2)(0,0,0)[0] intercept   : AIC=8557.783, Time=0.83 sec\n",
      " ARIMA(0,1,0)(0,0,0)[0] intercept   : AIC=8561.591, Time=0.03 sec\n",
      " ARIMA(1,1,0)(0,0,0)[0] intercept   : AIC=8563.518, Time=0.19 sec\n",
      " ARIMA(0,1,1)(0,0,0)[0] intercept   : AIC=8563.741, Time=0.09 sec\n",
      " ARIMA(0,1,0)(0,0,0)[0]             : AIC=8559.759, Time=0.02 sec\n",
      " ARIMA(1,1,2)(0,0,0)[0] intercept   : AIC=8565.723, Time=0.50 sec\n",
      " ARIMA(2,1,1)(0,0,0)[0] intercept   : AIC=8565.944, Time=0.58 sec\n",
      " ARIMA(3,1,2)(0,0,0)[0] intercept   : AIC=8561.914, Time=0.86 sec\n",
      " ARIMA(2,1,3)(0,0,0)[0] intercept   : AIC=inf, Time=1.24 sec\n",
      " ARIMA(1,1,1)(0,0,0)[0] intercept   : AIC=8564.985, Time=0.44 sec\n",
      " ARIMA(1,1,3)(0,0,0)[0] intercept   : AIC=8566.103, Time=0.78 sec\n",
      " ARIMA(3,1,1)(0,0,0)[0] intercept   : AIC=8566.726, Time=0.82 sec\n",
      " ARIMA(3,1,3)(0,0,0)[0] intercept   : AIC=inf, Time=2.10 sec\n",
      " ARIMA(2,1,2)(0,0,0)[0]             : AIC=8555.906, Time=0.57 sec\n",
      " ARIMA(1,1,2)(0,0,0)[0]             : AIC=8563.996, Time=0.18 sec\n",
      " ARIMA(2,1,1)(0,0,0)[0]             : AIC=8564.268, Time=0.19 sec\n",
      " ARIMA(3,1,2)(0,0,0)[0]             : AIC=8560.004, Time=0.56 sec\n",
      " ARIMA(2,1,3)(0,0,0)[0]             : AIC=inf, Time=1.61 sec\n",
      " ARIMA(1,1,1)(0,0,0)[0]             : AIC=8563.127, Time=0.29 sec\n",
      " ARIMA(1,1,3)(0,0,0)[0]             : AIC=8564.231, Time=0.55 sec\n",
      " ARIMA(3,1,1)(0,0,0)[0]             : AIC=8564.840, Time=0.52 sec\n",
      " ARIMA(3,1,3)(0,0,0)[0]             : AIC=inf, Time=1.66 sec\n",
      "\n",
      "Best model:  ARIMA(2,1,2)(0,0,0)[0]          \n",
      "Total fit time: 14.616 seconds\n",
      "                               SARIMAX Results                                \n",
      "==============================================================================\n",
      "Dep. Variable:                      y   No. Observations:                  621\n",
      "Model:               SARIMAX(2, 1, 2)   Log Likelihood               -4272.953\n",
      "Date:                Fri, 16 Jun 2023   AIC                           8555.906\n",
      "Time:                        22:15:24   BIC                           8578.054\n",
      "Sample:                             0   HQIC                          8564.515\n",
      "                                - 621                                         \n",
      "Covariance Type:                  opg                                         \n",
      "==============================================================================\n",
      "                 coef    std err          z      P>|z|      [0.025      0.975]\n",
      "------------------------------------------------------------------------------\n",
      "ar.L1          0.7075      0.032     22.378      0.000       0.645       0.769\n",
      "ar.L2         -0.9234      0.028    -32.801      0.000      -0.979      -0.868\n",
      "ma.L1         -0.7092      0.018    -40.188      0.000      -0.744      -0.675\n",
      "ma.L2          0.9747      0.018     55.445      0.000       0.940       1.009\n",
      "sigma2      5.647e+04   2346.542     24.063      0.000    5.19e+04    6.11e+04\n",
      "===================================================================================\n",
      "Ljung-Box (L1) (Q):                   0.05   Jarque-Bera (JB):               104.51\n",
      "Prob(Q):                              0.82   Prob(JB):                         0.00\n",
      "Heteroskedasticity (H):               1.36   Skew:                             0.31\n",
      "Prob(H) (two-sided):                  0.03   Kurtosis:                         4.91\n",
      "===================================================================================\n",
      "\n",
      "Warnings:\n",
      "[1] Covariance matrix calculated using the outer product of gradients (complex-step).\n"
     ]
    }
   ],
   "source": [
    "from pmdarima.arima import auto_arima\n",
    "best_arima = auto_arima(train_data,trace=True)\n",
    "best_arima.fit(train_data)\n",
    "print(best_arima.summary())"
   ]
  },
  {
   "cell_type": "code",
   "execution_count": 5,
   "id": "4a102f7b",
   "metadata": {},
   "outputs": [
    {
     "name": "stderr",
     "output_type": "stream",
     "text": [
      "C:\\Users\\giangle\\AppData\\Local\\Programs\\Python\\Python311\\Lib\\site-packages\\statsmodels\\tsa\\statespace\\sarimax.py:966: UserWarning: Non-stationary starting autoregressive parameters found. Using zeros as starting parameters.\n",
      "  warn('Non-stationary starting autoregressive parameters'\n",
      "C:\\Users\\giangle\\AppData\\Local\\Programs\\Python\\Python311\\Lib\\site-packages\\statsmodels\\tsa\\statespace\\sarimax.py:978: UserWarning: Non-invertible starting MA parameters found. Using zeros as starting parameters.\n",
      "  warn('Non-invertible starting MA parameters found.'\n"
     ]
    },
    {
     "name": "stdout",
     "output_type": "stream",
     "text": [
      "                               SARIMAX Results                                \n",
      "==============================================================================\n",
      "Dep. Variable:                  Price   No. Observations:                  621\n",
      "Model:                 ARIMA(2, 1, 2)   Log Likelihood               -3923.114\n",
      "Date:                Fri, 16 Jun 2023   AIC                           7858.227\n",
      "Time:                        22:15:45   BIC                           7884.805\n",
      "Sample:                             0   HQIC                          7868.558\n",
      "                                - 621                                         \n",
      "Covariance Type:                  opg                                         \n",
      "==============================================================================\n",
      "                 coef    std err          z      P>|z|      [0.025      0.975]\n",
      "------------------------------------------------------------------------------\n",
      "High           0.9597      0.008    123.927      0.000       0.945       0.975\n",
      "ar.L1          0.5590      0.160      3.484      0.000       0.245       0.873\n",
      "ar.L2          0.1509      0.037      4.114      0.000       0.079       0.223\n",
      "ma.L1         -1.5453      0.161     -9.582      0.000      -1.861      -1.229\n",
      "ma.L2          0.5604      0.152      3.688      0.000       0.263       0.858\n",
      "sigma2      1.821e+04    523.056     34.824      0.000    1.72e+04    1.92e+04\n",
      "===================================================================================\n",
      "Ljung-Box (L1) (Q):                   0.00   Jarque-Bera (JB):              1564.12\n",
      "Prob(Q):                              0.95   Prob(JB):                         0.00\n",
      "Heteroskedasticity (H):               1.62   Skew:                            -1.54\n",
      "Prob(H) (two-sided):                  0.00   Kurtosis:                        10.15\n",
      "===================================================================================\n",
      "\n",
      "Warnings:\n",
      "[1] Covariance matrix calculated using the outer product of gradients (complex-step).\n"
     ]
    }
   ],
   "source": [
    "# summary of fit model\n",
    "arimax_train = df[['Price','High']].iloc[:train_size]\n",
    "arimax_test = df[['Price','High']].iloc[train_size:]\n",
    "arimax_model = ARIMA(arimax_train['Price'],exog=arimax_train['High'],order=(2,1,2))\n",
    "arimax_fitted = arimax_model.fit()\n",
    "print(arimax_fitted.summary())"
   ]
  },
  {
   "cell_type": "code",
   "execution_count": 6,
   "id": "dfc79eb3",
   "metadata": {},
   "outputs": [],
   "source": [
    "# 4. Quá trình testing \n",
    "x_test = np.array(test_data.index).reshape(-1, 1)\n",
    "y_test = np.array(test_data)\n",
    "y_pred_arimax= arimax_fitted.predict(start=len(df)-test_size,end=len(df)-1,exog= arimax_test['High'])\n",
    "\n",
    "# 5. Quá trình Validate\n",
    "x_val= np.array(df['Price'].index).reshape(-1, 1)\n",
    "y_val = np.array(df['Price'])\n",
    "y_pred_val_arimax =  arimax_fitted.predict(start=0,end=train_size-1,exog=arimax_train['High'])\n",
    "y_pred_val_arimax = pd.concat([y_pred_val_arimax,y_pred_arimax])"
   ]
  },
  {
   "cell_type": "code",
   "execution_count": 7,
   "id": "99b94dc3",
   "metadata": {},
   "outputs": [
    {
     "name": "stdout",
     "output_type": "stream",
     "text": [
      "ARIMAX Validation RMSE: 367.73766674512217\n",
      "ARIMAX Testing RMSE: 502.009429928012\n",
      "Validation MAPE: 1.2547606378599818\n",
      "Testing MAPE: 1.661629479388533\n",
      "Validation MAE: 254.32217379042905\n",
      "Testing MAE: 412.47685090617756\n"
     ]
    },
    {
     "data": {
      "image/png": "[encoded data removed]",
      "text/plain": [
       "<Figure size 640x480 with 1 Axes>"
      ]
     },
     "metadata": {},
     "output_type": "display_data"
    }
   ],
   "source": [
    "# 7. Đánh giá độ chính xác validate, test\n",
    "valid_rmse = np.sqrt(np.mean((y_pred_val_arimax - y_val)**2))\n",
    "test_rmse = np.sqrt(np.mean((y_pred_arimax - y_test)**2))\n",
    "print('ARIMAX Validation RMSE:', valid_rmse)\n",
    "print('ARIMAX Testing RMSE:', test_rmse)\n",
    "\n",
    "valid_mape = np.mean(np.abs((y_pred_val_arimax - y_val) / y_val)) * 100\n",
    "test_mape = np.mean(np.abs((y_pred_arimax - y_test) / y_test)) * 100\n",
    "print('Validation MAPE:', valid_mape)\n",
    "print('Testing MAPE:', test_mape)\n",
    "\n",
    "valid_mae = np.mean(np.abs(y_pred_val_arimax - y_val))\n",
    "test_mae = np.mean(np.abs(y_pred_arimax - y_test))\n",
    "print('Validation MAE:', valid_mae)\n",
    "print('Testing MAE:', test_mae)\n",
    "\n",
    "# 9.Vẽ hình\n",
    "plt.plot(train_data.index, train_data)\n",
    "plt.plot(test_data.index, test_data)\n",
    "plt.plot(df['Price'].index, y_pred_val_arimax)\n",
    "# plt.plot(last_data,y_next_10_arima)\n",
    "plt.legend(['Train', 'Test', 'Predictions','Validate'])\n",
    "plt.show()"
   ]
  },
  {
   "cell_type": "code",
   "execution_count": null,
   "id": "bc362a79",
   "metadata": {},
   "outputs": [],
   "source": []
  }
 ],
 "metadata": {
  "kernelspec": {
   "display_name": "Python 3 (ipykernel)",
   "language": "python",
   "name": "python3"
  },
  "language_info": {
   "codemirror_mode": {
    "name": "ipython",
    "version": 3
   },
   "file_extension": ".py",
   "mimetype": "text/x-python",
   "name": "python",
   "nbconvert_exporter": "python",
   "pygments_lexer": "ipython3",
   "version": "3.11.2"
  }
 },
 "nbformat": 4,
 "nbformat_minor": 5
}
