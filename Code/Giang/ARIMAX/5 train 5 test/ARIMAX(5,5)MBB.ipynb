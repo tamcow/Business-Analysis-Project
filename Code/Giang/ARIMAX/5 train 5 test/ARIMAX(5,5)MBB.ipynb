{
 "cells": [
  {
   "cell_type": "code",
   "execution_count": 1,
   "id": "98a35022",
   "metadata": {},
   "outputs": [],
   "source": [
    "from statsmodels.tsa.stattools import adfuller\n",
    "from statsmodels.graphics.tsaplots import plot_acf, plot_pacf\n",
    "import numpy as np\n",
    "import pandas as pd\n",
    "import matplotlib.pyplot as plt\n",
    "from sklearn.linear_model import LinearRegression\n",
    "from statsmodels.tsa.arima.model import ARIMA"
   ]
  },
  {
   "cell_type": "code",
   "execution_count": 2,
   "id": "34656a32",
   "metadata": {},
   "outputs": [
    {
     "data": {
      "text/html": [
       "<div>\n",
       "<style scoped>\n",
       "    .dataframe tbody tr th:only-of-type {\n",
       "        vertical-align: middle;\n",
       "    }\n",
       "\n",
       "    .dataframe tbody tr th {\n",
       "        vertical-align: top;\n",
       "    }\n",
       "\n",
       "    .dataframe thead th {\n",
       "        text-align: right;\n",
       "    }\n",
       "</style>\n",
       "<table border=\"1\" class=\"dataframe\">\n",
       "  <thead>\n",
       "    <tr style=\"text-align: right;\">\n",
       "      <th></th>\n",
       "      <th>Date</th>\n",
       "      <th>Price</th>\n",
       "      <th>Open</th>\n",
       "      <th>High</th>\n",
       "      <th>Low</th>\n",
       "      <th>Vol.</th>\n",
       "      <th>Change %</th>\n",
       "    </tr>\n",
       "  </thead>\n",
       "  <tbody>\n",
       "    <tr>\n",
       "      <th>0</th>\n",
       "      <td>6/1/2018</td>\n",
       "      <td>11783.9</td>\n",
       "      <td>11642.9</td>\n",
       "      <td>11965.2</td>\n",
       "      <td>11562.3</td>\n",
       "      <td>15.87M</td>\n",
       "      <td>0.52%</td>\n",
       "    </tr>\n",
       "    <tr>\n",
       "      <th>1</th>\n",
       "      <td>6/4/2018</td>\n",
       "      <td>12267.4</td>\n",
       "      <td>11723.5</td>\n",
       "      <td>12267.4</td>\n",
       "      <td>11683.2</td>\n",
       "      <td>16.32M</td>\n",
       "      <td>4.10%</td>\n",
       "    </tr>\n",
       "    <tr>\n",
       "      <th>2</th>\n",
       "      <td>6/5/2018</td>\n",
       "      <td>12267.4</td>\n",
       "      <td>12247.2</td>\n",
       "      <td>12408.4</td>\n",
       "      <td>12005.5</td>\n",
       "      <td>13.13M</td>\n",
       "      <td>0.00%</td>\n",
       "    </tr>\n",
       "    <tr>\n",
       "      <th>3</th>\n",
       "      <td>6/6/2018</td>\n",
       "      <td>12307.6</td>\n",
       "      <td>12126.4</td>\n",
       "      <td>12388.2</td>\n",
       "      <td>12045.8</td>\n",
       "      <td>17.76M</td>\n",
       "      <td>0.33%</td>\n",
       "    </tr>\n",
       "    <tr>\n",
       "      <th>4</th>\n",
       "      <td>6/7/2018</td>\n",
       "      <td>12448.7</td>\n",
       "      <td>12408.4</td>\n",
       "      <td>12650.1</td>\n",
       "      <td>12327.8</td>\n",
       "      <td>22.65M</td>\n",
       "      <td>1.15%</td>\n",
       "    </tr>\n",
       "  </tbody>\n",
       "</table>\n",
       "</div>"
      ],
      "text/plain": [
       "       Date    Price     Open     High      Low    Vol. Change %\n",
       "0  6/1/2018  11783.9  11642.9  11965.2  11562.3  15.87M    0.52%\n",
       "1  6/4/2018  12267.4  11723.5  12267.4  11683.2  16.32M    4.10%\n",
       "2  6/5/2018  12267.4  12247.2  12408.4  12005.5  13.13M    0.00%\n",
       "3  6/6/2018  12307.6  12126.4  12388.2  12045.8  17.76M    0.33%\n",
       "4  6/7/2018  12448.7  12408.4  12650.1  12327.8  22.65M    1.15%"
      ]
     },
     "execution_count": 2,
     "metadata": {},
     "output_type": "execute_result"
    }
   ],
   "source": [
    "df = pd.read_csv('MBB.csv')\n",
    "df.head()"
   ]
  },
  {
   "cell_type": "code",
   "execution_count": 3,
   "id": "bd61e62f",
   "metadata": {},
   "outputs": [],
   "source": [
    "# Take AR Model of lag = 3, 2 differencing for stationary\n",
    "train_size = int(0.5 * len(df))\n",
    "test_size = len(df) - train_size\n",
    "\n",
    "train_data = df['Price'].iloc[:train_size]\n",
    "test_data =  df['Price'].iloc[train_size:]"
   ]
  },
  {
   "cell_type": "code",
   "execution_count": 4,
   "id": "7bf66e4c",
   "metadata": {},
   "outputs": [
    {
     "name": "stdout",
     "output_type": "stream",
     "text": [
      "Performing stepwise search to minimize aic\n",
      " ARIMA(2,1,2)(0,0,0)[0] intercept   : AIC=8233.109, Time=0.75 sec\n",
      " ARIMA(0,1,0)(0,0,0)[0] intercept   : AIC=8245.783, Time=0.03 sec\n",
      " ARIMA(1,1,0)(0,0,0)[0] intercept   : AIC=8247.797, Time=0.09 sec\n",
      " ARIMA(0,1,1)(0,0,0)[0] intercept   : AIC=8247.785, Time=0.07 sec\n",
      " ARIMA(0,1,0)(0,0,0)[0]             : AIC=8243.786, Time=0.02 sec\n",
      " ARIMA(1,1,2)(0,0,0)[0] intercept   : AIC=8244.939, Time=0.30 sec\n",
      " ARIMA(2,1,1)(0,0,0)[0] intercept   : AIC=8245.753, Time=0.35 sec\n",
      " ARIMA(3,1,2)(0,0,0)[0] intercept   : AIC=8235.100, Time=1.02 sec\n",
      " ARIMA(2,1,3)(0,0,0)[0] intercept   : AIC=8235.056, Time=1.00 sec\n",
      " ARIMA(1,1,1)(0,0,0)[0] intercept   : AIC=8247.847, Time=0.32 sec\n",
      " ARIMA(1,1,3)(0,0,0)[0] intercept   : AIC=8246.318, Time=1.76 sec\n",
      " ARIMA(3,1,1)(0,0,0)[0] intercept   : AIC=8247.606, Time=0.59 sec\n",
      " ARIMA(3,1,3)(0,0,0)[0] intercept   : AIC=8236.156, Time=1.78 sec\n",
      " ARIMA(2,1,2)(0,0,0)[0]             : AIC=8231.107, Time=0.51 sec\n",
      " ARIMA(1,1,2)(0,0,0)[0]             : AIC=8242.936, Time=0.17 sec\n",
      " ARIMA(2,1,1)(0,0,0)[0]             : AIC=8243.745, Time=0.20 sec\n",
      " ARIMA(3,1,2)(0,0,0)[0]             : AIC=8233.098, Time=0.69 sec\n",
      " ARIMA(2,1,3)(0,0,0)[0]             : AIC=8233.058, Time=0.71 sec\n",
      " ARIMA(1,1,1)(0,0,0)[0]             : AIC=8245.842, Time=0.18 sec\n",
      " ARIMA(1,1,3)(0,0,0)[0]             : AIC=inf, Time=1.13 sec\n",
      " ARIMA(3,1,1)(0,0,0)[0]             : AIC=8245.743, Time=0.10 sec\n",
      " ARIMA(3,1,3)(0,0,0)[0]             : AIC=8234.384, Time=0.82 sec\n",
      "\n",
      "Best model:  ARIMA(2,1,2)(0,0,0)[0]          \n",
      "Total fit time: 12.634 seconds\n",
      "                               SARIMAX Results                                \n",
      "==============================================================================\n",
      "Dep. Variable:                      y   No. Observations:                  621\n",
      "Model:               SARIMAX(2, 1, 2)   Log Likelihood               -4110.553\n",
      "Date:                Fri, 16 Jun 2023   AIC                           8231.107\n",
      "Time:                        22:14:22   BIC                           8253.255\n",
      "Sample:                             0   HQIC                          8239.716\n",
      "                                - 621                                         \n",
      "Covariance Type:                  opg                                         \n",
      "==============================================================================\n",
      "                 coef    std err          z      P>|z|      [0.025      0.975]\n",
      "------------------------------------------------------------------------------\n",
      "ar.L1          0.2033      0.033      6.212      0.000       0.139       0.267\n",
      "ar.L2         -0.8719      0.032    -26.927      0.000      -0.935      -0.808\n",
      "ma.L1         -0.2125      0.018    -12.003      0.000      -0.247      -0.178\n",
      "ma.L2          0.9652      0.019     50.371      0.000       0.928       1.003\n",
      "sigma2      3.391e+04   1428.466     23.741      0.000    3.11e+04    3.67e+04\n",
      "===================================================================================\n",
      "Ljung-Box (L1) (Q):                   0.05   Jarque-Bera (JB):               109.22\n",
      "Prob(Q):                              0.82   Prob(JB):                         0.00\n",
      "Heteroskedasticity (H):               1.02   Skew:                            -0.43\n",
      "Prob(H) (two-sided):                  0.88   Kurtosis:                         4.87\n",
      "===================================================================================\n",
      "\n",
      "Warnings:\n",
      "[1] Covariance matrix calculated using the outer product of gradients (complex-step).\n"
     ]
    }
   ],
   "source": [
    "from pmdarima.arima import auto_arima\n",
    "best_arima = auto_arima(train_data,trace=True)\n",
    "best_arima.fit(train_data)\n",
    "print(best_arima.summary())"
   ]
  },
  {
   "cell_type": "code",
   "execution_count": 5,
   "id": "4a102f7b",
   "metadata": {},
   "outputs": [
    {
     "name": "stdout",
     "output_type": "stream",
     "text": [
      "                               SARIMAX Results                                \n",
      "==============================================================================\n",
      "Dep. Variable:                  Price   No. Observations:                  621\n",
      "Model:                 ARIMA(2, 1, 2)   Log Likelihood               -3763.547\n",
      "Date:                Fri, 16 Jun 2023   AIC                           7539.094\n",
      "Time:                        22:14:25   BIC                           7565.673\n",
      "Sample:                             0   HQIC                          7549.425\n",
      "                                - 621                                         \n",
      "Covariance Type:                  opg                                         \n",
      "==============================================================================\n",
      "                 coef    std err          z      P>|z|      [0.025      0.975]\n",
      "------------------------------------------------------------------------------\n",
      "High           0.9944      0.009    106.720      0.000       0.976       1.013\n",
      "ar.L1          0.1667      0.178      0.937      0.349      -0.182       0.516\n",
      "ar.L2          0.1993      0.036      5.590      0.000       0.129       0.269\n",
      "ma.L1         -1.1305      0.180     -6.272      0.000      -1.484      -0.777\n",
      "ma.L2          0.1588      0.172      0.926      0.354      -0.177       0.495\n",
      "sigma2       1.15e+04    438.604     26.210      0.000    1.06e+04    1.24e+04\n",
      "===================================================================================\n",
      "Ljung-Box (L1) (Q):                   1.15   Jarque-Bera (JB):               521.21\n",
      "Prob(Q):                              0.28   Prob(JB):                         0.00\n",
      "Heteroskedasticity (H):               0.97   Skew:                            -1.25\n",
      "Prob(H) (two-sided):                  0.85   Kurtosis:                         6.73\n",
      "===================================================================================\n",
      "\n",
      "Warnings:\n",
      "[1] Covariance matrix calculated using the outer product of gradients (complex-step).\n"
     ]
    },
    {
     "name": "stderr",
     "output_type": "stream",
     "text": [
      "C:\\Users\\giangle\\AppData\\Local\\Programs\\Python\\Python311\\Lib\\site-packages\\statsmodels\\base\\model.py:604: ConvergenceWarning: Maximum Likelihood optimization failed to converge. Check mle_retvals\n",
      "  warnings.warn(\"Maximum Likelihood optimization failed to \"\n"
     ]
    }
   ],
   "source": [
    "# summary of fit model\n",
    "arimax_train = df[['Price','High']].iloc[:train_size]\n",
    "arimax_test = df[['Price','High']].iloc[train_size:]\n",
    "arimax_model = ARIMA(arimax_train['Price'],exog=arimax_train['High'],order=(2,1,2))\n",
    "arimax_fitted = arimax_model.fit()\n",
    "print(arimax_fitted.summary())"
   ]
  },
  {
   "cell_type": "code",
   "execution_count": 6,
   "id": "dfc79eb3",
   "metadata": {},
   "outputs": [],
   "source": [
    "# 4. Quá trình testing \n",
    "x_test = np.array(test_data.index).reshape(-1, 1)\n",
    "y_test = np.array(test_data)\n",
    "y_pred_arimax= arimax_fitted.predict(start=len(df)-test_size,end=len(df)-1,exog= arimax_test['High'])\n",
    "\n",
    "# 5. Quá trình Validate\n",
    "x_val= np.array(df['Price'].index).reshape(-1, 1)\n",
    "y_val = np.array(df['Price'])\n",
    "y_pred_val_arimax =  arimax_fitted.predict(start=0,end=train_size-1,exog=arimax_train['High'])\n",
    "y_pred_val_arimax = pd.concat([y_pred_val_arimax,y_pred_arimax])"
   ]
  },
  {
   "cell_type": "code",
   "execution_count": 7,
   "id": "99b94dc3",
   "metadata": {},
   "outputs": [
    {
     "name": "stdout",
     "output_type": "stream",
     "text": [
      "ARIMAX Validation RMSE: 245.71850782242808\n",
      "ARIMAX Testing RMSE: 331.29551742728415\n",
      "Validation MAPE: 0.9057212874300492\n",
      "Testing MAPE: 1.0489291111360424\n",
      "Validation MAE: 146.6479321566111\n",
      "Testing MAE: 214.72148798036818\n"
     ]
    },
    {
     "data": {
      "image/png": "[encoded data removed]",
      "text/plain": [
       "<Figure size 640x480 with 1 Axes>"
      ]
     },
     "metadata": {},
     "output_type": "display_data"
    }
   ],
   "source": [
    "# 7. Đánh giá độ chính xác validate, test\n",
    "valid_rmse = np.sqrt(np.mean((y_pred_val_arimax - y_val)**2))\n",
    "test_rmse = np.sqrt(np.mean((y_pred_arimax - y_test)**2))\n",
    "print('ARIMAX Validation RMSE:', valid_rmse)\n",
    "print('ARIMAX Testing RMSE:', test_rmse)\n",
    "\n",
    "valid_mape = np.mean(np.abs((y_pred_val_arimax - y_val) / y_val)) * 100\n",
    "test_mape = np.mean(np.abs((y_pred_arimax - y_test) / y_test)) * 100\n",
    "print('Validation MAPE:', valid_mape)\n",
    "print('Testing MAPE:', test_mape)\n",
    "\n",
    "valid_mae = np.mean(np.abs(y_pred_val_arimax - y_val))\n",
    "test_mae = np.mean(np.abs(y_pred_arimax - y_test))\n",
    "print('Validation MAE:', valid_mae)\n",
    "print('Testing MAE:', test_mae)\n",
    "\n",
    "# 9.Vẽ hình\n",
    "plt.plot(train_data.index, train_data)\n",
    "plt.plot(test_data.index, test_data)\n",
    "plt.plot(df['Price'].index, y_pred_val_arimax)\n",
    "# plt.plot(last_data,y_next_10_arima)\n",
    "plt.legend(['Train', 'Test', 'Predictions','Validate'])\n",
    "plt.show()"
   ]
  },
  {
   "cell_type": "code",
   "execution_count": null,
   "id": "bc362a79",
   "metadata": {},
   "outputs": [],
   "source": []
  }
 ],
 "metadata": {
  "kernelspec": {
   "display_name": "Python 3 (ipykernel)",
   "language": "python",
   "name": "python3"
  },
  "language_info": {
   "codemirror_mode": {
    "name": "ipython",
    "version": 3
   },
   "file_extension": ".py",
   "mimetype": "text/x-python",
   "name": "python",
   "nbconvert_exporter": "python",
   "pygments_lexer": "ipython3",
   "version": "3.11.2"
  }
 },
 "nbformat": 4,
 "nbformat_minor": 5
}
