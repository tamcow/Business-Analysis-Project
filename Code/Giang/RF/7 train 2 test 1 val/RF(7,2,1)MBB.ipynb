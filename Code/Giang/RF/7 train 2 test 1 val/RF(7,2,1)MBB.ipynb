{
 "cells": [
  {
   "cell_type": "code",
   "execution_count": 1,
   "id": "a171481d",
   "metadata": {
    "id": "a171481d"
   },
   "outputs": [],
   "source": [
    "import pandas as pd\n",
    "import numpy as np\n",
    "from sklearn.ensemble import RandomForestRegressor\n",
    "import matplotlib.pyplot as plt"
   ]
  },
  {
   "cell_type": "code",
   "execution_count": 2,
   "id": "f2a5285f",
   "metadata": {
    "colab": {
     "base_uri": "https://localhost:8080/",
     "height": 423
    },
    "id": "f2a5285f",
    "outputId": "7fbb7ebd-1448-461c-f601-67cb3a383cb4"
   },
   "outputs": [
    {
     "data": {
      "text/html": [
       "<div>\n",
       "<style scoped>\n",
       "    .dataframe tbody tr th:only-of-type {\n",
       "        vertical-align: middle;\n",
       "    }\n",
       "\n",
       "    .dataframe tbody tr th {\n",
       "        vertical-align: top;\n",
       "    }\n",
       "\n",
       "    .dataframe thead th {\n",
       "        text-align: right;\n",
       "    }\n",
       "</style>\n",
       "<table border=\"1\" class=\"dataframe\">\n",
       "  <thead>\n",
       "    <tr style=\"text-align: right;\">\n",
       "      <th></th>\n",
       "      <th>Date</th>\n",
       "      <th>Price</th>\n",
       "      <th>Open</th>\n",
       "      <th>High</th>\n",
       "      <th>Low</th>\n",
       "      <th>Vol.</th>\n",
       "      <th>Change %</th>\n",
       "    </tr>\n",
       "  </thead>\n",
       "  <tbody>\n",
       "    <tr>\n",
       "      <th>0</th>\n",
       "      <td>6/1/2018</td>\n",
       "      <td>11783.9</td>\n",
       "      <td>11642.9</td>\n",
       "      <td>11965.2</td>\n",
       "      <td>11562.3</td>\n",
       "      <td>15.87M</td>\n",
       "      <td>0.52%</td>\n",
       "    </tr>\n",
       "    <tr>\n",
       "      <th>1</th>\n",
       "      <td>6/4/2018</td>\n",
       "      <td>12267.4</td>\n",
       "      <td>11723.5</td>\n",
       "      <td>12267.4</td>\n",
       "      <td>11683.2</td>\n",
       "      <td>16.32M</td>\n",
       "      <td>4.10%</td>\n",
       "    </tr>\n",
       "    <tr>\n",
       "      <th>2</th>\n",
       "      <td>6/5/2018</td>\n",
       "      <td>12267.4</td>\n",
       "      <td>12247.2</td>\n",
       "      <td>12408.4</td>\n",
       "      <td>12005.5</td>\n",
       "      <td>13.13M</td>\n",
       "      <td>0.00%</td>\n",
       "    </tr>\n",
       "    <tr>\n",
       "      <th>3</th>\n",
       "      <td>6/6/2018</td>\n",
       "      <td>12307.6</td>\n",
       "      <td>12126.4</td>\n",
       "      <td>12388.2</td>\n",
       "      <td>12045.8</td>\n",
       "      <td>17.76M</td>\n",
       "      <td>0.33%</td>\n",
       "    </tr>\n",
       "    <tr>\n",
       "      <th>4</th>\n",
       "      <td>6/7/2018</td>\n",
       "      <td>12448.7</td>\n",
       "      <td>12408.4</td>\n",
       "      <td>12650.1</td>\n",
       "      <td>12327.8</td>\n",
       "      <td>22.65M</td>\n",
       "      <td>1.15%</td>\n",
       "    </tr>\n",
       "    <tr>\n",
       "      <th>...</th>\n",
       "      <td>...</td>\n",
       "      <td>...</td>\n",
       "      <td>...</td>\n",
       "      <td>...</td>\n",
       "      <td>...</td>\n",
       "      <td>...</td>\n",
       "      <td>...</td>\n",
       "    </tr>\n",
       "    <tr>\n",
       "      <th>1237</th>\n",
       "      <td>5/15/2023</td>\n",
       "      <td>18850.0</td>\n",
       "      <td>18750.0</td>\n",
       "      <td>19100.0</td>\n",
       "      <td>18700.0</td>\n",
       "      <td>17.77M</td>\n",
       "      <td>1.07%</td>\n",
       "    </tr>\n",
       "    <tr>\n",
       "      <th>1238</th>\n",
       "      <td>5/16/2023</td>\n",
       "      <td>18800.0</td>\n",
       "      <td>18850.0</td>\n",
       "      <td>18950.0</td>\n",
       "      <td>18700.0</td>\n",
       "      <td>6.75M</td>\n",
       "      <td>-0.27%</td>\n",
       "    </tr>\n",
       "    <tr>\n",
       "      <th>1239</th>\n",
       "      <td>5/17/2023</td>\n",
       "      <td>18450.0</td>\n",
       "      <td>18750.0</td>\n",
       "      <td>18800.0</td>\n",
       "      <td>18450.0</td>\n",
       "      <td>9.09M</td>\n",
       "      <td>-1.86%</td>\n",
       "    </tr>\n",
       "    <tr>\n",
       "      <th>1240</th>\n",
       "      <td>5/18/2023</td>\n",
       "      <td>18600.0</td>\n",
       "      <td>18550.0</td>\n",
       "      <td>18650.0</td>\n",
       "      <td>18450.0</td>\n",
       "      <td>6.66M</td>\n",
       "      <td>0.81%</td>\n",
       "    </tr>\n",
       "    <tr>\n",
       "      <th>1241</th>\n",
       "      <td>5/19/2023</td>\n",
       "      <td>18650.0</td>\n",
       "      <td>18600.0</td>\n",
       "      <td>18700.0</td>\n",
       "      <td>18550.0</td>\n",
       "      <td>3.79M</td>\n",
       "      <td>0.27%</td>\n",
       "    </tr>\n",
       "  </tbody>\n",
       "</table>\n",
       "<p>1242 rows × 7 columns</p>\n",
       "</div>"
      ],
      "text/plain": [
       "           Date    Price     Open     High      Low    Vol. Change %\n",
       "0      6/1/2018  11783.9  11642.9  11965.2  11562.3  15.87M    0.52%\n",
       "1      6/4/2018  12267.4  11723.5  12267.4  11683.2  16.32M    4.10%\n",
       "2      6/5/2018  12267.4  12247.2  12408.4  12005.5  13.13M    0.00%\n",
       "3      6/6/2018  12307.6  12126.4  12388.2  12045.8  17.76M    0.33%\n",
       "4      6/7/2018  12448.7  12408.4  12650.1  12327.8  22.65M    1.15%\n",
       "...         ...      ...      ...      ...      ...     ...      ...\n",
       "1237  5/15/2023  18850.0  18750.0  19100.0  18700.0  17.77M    1.07%\n",
       "1238  5/16/2023  18800.0  18850.0  18950.0  18700.0   6.75M   -0.27%\n",
       "1239  5/17/2023  18450.0  18750.0  18800.0  18450.0   9.09M   -1.86%\n",
       "1240  5/18/2023  18600.0  18550.0  18650.0  18450.0   6.66M    0.81%\n",
       "1241  5/19/2023  18650.0  18600.0  18700.0  18550.0   3.79M    0.27%\n",
       "\n",
       "[1242 rows x 7 columns]"
      ]
     },
     "execution_count": 2,
     "metadata": {},
     "output_type": "execute_result"
    }
   ],
   "source": [
    "df = pd.read_csv('MBB.csv')\n",
    "df = df.dropna()\n",
    "df"
   ]
  },
  {
   "cell_type": "code",
   "execution_count": 3,
   "id": "jlTKZL94fMsi",
   "metadata": {
    "colab": {
     "base_uri": "https://localhost:8080/"
    },
    "id": "jlTKZL94fMsi",
    "outputId": "9c4f5c24-652d-4399-bc1d-c7128fdf4343"
   },
   "outputs": [
    {
     "name": "stdout",
     "output_type": "stream",
     "text": [
      "Open: 0.998431195836469\n",
      "High: 0.9992893243608242\n",
      "Low: 0.9991983083005012\n"
     ]
    }
   ],
   "source": [
    "#Kiểm tra độ tương quan giữa các cột và lấy cột có tương quan cao nhất để dự đoán 'Price'\n",
    "features = ['Open', 'High', 'Low']\n",
    "for i in features:\n",
    "    correlation = df['Price'].corr(df[i])\n",
    "    print(i + \": \" + str(correlation))\n"
   ]
  },
  {
   "cell_type": "code",
   "execution_count": 4,
   "id": "80c39075",
   "metadata": {
    "colab": {
     "base_uri": "https://localhost:8080/"
    },
    "id": "80c39075",
    "outputId": "b7b23c34-8061-4928-acdb-18951dab7ad8"
   },
   "outputs": [
    {
     "name": "stdout",
     "output_type": "stream",
     "text": [
      "1117    15200.0\n",
      "1118    15100.0\n",
      "1119    15900.0\n",
      "1120    16200.0\n",
      "1121    16100.0\n",
      "         ...   \n",
      "1237    19100.0\n",
      "1238    18950.0\n",
      "1239    18800.0\n",
      "1240    18650.0\n",
      "1241    18700.0\n",
      "Name: High, Length: 125, dtype: float64\n"
     ]
    },
    {
     "data": {
      "text/plain": [
       "0      11965.2\n",
       "1      12267.4\n",
       "2      12408.4\n",
       "3      12388.2\n",
       "4      12650.1\n",
       "        ...   \n",
       "864    24000.0\n",
       "865    23833.3\n",
       "866    23791.7\n",
       "867    24166.7\n",
       "868    24125.0\n",
       "Name: High, Length: 869, dtype: float64"
      ]
     },
     "execution_count": 4,
     "metadata": {},
     "output_type": "execute_result"
    }
   ],
   "source": [
    "#Đọc file dữ liệu chứng khoán và chia train test validate theo tỉ lệ 7:1:2\n",
    "from sklearn.model_selection import train_test_split\n",
    "df = pd.read_csv('MBB.csv')\n",
    "df = df[['Price','Open','High','Low']]\n",
    "df = df.dropna() # Drop missing values\n",
    "df = df.reset_index(drop=True) # Reset the index\n",
    "# Chọn các đặc trưng quan sát\n",
    "\n",
    "train = df['High']\n",
    "target = df['Price']\n",
    "\n",
    "train_size = int(0.7 * len(df))\n",
    "test_size = int(0.2 * len(df))\n",
    "val_size = len(df) - train_size - test_size\n",
    "\n",
    "\n",
    "train_data = train[:train_size]\n",
    "train_target = target[:train_size]\n",
    "test_data = train[train_size:train_size+test_size]\n",
    "test_target = target[train_size:train_size+test_size]\n",
    "val_data = train[train_size+test_size:]\n",
    "print(val_data)\n",
    "train_data"
   ]
  },
  {
   "cell_type": "code",
   "execution_count": 5,
   "id": "j7JbuUoME3uv",
   "metadata": {
    "colab": {
     "base_uri": "https://localhost:8080/"
    },
    "id": "j7JbuUoME3uv",
    "outputId": "29b500b6-b542-4abd-c8b9-97aad4fc5953"
   },
   "outputs": [
    {
     "name": "stdout",
     "output_type": "stream",
     "text": [
      "[23249.38770168 23249.38770168 23789.84694068 24254.19415596\n",
      " 24243.75252209 24921.2689275  25890.6016733  25915.78146572\n",
      " 24854.14234286 24750.87408095 24254.19415596 24426.50638543\n",
      " 24243.75252209 23604.9667331  23245.66247182 23249.38770168\n",
      " 23590.76767247 23249.38770168 23547.1713452  23590.76767247\n",
      " 23604.72154294 23764.27395952 23504.32293049 23249.07191825\n",
      " 23245.66247182 23214.32901573 23119.60297909 23270.16654048\n",
      " 23504.32293049 23504.32293049 23770.40166821 23713.37872334\n",
      " 24135.02455998 24243.75252209 23983.52470527 23590.76767247\n",
      " 23770.40166821 23713.37872334 23547.1713452  24004.0427715\n",
      " 24719.52832571 24727.28305714 24693.21180528 25078.23263902\n",
      " 24718.66920905 25202.67154802 26504.65916667 26774.87566667\n",
      " 26774.87566667 26774.87566667 26774.87566667 26774.87566667\n",
      " 26774.87566667 26774.87566667 26774.87566667 26774.87566667\n",
      " 26774.87566667 26774.87566667 26774.87566667 26774.87566667\n",
      " 26774.87566667 26774.87566667 26774.87566667 26774.87566667\n",
      " 26774.87566667 26774.87566667 26774.87566667 26774.87566667\n",
      " 26774.87566667 26774.87566667 26774.87566667 26774.87566667\n",
      " 26809.63333333 26038.02063333 25917.6033318  25473.91777935\n",
      " 25871.3719486  26038.02063333 25533.55219444 26799.805\n",
      " 26774.87566667 26800.577      26504.65916667 26774.87566667\n",
      " 26774.87566667 26745.6265     25464.91366667 26149.44063333\n",
      " 26038.02063333 26774.87566667 26774.87566667 26774.87566667\n",
      " 26774.87566667 26774.87566667 26774.87566667 26774.87566667\n",
      " 26774.87566667 26774.87566667 26774.87566667 26774.87566667\n",
      " 26745.6265     25917.6033318  24719.52832571 24745.66840992\n",
      " 24961.12789921 24718.66920905 25202.67154802 24280.30218162\n",
      " 24134.77947964 24735.55067659 24735.55067659 24399.32812534\n",
      " 24021.53075349 23764.27395952 23123.57389169 22743.78537091\n",
      " 22716.90378936 22769.64849591 21461.47666667 21028.43208333\n",
      " 21571.34066667 22716.90378936 22743.78537091 22769.64849591\n",
      " 22766.75645424 22350.75373903 23249.07191825 23337.98890786\n",
      " 23270.16654048 23249.07191825 23012.33914624 23012.33914624\n",
      " 23119.60297909 22769.64849591 22816.94192531 22769.64849591\n",
      " 23308.69786105 23270.16654048 23012.33914624 22231.83337792\n",
      " 21414.08633333 21265.38266667 21206.94683333 19575.64030556\n",
      " 19495.9202377  18755.16461032 19547.32305556 19549.22622222\n",
      " 19795.34117222 19795.34117222 20607.69556667 20378.12367778\n",
      " 20439.88585794 20414.09398333 20422.85606667 21345.57583333\n",
      " 21265.38266667 21028.43208333 21026.47741667 20375.44867778\n",
      " 20607.69556667 21327.98283333 21265.38266667 21303.552\n",
      " 21303.552      21206.94683333 21289.86866667 21327.98283333\n",
      " 21414.08633333 21265.38266667 21206.94683333 20378.12367778\n",
      " 21327.98283333 21327.98283333 21833.32405556 22350.75373903\n",
      " 22357.69818348 22769.64849591 22357.69818348 22769.64849591\n",
      " 22848.05886023 22769.64849591 22716.90378936 22766.75645424\n",
      " 22848.05886023 22769.64849591 23119.60297909 23119.60297909\n",
      " 22803.93439284 23270.16654048 23130.57076443 23313.33665552\n",
      " 23504.45841397 23506.44974553 23245.66247182 23506.44974553\n",
      " 23720.07307006 23506.44974553 23506.44974553 23604.9667331\n",
      " 23130.57076443 22816.94192531 22848.05886023 22769.64849591\n",
      " 22357.69818348 22761.41064869 22328.09148903 21461.47666667\n",
      " 21289.86866667 21206.94683333 21265.38266667 21289.86866667\n",
      " 20378.12367778 20421.57006667 20241.10093333 20241.10093333\n",
      " 19549.22622222 19523.55603611 18852.56942063 19346.45328056\n",
      " 18799.81485476 17697.62819398 16884.66705278 17056.42264784\n",
      " 16878.44976519 17453.45822989 18193.30353373 17697.62819398\n",
      " 18035.259575   17697.62819398 17395.1092373  17007.72273448\n",
      " 16101.01327063 16286.44587381 16406.76835238 17395.1092373\n",
      " 17984.37133333 17859.35182103 18248.74485317 18035.259575\n",
      " 17797.19533571 17859.35182103 17444.92137229 17231.94323175\n",
      " 17453.45822989 16566.21969803 16447.10324167 15807.74335357]\n",
      "[15167.66814762 14937.94352183 15805.98909801 15452.64883889\n",
      " 15520.57131508 16101.01327063 15520.57131508 15805.52865535\n",
      " 15452.64883889 16980.5516608  17231.94323175 17453.45822989\n",
      " 18248.74485317 18254.07657262 19055.89221799 18742.84682698\n",
      " 17859.35182103 18303.41826845 18193.30353373 18248.74485317\n",
      " 17797.19533571 18248.74485317 18852.56942063 18757.27361032\n",
      " 19030.1383291  18301.82360179 17859.35182103 18193.30353373\n",
      " 17786.60894365 17444.92137229 17056.42264784 17424.02628987\n",
      " 17424.02628987 17453.45822989 17797.19533571 18175.07376706\n",
      " 18175.07376706 18643.90854008 18303.41826845 18240.78036706\n",
      " 18301.82360179 18248.74485317 18351.96887956 18351.96887956\n",
      " 19340.22894722 19479.51655    19552.39741389 19575.64030556\n",
      " 19505.45583611 19479.51655    19547.32305556 18757.27361032\n",
      " 18757.27361032 18517.91840595 18254.3837004  18488.3454004\n",
      " 18488.3454004  18460.7234004  18035.259575   17984.37133333\n",
      " 18175.07376706 18240.78036706 18248.74485317 18517.91840595\n",
      " 18757.27361032 18303.41826845 18035.259575   18175.07376706\n",
      " 17395.1092373  17403.94871157 17403.94871157 17436.14875919\n",
      " 17395.1092373  17436.14875919 17424.02628987 17424.02628987\n",
      " 17786.60894365 17697.62819398 17424.02628987 17453.45822989\n",
      " 17803.09905291 17436.14875919 17436.14875919 17424.02628987\n",
      " 17395.1092373  17453.45822989 17231.94323175 17786.60894365\n",
      " 17797.19533571 18193.30353373 18248.74485317 18303.41826845\n",
      " 18248.74485317 18488.3454004  18254.07657262 18254.3837004\n",
      " 18517.91840595 18460.7234004  18733.99832698 18254.07657262\n",
      " 18254.07657262 18643.90854008 18488.3454004  18240.78036706\n",
      " 18248.74485317 18193.30353373 18035.259575   18175.07376706\n",
      " 18193.30353373 18248.74485317 18240.78036706 18301.82360179\n",
      " 18351.96887956 18301.82360179 18175.07376706 18193.30353373\n",
      " 18240.78036706 18303.41826845 18495.3409004  18495.3409004\n",
      " 18757.27361032 18660.9161004  18254.07657262 18495.3409004\n",
      " 18488.3454004 ]\n"
     ]
    }
   ],
   "source": [
    "x_train= np.array(train_data).reshape(-1,1)\n",
    "x_test = np.array(test_data).reshape(-1,1)\n",
    "\n",
    "\n",
    "rf_model = RandomForestRegressor(n_estimators=600,max_depth = 8, random_state=100)\n",
    "rf_model.fit(x_train, train_target)\n",
    "\n",
    "y = test_data\n",
    "predictions = rf_model.predict(x_test)\n",
    "print(predictions)\n",
    "# thres = np.unique([j for i in rf_model.estimators_ for j in i.tree_.threshold])\n",
    "# np.sort(thres)[-10:]\n",
    "# print(thres)\n",
    "\n",
    "# 5. Quá trình Validate\n",
    "x_val= np.array(val_data).reshape(-1,1)\n",
    "y_val = np.array(val_data)\n",
    "y_pred_val =  rf_model.predict(x_val)\n",
    "print(y_pred_val)"
   ]
  },
  {
   "cell_type": "code",
   "execution_count": 6,
   "id": "WFZE5s-XFNxO",
   "metadata": {
    "colab": {
     "base_uri": "https://localhost:8080/"
    },
    "id": "WFZE5s-XFNxO",
    "outputId": "ef95641f-d96e-41db-da01-fd2ce29ad0da"
   },
   "outputs": [
    {
     "name": "stdout",
     "output_type": "stream",
     "text": [
      "536.4731928893145\n"
     ]
    }
   ],
   "source": [
    "from sklearn.metrics import mean_squared_error\n",
    "rmse = np.sqrt(np.mean((test_target - predictions)**2))\n",
    "print(rmse)"
   ]
  },
  {
   "cell_type": "code",
   "execution_count": 7,
   "id": "2a8ed5ee",
   "metadata": {
    "id": "2a8ed5ee"
   },
   "outputs": [],
   "source": [
    "# Dự đoán 30 ngày tiếp theo của feature 'High' dựa trên Linear Regression\n",
    "from sklearn.linear_model import LinearRegression\n",
    "\n",
    "ln_model = LinearRegression()\n",
    "\n",
    "ln_model.fit(np.array(train_data.index).reshape(-1,1), train_data)\n",
    "\n",
    "\n",
    "#test\n",
    "x_test_ln = np.array(test_data.index).reshape(-1, 1)\n",
    "y_test_ln = np.array(test_data)\n",
    "y_pred_ln = ln_model.predict(x_test_ln)\n",
    "\n",
    "# Quá trình Validate\n",
    "x_val_ln= np.array(val_data.index).reshape(-1, 1)\n",
    "y_val_ln = np.array(val_data)\n",
    "y_pred_val_ln =  ln_model.predict(x_val_ln)\n",
    "\n",
    "# Predict the closing prices for the next 30 days\n",
    "last_index =  df.index[-1]\n",
    "last_data = pd.RangeIndex(start=last_index, stop=last_index+30, step=1)\n",
    "\n",
    "feature_next_30_days = np.array(range(last_index+1, last_index+31)).reshape(-1, 1)\n",
    "feature_next_30_days = ln_model.predict(feature_next_30_days)\n",
    "\n",
    "\n",
    "\n"
   ]
  },
  {
   "cell_type": "code",
   "execution_count": 8,
   "id": "2iCw4Adc47Bq",
   "metadata": {
    "colab": {
     "base_uri": "https://localhost:8080/"
    },
    "id": "2iCw4Adc47Bq",
    "outputId": "540720f5-bd93-419c-91bb-0b98418cb9c1"
   },
   "outputs": [
    {
     "name": "stdout",
     "output_type": "stream",
     "text": [
      "[24782.95928929 24782.95928929 24974.22048241 25029.07437791\n",
      " 25029.07437791 25029.07437791 25060.44247235 25060.44247235\n",
      " 25060.44247235 25063.01268624 25111.35193862 25244.74451468\n",
      " 25244.74451468 25232.60037579 25202.67154802 25202.67154802\n",
      " 25202.67154802 24961.12789921 24938.36309365 24938.36309365\n",
      " 24938.36309365 24818.2820881  24818.2820881  24820.32952143\n",
      " 24819.15685476 24707.39329246 24707.39329246 24708.64127964\n",
      " 24717.43680528 24693.21180528]\n"
     ]
    }
   ],
   "source": [
    "#Dự đoán 30 ngày tiếp theo\n",
    "y_next_30_days = rf_model.predict(np.array(feature_next_30_days).reshape(-1,1))\n",
    "print(y_next_30_days)"
   ]
  },
  {
   "cell_type": "code",
   "execution_count": 9,
   "id": "AN-XQnO1vWVE",
   "metadata": {
    "colab": {
     "base_uri": "https://localhost:8080/",
     "height": 430
    },
    "id": "AN-XQnO1vWVE",
    "outputId": "446106c7-0e36-4d1d-9df6-fff55695301e"
   },
   "outputs": [
    {
     "name": "stdout",
     "output_type": "stream",
     "text": [
      "Validation RMSE: 6138.089141299562\n",
      "Testing RMSE: 4374.184660742223\n",
      "Validation MAPE: 33.6558624979029\n",
      "Testing MAPE: 15.368828857514567\n",
      "Validation MAE: 6079.406965965989\n",
      "Testing MAE: 3621.6835279869974\n"
     ]
    },
    {
     "data": {
      "image/png": "[encoded data removed]",
      "text/plain": [
       "<Figure size 640x480 with 1 Axes>"
      ]
     },
     "metadata": {},
     "output_type": "display_data"
    }
   ],
   "source": [
    "valid_rmse = np.sqrt(np.mean((y_pred_val_ln - y_val_ln)**2))\n",
    "test_rmse = np.sqrt(np.mean((y_pred_ln - y_test_ln)**2))\n",
    "print('Validation RMSE:', valid_rmse)\n",
    "print('Testing RMSE:', test_rmse)\n",
    "\n",
    "valid_mape = np.mean(np.abs((y_pred_val_ln - y_val_ln) / y_val_ln)) * 100\n",
    "test_mape = np.mean(np.abs((y_pred_ln - y_test_ln) / y_test_ln)) * 100\n",
    "print('Validation MAPE:', valid_mape)\n",
    "print('Testing MAPE:', test_mape)\n",
    "\n",
    "valid_mae = np.mean(np.abs(y_pred_val_ln - y_val_ln))\n",
    "test_mae = np.mean(np.abs(y_pred_ln - y_test_ln))\n",
    "print('Validation MAE:', valid_mae)\n",
    "print('Testing MAE:', test_mae)\n",
    "\n",
    "plt.plot(train_data.index, train_data)\n",
    "plt.plot(test_data.index, test_data)\n",
    "plt.plot(test_data.index, y_pred_ln)\n",
    "plt.plot(val_data.index, y_pred_val_ln)\n",
    "plt.plot(last_data,feature_next_30_days)\n",
    "plt.legend(['Train', 'Test', 'Predictions','Validate','Next30Day'])\n",
    "plt.show()"
   ]
  },
  {
   "cell_type": "code",
   "execution_count": 10,
   "id": "MgovWuVRJYMA",
   "metadata": {
    "id": "MgovWuVRJYMA"
   },
   "outputs": [],
   "source": [
    "import matplotlib.pyplot as plt"
   ]
  },
  {
   "cell_type": "code",
   "execution_count": 11,
   "id": "0ba0baea",
   "metadata": {
    "colab": {
     "base_uri": "https://localhost:8080/",
     "height": 430
    },
    "id": "0ba0baea",
    "outputId": "1b739e1f-7571-46f0-8066-b6151aa5eda7"
   },
   "outputs": [
    {
     "data": {
      "image/png": "[encoded data removed]",
      "text/plain": [
       "<Figure size 640x480 with 1 Axes>"
      ]
     },
     "metadata": {},
     "output_type": "display_data"
    }
   ],
   "source": [
    "plt.plot(train_data.index, train_data)\n",
    "plt.plot(test_data.index, test_data)\n",
    "plt.plot(test_data.index, predictions)\n",
    "plt.plot(val_data.index, y_pred_val)\n",
    "plt.plot(last_data,y_next_30_days)\n",
    "plt.legend(['Train', 'Test', 'Predictions','Validate'])\n",
    "plt.show()"
   ]
  },
  {
   "cell_type": "code",
   "execution_count": null,
   "id": "3w6Mkf5xJabm",
   "metadata": {
    "id": "3w6Mkf5xJabm"
   },
   "outputs": [],
   "source": []
  }
 ],
 "metadata": {
  "colab": {
   "provenance": []
  },
  "kernelspec": {
   "display_name": "Python 3 (ipykernel)",
   "language": "python",
   "name": "python3"
  },
  "language_info": {
   "codemirror_mode": {
    "name": "ipython",
    "version": 3
   },
   "file_extension": ".py",
   "mimetype": "text/x-python",
   "name": "python",
   "nbconvert_exporter": "python",
   "pygments_lexer": "ipython3",
   "version": "3.11.2"
  }
 },
 "nbformat": 4,
 "nbformat_minor": 5
}
