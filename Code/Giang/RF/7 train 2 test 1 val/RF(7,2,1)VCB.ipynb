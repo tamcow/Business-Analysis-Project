{
 "cells": [
  {
   "cell_type": "code",
   "execution_count": 1,
   "id": "a171481d",
   "metadata": {
    "id": "a171481d"
   },
   "outputs": [],
   "source": [
    "import pandas as pd\n",
    "import numpy as np\n",
    "from sklearn.ensemble import RandomForestRegressor\n",
    "import matplotlib.pyplot as plt"
   ]
  },
  {
   "cell_type": "code",
   "execution_count": 2,
   "id": "f2a5285f",
   "metadata": {
    "colab": {
     "base_uri": "https://localhost:8080/",
     "height": 423
    },
    "id": "f2a5285f",
    "outputId": "7fbb7ebd-1448-461c-f601-67cb3a383cb4"
   },
   "outputs": [
    {
     "data": {
      "text/html": [
       "<div>\n",
       "<style scoped>\n",
       "    .dataframe tbody tr th:only-of-type {\n",
       "        vertical-align: middle;\n",
       "    }\n",
       "\n",
       "    .dataframe tbody tr th {\n",
       "        vertical-align: top;\n",
       "    }\n",
       "\n",
       "    .dataframe thead th {\n",
       "        text-align: right;\n",
       "    }\n",
       "</style>\n",
       "<table border=\"1\" class=\"dataframe\">\n",
       "  <thead>\n",
       "    <tr style=\"text-align: right;\">\n",
       "      <th></th>\n",
       "      <th>Date</th>\n",
       "      <th>Price</th>\n",
       "      <th>Open</th>\n",
       "      <th>High</th>\n",
       "      <th>Low</th>\n",
       "      <th>Vol.</th>\n",
       "      <th>Change %</th>\n",
       "    </tr>\n",
       "  </thead>\n",
       "  <tbody>\n",
       "    <tr>\n",
       "      <th>0</th>\n",
       "      <td>6/1/2018</td>\n",
       "      <td>43216</td>\n",
       "      <td>41017</td>\n",
       "      <td>43595</td>\n",
       "      <td>40866</td>\n",
       "      <td>7.57M</td>\n",
       "      <td>5.36%</td>\n",
       "    </tr>\n",
       "    <tr>\n",
       "      <th>1</th>\n",
       "      <td>6/4/2018</td>\n",
       "      <td>44960</td>\n",
       "      <td>42837</td>\n",
       "      <td>45187</td>\n",
       "      <td>42458</td>\n",
       "      <td>4.90M</td>\n",
       "      <td>4.04%</td>\n",
       "    </tr>\n",
       "    <tr>\n",
       "      <th>2</th>\n",
       "      <td>6/5/2018</td>\n",
       "      <td>44429</td>\n",
       "      <td>44429</td>\n",
       "      <td>45187</td>\n",
       "      <td>43747</td>\n",
       "      <td>4.51M</td>\n",
       "      <td>-1.18%</td>\n",
       "    </tr>\n",
       "    <tr>\n",
       "      <th>3</th>\n",
       "      <td>6/6/2018</td>\n",
       "      <td>44808</td>\n",
       "      <td>44050</td>\n",
       "      <td>45263</td>\n",
       "      <td>43671</td>\n",
       "      <td>2.79M</td>\n",
       "      <td>0.85%</td>\n",
       "    </tr>\n",
       "    <tr>\n",
       "      <th>4</th>\n",
       "      <td>6/7/2018</td>\n",
       "      <td>44505</td>\n",
       "      <td>44732</td>\n",
       "      <td>44960</td>\n",
       "      <td>44278</td>\n",
       "      <td>3.24M</td>\n",
       "      <td>-0.68%</td>\n",
       "    </tr>\n",
       "    <tr>\n",
       "      <th>...</th>\n",
       "      <td>...</td>\n",
       "      <td>...</td>\n",
       "      <td>...</td>\n",
       "      <td>...</td>\n",
       "      <td>...</td>\n",
       "      <td>...</td>\n",
       "      <td>...</td>\n",
       "    </tr>\n",
       "    <tr>\n",
       "      <th>1237</th>\n",
       "      <td>5/15/2023</td>\n",
       "      <td>91700</td>\n",
       "      <td>92000</td>\n",
       "      <td>93000</td>\n",
       "      <td>91200</td>\n",
       "      <td>450.50K</td>\n",
       "      <td>-1.19%</td>\n",
       "    </tr>\n",
       "    <tr>\n",
       "      <th>1238</th>\n",
       "      <td>5/16/2023</td>\n",
       "      <td>92600</td>\n",
       "      <td>92000</td>\n",
       "      <td>93100</td>\n",
       "      <td>91300</td>\n",
       "      <td>666.10K</td>\n",
       "      <td>0.98%</td>\n",
       "    </tr>\n",
       "    <tr>\n",
       "      <th>1239</th>\n",
       "      <td>5/17/2023</td>\n",
       "      <td>92800</td>\n",
       "      <td>92500</td>\n",
       "      <td>93000</td>\n",
       "      <td>92300</td>\n",
       "      <td>572.70K</td>\n",
       "      <td>0.22%</td>\n",
       "    </tr>\n",
       "    <tr>\n",
       "      <th>1240</th>\n",
       "      <td>5/18/2023</td>\n",
       "      <td>95000</td>\n",
       "      <td>92900</td>\n",
       "      <td>96000</td>\n",
       "      <td>92200</td>\n",
       "      <td>1.68M</td>\n",
       "      <td>2.37%</td>\n",
       "    </tr>\n",
       "    <tr>\n",
       "      <th>1241</th>\n",
       "      <td>5/19/2023</td>\n",
       "      <td>94200</td>\n",
       "      <td>94500</td>\n",
       "      <td>94900</td>\n",
       "      <td>92600</td>\n",
       "      <td>439.90K</td>\n",
       "      <td>-0.84%</td>\n",
       "    </tr>\n",
       "  </tbody>\n",
       "</table>\n",
       "<p>1242 rows × 7 columns</p>\n",
       "</div>"
      ],
      "text/plain": [
       "           Date  Price   Open   High    Low     Vol. Change %\n",
       "0      6/1/2018  43216  41017  43595  40866    7.57M    5.36%\n",
       "1      6/4/2018  44960  42837  45187  42458    4.90M    4.04%\n",
       "2      6/5/2018  44429  44429  45187  43747    4.51M   -1.18%\n",
       "3      6/6/2018  44808  44050  45263  43671    2.79M    0.85%\n",
       "4      6/7/2018  44505  44732  44960  44278    3.24M   -0.68%\n",
       "...         ...    ...    ...    ...    ...      ...      ...\n",
       "1237  5/15/2023  91700  92000  93000  91200  450.50K   -1.19%\n",
       "1238  5/16/2023  92600  92000  93100  91300  666.10K    0.98%\n",
       "1239  5/17/2023  92800  92500  93000  92300  572.70K    0.22%\n",
       "1240  5/18/2023  95000  92900  96000  92200    1.68M    2.37%\n",
       "1241  5/19/2023  94200  94500  94900  92600  439.90K   -0.84%\n",
       "\n",
       "[1242 rows x 7 columns]"
      ]
     },
     "execution_count": 2,
     "metadata": {},
     "output_type": "execute_result"
    }
   ],
   "source": [
    "df = pd.read_csv('VCB.csv')\n",
    "df = df.dropna()\n",
    "df"
   ]
  },
  {
   "cell_type": "code",
   "execution_count": 3,
   "id": "jlTKZL94fMsi",
   "metadata": {
    "colab": {
     "base_uri": "https://localhost:8080/"
    },
    "id": "jlTKZL94fMsi",
    "outputId": "9c4f5c24-652d-4399-bc1d-c7128fdf4343"
   },
   "outputs": [
    {
     "name": "stdout",
     "output_type": "stream",
     "text": [
      "Open: 0.9967135216209101\n",
      "High: 0.9986067330456387\n",
      "Low: 0.9979197379972933\n"
     ]
    }
   ],
   "source": [
    "#Kiểm tra độ tương quan giữa các cột và lấy cột có tương quan cao nhất để dự đoán 'Price'\n",
    "features = ['Open', 'High', 'Low']\n",
    "for i in features:\n",
    "    correlation = df['Price'].corr(df[i])\n",
    "    print(i + \": \" + str(correlation))\n"
   ]
  },
  {
   "cell_type": "code",
   "execution_count": 4,
   "id": "80c39075",
   "metadata": {
    "colab": {
     "base_uri": "https://localhost:8080/"
    },
    "id": "80c39075",
    "outputId": "b7b23c34-8061-4928-acdb-18951dab7ad8"
   },
   "outputs": [
    {
     "name": "stdout",
     "output_type": "stream",
     "text": [
      "1117    76400\n",
      "1118    78000\n",
      "1119    76600\n",
      "1120    76900\n",
      "1121    76500\n",
      "        ...  \n",
      "1237    93000\n",
      "1238    93100\n",
      "1239    93000\n",
      "1240    96000\n",
      "1241    94900\n",
      "Name: High, Length: 125, dtype: int64\n"
     ]
    },
    {
     "data": {
      "text/plain": [
       "0      43595\n",
       "1      45187\n",
       "2      45187\n",
       "3      45263\n",
       "4      44960\n",
       "       ...  \n",
       "864    76025\n",
       "865    76877\n",
       "866    76103\n",
       "867    76645\n",
       "868    76258\n",
       "Name: High, Length: 869, dtype: int64"
      ]
     },
     "execution_count": 4,
     "metadata": {},
     "output_type": "execute_result"
    }
   ],
   "source": [
    "#Đọc file dữ liệu chứng khoán và chia train test validate theo tỉ lệ 7:1:2\n",
    "from sklearn.model_selection import train_test_split\n",
    "df = pd.read_csv('VCB.csv')\n",
    "df = df[['Price','Open','High','Low']]\n",
    "df = df.dropna() # Drop missing values\n",
    "df = df.reset_index(drop=True) # Reset the index\n",
    "# Chọn các đặc trưng quan sát\n",
    "\n",
    "train = df['High']\n",
    "target = df['Price']\n",
    "\n",
    "train_size = int(0.7 * len(df))\n",
    "test_size = int(0.2 * len(df))\n",
    "val_size = len(df) - train_size - test_size\n",
    "\n",
    "\n",
    "train_data = train[:train_size]\n",
    "train_target = target[:train_size]\n",
    "test_data = train[train_size:train_size+test_size]\n",
    "test_target = target[train_size:train_size+test_size]\n",
    "val_data = train[train_size+test_size:]\n",
    "print(val_data)\n",
    "train_data"
   ]
  },
  {
   "cell_type": "code",
   "execution_count": 5,
   "id": "j7JbuUoME3uv",
   "metadata": {
    "colab": {
     "base_uri": "https://localhost:8080/"
    },
    "id": "j7JbuUoME3uv",
    "outputId": "29b500b6-b542-4abd-c8b9-97aad4fc5953"
   },
   "outputs": [
    {
     "name": "stdout",
     "output_type": "stream",
     "text": [
      "[75530.95368796 75426.38953283 75493.26117211 76010.38997563\n",
      " 76254.07153833 80583.06587558 81958.17724206 82339.03499206\n",
      " 79923.39749627 78595.846747   77611.2269808  77265.78433946\n",
      " 77265.78433946 76652.30438067 76304.8778516  76304.8778516\n",
      " 76304.8778516  78916.14769256 78593.70882159 76707.98750165\n",
      " 77317.36844869 77265.78433946 76652.30438067 76238.85455131\n",
      " 75928.70772342 76707.98750165 77578.77501548 77227.34961868\n",
      " 78935.16415341 79750.45259755 79091.27053753 78170.0492584\n",
      " 78567.26966052 78583.41730267 78584.25669145 78170.0492584\n",
      " 78170.0492584  78170.0492584  78165.98221277 78165.98221277\n",
      " 83587.5033373  82015.48652778 87895.41049206 86710.22208333\n",
      " 86672.83861111 86672.83861111 89261.99166667 89920.45833333\n",
      " 89920.45833333 89920.45833333 89920.45833333 89920.45833333\n",
      " 89920.45833333 89920.45833333 89920.45833333 89920.45833333\n",
      " 89920.45833333 87240.50183333 88054.86019444 87869.57715873\n",
      " 87388.9610754  86672.83861111 86710.22208333 86963.88227778\n",
      " 86963.88227778 86903.67283333 85001.02305556 83709.57333333\n",
      " 85345.60916667 85353.35083333 85345.60916667 85345.60916667\n",
      " 83408.6925     83587.5033373  81610.99115079 82339.03499206\n",
      " 82973.13569841 83613.3383373  83109.04097619 81920.82419444\n",
      " 81929.9180754  83768.41       85345.60916667 85345.60916667\n",
      " 85353.35083333 83408.6925     82973.13569841 81558.72346429\n",
      " 81558.72346429 81929.9180754  80887.99013515 81929.9180754\n",
      " 83109.04097619 81920.82419444 83449.21833333 83768.41\n",
      " 82973.13569841 81920.82419444 81610.99115079 80695.3681073\n",
      " 80256.17468207 78962.89299894 77227.34961868 77578.77501548\n",
      " 78567.26966052 80887.99013515 81558.72346429 78595.846747\n",
      " 78284.97045393 80449.14748054 81061.30521451 79750.45259755\n",
      " 80256.17468207 79923.39749627 78584.25669145 78165.98221277\n",
      " 78935.16415341 78170.0492584  77265.78433946 75702.5039002\n",
      " 76238.85455131 76238.85455131 76254.07153833 76069.75005611\n",
      " 74820.0998414  74667.74726915 76238.85455131 76230.08661075\n",
      " 76652.30438067 79750.45259755 77578.77501548 78595.846747\n",
      " 79626.38427726 78772.65616414 78165.98221277 78284.97045393\n",
      " 79750.45259755 78170.0492584  78593.70882159 76238.85455131\n",
      " 77221.04136498 77017.7455259  78165.98221277 77017.7455259\n",
      " 78772.65616414 76646.36103128 77265.78433946 76254.07153833\n",
      " 75416.39922342 75416.12220497 76238.85455131 75454.53623734\n",
      " 75416.12220497 73693.68129615 73991.61896954 74239.70143372\n",
      " 73580.8753485  74894.67140315 73693.68129615 73356.15425302\n",
      " 72399.35745964 73314.00364426 72153.23725085 73356.15425302\n",
      " 72008.51955732 71640.3093055  72370.72598742 72008.51955732\n",
      " 72263.08543583 72869.88875217 73668.50318061 73693.68129615\n",
      " 74820.0998414  74894.67140315 76238.85455131 78567.26966052\n",
      " 78772.65616414 80886.05513515 81080.72521451 80886.05513515\n",
      " 78284.97045393 79750.45259755 78284.97045393 79890.37490043\n",
      " 81061.30521451 78284.97045393 80648.39098669 78284.97045393\n",
      " 78284.97045393 80256.17468207 80084.29604077 80695.3681073\n",
      " 80958.5903534  82339.03499206 80886.05513515 85039.77805556\n",
      " 85140.93472222 83617.8533373  82973.13569841 80886.05513515\n",
      " 79752.6938125  78578.30756084 78940.33369821 78583.41730267\n",
      " 78772.65616414 78578.30756084 78165.98221277 78962.89299894\n",
      " 78165.98221277 78916.14769256 77611.2269808  76646.36103128\n",
      " 76238.85455131 75416.12220497 73693.68129615 75416.12220497\n",
      " 72965.1380216  73499.44755733 70981.72155189 71639.13552772\n",
      " 71639.13552772 69040.5546294  67271.80328367 65346.81350779\n",
      " 64601.9297682  65818.76242439 68229.16519019 67241.90111123\n",
      " 67241.90111123 67241.90111123 69321.73006235 70058.63627503\n",
      " 68985.45892505 70063.76785295 70063.76785295 72008.51955732\n",
      " 73671.60224311 73356.15425302 73693.68129615 73671.60224311\n",
      " 73314.00364426 72370.72598742 72056.65419656 73693.68129615\n",
      " 73705.3160443  73580.8753485  74894.67140315 76069.75005611]\n",
      "[75702.5039002  77265.78433946 76008.07345702 76306.67238272\n",
      " 76069.75005611 75416.12220497 73356.15425302 73686.20923821\n",
      " 73449.2277274  76238.85455131 79091.27053753 79750.45259755\n",
      " 80254.73190429 83449.21833333 86963.88227778 83768.41\n",
      " 78284.97045393 79750.45259755 78567.26966052 78595.846747\n",
      " 78578.30756084 78940.33369821 79598.33475279 80695.3681073\n",
      " 79750.45259755 78284.97045393 80254.73190429 79919.70367274\n",
      " 79923.39749627 79626.38427726 78595.846747   78284.97045393\n",
      " 80886.05513515 81610.99115079 80887.99013515 80695.3681073\n",
      " 82973.13569841 83210.53166667 86927.62561111 89261.99166667\n",
      " 86998.85061111 83768.41       85140.93472222 88024.14686111\n",
      " 87636.81933333 89920.45833333 89920.45833333 89920.45833333\n",
      " 89920.45833333 89920.45833333 89920.45833333 89920.45833333\n",
      " 89920.45833333 89920.45833333 89920.45833333 89920.45833333\n",
      " 89920.45833333 89920.45833333 89920.45833333 89920.45833333\n",
      " 89920.45833333 89920.45833333 89920.45833333 89920.45833333\n",
      " 89920.45833333 89920.45833333 89920.45833333 89920.45833333\n",
      " 89920.45833333 89920.45833333 89920.45833333 89920.45833333\n",
      " 89920.45833333 89920.45833333 89920.45833333 89920.45833333\n",
      " 89920.45833333 89920.45833333 89920.45833333 89920.45833333\n",
      " 89920.45833333 89920.45833333 89920.45833333 87703.916\n",
      " 89261.99166667 89261.99166667 89920.45833333 89920.45833333\n",
      " 89920.45833333 89920.45833333 89920.45833333 89920.45833333\n",
      " 89920.45833333 89920.45833333 89920.45833333 89920.45833333\n",
      " 89920.45833333 89920.45833333 89261.99166667 89261.99166667\n",
      " 88024.14686111 88024.14686111 87281.26808333 88024.14686111\n",
      " 88024.14686111 87240.50183333 87240.50183333 87940.36049206\n",
      " 88024.14686111 88024.14686111 87703.916      89703.55166667\n",
      " 89703.55166667 89261.99166667 89261.99166667 89920.45833333\n",
      " 89920.45833333 89920.45833333 89920.45833333 89920.45833333\n",
      " 89920.45833333 89920.45833333 89920.45833333 89920.45833333\n",
      " 89920.45833333]\n"
     ]
    }
   ],
   "source": [
    "x_train= np.array(train_data).reshape(-1,1)\n",
    "x_test = np.array(test_data).reshape(-1,1)\n",
    "\n",
    "\n",
    "rf_model = RandomForestRegressor(n_estimators=600,max_depth = 8, random_state=100)\n",
    "rf_model.fit(x_train, train_target)\n",
    "\n",
    "y = test_data\n",
    "predictions = rf_model.predict(x_test)\n",
    "print(predictions)\n",
    "# thres = np.unique([j for i in rf_model.estimators_ for j in i.tree_.threshold])\n",
    "# np.sort(thres)[-10:]\n",
    "# print(thres)\n",
    "\n",
    "# 5. Quá trình Validate\n",
    "x_val= np.array(val_data).reshape(-1,1)\n",
    "y_val = np.array(val_data)\n",
    "y_pred_val =  rf_model.predict(x_val)\n",
    "print(y_pred_val)"
   ]
  },
  {
   "cell_type": "code",
   "execution_count": 6,
   "id": "WFZE5s-XFNxO",
   "metadata": {
    "colab": {
     "base_uri": "https://localhost:8080/"
    },
    "id": "WFZE5s-XFNxO",
    "outputId": "ef95641f-d96e-41db-da01-fd2ce29ad0da"
   },
   "outputs": [
    {
     "name": "stdout",
     "output_type": "stream",
     "text": [
      "1256.4220950795418\n"
     ]
    }
   ],
   "source": [
    "from sklearn.metrics import mean_squared_error\n",
    "rmse = np.sqrt(np.mean((test_target - predictions)**2))\n",
    "print(rmse)"
   ]
  },
  {
   "cell_type": "code",
   "execution_count": 7,
   "id": "2a8ed5ee",
   "metadata": {
    "id": "2a8ed5ee"
   },
   "outputs": [],
   "source": [
    "# Dự đoán 30 ngày tiếp theo của feature 'High' dựa trên Linear Regression\n",
    "from sklearn.linear_model import LinearRegression\n",
    "\n",
    "ln_model = LinearRegression()\n",
    "\n",
    "ln_model.fit(np.array(train_data.index).reshape(-1,1), train_data)\n",
    "\n",
    "\n",
    "#test\n",
    "x_test_ln = np.array(test_data.index).reshape(-1, 1)\n",
    "y_test_ln = np.array(test_data)\n",
    "y_pred_ln = ln_model.predict(x_test_ln)\n",
    "\n",
    "# Quá trình Validate\n",
    "x_val_ln= np.array(val_data.index).reshape(-1, 1)\n",
    "y_val_ln = np.array(val_data)\n",
    "y_pred_val_ln =  ln_model.predict(x_val_ln)\n",
    "\n",
    "# Predict the closing prices for the next 30 days\n",
    "last_index =  df.index[-1]\n",
    "last_data = pd.RangeIndex(start=last_index, stop=last_index+30, step=1)\n",
    "\n",
    "feature_next_30_days = np.array(range(last_index+1, last_index+31)).reshape(-1, 1)\n",
    "feature_next_30_days = ln_model.predict(feature_next_30_days)\n",
    "\n",
    "\n",
    "\n"
   ]
  },
  {
   "cell_type": "code",
   "execution_count": 8,
   "id": "2iCw4Adc47Bq",
   "metadata": {
    "colab": {
     "base_uri": "https://localhost:8080/"
    },
    "id": "2iCw4Adc47Bq",
    "outputId": "540720f5-bd93-419c-91bb-0b98418cb9c1"
   },
   "outputs": [
    {
     "name": "stdout",
     "output_type": "stream",
     "text": [
      "[89920.45833333 89920.45833333 89920.45833333 89920.45833333\n",
      " 89920.45833333 89920.45833333 89920.45833333 89920.45833333\n",
      " 89920.45833333 89920.45833333 89920.45833333 89920.45833333\n",
      " 89920.45833333 89920.45833333 89920.45833333 89920.45833333\n",
      " 89920.45833333 89920.45833333 89920.45833333 89920.45833333\n",
      " 89920.45833333 89920.45833333 89920.45833333 89920.45833333\n",
      " 89920.45833333 89920.45833333 89920.45833333 89920.45833333\n",
      " 89920.45833333 89920.45833333]\n"
     ]
    }
   ],
   "source": [
    "#Dự đoán 30 ngày tiếp theo\n",
    "y_next_30_days = rf_model.predict(np.array(feature_next_30_days).reshape(-1,1))\n",
    "print(y_next_30_days)\n",
    "\n"
   ]
  },
  {
   "cell_type": "code",
   "execution_count": 9,
   "id": "AN-XQnO1vWVE",
   "metadata": {
    "colab": {
     "base_uri": "https://localhost:8080/",
     "height": 430
    },
    "id": "AN-XQnO1vWVE",
    "outputId": "446106c7-0e36-4d1d-9df6-fff55695301e"
   },
   "outputs": [
    {
     "name": "stdout",
     "output_type": "stream",
     "text": [
      "Validation RMSE: 9440.521571456999\n",
      "Testing RMSE: 11286.291656963333\n",
      "Validation MAPE: 9.584666904907357\n",
      "Testing MAPE: 12.13668864849816\n",
      "Validation MAE: 8091.854973288064\n",
      "Testing MAE: 9269.669771386652\n"
     ]
    },
    {
     "data": {
      "image/png": "[encoded data removed]",
      "text/plain": [
       "<Figure size 640x480 with 1 Axes>"
      ]
     },
     "metadata": {},
     "output_type": "display_data"
    }
   ],
   "source": [
    "valid_rmse = np.sqrt(np.mean((y_pred_val_ln - y_val_ln)**2))\n",
    "test_rmse = np.sqrt(np.mean((y_pred_ln - y_test_ln)**2))\n",
    "print('Validation RMSE:', valid_rmse)\n",
    "print('Testing RMSE:', test_rmse)\n",
    "\n",
    "valid_mape = np.mean(np.abs((y_pred_val_ln - y_val_ln) / y_val_ln)) * 100\n",
    "test_mape = np.mean(np.abs((y_pred_ln - y_test_ln) / y_test_ln)) * 100\n",
    "print('Validation MAPE:', valid_mape)\n",
    "print('Testing MAPE:', test_mape)\n",
    "\n",
    "valid_mae = np.mean(np.abs(y_pred_val_ln - y_val_ln))\n",
    "test_mae = np.mean(np.abs(y_pred_ln - y_test_ln))\n",
    "print('Validation MAE:', valid_mae)\n",
    "print('Testing MAE:', test_mae)\n",
    "\n",
    "plt.plot(train_data.index, train_data)\n",
    "plt.plot(test_data.index, test_data)\n",
    "plt.plot(test_data.index, y_pred_ln)\n",
    "plt.plot(val_data.index, y_pred_val_ln)\n",
    "plt.plot(last_data,feature_next_30_days)\n",
    "plt.legend(['Train', 'Test', 'Predictions','Validate','Next30Day'])\n",
    "plt.show()"
   ]
  },
  {
   "cell_type": "code",
   "execution_count": 10,
   "id": "MgovWuVRJYMA",
   "metadata": {
    "id": "MgovWuVRJYMA"
   },
   "outputs": [],
   "source": [
    "import matplotlib.pyplot as plt"
   ]
  },
  {
   "cell_type": "code",
   "execution_count": 11,
   "id": "0ba0baea",
   "metadata": {
    "colab": {
     "base_uri": "https://localhost:8080/",
     "height": 430
    },
    "id": "0ba0baea",
    "outputId": "1b739e1f-7571-46f0-8066-b6151aa5eda7"
   },
   "outputs": [
    {
     "data": {
      "image/png": "[encoded data removed]",
      "text/plain": [
       "<Figure size 640x480 with 1 Axes>"
      ]
     },
     "metadata": {},
     "output_type": "display_data"
    }
   ],
   "source": [
    "plt.plot(train_data.index, train_data)\n",
    "plt.plot(test_data.index, test_data)\n",
    "plt.plot(test_data.index, predictions)\n",
    "plt.plot(val_data.index, y_pred_val)\n",
    "plt.plot(last_data,y_next_30_days)\n",
    "plt.legend(['Train', 'Test', 'Predictions','Validate'])\n",
    "plt.show()"
   ]
  },
  {
   "cell_type": "code",
   "execution_count": null,
   "id": "3w6Mkf5xJabm",
   "metadata": {
    "id": "3w6Mkf5xJabm"
   },
   "outputs": [],
   "source": []
  }
 ],
 "metadata": {
  "colab": {
   "provenance": []
  },
  "kernelspec": {
   "display_name": "Python 3 (ipykernel)",
   "language": "python",
   "name": "python3"
  },
  "language_info": {
   "codemirror_mode": {
    "name": "ipython",
    "version": 3
   },
   "file_extension": ".py",
   "mimetype": "text/x-python",
   "name": "python",
   "nbconvert_exporter": "python",
   "pygments_lexer": "ipython3",
   "version": "3.11.2"
  }
 },
 "nbformat": 4,
 "nbformat_minor": 5
}
