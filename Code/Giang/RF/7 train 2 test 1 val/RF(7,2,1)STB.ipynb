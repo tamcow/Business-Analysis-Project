{
 "cells": [
  {
   "cell_type": "code",
   "execution_count": 1,
   "id": "a171481d",
   "metadata": {
    "id": "a171481d"
   },
   "outputs": [],
   "source": [
    "import pandas as pd\n",
    "import numpy as np\n",
    "from sklearn.ensemble import RandomForestRegressor\n",
    "import matplotlib.pyplot as plt"
   ]
  },
  {
   "cell_type": "code",
   "execution_count": 2,
   "id": "f2a5285f",
   "metadata": {
    "colab": {
     "base_uri": "https://localhost:8080/",
     "height": 423
    },
    "id": "f2a5285f",
    "outputId": "7fbb7ebd-1448-461c-f601-67cb3a383cb4"
   },
   "outputs": [
    {
     "data": {
      "text/html": [
       "<div>\n",
       "<style scoped>\n",
       "    .dataframe tbody tr th:only-of-type {\n",
       "        vertical-align: middle;\n",
       "    }\n",
       "\n",
       "    .dataframe tbody tr th {\n",
       "        vertical-align: top;\n",
       "    }\n",
       "\n",
       "    .dataframe thead th {\n",
       "        text-align: right;\n",
       "    }\n",
       "</style>\n",
       "<table border=\"1\" class=\"dataframe\">\n",
       "  <thead>\n",
       "    <tr style=\"text-align: right;\">\n",
       "      <th></th>\n",
       "      <th>Date</th>\n",
       "      <th>Price</th>\n",
       "      <th>Open</th>\n",
       "      <th>High</th>\n",
       "      <th>Low</th>\n",
       "      <th>Vol.</th>\n",
       "      <th>Change %</th>\n",
       "    </tr>\n",
       "  </thead>\n",
       "  <tbody>\n",
       "    <tr>\n",
       "      <th>0</th>\n",
       "      <td>06/01/2018</td>\n",
       "      <td>11750</td>\n",
       "      <td>11700</td>\n",
       "      <td>12000</td>\n",
       "      <td>11700</td>\n",
       "      <td>4.31M</td>\n",
       "      <td>0.0000</td>\n",
       "    </tr>\n",
       "    <tr>\n",
       "      <th>1</th>\n",
       "      <td>06/04/2018</td>\n",
       "      <td>12550</td>\n",
       "      <td>12000</td>\n",
       "      <td>12550</td>\n",
       "      <td>12000</td>\n",
       "      <td>7.42M</td>\n",
       "      <td>0.0681</td>\n",
       "    </tr>\n",
       "    <tr>\n",
       "      <th>2</th>\n",
       "      <td>06/05/2018</td>\n",
       "      <td>12900</td>\n",
       "      <td>12700</td>\n",
       "      <td>13150</td>\n",
       "      <td>12600</td>\n",
       "      <td>8.11M</td>\n",
       "      <td>0.0279</td>\n",
       "    </tr>\n",
       "    <tr>\n",
       "      <th>3</th>\n",
       "      <td>06/06/2018</td>\n",
       "      <td>13300</td>\n",
       "      <td>12800</td>\n",
       "      <td>13450</td>\n",
       "      <td>12700</td>\n",
       "      <td>8.48M</td>\n",
       "      <td>0.0310</td>\n",
       "    </tr>\n",
       "    <tr>\n",
       "      <th>4</th>\n",
       "      <td>06/07/2018</td>\n",
       "      <td>13000</td>\n",
       "      <td>13300</td>\n",
       "      <td>13350</td>\n",
       "      <td>12950</td>\n",
       "      <td>7.11M</td>\n",
       "      <td>-0.0226</td>\n",
       "    </tr>\n",
       "    <tr>\n",
       "      <th>...</th>\n",
       "      <td>...</td>\n",
       "      <td>...</td>\n",
       "      <td>...</td>\n",
       "      <td>...</td>\n",
       "      <td>...</td>\n",
       "      <td>...</td>\n",
       "      <td>...</td>\n",
       "    </tr>\n",
       "    <tr>\n",
       "      <th>1237</th>\n",
       "      <td>05/15/2023</td>\n",
       "      <td>27000</td>\n",
       "      <td>27000</td>\n",
       "      <td>27600</td>\n",
       "      <td>26900</td>\n",
       "      <td>29.85M</td>\n",
       "      <td>0.0075</td>\n",
       "    </tr>\n",
       "    <tr>\n",
       "      <th>1238</th>\n",
       "      <td>05/16/2023</td>\n",
       "      <td>27400</td>\n",
       "      <td>27000</td>\n",
       "      <td>27550</td>\n",
       "      <td>27000</td>\n",
       "      <td>13.15M</td>\n",
       "      <td>0.0148</td>\n",
       "    </tr>\n",
       "    <tr>\n",
       "      <th>1239</th>\n",
       "      <td>05/17/2023</td>\n",
       "      <td>27000</td>\n",
       "      <td>27400</td>\n",
       "      <td>27500</td>\n",
       "      <td>26900</td>\n",
       "      <td>17.69M</td>\n",
       "      <td>-0.0146</td>\n",
       "    </tr>\n",
       "    <tr>\n",
       "      <th>1240</th>\n",
       "      <td>05/18/2023</td>\n",
       "      <td>27200</td>\n",
       "      <td>27150</td>\n",
       "      <td>27500</td>\n",
       "      <td>27000</td>\n",
       "      <td>15.19M</td>\n",
       "      <td>0.0074</td>\n",
       "    </tr>\n",
       "    <tr>\n",
       "      <th>1241</th>\n",
       "      <td>05/19/2023</td>\n",
       "      <td>27850</td>\n",
       "      <td>27350</td>\n",
       "      <td>27950</td>\n",
       "      <td>27200</td>\n",
       "      <td>24.34M</td>\n",
       "      <td>0.0239</td>\n",
       "    </tr>\n",
       "  </tbody>\n",
       "</table>\n",
       "<p>1242 rows × 7 columns</p>\n",
       "</div>"
      ],
      "text/plain": [
       "            Date  Price   Open   High    Low    Vol.  Change %\n",
       "0     06/01/2018  11750  11700  12000  11700   4.31M    0.0000\n",
       "1     06/04/2018  12550  12000  12550  12000   7.42M    0.0681\n",
       "2     06/05/2018  12900  12700  13150  12600   8.11M    0.0279\n",
       "3     06/06/2018  13300  12800  13450  12700   8.48M    0.0310\n",
       "4     06/07/2018  13000  13300  13350  12950   7.11M   -0.0226\n",
       "...          ...    ...    ...    ...    ...     ...       ...\n",
       "1237  05/15/2023  27000  27000  27600  26900  29.85M    0.0075\n",
       "1238  05/16/2023  27400  27000  27550  27000  13.15M    0.0148\n",
       "1239  05/17/2023  27000  27400  27500  26900  17.69M   -0.0146\n",
       "1240  05/18/2023  27200  27150  27500  27000  15.19M    0.0074\n",
       "1241  05/19/2023  27850  27350  27950  27200  24.34M    0.0239\n",
       "\n",
       "[1242 rows x 7 columns]"
      ]
     },
     "execution_count": 2,
     "metadata": {},
     "output_type": "execute_result"
    }
   ],
   "source": [
    "df = pd.read_csv('STB.csv')\n",
    "df = df.dropna()\n",
    "df"
   ]
  },
  {
   "cell_type": "code",
   "execution_count": 3,
   "id": "jlTKZL94fMsi",
   "metadata": {
    "colab": {
     "base_uri": "https://localhost:8080/"
    },
    "id": "jlTKZL94fMsi",
    "outputId": "9c4f5c24-652d-4399-bc1d-c7128fdf4343"
   },
   "outputs": [
    {
     "name": "stdout",
     "output_type": "stream",
     "text": [
      "Open: 0.9979540473155362\n",
      "High: 0.9991014925421863\n",
      "Low: 0.9990241498897806\n"
     ]
    }
   ],
   "source": [
    "#Kiểm tra độ tương quan giữa các cột và lấy cột có tương quan cao nhất để dự đoán 'Price'\n",
    "features = ['Open', 'High', 'Low']\n",
    "for i in features:\n",
    "    correlation = df['Price'].corr(df[i])\n",
    "    print(i + \": \" + str(correlation))\n"
   ]
  },
  {
   "cell_type": "code",
   "execution_count": 4,
   "id": "80c39075",
   "metadata": {
    "colab": {
     "base_uri": "https://localhost:8080/"
    },
    "id": "80c39075",
    "outputId": "b7b23c34-8061-4928-acdb-18951dab7ad8"
   },
   "outputs": [
    {
     "name": "stdout",
     "output_type": "stream",
     "text": [
      "1117    16000\n",
      "1118    16150\n",
      "1119    17250\n",
      "1120    17650\n",
      "1121    17400\n",
      "        ...  \n",
      "1237    27600\n",
      "1238    27550\n",
      "1239    27500\n",
      "1240    27500\n",
      "1241    27950\n",
      "Name: High, Length: 125, dtype: int64\n"
     ]
    },
    {
     "data": {
      "text/plain": [
       "0      12000\n",
       "1      12550\n",
       "2      13150\n",
       "3      13450\n",
       "4      13350\n",
       "       ...  \n",
       "864    28750\n",
       "865    28600\n",
       "866    28450\n",
       "867    28400\n",
       "868    28800\n",
       "Name: High, Length: 869, dtype: int64"
      ]
     },
     "execution_count": 4,
     "metadata": {},
     "output_type": "execute_result"
    }
   ],
   "source": [
    "#Đọc file dữ liệu chứng khoán và chia train test validate theo tỉ lệ 7:1:2\n",
    "from sklearn.model_selection import train_test_split\n",
    "df = pd.read_csv('STB.csv')\n",
    "df = df[['Price','Open','High','Low']]\n",
    "df = df.dropna() # Drop missing values\n",
    "df = df.reset_index(drop=True) # Reset the index\n",
    "# Chọn các đặc trưng quan sát\n",
    "\n",
    "train = df['High']\n",
    "target = df['Price']\n",
    "\n",
    "train_size = int(0.7 * len(df))\n",
    "test_size = int(0.2 * len(df))\n",
    "val_size = len(df) - train_size - test_size\n",
    "\n",
    "\n",
    "train_data = train[:train_size]\n",
    "train_target = target[:train_size]\n",
    "test_data = train[train_size:train_size+test_size]\n",
    "test_target = target[train_size:train_size+test_size]\n",
    "val_data = train[train_size+test_size:]\n",
    "print(val_data)\n",
    "train_data"
   ]
  },
  {
   "cell_type": "code",
   "execution_count": 5,
   "id": "j7JbuUoME3uv",
   "metadata": {
    "colab": {
     "base_uri": "https://localhost:8080/"
    },
    "id": "j7JbuUoME3uv",
    "outputId": "29b500b6-b542-4abd-c8b9-97aad4fc5953"
   },
   "outputs": [
    {
     "name": "stdout",
     "output_type": "stream",
     "text": [
      "[27906.54518608 27756.61600238 27944.06459911 29300.68576202\n",
      " 28565.81001984 29866.53424115 30866.00061698 30604.54706312\n",
      " 29926.10024767 29783.64923117 28718.65021925 29415.9117795\n",
      " 29345.99158884 27909.61734726 27702.30580818 28309.11511243\n",
      " 28322.55955688 28614.24077381 28591.1110119  28309.11511243\n",
      " 28322.55955688 27962.11216654 27962.11216654 27962.11216654\n",
      " 28309.11511243 27573.38501707 27551.18375024 27775.39411616\n",
      " 27944.06459911 29415.9117795  30470.68728748 30602.55781256\n",
      " 31914.08526335 32133.32837302 32260.57837302 33304.27083333\n",
      " 31801.08948413 31801.08948413 32145.53333333 33304.27083333\n",
      " 33304.27083333 33304.27083333 33304.27083333 33304.27083333\n",
      " 33304.27083333 33304.27083333 33304.27083333 33304.27083333\n",
      " 33304.27083333 33304.27083333 33304.27083333 33304.27083333\n",
      " 33304.27083333 33304.27083333 33304.27083333 33304.27083333\n",
      " 33304.27083333 33304.27083333 33304.27083333 33304.27083333\n",
      " 33304.27083333 33304.27083333 32536.39583333 32693.89583333\n",
      " 33304.27083333 32693.89583333 32536.39583333 32471.53333333\n",
      " 31812.75615079 32359.0327381  31533.24959739 32359.0327381\n",
      " 31103.93808946 31146.20416089 29892.57830549 31103.93808946\n",
      " 32201.28551587 32354.53670635 31202.16527778 31801.08948413\n",
      " 31202.16527778 32129.97777778 32339.39583333 33304.27083333\n",
      " 33304.27083333 33304.27083333 33304.27083333 32536.39583333\n",
      " 32198.28551587 32357.95337302 32201.28551587 31859.65470779\n",
      " 32357.95337302 31914.08526335 32354.53670635 31794.83948413\n",
      " 31341.7357085  30604.54706312 30775.18590692 30775.18590692\n",
      " 30534.16315467 29565.39936749 29115.08638876 27759.45489127\n",
      " 27909.00623615 28591.1110119  28591.1110119  27217.90654461\n",
      " 27759.45489127 27759.45489127 27756.61600238 27474.39481625\n",
      " 26642.97587331 26348.98287598 24582.63611111 23566.02777778\n",
      " 23665.94444444 22844.12718254 21306.72222222 21146.77777778\n",
      " 20017.74702381 20994.95138889 22215.73445767 21335.97222222\n",
      " 20994.95138889 20994.95138889 22340.40396825 22023.37807239\n",
      " 21849.95446128 22529.78492063 22340.23730159 21853.56557239\n",
      " 22215.73445767 20973.95138889 21146.77777778 20127.75\n",
      " 21399.22916667 22211.40112434 21849.95446128 21399.22916667\n",
      " 21146.77777778 20784.02777778 21146.77777778 20127.75\n",
      " 20127.75       19110.2631734  20127.75       20973.95138889\n",
      " 20972.38888889 20994.95138889 22340.23730159 23072.45357143\n",
      " 22023.37807239 21335.97222222 22739.62529762 22935.24384921\n",
      " 23078.00079365 22574.85654762 22522.87519841 22222.06779101\n",
      " 22340.23730159 23078.00079365 23072.45357143 23256.61805556\n",
      " 23078.00079365 22574.85654762 22844.12718254 22935.24384921\n",
      " 22844.12718254 23072.45357143 22739.62529762 22522.87519841\n",
      " 23977.20277778 24375.70833333 24818.84316239 24797.5792735\n",
      " 25031.21469017 25031.21469017 24671.22638889 25031.21469017\n",
      " 24797.5792735  24678.46111111 24818.84316239 25031.21469017\n",
      " 26211.24588586 25527.91597985 24818.84316239 25031.21469017\n",
      " 24797.5792735  24662.55972222 24444.08333333 24797.5792735\n",
      " 25031.21469017 25527.91597985 24292.45833333 24582.63611111\n",
      " 24375.70833333 24292.45833333 24580.15277778 24790.0792735\n",
      " 24014.20277778 23952.2        23566.02777778 22844.12718254\n",
      " 22522.87519841 23072.45357143 22529.78492063 21848.89890572\n",
      " 22211.40112434 21631.6031746  21306.72222222 21335.97222222\n",
      " 20507.75       20130.08333333 20127.75       20127.75\n",
      " 20130.08333333 19907.58035714 19444.99761905 19275.47888107\n",
      " 19036.29690356 17158.73333333 16889.16895928 16759.61013292\n",
      " 16540.3544407  17219.175      17759.35019841 17771.97519841\n",
      " 18004.87338463 17662.32222222 17449.03611111 16889.16895928\n",
      " 15844.46835317 15531.3478385  15405.46111111 15758.73919252\n",
      " 16551.71081349 16107.61130952 16889.16895928 16874.59201585\n",
      " 16469.99444444 16889.16895928 16578.05089286 16520.22797619\n",
      " 16821.41068122 15844.46835317 15844.46835317 15772.12700216]\n",
      "[15758.98641474 15776.73811328 16889.16895928 17187.50833333\n",
      " 16866.56080147 17662.32222222 17669.65555556 18048.98115079\n",
      " 18719.9435789  19444.99761905 19640.27896825 19952.80654762\n",
      " 21089.69444444 20131.58333333 22211.40112434 21848.89890572\n",
      " 20164.5        20973.95138889 21853.56557239 21853.56557239\n",
      " 21853.56557239 22844.12718254 22935.24384921 22649.68422619\n",
      " 23078.00079365 22222.06779101 23328.85416667 24072.14444444\n",
      " 22937.91051587 22868.16051587 22529.78492063 22529.78492063\n",
      " 22739.62529762 21849.95446128 22935.24384921 23964.86666667\n",
      " 24136.97777778 24582.63611111 24444.08333333 24678.46111111\n",
      " 24712.48333333 24376.70833333 24790.0792735  24797.5792735\n",
      " 26024.1091211  26563.85341447 26575.2802346  27236.51570767\n",
      " 26434.72395407 26633.09765526 27056.36848545 26211.24588586\n",
      " 26471.62140888 26186.68152694 25848.96425407 25640.92281746\n",
      " 25031.21469017 24281.29166667 24179.33095238 24292.45833333\n",
      " 23976.20277778 24136.97777778 24375.70833333 25031.21469017\n",
      " 25709.29642857 24797.5792735  24444.08333333 24580.15277778\n",
      " 24117.47777778 23665.94444444 24712.48333333 25031.21469017\n",
      " 25598.80288462 24818.84316239 24678.46111111 24712.48333333\n",
      " 26633.09765526 26563.85341447 25598.80288462 24580.15277778\n",
      " 24797.5792735  24376.70833333 24580.15277778 24580.15277778\n",
      " 23977.20277778 24671.22638889 24608.96944444 24797.5792735\n",
      " 25031.21469017 25676.13115079 25031.21469017 26223.64617641\n",
      " 26211.24588586 26642.97587331 26535.42743485 26573.5153116\n",
      " 26186.68152694 25676.13115079 25992.04729474 25640.92281746\n",
      " 26186.68152694 26024.1091211  26344.29554026 25681.32420635\n",
      " 25709.29642857 25676.13115079 25527.91597985 25527.91597985\n",
      " 25556.73194444 25556.73194444 24712.48333333 24797.5792735\n",
      " 24790.0792735  24678.46111111 24671.22638889 25031.21469017\n",
      " 25556.73194444 26223.64617641 26344.29554026 26563.85341447\n",
      " 27217.60872715 27226.40862795 27217.90654461 27217.90654461\n",
      " 27648.87660307]\n"
     ]
    }
   ],
   "source": [
    "x_train= np.array(train_data).reshape(-1,1)\n",
    "x_test = np.array(test_data).reshape(-1,1)\n",
    "\n",
    "\n",
    "rf_model = RandomForestRegressor(n_estimators=600,max_depth = 8, random_state=100)\n",
    "rf_model.fit(x_train, train_target)\n",
    "\n",
    "y = test_data\n",
    "predictions = rf_model.predict(x_test)\n",
    "print(predictions)\n",
    "# thres = np.unique([j for i in rf_model.estimators_ for j in i.tree_.threshold])\n",
    "# np.sort(thres)[-10:]\n",
    "# print(thres)\n",
    "\n",
    "# 5. Quá trình Validate\n",
    "x_val= np.array(val_data).reshape(-1,1)\n",
    "y_val = np.array(val_data)\n",
    "y_pred_val =  rf_model.predict(x_val)\n",
    "print(y_pred_val)"
   ]
  },
  {
   "cell_type": "code",
   "execution_count": 6,
   "id": "WFZE5s-XFNxO",
   "metadata": {
    "colab": {
     "base_uri": "https://localhost:8080/"
    },
    "id": "WFZE5s-XFNxO",
    "outputId": "ef95641f-d96e-41db-da01-fd2ce29ad0da"
   },
   "outputs": [
    {
     "name": "stdout",
     "output_type": "stream",
     "text": [
      "672.2827015663045\n"
     ]
    }
   ],
   "source": [
    "from sklearn.metrics import mean_squared_error\n",
    "rmse = np.sqrt(np.mean((test_target - predictions)**2))\n",
    "print(rmse)"
   ]
  },
  {
   "cell_type": "code",
   "execution_count": 7,
   "id": "2a8ed5ee",
   "metadata": {
    "id": "2a8ed5ee"
   },
   "outputs": [],
   "source": [
    "# Dự đoán 30 ngày tiếp theo của feature 'High' dựa trên Linear Regression\n",
    "from sklearn.linear_model import LinearRegression\n",
    "\n",
    "ln_model = LinearRegression()\n",
    "\n",
    "ln_model.fit(np.array(train_data.index).reshape(-1,1), train_data)\n",
    "\n",
    "\n",
    "#test\n",
    "x_test_ln = np.array(test_data.index).reshape(-1, 1)\n",
    "y_test_ln = np.array(test_data)\n",
    "y_pred_ln = ln_model.predict(x_test_ln)\n",
    "\n",
    "# Quá trình Validate\n",
    "x_val_ln= np.array(val_data.index).reshape(-1, 1)\n",
    "y_val_ln = np.array(val_data)\n",
    "y_pred_val_ln =  ln_model.predict(x_val_ln)\n",
    "\n",
    "# Predict the closing prices for the next 30 days\n",
    "last_index =  df.index[-1]\n",
    "last_data = pd.RangeIndex(start=last_index, stop=last_index+30, step=1)\n",
    "\n",
    "feature_next_30_days = np.array(range(last_index+1, last_index+31)).reshape(-1, 1)\n",
    "feature_next_30_days = ln_model.predict(feature_next_30_days)\n",
    "\n",
    "\n",
    "\n"
   ]
  },
  {
   "cell_type": "code",
   "execution_count": 8,
   "id": "2iCw4Adc47Bq",
   "metadata": {
    "colab": {
     "base_uri": "https://localhost:8080/"
    },
    "id": "2iCw4Adc47Bq",
    "outputId": "540720f5-bd93-419c-91bb-0b98418cb9c1"
   },
   "outputs": [
    {
     "name": "stdout",
     "output_type": "stream",
     "text": [
      "[29474.23554128 29914.89604793 29926.10024767 29926.10024767\n",
      " 29934.24303867 30098.15775428 30240.01880527 30240.01880527\n",
      " 30251.37695823 30323.24899106 30323.24899106 30323.24899106\n",
      " 30323.24899106 30470.68728748 30472.68728748 30472.68728748\n",
      " 30463.12229969 30463.12229969 30464.49729969 30464.49729969\n",
      " 30483.10001133 30505.4090361  30505.4090361  30534.16315467\n",
      " 30534.16315467 30585.23519351 30602.55781256 30614.70424113\n",
      " 30614.70424113 30684.07857698]\n"
     ]
    }
   ],
   "source": [
    "#Dự đoán 30 ngày tiếp theo\n",
    "y_next_30_days = rf_model.predict(np.array(feature_next_30_days).reshape(-1,1))\n",
    "print(y_next_30_days)\n",
    "\n"
   ]
  },
  {
   "cell_type": "code",
   "execution_count": 12,
   "id": "AN-XQnO1vWVE",
   "metadata": {
    "colab": {
     "base_uri": "https://localhost:8080/",
     "height": 430
    },
    "id": "AN-XQnO1vWVE",
    "outputId": "446106c7-0e36-4d1d-9df6-fff55695301e"
   },
   "outputs": [
    {
     "name": "stdout",
     "output_type": "stream",
     "text": [
      "Validation RMSE: 5240.901583639289\n",
      "Testing RMSE: 6843.758112487734\n",
      "Validation MAPE: 20.910898744415356\n",
      "Testing MAPE: 24.141432255779748\n",
      "Validation MAE: 4794.504653004595\n",
      "Testing MAE: 6038.204518687444\n"
     ]
    },
    {
     "data": {
      "image/png": "[encoded data removed]",
      "text/plain": [
       "<Figure size 640x480 with 1 Axes>"
      ]
     },
     "metadata": {},
     "output_type": "display_data"
    }
   ],
   "source": [
    "valid_rmse = np.sqrt(np.mean((y_pred_val_ln - y_val_ln)**2))\n",
    "test_rmse = np.sqrt(np.mean((y_pred_ln - y_test_ln)**2))\n",
    "print('Validation RMSE:', valid_rmse)\n",
    "print('Testing RMSE:', test_rmse)\n",
    "\n",
    "valid_mape = np.mean(np.abs((y_pred_val_ln - y_val_ln) / y_val_ln)) * 100\n",
    "test_mape = np.mean(np.abs((y_pred_ln - y_test_ln) / y_test_ln)) * 100\n",
    "print('Validation MAPE:', valid_mape)\n",
    "print('Testing MAPE:', test_mape)\n",
    "\n",
    "valid_mae = np.mean(np.abs(y_pred_val_ln - y_val_ln))\n",
    "test_mae = np.mean(np.abs(y_pred_ln - y_test_ln))\n",
    "print('Validation MAE:', valid_mae)\n",
    "print('Testing MAE:', test_mae)\n",
    "\n",
    "plt.plot(train_data.index, train_data)\n",
    "plt.plot(test_data.index, test_data)\n",
    "plt.plot(test_data.index, y_pred_ln)\n",
    "plt.plot(val_data.index, y_pred_val_ln)\n",
    "plt.plot(last_data,feature_next_30_days)\n",
    "plt.legend(['Train', 'Test', 'Predictions','Validate','Next30Day'])\n",
    "plt.show()"
   ]
  },
  {
   "cell_type": "code",
   "execution_count": 13,
   "id": "MgovWuVRJYMA",
   "metadata": {
    "id": "MgovWuVRJYMA"
   },
   "outputs": [],
   "source": [
    "import matplotlib.pyplot as plt"
   ]
  },
  {
   "cell_type": "code",
   "execution_count": 14,
   "id": "0ba0baea",
   "metadata": {
    "colab": {
     "base_uri": "https://localhost:8080/",
     "height": 430
    },
    "id": "0ba0baea",
    "outputId": "1b739e1f-7571-46f0-8066-b6151aa5eda7"
   },
   "outputs": [
    {
     "data": {
      "image/png": "[encoded data removed]",
      "text/plain": [
       "<Figure size 640x480 with 1 Axes>"
      ]
     },
     "metadata": {},
     "output_type": "display_data"
    }
   ],
   "source": [
    "plt.plot(train_data.index, train_data)\n",
    "plt.plot(test_data.index, test_data)\n",
    "plt.plot(test_data.index, predictions)\n",
    "plt.plot(val_data.index, y_pred_val)\n",
    "plt.plot(last_data,y_next_30_days)\n",
    "plt.legend(['Train', 'Test', 'Predictions','Validate'])\n",
    "plt.show()"
   ]
  },
  {
   "cell_type": "code",
   "execution_count": null,
   "id": "3w6Mkf5xJabm",
   "metadata": {
    "id": "3w6Mkf5xJabm"
   },
   "outputs": [],
   "source": []
  }
 ],
 "metadata": {
  "colab": {
   "provenance": []
  },
  "kernelspec": {
   "display_name": "Python 3 (ipykernel)",
   "language": "python",
   "name": "python3"
  },
  "language_info": {
   "codemirror_mode": {
    "name": "ipython",
    "version": 3
   },
   "file_extension": ".py",
   "mimetype": "text/x-python",
   "name": "python",
   "nbconvert_exporter": "python",
   "pygments_lexer": "ipython3",
   "version": "3.11.2"
  }
 },
 "nbformat": 4,
 "nbformat_minor": 5
}
