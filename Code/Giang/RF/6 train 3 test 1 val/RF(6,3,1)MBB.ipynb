{
 "cells": [
  {
   "cell_type": "code",
   "execution_count": 1,
   "id": "a171481d",
   "metadata": {
    "id": "a171481d"
   },
   "outputs": [],
   "source": [
    "import pandas as pd\n",
    "import numpy as np\n",
    "from sklearn.ensemble import RandomForestRegressor\n",
    "import matplotlib.pyplot as plt"
   ]
  },
  {
   "cell_type": "code",
   "execution_count": 2,
   "id": "f2a5285f",
   "metadata": {
    "colab": {
     "base_uri": "https://localhost:8080/",
     "height": 423
    },
    "id": "f2a5285f",
    "outputId": "7fbb7ebd-1448-461c-f601-67cb3a383cb4"
   },
   "outputs": [
    {
     "data": {
      "text/html": [
       "<div>\n",
       "<style scoped>\n",
       "    .dataframe tbody tr th:only-of-type {\n",
       "        vertical-align: middle;\n",
       "    }\n",
       "\n",
       "    .dataframe tbody tr th {\n",
       "        vertical-align: top;\n",
       "    }\n",
       "\n",
       "    .dataframe thead th {\n",
       "        text-align: right;\n",
       "    }\n",
       "</style>\n",
       "<table border=\"1\" class=\"dataframe\">\n",
       "  <thead>\n",
       "    <tr style=\"text-align: right;\">\n",
       "      <th></th>\n",
       "      <th>Date</th>\n",
       "      <th>Price</th>\n",
       "      <th>Open</th>\n",
       "      <th>High</th>\n",
       "      <th>Low</th>\n",
       "      <th>Vol.</th>\n",
       "      <th>Change %</th>\n",
       "    </tr>\n",
       "  </thead>\n",
       "  <tbody>\n",
       "    <tr>\n",
       "      <th>0</th>\n",
       "      <td>6/1/2018</td>\n",
       "      <td>11783.9</td>\n",
       "      <td>11642.9</td>\n",
       "      <td>11965.2</td>\n",
       "      <td>11562.3</td>\n",
       "      <td>15.87M</td>\n",
       "      <td>0.52%</td>\n",
       "    </tr>\n",
       "    <tr>\n",
       "      <th>1</th>\n",
       "      <td>6/4/2018</td>\n",
       "      <td>12267.4</td>\n",
       "      <td>11723.5</td>\n",
       "      <td>12267.4</td>\n",
       "      <td>11683.2</td>\n",
       "      <td>16.32M</td>\n",
       "      <td>4.10%</td>\n",
       "    </tr>\n",
       "    <tr>\n",
       "      <th>2</th>\n",
       "      <td>6/5/2018</td>\n",
       "      <td>12267.4</td>\n",
       "      <td>12247.2</td>\n",
       "      <td>12408.4</td>\n",
       "      <td>12005.5</td>\n",
       "      <td>13.13M</td>\n",
       "      <td>0.00%</td>\n",
       "    </tr>\n",
       "    <tr>\n",
       "      <th>3</th>\n",
       "      <td>6/6/2018</td>\n",
       "      <td>12307.6</td>\n",
       "      <td>12126.4</td>\n",
       "      <td>12388.2</td>\n",
       "      <td>12045.8</td>\n",
       "      <td>17.76M</td>\n",
       "      <td>0.33%</td>\n",
       "    </tr>\n",
       "    <tr>\n",
       "      <th>4</th>\n",
       "      <td>6/7/2018</td>\n",
       "      <td>12448.7</td>\n",
       "      <td>12408.4</td>\n",
       "      <td>12650.1</td>\n",
       "      <td>12327.8</td>\n",
       "      <td>22.65M</td>\n",
       "      <td>1.15%</td>\n",
       "    </tr>\n",
       "    <tr>\n",
       "      <th>...</th>\n",
       "      <td>...</td>\n",
       "      <td>...</td>\n",
       "      <td>...</td>\n",
       "      <td>...</td>\n",
       "      <td>...</td>\n",
       "      <td>...</td>\n",
       "      <td>...</td>\n",
       "    </tr>\n",
       "    <tr>\n",
       "      <th>1237</th>\n",
       "      <td>5/15/2023</td>\n",
       "      <td>18850.0</td>\n",
       "      <td>18750.0</td>\n",
       "      <td>19100.0</td>\n",
       "      <td>18700.0</td>\n",
       "      <td>17.77M</td>\n",
       "      <td>1.07%</td>\n",
       "    </tr>\n",
       "    <tr>\n",
       "      <th>1238</th>\n",
       "      <td>5/16/2023</td>\n",
       "      <td>18800.0</td>\n",
       "      <td>18850.0</td>\n",
       "      <td>18950.0</td>\n",
       "      <td>18700.0</td>\n",
       "      <td>6.75M</td>\n",
       "      <td>-0.27%</td>\n",
       "    </tr>\n",
       "    <tr>\n",
       "      <th>1239</th>\n",
       "      <td>5/17/2023</td>\n",
       "      <td>18450.0</td>\n",
       "      <td>18750.0</td>\n",
       "      <td>18800.0</td>\n",
       "      <td>18450.0</td>\n",
       "      <td>9.09M</td>\n",
       "      <td>-1.86%</td>\n",
       "    </tr>\n",
       "    <tr>\n",
       "      <th>1240</th>\n",
       "      <td>5/18/2023</td>\n",
       "      <td>18600.0</td>\n",
       "      <td>18550.0</td>\n",
       "      <td>18650.0</td>\n",
       "      <td>18450.0</td>\n",
       "      <td>6.66M</td>\n",
       "      <td>0.81%</td>\n",
       "    </tr>\n",
       "    <tr>\n",
       "      <th>1241</th>\n",
       "      <td>5/19/2023</td>\n",
       "      <td>18650.0</td>\n",
       "      <td>18600.0</td>\n",
       "      <td>18700.0</td>\n",
       "      <td>18550.0</td>\n",
       "      <td>3.79M</td>\n",
       "      <td>0.27%</td>\n",
       "    </tr>\n",
       "  </tbody>\n",
       "</table>\n",
       "<p>1242 rows × 7 columns</p>\n",
       "</div>"
      ],
      "text/plain": [
       "           Date    Price     Open     High      Low    Vol. Change %\n",
       "0      6/1/2018  11783.9  11642.9  11965.2  11562.3  15.87M    0.52%\n",
       "1      6/4/2018  12267.4  11723.5  12267.4  11683.2  16.32M    4.10%\n",
       "2      6/5/2018  12267.4  12247.2  12408.4  12005.5  13.13M    0.00%\n",
       "3      6/6/2018  12307.6  12126.4  12388.2  12045.8  17.76M    0.33%\n",
       "4      6/7/2018  12448.7  12408.4  12650.1  12327.8  22.65M    1.15%\n",
       "...         ...      ...      ...      ...      ...     ...      ...\n",
       "1237  5/15/2023  18850.0  18750.0  19100.0  18700.0  17.77M    1.07%\n",
       "1238  5/16/2023  18800.0  18850.0  18950.0  18700.0   6.75M   -0.27%\n",
       "1239  5/17/2023  18450.0  18750.0  18800.0  18450.0   9.09M   -1.86%\n",
       "1240  5/18/2023  18600.0  18550.0  18650.0  18450.0   6.66M    0.81%\n",
       "1241  5/19/2023  18650.0  18600.0  18700.0  18550.0   3.79M    0.27%\n",
       "\n",
       "[1242 rows x 7 columns]"
      ]
     },
     "execution_count": 2,
     "metadata": {},
     "output_type": "execute_result"
    }
   ],
   "source": [
    "df = pd.read_csv('MBB.csv')\n",
    "df = df.dropna()\n",
    "df"
   ]
  },
  {
   "cell_type": "code",
   "execution_count": 3,
   "id": "jlTKZL94fMsi",
   "metadata": {
    "colab": {
     "base_uri": "https://localhost:8080/"
    },
    "id": "jlTKZL94fMsi",
    "outputId": "9c4f5c24-652d-4399-bc1d-c7128fdf4343"
   },
   "outputs": [
    {
     "name": "stdout",
     "output_type": "stream",
     "text": [
      "Open: 0.998431195836469\n",
      "High: 0.9992893243608242\n",
      "Low: 0.9991983083005012\n"
     ]
    }
   ],
   "source": [
    "#Kiểm tra độ tương quan giữa các cột và lấy cột có tương quan cao nhất để dự đoán 'Price'\n",
    "features = ['Open', 'High', 'Low']\n",
    "for i in features:\n",
    "    correlation = df['Price'].corr(df[i])\n",
    "    print(i + \": \" + str(correlation))\n"
   ]
  },
  {
   "cell_type": "code",
   "execution_count": 4,
   "id": "80c39075",
   "metadata": {
    "colab": {
     "base_uri": "https://localhost:8080/"
    },
    "id": "80c39075",
    "outputId": "b7b23c34-8061-4928-acdb-18951dab7ad8"
   },
   "outputs": [
    {
     "name": "stdout",
     "output_type": "stream",
     "text": [
      "1117    15200.0\n",
      "1118    15100.0\n",
      "1119    15900.0\n",
      "1120    16200.0\n",
      "1121    16100.0\n",
      "         ...   \n",
      "1237    19100.0\n",
      "1238    18950.0\n",
      "1239    18800.0\n",
      "1240    18650.0\n",
      "1241    18700.0\n",
      "Name: High, Length: 125, dtype: float64\n"
     ]
    },
    {
     "data": {
      "text/plain": [
       "0      11965.2\n",
       "1      12267.4\n",
       "2      12408.4\n",
       "3      12388.2\n",
       "4      12650.1\n",
       "        ...   \n",
       "740    20679.0\n",
       "741    21296.3\n",
       "742    21450.6\n",
       "743    21759.3\n",
       "744    21604.9\n",
       "Name: High, Length: 745, dtype: float64"
      ]
     },
     "execution_count": 4,
     "metadata": {},
     "output_type": "execute_result"
    }
   ],
   "source": [
    "#Đọc file dữ liệu chứng khoán và chia train test validate theo tỉ lệ 7:1:2\n",
    "from sklearn.model_selection import train_test_split\n",
    "df = pd.read_csv('MBB.csv')\n",
    "df = df[['Price','Open','High','Low']]\n",
    "df = df.dropna() # Drop missing values\n",
    "df = df.reset_index(drop=True) # Reset the index\n",
    "# Chọn các đặc trưng quan sát\n",
    "\n",
    "train = df['High']\n",
    "target = df['Price']\n",
    "\n",
    "train_size = int(0.6 * len(df))\n",
    "test_size = int(0.3 * len(df))\n",
    "val_size = len(df) - train_size - test_size\n",
    "\n",
    "\n",
    "train_data = train[:train_size]\n",
    "train_target = target[:train_size]\n",
    "test_data = train[train_size:train_size+test_size]\n",
    "test_target = target[train_size:train_size+test_size]\n",
    "val_data = train[train_size+test_size:]\n",
    "print(val_data)\n",
    "train_data"
   ]
  },
  {
   "cell_type": "code",
   "execution_count": 5,
   "id": "j7JbuUoME3uv",
   "metadata": {
    "colab": {
     "base_uri": "https://localhost:8080/"
    },
    "id": "j7JbuUoME3uv",
    "outputId": "29b500b6-b542-4abd-c8b9-97aad4fc5953"
   },
   "outputs": [
    {
     "name": "stdout",
     "output_type": "stream",
     "text": [
      "[21371.55616667 21371.55616667 21371.55616667 21371.55616667\n",
      " 21371.55616667 21371.55616667 21371.55616667 21371.55616667\n",
      " 21371.55616667 21371.55616667 21371.55616667 21371.55616667\n",
      " 21371.55616667 21371.55616667 21371.55616667 21371.55616667\n",
      " 21371.55616667 21371.55616667 21371.55616667 21371.55616667\n",
      " 21371.55616667 21371.55616667 21371.55616667 21371.55616667\n",
      " 21371.55616667 21371.55616667 21371.55616667 21371.55616667\n",
      " 21371.55616667 21371.55616667 21371.55616667 21371.55616667\n",
      " 21371.55616667 21371.55616667 21371.55616667 21371.55616667\n",
      " 21371.55616667 21371.55616667 21371.55616667 21371.55616667\n",
      " 21371.55616667 21371.55616667 21371.55616667 21371.55616667\n",
      " 21371.55616667 21371.55616667 21371.55616667 21371.55616667\n",
      " 21371.55616667 21371.55616667 21371.55616667 21371.55616667\n",
      " 21371.55616667 21371.55616667 21371.55616667 21371.55616667\n",
      " 21371.55616667 21371.55616667 21371.55616667 21371.55616667\n",
      " 21371.55616667 21371.55616667 21371.55616667 21371.55616667\n",
      " 21371.55616667 21371.55616667 21371.55616667 21371.55616667\n",
      " 21371.55616667 21371.55616667 21371.55616667 21371.55616667\n",
      " 21371.55616667 21371.55616667 21371.55616667 21371.55616667\n",
      " 21371.55616667 21371.55616667 21371.55616667 21371.55616667\n",
      " 21371.55616667 21371.55616667 21371.55616667 21371.55616667\n",
      " 21371.55616667 21371.55616667 21371.55616667 21371.55616667\n",
      " 21371.55616667 21371.55616667 21371.55616667 21371.55616667\n",
      " 21371.55616667 21371.55616667 21371.55616667 21371.55616667\n",
      " 21371.55616667 21371.55616667 21371.55616667 21371.55616667\n",
      " 21371.55616667 21371.55616667 21371.55616667 21371.55616667\n",
      " 21371.55616667 21371.55616667 21371.55616667 21371.55616667\n",
      " 21371.55616667 21371.55616667 21371.55616667 21371.55616667\n",
      " 21371.55616667 21371.55616667 21371.55616667 21371.55616667\n",
      " 21371.55616667 21371.55616667 21371.55616667 21371.55616667\n",
      " 21371.55616667 21371.55616667 21371.55616667 21371.55616667\n",
      " 21371.55616667 21371.55616667 21371.55616667 21371.55616667\n",
      " 21371.55616667 21371.55616667 21371.55616667 21371.55616667\n",
      " 21371.55616667 21371.55616667 21371.55616667 21371.55616667\n",
      " 21371.55616667 21371.55616667 21371.55616667 21371.55616667\n",
      " 21371.55616667 21371.55616667 21371.55616667 21371.55616667\n",
      " 21371.55616667 21371.55616667 21371.55616667 21371.55616667\n",
      " 21371.55616667 21371.55616667 21371.55616667 21371.55616667\n",
      " 21371.55616667 21371.55616667 21371.55616667 21371.55616667\n",
      " 21371.55616667 21371.55616667 21371.55616667 21371.55616667\n",
      " 21371.55616667 21371.55616667 21371.55616667 21371.55616667\n",
      " 21371.55616667 21371.55616667 21371.55616667 21371.55616667\n",
      " 21371.55616667 21371.55616667 21371.55616667 21371.55616667\n",
      " 21371.55616667 21371.55616667 21371.55616667 21371.55616667\n",
      " 21371.55616667 21371.55616667 21371.55616667 21371.55616667\n",
      " 21371.55616667 21371.55616667 21371.55616667 21371.55616667\n",
      " 21371.55616667 21371.55616667 21371.55616667 21371.55616667\n",
      " 21371.55616667 21371.55616667 21371.55616667 21371.55616667\n",
      " 21371.55616667 21371.55616667 21371.55616667 21371.55616667\n",
      " 21371.55616667 21371.55616667 21371.55616667 21371.55616667\n",
      " 21371.55616667 21371.55616667 21371.55616667 21371.55616667\n",
      " 21371.55616667 21371.55616667 21371.55616667 21371.55616667\n",
      " 21371.55616667 21371.55616667 21371.55616667 21371.55616667\n",
      " 21371.55616667 21371.55616667 21371.55616667 21371.55616667\n",
      " 21371.55616667 21371.55616667 21371.55616667 21371.55616667\n",
      " 21371.55616667 21371.55616667 21371.55616667 21371.55616667\n",
      " 21371.55616667 21371.55616667 21371.55616667 21371.55616667\n",
      " 21371.55616667 21371.55616667 21371.55616667 21371.55616667\n",
      " 21371.55616667 21371.55616667 21371.55616667 21371.55616667\n",
      " 21371.55616667 21371.55616667 21371.55616667 21371.55616667\n",
      " 21371.55616667 21371.55616667 21371.55616667 21028.44577778\n",
      " 21371.55616667 21371.55616667 21371.55616667 21371.55616667\n",
      " 21371.55616667 21371.55616667 21371.55616667 21371.55616667\n",
      " 21371.55616667 21371.55616667 21371.55616667 21371.55616667\n",
      " 21371.55616667 21371.55616667 21371.55616667 21371.55616667\n",
      " 21371.55616667 21371.55616667 21371.55616667 21371.55616667\n",
      " 21382.45       21263.788      21205.38644444 19576.11165\n",
      " 19494.41827381 18754.91935714 19547.7944     19549.69756667\n",
      " 19796.2084     19796.2084     20609.29535556 20378.18021667\n",
      " 20440.38630476 20414.71126111 20423.43906667 21314.45383333\n",
      " 21263.788      21028.44577778 21026.49111111 20375.50521667\n",
      " 20609.29535556 21314.45383333 21263.788      21290.023\n",
      " 21290.023      21205.38644444 21290.023      21314.45383333\n",
      " 21382.45       21263.788      21205.38644444 20378.18021667\n",
      " 21314.45383333 21314.45383333 21371.55616667 21371.55616667\n",
      " 21371.55616667 21371.55616667 21371.55616667 21371.55616667\n",
      " 21371.55616667 21371.55616667 21371.55616667 21371.55616667\n",
      " 21371.55616667 21371.55616667 21371.55616667 21371.55616667\n",
      " 21371.55616667 21371.55616667 21371.55616667 21371.55616667\n",
      " 21371.55616667 21371.55616667 21371.55616667 21371.55616667\n",
      " 21371.55616667 21371.55616667 21371.55616667 21371.55616667\n",
      " 21371.55616667 21371.55616667 21371.55616667 21371.55616667\n",
      " 21371.55616667 21371.55616667 21371.55616667 21371.55616667\n",
      " 21290.023      21205.38644444 21263.788      21290.023\n",
      " 20378.18021667 20422.15306667 20240.27779444 20240.27779444\n",
      " 19549.69756667 19523.0114     18851.72746667 19354.90813677\n",
      " 18799.87776032 17697.51826944 16885.83615278 17056.99533651\n",
      " 16878.12394584 17454.51679451 18192.98975873 17697.51826944\n",
      " 18035.05552778 17697.51826944 17394.1622877  17007.08791065\n",
      " 16095.60535556 16286.87252778 16405.40549286 17394.1622877\n",
      " 17984.37133333 17861.566225   18248.74485317 18035.05552778\n",
      " 17792.30797817 17861.566225   17445.26255556 17231.19228492\n",
      " 17454.51679451 16566.55779762 16448.52598889 15804.91657334]\n",
      "[15165.68486204 14934.92960913 15802.23631779 15454.86183333\n",
      " 15520.00224722 16095.60535556 15520.00224722 15802.68808068\n",
      " 15454.86183333 16980.08807474 17231.19228492 17454.51679451\n",
      " 18248.74485317 18250.89703889 19051.90528981 18743.1786873\n",
      " 17861.566225   18303.76115734 18192.98975873 18248.74485317\n",
      " 17792.30797817 18248.74485317 18851.72746667 18757.02835714\n",
      " 19026.15140093 18302.16649067 17861.566225   18192.98975873\n",
      " 17780.81393889 17445.26255556 17056.99533651 17422.47152135\n",
      " 17422.47152135 17454.51679451 17792.30797817 18176.01509206\n",
      " 18176.01509206 18644.57492024 18303.76115734 18240.78036706\n",
      " 18302.16649067 18248.74485317 18353.74870456 18353.74870456\n",
      " 19348.68380344 19479.22058611 19552.63096667 19576.11165\n",
      " 19505.06553333 19479.22058611 19547.7944     18757.02835714\n",
      " 18757.02835714 18519.1740246  18250.44823016 18489.20107262\n",
      " 18489.20107262 18462.81357262 18035.05552778 17984.37133333\n",
      " 18176.01509206 18240.78036706 18248.74485317 18519.1740246\n",
      " 18757.02835714 18303.76115734 18035.05552778 18176.01509206\n",
      " 17394.1622877  17403.31748512 17403.31748512 17436.56638056\n",
      " 17394.1622877  17436.56638056 17422.47152135 17422.47152135\n",
      " 17780.81393889 17697.51826944 17422.47152135 17454.51679451\n",
      " 17802.45033353 17436.56638056 17436.56638056 17422.47152135\n",
      " 17394.1622877  17454.51679451 17231.19228492 17780.81393889\n",
      " 17792.30797817 18192.98975873 18248.74485317 18303.76115734\n",
      " 18248.74485317 18489.20107262 18250.89703889 18250.44823016\n",
      " 18519.1740246  18462.81357262 18734.48452063 18250.89703889\n",
      " 18250.89703889 18644.57492024 18489.20107262 18240.78036706\n",
      " 18248.74485317 18192.98975873 18035.05552778 18176.01509206\n",
      " 18192.98975873 18248.74485317 18240.78036706 18302.16649067\n",
      " 18353.74870456 18302.16649067 18176.01509206 18192.98975873\n",
      " 18240.78036706 18303.76115734 18496.60807262 18496.60807262\n",
      " 18757.02835714 18661.66166349 18250.89703889 18496.60807262\n",
      " 18489.20107262]\n"
     ]
    }
   ],
   "source": [
    "x_train= np.array(train_data).reshape(-1,1)\n",
    "x_test = np.array(test_data).reshape(-1,1)\n",
    "\n",
    "\n",
    "rf_model = RandomForestRegressor(n_estimators=600,max_depth = 8, random_state=100)\n",
    "rf_model.fit(x_train, train_target)\n",
    "\n",
    "y = test_data\n",
    "predictions = rf_model.predict(x_test)\n",
    "print(predictions)\n",
    "# thres = np.unique([j for i in rf_model.estimators_ for j in i.tree_.threshold])\n",
    "# np.sort(thres)[-10:]\n",
    "# print(thres)\n",
    "\n",
    "# 5. Quá trình Validate\n",
    "x_val= np.array(val_data).reshape(-1,1)\n",
    "y_val = np.array(val_data)\n",
    "y_pred_val =  rf_model.predict(x_val)\n",
    "print(y_pred_val)"
   ]
  },
  {
   "cell_type": "code",
   "execution_count": 6,
   "id": "WFZE5s-XFNxO",
   "metadata": {
    "colab": {
     "base_uri": "https://localhost:8080/"
    },
    "id": "WFZE5s-XFNxO",
    "outputId": "ef95641f-d96e-41db-da01-fd2ce29ad0da"
   },
   "outputs": [
    {
     "name": "stdout",
     "output_type": "stream",
     "text": [
      "3099.8248772417946\n"
     ]
    }
   ],
   "source": [
    "from sklearn.metrics import mean_squared_error\n",
    "rmse = np.sqrt(np.mean((test_target - predictions)**2))\n",
    "print(rmse)"
   ]
  },
  {
   "cell_type": "code",
   "execution_count": 7,
   "id": "2a8ed5ee",
   "metadata": {
    "id": "2a8ed5ee"
   },
   "outputs": [],
   "source": [
    "# Dự đoán 30 ngày tiếp theo của feature 'High' dựa trên Linear Regression\n",
    "from sklearn.linear_model import LinearRegression\n",
    "\n",
    "ln_model = LinearRegression()\n",
    "\n",
    "ln_model.fit(np.array(train_data.index).reshape(-1,1), train_data)\n",
    "\n",
    "\n",
    "#test\n",
    "x_test_ln = np.array(test_data.index).reshape(-1, 1)\n",
    "y_test_ln = np.array(test_data)\n",
    "y_pred_ln = ln_model.predict(x_test_ln)\n",
    "\n",
    "# Quá trình Validate\n",
    "x_val_ln= np.array(val_data.index).reshape(-1, 1)\n",
    "y_val_ln = np.array(val_data)\n",
    "y_pred_val_ln =  ln_model.predict(x_val_ln)\n",
    "\n",
    "# Predict the closing prices for the next 30 days\n",
    "last_index =  df.index[-1]\n",
    "last_data = pd.RangeIndex(start=last_index, stop=last_index+30, step=1)\n",
    "\n",
    "feature_next_30_days = np.array(range(last_index+1, last_index+31)).reshape(-1, 1)\n",
    "feature_next_30_days = ln_model.predict(feature_next_30_days)\n",
    "\n",
    "\n",
    "\n"
   ]
  },
  {
   "cell_type": "code",
   "execution_count": 8,
   "id": "2iCw4Adc47Bq",
   "metadata": {
    "colab": {
     "base_uri": "https://localhost:8080/"
    },
    "id": "2iCw4Adc47Bq",
    "outputId": "540720f5-bd93-419c-91bb-0b98418cb9c1"
   },
   "outputs": [
    {
     "name": "stdout",
     "output_type": "stream",
     "text": [
      "[16489.23582103 16503.11310159 16503.11310159 16503.11310159\n",
      " 16566.55779762 16566.55779762 16638.37536905 16638.37536905\n",
      " 16638.37536905 16798.2435205  16798.2435205  16862.2626168\n",
      " 16862.2626168  16862.2626168  16883.06069987 16883.06069987\n",
      " 16883.06069987 16883.06069987 16883.06069987 16873.4297836\n",
      " 16873.4297836  16875.28145026 16875.28145026 16875.28145026\n",
      " 16877.28745026 16877.28745026 16879.04870026 16879.04870026\n",
      " 16879.04870026 16893.57292712]\n"
     ]
    }
   ],
   "source": [
    "#Dự đoán 30 ngày tiếp theo\n",
    "y_next_30_days = rf_model.predict(np.array(feature_next_30_days).reshape(-1,1))\n",
    "print(y_next_30_days)\n",
    "\n"
   ]
  },
  {
   "cell_type": "code",
   "execution_count": 9,
   "id": "AN-XQnO1vWVE",
   "metadata": {
    "colab": {
     "base_uri": "https://localhost:8080/",
     "height": 430
    },
    "id": "AN-XQnO1vWVE",
    "outputId": "446106c7-0e36-4d1d-9df6-fff55695301e"
   },
   "outputs": [
    {
     "name": "stdout",
     "output_type": "stream",
     "text": [
      "Validation RMSE: 1897.9605753209278\n",
      "Testing RMSE: 9246.469734494367\n",
      "Validation MAPE: 9.472583671372009\n",
      "Testing MAPE: 35.62236826578481\n",
      "Validation MAE: 1753.1314236534388\n",
      "Testing MAE: 8708.285861590652\n"
     ]
    },
    {
     "data": {
      "image/png": "[encoded data removed]",
      "text/plain": [
       "<Figure size 640x480 with 1 Axes>"
      ]
     },
     "metadata": {},
     "output_type": "display_data"
    }
   ],
   "source": [
    "valid_rmse = np.sqrt(np.mean((y_pred_val_ln - y_val_ln)**2))\n",
    "test_rmse = np.sqrt(np.mean((y_pred_ln - y_test_ln)**2))\n",
    "print('Validation RMSE:', valid_rmse)\n",
    "print('Testing RMSE:', test_rmse)\n",
    "\n",
    "valid_mape = np.mean(np.abs((y_pred_val_ln - y_val_ln) / y_val_ln)) * 100\n",
    "test_mape = np.mean(np.abs((y_pred_ln - y_test_ln) / y_test_ln)) * 100\n",
    "print('Validation MAPE:', valid_mape)\n",
    "print('Testing MAPE:', test_mape)\n",
    "\n",
    "valid_mae = np.mean(np.abs(y_pred_val_ln - y_val_ln))\n",
    "test_mae = np.mean(np.abs(y_pred_ln - y_test_ln))\n",
    "print('Validation MAE:', valid_mae)\n",
    "print('Testing MAE:', test_mae)\n",
    "\n",
    "plt.plot(train_data.index, train_data)\n",
    "plt.plot(test_data.index, test_data)\n",
    "plt.plot(test_data.index, y_pred_ln)\n",
    "plt.plot(val_data.index, y_pred_val_ln)\n",
    "plt.plot(last_data,feature_next_30_days)\n",
    "plt.legend(['Train', 'Test', 'Predictions','Validate','Next30Day'])\n",
    "plt.show()"
   ]
  },
  {
   "cell_type": "code",
   "execution_count": 10,
   "id": "MgovWuVRJYMA",
   "metadata": {
    "id": "MgovWuVRJYMA"
   },
   "outputs": [],
   "source": [
    "import matplotlib.pyplot as plt"
   ]
  },
  {
   "cell_type": "code",
   "execution_count": 11,
   "id": "0ba0baea",
   "metadata": {
    "colab": {
     "base_uri": "https://localhost:8080/",
     "height": 430
    },
    "id": "0ba0baea",
    "outputId": "1b739e1f-7571-46f0-8066-b6151aa5eda7"
   },
   "outputs": [
    {
     "data": {
      "image/png": "[encoded data removed]",
      "text/plain": [
       "<Figure size 640x480 with 1 Axes>"
      ]
     },
     "metadata": {},
     "output_type": "display_data"
    }
   ],
   "source": [
    "plt.plot(train_data.index, train_data)\n",
    "plt.plot(test_data.index, test_data)\n",
    "plt.plot(test_data.index, predictions)\n",
    "plt.plot(val_data.index, y_pred_val)\n",
    "plt.plot(last_data,y_next_30_days)\n",
    "plt.legend(['Train', 'Test', 'Predictions','Validate'])\n",
    "plt.show()"
   ]
  },
  {
   "cell_type": "code",
   "execution_count": null,
   "id": "3w6Mkf5xJabm",
   "metadata": {
    "id": "3w6Mkf5xJabm"
   },
   "outputs": [],
   "source": []
  }
 ],
 "metadata": {
  "colab": {
   "provenance": []
  },
  "kernelspec": {
   "display_name": "Python 3 (ipykernel)",
   "language": "python",
   "name": "python3"
  },
  "language_info": {
   "codemirror_mode": {
    "name": "ipython",
    "version": 3
   },
   "file_extension": ".py",
   "mimetype": "text/x-python",
   "name": "python",
   "nbconvert_exporter": "python",
   "pygments_lexer": "ipython3",
   "version": "3.11.2"
  }
 },
 "nbformat": 4,
 "nbformat_minor": 5
}
