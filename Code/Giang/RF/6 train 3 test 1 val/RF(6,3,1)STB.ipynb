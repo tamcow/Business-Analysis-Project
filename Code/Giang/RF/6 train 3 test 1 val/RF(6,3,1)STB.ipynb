{
 "cells": [
  {
   "cell_type": "code",
   "execution_count": 1,
   "id": "a171481d",
   "metadata": {
    "id": "a171481d"
   },
   "outputs": [],
   "source": [
    "import pandas as pd\n",
    "import numpy as np\n",
    "from sklearn.ensemble import RandomForestRegressor\n",
    "import matplotlib.pyplot as plt"
   ]
  },
  {
   "cell_type": "code",
   "execution_count": 2,
   "id": "f2a5285f",
   "metadata": {
    "colab": {
     "base_uri": "https://localhost:8080/",
     "height": 423
    },
    "id": "f2a5285f",
    "outputId": "7fbb7ebd-1448-461c-f601-67cb3a383cb4"
   },
   "outputs": [
    {
     "data": {
      "text/html": [
       "<div>\n",
       "<style scoped>\n",
       "    .dataframe tbody tr th:only-of-type {\n",
       "        vertical-align: middle;\n",
       "    }\n",
       "\n",
       "    .dataframe tbody tr th {\n",
       "        vertical-align: top;\n",
       "    }\n",
       "\n",
       "    .dataframe thead th {\n",
       "        text-align: right;\n",
       "    }\n",
       "</style>\n",
       "<table border=\"1\" class=\"dataframe\">\n",
       "  <thead>\n",
       "    <tr style=\"text-align: right;\">\n",
       "      <th></th>\n",
       "      <th>Date</th>\n",
       "      <th>Price</th>\n",
       "      <th>Open</th>\n",
       "      <th>High</th>\n",
       "      <th>Low</th>\n",
       "      <th>Vol.</th>\n",
       "      <th>Change %</th>\n",
       "    </tr>\n",
       "  </thead>\n",
       "  <tbody>\n",
       "    <tr>\n",
       "      <th>0</th>\n",
       "      <td>06/01/2018</td>\n",
       "      <td>11750</td>\n",
       "      <td>11700</td>\n",
       "      <td>12000</td>\n",
       "      <td>11700</td>\n",
       "      <td>4.31M</td>\n",
       "      <td>0.0000</td>\n",
       "    </tr>\n",
       "    <tr>\n",
       "      <th>1</th>\n",
       "      <td>06/04/2018</td>\n",
       "      <td>12550</td>\n",
       "      <td>12000</td>\n",
       "      <td>12550</td>\n",
       "      <td>12000</td>\n",
       "      <td>7.42M</td>\n",
       "      <td>0.0681</td>\n",
       "    </tr>\n",
       "    <tr>\n",
       "      <th>2</th>\n",
       "      <td>06/05/2018</td>\n",
       "      <td>12900</td>\n",
       "      <td>12700</td>\n",
       "      <td>13150</td>\n",
       "      <td>12600</td>\n",
       "      <td>8.11M</td>\n",
       "      <td>0.0279</td>\n",
       "    </tr>\n",
       "    <tr>\n",
       "      <th>3</th>\n",
       "      <td>06/06/2018</td>\n",
       "      <td>13300</td>\n",
       "      <td>12800</td>\n",
       "      <td>13450</td>\n",
       "      <td>12700</td>\n",
       "      <td>8.48M</td>\n",
       "      <td>0.0310</td>\n",
       "    </tr>\n",
       "    <tr>\n",
       "      <th>4</th>\n",
       "      <td>06/07/2018</td>\n",
       "      <td>13000</td>\n",
       "      <td>13300</td>\n",
       "      <td>13350</td>\n",
       "      <td>12950</td>\n",
       "      <td>7.11M</td>\n",
       "      <td>-0.0226</td>\n",
       "    </tr>\n",
       "    <tr>\n",
       "      <th>...</th>\n",
       "      <td>...</td>\n",
       "      <td>...</td>\n",
       "      <td>...</td>\n",
       "      <td>...</td>\n",
       "      <td>...</td>\n",
       "      <td>...</td>\n",
       "      <td>...</td>\n",
       "    </tr>\n",
       "    <tr>\n",
       "      <th>1237</th>\n",
       "      <td>05/15/2023</td>\n",
       "      <td>27000</td>\n",
       "      <td>27000</td>\n",
       "      <td>27600</td>\n",
       "      <td>26900</td>\n",
       "      <td>29.85M</td>\n",
       "      <td>0.0075</td>\n",
       "    </tr>\n",
       "    <tr>\n",
       "      <th>1238</th>\n",
       "      <td>05/16/2023</td>\n",
       "      <td>27400</td>\n",
       "      <td>27000</td>\n",
       "      <td>27550</td>\n",
       "      <td>27000</td>\n",
       "      <td>13.15M</td>\n",
       "      <td>0.0148</td>\n",
       "    </tr>\n",
       "    <tr>\n",
       "      <th>1239</th>\n",
       "      <td>05/17/2023</td>\n",
       "      <td>27000</td>\n",
       "      <td>27400</td>\n",
       "      <td>27500</td>\n",
       "      <td>26900</td>\n",
       "      <td>17.69M</td>\n",
       "      <td>-0.0146</td>\n",
       "    </tr>\n",
       "    <tr>\n",
       "      <th>1240</th>\n",
       "      <td>05/18/2023</td>\n",
       "      <td>27200</td>\n",
       "      <td>27150</td>\n",
       "      <td>27500</td>\n",
       "      <td>27000</td>\n",
       "      <td>15.19M</td>\n",
       "      <td>0.0074</td>\n",
       "    </tr>\n",
       "    <tr>\n",
       "      <th>1241</th>\n",
       "      <td>05/19/2023</td>\n",
       "      <td>27850</td>\n",
       "      <td>27350</td>\n",
       "      <td>27950</td>\n",
       "      <td>27200</td>\n",
       "      <td>24.34M</td>\n",
       "      <td>0.0239</td>\n",
       "    </tr>\n",
       "  </tbody>\n",
       "</table>\n",
       "<p>1242 rows × 7 columns</p>\n",
       "</div>"
      ],
      "text/plain": [
       "            Date  Price   Open   High    Low    Vol.  Change %\n",
       "0     06/01/2018  11750  11700  12000  11700   4.31M    0.0000\n",
       "1     06/04/2018  12550  12000  12550  12000   7.42M    0.0681\n",
       "2     06/05/2018  12900  12700  13150  12600   8.11M    0.0279\n",
       "3     06/06/2018  13300  12800  13450  12700   8.48M    0.0310\n",
       "4     06/07/2018  13000  13300  13350  12950   7.11M   -0.0226\n",
       "...          ...    ...    ...    ...    ...     ...       ...\n",
       "1237  05/15/2023  27000  27000  27600  26900  29.85M    0.0075\n",
       "1238  05/16/2023  27400  27000  27550  27000  13.15M    0.0148\n",
       "1239  05/17/2023  27000  27400  27500  26900  17.69M   -0.0146\n",
       "1240  05/18/2023  27200  27150  27500  27000  15.19M    0.0074\n",
       "1241  05/19/2023  27850  27350  27950  27200  24.34M    0.0239\n",
       "\n",
       "[1242 rows x 7 columns]"
      ]
     },
     "execution_count": 2,
     "metadata": {},
     "output_type": "execute_result"
    }
   ],
   "source": [
    "df = pd.read_csv('STB.csv')\n",
    "df = df.dropna()\n",
    "df"
   ]
  },
  {
   "cell_type": "code",
   "execution_count": 3,
   "id": "jlTKZL94fMsi",
   "metadata": {
    "colab": {
     "base_uri": "https://localhost:8080/"
    },
    "id": "jlTKZL94fMsi",
    "outputId": "9c4f5c24-652d-4399-bc1d-c7128fdf4343"
   },
   "outputs": [
    {
     "name": "stdout",
     "output_type": "stream",
     "text": [
      "Open: 0.9979540473155362\n",
      "High: 0.9991014925421863\n",
      "Low: 0.9990241498897806\n"
     ]
    }
   ],
   "source": [
    "#Kiểm tra độ tương quan giữa các cột và lấy cột có tương quan cao nhất để dự đoán 'Price'\n",
    "features = ['Open', 'High', 'Low']\n",
    "for i in features:\n",
    "    correlation = df['Price'].corr(df[i])\n",
    "    print(i + \": \" + str(correlation))\n"
   ]
  },
  {
   "cell_type": "code",
   "execution_count": 4,
   "id": "80c39075",
   "metadata": {
    "colab": {
     "base_uri": "https://localhost:8080/"
    },
    "id": "80c39075",
    "outputId": "b7b23c34-8061-4928-acdb-18951dab7ad8"
   },
   "outputs": [
    {
     "name": "stdout",
     "output_type": "stream",
     "text": [
      "1117    16000\n",
      "1118    16150\n",
      "1119    17250\n",
      "1120    17650\n",
      "1121    17400\n",
      "        ...  \n",
      "1237    27600\n",
      "1238    27550\n",
      "1239    27500\n",
      "1240    27500\n",
      "1241    27950\n",
      "Name: High, Length: 125, dtype: int64\n"
     ]
    },
    {
     "data": {
      "text/plain": [
       "0      12000\n",
       "1      12550\n",
       "2      13150\n",
       "3      13450\n",
       "4      13350\n",
       "       ...  \n",
       "740    27400\n",
       "741    28700\n",
       "742    29550\n",
       "743    29800\n",
       "744    29250\n",
       "Name: High, Length: 745, dtype: int64"
      ]
     },
     "execution_count": 4,
     "metadata": {},
     "output_type": "execute_result"
    }
   ],
   "source": [
    "#Đọc file dữ liệu chứng khoán và chia train test validate theo tỉ lệ 7:1:2\n",
    "from sklearn.model_selection import train_test_split\n",
    "df = pd.read_csv('STB.csv')\n",
    "df = df[['Price','Open','High','Low']]\n",
    "df = df.dropna() # Drop missing values\n",
    "df = df.reset_index(drop=True) # Reset the index\n",
    "# Chọn các đặc trưng quan sát\n",
    "\n",
    "train = df['High']\n",
    "target = df['Price']\n",
    "\n",
    "train_size = int(0.6 * len(df))\n",
    "test_size = int(0.3 * len(df))\n",
    "val_size = len(df) - train_size - test_size\n",
    "\n",
    "\n",
    "train_data = train[:train_size]\n",
    "train_target = target[:train_size]\n",
    "test_data = train[train_size:train_size+test_size]\n",
    "test_target = target[train_size:train_size+test_size]\n",
    "val_data = train[train_size+test_size:]\n",
    "print(val_data)\n",
    "train_data"
   ]
  },
  {
   "cell_type": "code",
   "execution_count": 5,
   "id": "j7JbuUoME3uv",
   "metadata": {
    "colab": {
     "base_uri": "https://localhost:8080/"
    },
    "id": "j7JbuUoME3uv",
    "outputId": "29b500b6-b542-4abd-c8b9-97aad4fc5953"
   },
   "outputs": [
    {
     "name": "stdout",
     "output_type": "stream",
     "text": [
      "[28950.33333333 28950.33333333 28950.33333333 28950.33333333\n",
      " 28950.33333333 28950.33333333 28950.33333333 28950.33333333\n",
      " 28950.33333333 28950.33333333 28950.33333333 28950.33333333\n",
      " 28950.33333333 28950.33333333 28950.33333333 28950.33333333\n",
      " 28950.33333333 29148.33333333 28950.33333333 28950.33333333\n",
      " 28950.33333333 28950.33333333 28950.33333333 29155.41666667\n",
      " 28950.33333333 28950.33333333 28950.33333333 28950.33333333\n",
      " 28950.33333333 28950.33333333 28950.33333333 28950.33333333\n",
      " 28950.33333333 28950.33333333 28931.83333333 28804.33333333\n",
      " 28642.33333333 28642.33333333 28804.33333333 27427.5\n",
      " 28035.33333333 28473.83333333 28041.08333333 28950.33333333\n",
      " 28954.58333333 28950.33333333 29155.41666667 28954.58333333\n",
      " 28950.33333333 28950.33333333 28950.33333333 28950.33333333\n",
      " 28950.33333333 28950.33333333 28950.33333333 28950.33333333\n",
      " 28950.33333333 28950.33333333 28950.33333333 28950.33333333\n",
      " 28950.33333333 28950.33333333 28950.33333333 28950.33333333\n",
      " 28611.33333333 27174.5        27011.25       27011.25\n",
      " 26960.58333333 27427.5        27447.16666667 26982.58333333\n",
      " 27174.5        28401.5        28035.33333333 26982.58333333\n",
      " 27011.25       26960.58333333 26542.25       26306.75\n",
      " 26352.25       26389.25       26982.58333333 26312.75\n",
      " 26286.16666667 26352.25       26542.25       26389.25\n",
      " 26108.08333333 26108.08333333 26092.66666667 24813.16666667\n",
      " 24240.25       25063.41666667 25063.41666667 25063.41666667\n",
      " 25882.83333333 26108.08333333 26286.16666667 26115.66666667\n",
      " 26115.66666667 26542.25       26542.25       26352.25\n",
      " 26115.66666667 26108.08333333 26241.5        26215.16666667\n",
      " 25063.41666667 26115.66666667 26115.66666667 26115.66666667\n",
      " 26312.75       26286.16666667 28473.83333333 28041.08333333\n",
      " 27075.         27447.16666667 28642.33333333 28642.33333333\n",
      " 28611.33333333 28473.83333333 28473.83333333 28642.33333333\n",
      " 28176.08333333 28041.08333333 28473.83333333 29155.41666667\n",
      " 28642.33333333 28950.33333333 28950.33333333 28950.33333333\n",
      " 28950.33333333 28950.33333333 28950.33333333 28950.33333333\n",
      " 29148.33333333 28473.83333333 28035.33333333 28642.33333333\n",
      " 28642.33333333 28804.33333333 28804.33333333 28642.33333333\n",
      " 28642.33333333 28642.33333333 28642.33333333 28642.33333333\n",
      " 28642.33333333 28611.33333333 27166.         28176.08333333\n",
      " 28473.83333333 28950.33333333 28950.33333333 28950.33333333\n",
      " 28950.33333333 28950.33333333 28950.33333333 28950.33333333\n",
      " 28950.33333333 28950.33333333 28950.33333333 28950.33333333\n",
      " 28950.33333333 28950.33333333 28950.33333333 28950.33333333\n",
      " 28950.33333333 28950.33333333 28950.33333333 28950.33333333\n",
      " 28950.33333333 28950.33333333 28950.33333333 28950.33333333\n",
      " 28950.33333333 28950.33333333 28950.33333333 28950.33333333\n",
      " 28950.33333333 28950.33333333 28950.33333333 28950.33333333\n",
      " 28950.33333333 28950.33333333 28950.33333333 28950.33333333\n",
      " 28950.33333333 28950.33333333 28950.33333333 28950.33333333\n",
      " 28950.33333333 28950.33333333 28950.33333333 28950.33333333\n",
      " 28950.33333333 28950.33333333 28950.33333333 28950.33333333\n",
      " 28950.33333333 28950.33333333 28950.33333333 28950.33333333\n",
      " 28950.33333333 28950.33333333 28950.33333333 28950.33333333\n",
      " 28950.33333333 28950.33333333 28950.33333333 28950.33333333\n",
      " 28950.33333333 28950.33333333 28950.33333333 28950.33333333\n",
      " 28950.33333333 28950.33333333 28950.33333333 28950.33333333\n",
      " 28950.33333333 28950.33333333 28950.33333333 28950.33333333\n",
      " 28950.33333333 28950.33333333 28954.58333333 28041.08333333\n",
      " 28401.5        28804.33333333 28804.33333333 26982.58333333\n",
      " 28041.08333333 28041.08333333 28041.08333333 27011.25\n",
      " 26312.75       26108.08333333 24589.16666667 23565.11111111\n",
      " 23667.15277778 22846.55138889 21304.42361111 21142.15277778\n",
      " 20006.49258658 20988.75694444 22214.62056878 21333.67361111\n",
      " 20988.75694444 20988.75694444 22340.90634921 22023.86001684\n",
      " 21848.50585017 22532.03300265 22340.48968254 21852.70029461\n",
      " 22214.62056878 20967.75694444 21142.15277778 20130.20833333\n",
      " 21389.90972222 22210.28723545 21848.50585017 21389.90972222\n",
      " 21142.15277778 20783.56944444 21142.15277778 20130.20833333\n",
      " 20130.20833333 19114.89594456 20130.20833333 20967.75694444\n",
      " 20967.25694444 20988.75694444 22340.48968254 23070.40555556\n",
      " 22023.86001684 21333.67361111 22738.58339947 22938.23055556\n",
      " 23076.0375     22574.9963955  22524.23786376 22220.95390212\n",
      " 22340.48968254 23076.0375     23070.40555556 23258.71944444\n",
      " 23076.0375     22574.9963955  22846.55138889 22938.23055556\n",
      " 22846.55138889 23070.40555556 22738.58339947 22524.23786376\n",
      " 23975.33333333 24414.16666667 24705.91666667 24705.91666667\n",
      " 24813.16666667 24820.         24625.83333333 24813.16666667\n",
      " 24705.91666667 24609.75       24705.91666667 24813.16666667\n",
      " 26241.5        25063.41666667 24705.91666667 24813.16666667\n",
      " 24705.91666667 24625.83333333 24418.58333333 24705.91666667\n",
      " 24813.16666667 25063.41666667 24279.5        24589.16666667\n",
      " 24414.16666667 24279.5        24589.16666667 24616.91666667\n",
      " 23975.33333333 23949.04166667 23565.11111111 22846.55138889\n",
      " 22524.23786376 23070.40555556 22532.03300265 21847.45029461\n",
      " 22210.28723545 21629.55456349 21304.42361111 21333.67361111\n",
      " 20511.95833333 20132.54166667 20130.20833333 20130.20833333\n",
      " 20132.54166667 19901.61738817 19444.48313931 19273.23896705\n",
      " 19031.35431097 17162.925      16884.85873316 16762.36192026\n",
      " 16539.79167915 17223.3        17761.3031746  17772.88650794\n",
      " 18008.80668496 17662.50138889 17450.75833333 16884.85873316\n",
      " 15846.14236111 15534.2985119  15406.55       15757.26140873\n",
      " 16550.9203373  16110.39087302 16884.85873316 16872.320671\n",
      " 16473.28333333 16884.85873316 16579.29801587 16520.7827381\n",
      " 16823.2471392  15846.14236111 15846.14236111 15771.06875   ]\n",
      "[15757.39474206 15775.56875    16884.85873316 17191.71666667\n",
      " 16868.01580688 17662.50138889 17669.83472222 18049.55456349\n",
      " 18720.61487128 19444.48313931 19638.55170593 19957.9294733\n",
      " 21088.81944444 20134.04166667 22210.28723545 21847.45029461\n",
      " 20167.04166667 20967.75694444 21852.70029461 21852.70029461\n",
      " 21852.70029461 22846.55138889 22938.23055556 22649.7337963\n",
      " 23076.0375     22220.95390212 23328.99722222 24066.59444444\n",
      " 22940.89722222 22870.64722222 22532.03300265 22532.03300265\n",
      " 22738.58339947 21848.50585017 22938.23055556 23961.33333333\n",
      " 24132.84444444 24589.16666667 24418.58333333 24609.75\n",
      " 24616.91666667 24415.66666667 24616.91666667 24705.91666667\n",
      " 26108.08333333 26286.16666667 26352.25       26982.58333333\n",
      " 26115.66666667 26389.25       26960.58333333 26241.5\n",
      " 26542.25       26241.5        26219.5        25860.16666667\n",
      " 24820.         24240.25       24184.80039683 24279.5\n",
      " 23972.33333333 24132.84444444 24414.16666667 24820.\n",
      " 26082.         24705.91666667 24418.58333333 24589.16666667\n",
      " 24113.34444444 23667.15277778 24616.91666667 24820.\n",
      " 25063.41666667 24705.91666667 24609.75       24609.75\n",
      " 26389.25       26286.16666667 25063.41666667 24589.16666667\n",
      " 24705.91666667 24415.66666667 24589.16666667 24589.16666667\n",
      " 23975.33333333 24625.83333333 24589.16666667 24705.91666667\n",
      " 24820.         25882.83333333 24813.16666667 26254.75\n",
      " 26241.5        26312.75       26352.25       26306.75\n",
      " 26241.5        25882.83333333 26254.75       25860.16666667\n",
      " 26241.5        26108.08333333 26115.66666667 25889.16666667\n",
      " 26082.         25882.83333333 25063.41666667 25063.41666667\n",
      " 25113.25       25113.25       24616.91666667 24705.91666667\n",
      " 24616.91666667 24609.75       24625.83333333 24820.\n",
      " 25113.25       26254.75       26115.66666667 26286.16666667\n",
      " 27011.25       27011.25       26982.58333333 26982.58333333\n",
      " 27427.5       ]\n"
     ]
    }
   ],
   "source": [
    "x_train= np.array(train_data).reshape(-1,1)\n",
    "x_test = np.array(test_data).reshape(-1,1)\n",
    "\n",
    "\n",
    "rf_model = RandomForestRegressor(n_estimators=600,max_depth = 8, random_state=100)\n",
    "rf_model.fit(x_train, train_target)\n",
    "\n",
    "y = test_data\n",
    "predictions = rf_model.predict(x_test)\n",
    "print(predictions)\n",
    "# thres = np.unique([j for i in rf_model.estimators_ for j in i.tree_.threshold])\n",
    "# np.sort(thres)[-10:]\n",
    "# print(thres)\n",
    "\n",
    "# 5. Quá trình Validate\n",
    "x_val= np.array(val_data).reshape(-1,1)\n",
    "y_val = np.array(val_data)\n",
    "y_pred_val =  rf_model.predict(x_val)\n",
    "print(y_pred_val)"
   ]
  },
  {
   "cell_type": "code",
   "execution_count": 6,
   "id": "WFZE5s-XFNxO",
   "metadata": {
    "colab": {
     "base_uri": "https://localhost:8080/"
    },
    "id": "WFZE5s-XFNxO",
    "outputId": "ef95641f-d96e-41db-da01-fd2ce29ad0da"
   },
   "outputs": [
    {
     "name": "stdout",
     "output_type": "stream",
     "text": [
      "1988.9690697705887\n"
     ]
    }
   ],
   "source": [
    "from sklearn.metrics import mean_squared_error\n",
    "rmse = np.sqrt(np.mean((test_target - predictions)**2))\n",
    "print(rmse)"
   ]
  },
  {
   "cell_type": "code",
   "execution_count": 7,
   "id": "2a8ed5ee",
   "metadata": {
    "id": "2a8ed5ee"
   },
   "outputs": [],
   "source": [
    "# Dự đoán 30 ngày tiếp theo của feature 'High' dựa trên Linear Regression\n",
    "from sklearn.linear_model import LinearRegression\n",
    "\n",
    "ln_model = LinearRegression()\n",
    "\n",
    "ln_model.fit(np.array(train_data.index).reshape(-1,1), train_data)\n",
    "\n",
    "\n",
    "#test\n",
    "x_test_ln = np.array(test_data.index).reshape(-1, 1)\n",
    "y_test_ln = np.array(test_data)\n",
    "y_pred_ln = ln_model.predict(x_test_ln)\n",
    "\n",
    "# Quá trình Validate\n",
    "x_val_ln= np.array(val_data.index).reshape(-1, 1)\n",
    "y_val_ln = np.array(val_data)\n",
    "y_pred_val_ln =  ln_model.predict(x_val_ln)\n",
    "\n",
    "# Predict the closing prices for the next 30 days\n",
    "last_index =  df.index[-1]\n",
    "last_data = pd.RangeIndex(start=last_index, stop=last_index+30, step=1)\n",
    "\n",
    "feature_next_30_days = np.array(range(last_index+1, last_index+31)).reshape(-1, 1)\n",
    "feature_next_30_days = ln_model.predict(feature_next_30_days)\n",
    "\n",
    "\n",
    "\n"
   ]
  },
  {
   "cell_type": "code",
   "execution_count": 8,
   "id": "2iCw4Adc47Bq",
   "metadata": {
    "colab": {
     "base_uri": "https://localhost:8080/"
    },
    "id": "2iCw4Adc47Bq",
    "outputId": "540720f5-bd93-419c-91bb-0b98418cb9c1"
   },
   "outputs": [
    {
     "name": "stdout",
     "output_type": "stream",
     "text": [
      "[20130.20833333 20130.20833333 20130.20833333 20130.20833333\n",
      " 20130.20833333 20130.20833333 20130.20833333 20130.20833333\n",
      " 20132.54166667 20132.54166667 20132.54166667 20132.54166667\n",
      " 20132.54166667 20134.04166667 20134.04166667 20134.04166667\n",
      " 20147.08333333 20147.08333333 20147.08333333 20167.04166667\n",
      " 20167.04166667 20167.04166667 20167.04166667 20167.04166667\n",
      " 20172.54166667 20172.54166667 20172.54166667 20224.45833333\n",
      " 20224.45833333 20224.45833333]\n"
     ]
    }
   ],
   "source": [
    "#Dự đoán 30 ngày tiếp theo\n",
    "y_next_30_days = rf_model.predict(np.array(feature_next_30_days).reshape(-1,1))\n",
    "print(y_next_30_days)\n",
    "\n"
   ]
  },
  {
   "cell_type": "code",
   "execution_count": 9,
   "id": "AN-XQnO1vWVE",
   "metadata": {
    "colab": {
     "base_uri": "https://localhost:8080/",
     "height": 430
    },
    "id": "AN-XQnO1vWVE",
    "outputId": "446106c7-0e36-4d1d-9df6-fff55695301e"
   },
   "outputs": [
    {
     "name": "stdout",
     "output_type": "stream",
     "text": [
      "Validation RMSE: 4991.4390300716805\n",
      "Testing RMSE: 10845.380861941332\n",
      "Validation MAPE: 18.731522621045784\n",
      "Testing MAPE: 33.236752190409405\n",
      "Validation MAE: 4711.317349806461\n",
      "Testing MAE: 9659.879073918883\n"
     ]
    },
    {
     "data": {
      "image/png": "[encoded data removed]",
      "text/plain": [
       "<Figure size 640x480 with 1 Axes>"
      ]
     },
     "metadata": {},
     "output_type": "display_data"
    }
   ],
   "source": [
    "valid_rmse = np.sqrt(np.mean((y_pred_val_ln - y_val_ln)**2))\n",
    "test_rmse = np.sqrt(np.mean((y_pred_ln - y_test_ln)**2))\n",
    "print('Validation RMSE:', valid_rmse)\n",
    "print('Testing RMSE:', test_rmse)\n",
    "\n",
    "valid_mape = np.mean(np.abs((y_pred_val_ln - y_val_ln) / y_val_ln)) * 100\n",
    "test_mape = np.mean(np.abs((y_pred_ln - y_test_ln) / y_test_ln)) * 100\n",
    "print('Validation MAPE:', valid_mape)\n",
    "print('Testing MAPE:', test_mape)\n",
    "\n",
    "valid_mae = np.mean(np.abs(y_pred_val_ln - y_val_ln))\n",
    "test_mae = np.mean(np.abs(y_pred_ln - y_test_ln))\n",
    "print('Validation MAE:', valid_mae)\n",
    "print('Testing MAE:', test_mae)\n",
    "\n",
    "plt.plot(train_data.index, train_data)\n",
    "plt.plot(test_data.index, test_data)\n",
    "plt.plot(test_data.index, y_pred_ln)\n",
    "plt.plot(val_data.index, y_pred_val_ln)\n",
    "plt.plot(last_data,feature_next_30_days)\n",
    "plt.legend(['Train', 'Test', 'Predictions','Validate','Next30Day'])\n",
    "plt.show()"
   ]
  },
  {
   "cell_type": "code",
   "execution_count": 10,
   "id": "MgovWuVRJYMA",
   "metadata": {
    "id": "MgovWuVRJYMA"
   },
   "outputs": [],
   "source": [
    "import matplotlib.pyplot as plt"
   ]
  },
  {
   "cell_type": "code",
   "execution_count": 11,
   "id": "0ba0baea",
   "metadata": {
    "colab": {
     "base_uri": "https://localhost:8080/",
     "height": 430
    },
    "id": "0ba0baea",
    "outputId": "1b739e1f-7571-46f0-8066-b6151aa5eda7"
   },
   "outputs": [
    {
     "data": {
      "image/png": "[encoded data removed]",
      "text/plain": [
       "<Figure size 640x480 with 1 Axes>"
      ]
     },
     "metadata": {},
     "output_type": "display_data"
    }
   ],
   "source": [
    "plt.plot(train_data.index, train_data)\n",
    "plt.plot(test_data.index, test_data)\n",
    "plt.plot(test_data.index, predictions)\n",
    "plt.plot(val_data.index, y_pred_val)\n",
    "plt.plot(last_data,y_next_30_days)\n",
    "plt.legend(['Train', 'Test', 'Predictions','Validate'])\n",
    "plt.show()"
   ]
  },
  {
   "cell_type": "code",
   "execution_count": null,
   "id": "3w6Mkf5xJabm",
   "metadata": {
    "id": "3w6Mkf5xJabm"
   },
   "outputs": [],
   "source": []
  }
 ],
 "metadata": {
  "colab": {
   "provenance": []
  },
  "kernelspec": {
   "display_name": "Python 3 (ipykernel)",
   "language": "python",
   "name": "python3"
  },
  "language_info": {
   "codemirror_mode": {
    "name": "ipython",
    "version": 3
   },
   "file_extension": ".py",
   "mimetype": "text/x-python",
   "name": "python",
   "nbconvert_exporter": "python",
   "pygments_lexer": "ipython3",
   "version": "3.11.2"
  }
 },
 "nbformat": 4,
 "nbformat_minor": 5
}
