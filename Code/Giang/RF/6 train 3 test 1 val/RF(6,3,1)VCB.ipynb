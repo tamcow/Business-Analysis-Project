{
 "cells": [
  {
   "cell_type": "code",
   "execution_count": 1,
   "id": "a171481d",
   "metadata": {
    "id": "a171481d"
   },
   "outputs": [],
   "source": [
    "import pandas as pd\n",
    "import numpy as np\n",
    "from sklearn.ensemble import RandomForestRegressor\n",
    "import matplotlib.pyplot as plt"
   ]
  },
  {
   "cell_type": "code",
   "execution_count": 2,
   "id": "f2a5285f",
   "metadata": {
    "colab": {
     "base_uri": "https://localhost:8080/",
     "height": 423
    },
    "id": "f2a5285f",
    "outputId": "7fbb7ebd-1448-461c-f601-67cb3a383cb4"
   },
   "outputs": [
    {
     "data": {
      "text/html": [
       "<div>\n",
       "<style scoped>\n",
       "    .dataframe tbody tr th:only-of-type {\n",
       "        vertical-align: middle;\n",
       "    }\n",
       "\n",
       "    .dataframe tbody tr th {\n",
       "        vertical-align: top;\n",
       "    }\n",
       "\n",
       "    .dataframe thead th {\n",
       "        text-align: right;\n",
       "    }\n",
       "</style>\n",
       "<table border=\"1\" class=\"dataframe\">\n",
       "  <thead>\n",
       "    <tr style=\"text-align: right;\">\n",
       "      <th></th>\n",
       "      <th>Date</th>\n",
       "      <th>Price</th>\n",
       "      <th>Open</th>\n",
       "      <th>High</th>\n",
       "      <th>Low</th>\n",
       "      <th>Vol.</th>\n",
       "      <th>Change %</th>\n",
       "    </tr>\n",
       "  </thead>\n",
       "  <tbody>\n",
       "    <tr>\n",
       "      <th>0</th>\n",
       "      <td>6/1/2018</td>\n",
       "      <td>43216</td>\n",
       "      <td>41017</td>\n",
       "      <td>43595</td>\n",
       "      <td>40866</td>\n",
       "      <td>7.57M</td>\n",
       "      <td>5.36%</td>\n",
       "    </tr>\n",
       "    <tr>\n",
       "      <th>1</th>\n",
       "      <td>6/4/2018</td>\n",
       "      <td>44960</td>\n",
       "      <td>42837</td>\n",
       "      <td>45187</td>\n",
       "      <td>42458</td>\n",
       "      <td>4.90M</td>\n",
       "      <td>4.04%</td>\n",
       "    </tr>\n",
       "    <tr>\n",
       "      <th>2</th>\n",
       "      <td>6/5/2018</td>\n",
       "      <td>44429</td>\n",
       "      <td>44429</td>\n",
       "      <td>45187</td>\n",
       "      <td>43747</td>\n",
       "      <td>4.51M</td>\n",
       "      <td>-1.18%</td>\n",
       "    </tr>\n",
       "    <tr>\n",
       "      <th>3</th>\n",
       "      <td>6/6/2018</td>\n",
       "      <td>44808</td>\n",
       "      <td>44050</td>\n",
       "      <td>45263</td>\n",
       "      <td>43671</td>\n",
       "      <td>2.79M</td>\n",
       "      <td>0.85%</td>\n",
       "    </tr>\n",
       "    <tr>\n",
       "      <th>4</th>\n",
       "      <td>6/7/2018</td>\n",
       "      <td>44505</td>\n",
       "      <td>44732</td>\n",
       "      <td>44960</td>\n",
       "      <td>44278</td>\n",
       "      <td>3.24M</td>\n",
       "      <td>-0.68%</td>\n",
       "    </tr>\n",
       "    <tr>\n",
       "      <th>...</th>\n",
       "      <td>...</td>\n",
       "      <td>...</td>\n",
       "      <td>...</td>\n",
       "      <td>...</td>\n",
       "      <td>...</td>\n",
       "      <td>...</td>\n",
       "      <td>...</td>\n",
       "    </tr>\n",
       "    <tr>\n",
       "      <th>1237</th>\n",
       "      <td>5/15/2023</td>\n",
       "      <td>91700</td>\n",
       "      <td>92000</td>\n",
       "      <td>93000</td>\n",
       "      <td>91200</td>\n",
       "      <td>450.50K</td>\n",
       "      <td>-1.19%</td>\n",
       "    </tr>\n",
       "    <tr>\n",
       "      <th>1238</th>\n",
       "      <td>5/16/2023</td>\n",
       "      <td>92600</td>\n",
       "      <td>92000</td>\n",
       "      <td>93100</td>\n",
       "      <td>91300</td>\n",
       "      <td>666.10K</td>\n",
       "      <td>0.98%</td>\n",
       "    </tr>\n",
       "    <tr>\n",
       "      <th>1239</th>\n",
       "      <td>5/17/2023</td>\n",
       "      <td>92800</td>\n",
       "      <td>92500</td>\n",
       "      <td>93000</td>\n",
       "      <td>92300</td>\n",
       "      <td>572.70K</td>\n",
       "      <td>0.22%</td>\n",
       "    </tr>\n",
       "    <tr>\n",
       "      <th>1240</th>\n",
       "      <td>5/18/2023</td>\n",
       "      <td>95000</td>\n",
       "      <td>92900</td>\n",
       "      <td>96000</td>\n",
       "      <td>92200</td>\n",
       "      <td>1.68M</td>\n",
       "      <td>2.37%</td>\n",
       "    </tr>\n",
       "    <tr>\n",
       "      <th>1241</th>\n",
       "      <td>5/19/2023</td>\n",
       "      <td>94200</td>\n",
       "      <td>94500</td>\n",
       "      <td>94900</td>\n",
       "      <td>92600</td>\n",
       "      <td>439.90K</td>\n",
       "      <td>-0.84%</td>\n",
       "    </tr>\n",
       "  </tbody>\n",
       "</table>\n",
       "<p>1242 rows × 7 columns</p>\n",
       "</div>"
      ],
      "text/plain": [
       "           Date  Price   Open   High    Low     Vol. Change %\n",
       "0      6/1/2018  43216  41017  43595  40866    7.57M    5.36%\n",
       "1      6/4/2018  44960  42837  45187  42458    4.90M    4.04%\n",
       "2      6/5/2018  44429  44429  45187  43747    4.51M   -1.18%\n",
       "3      6/6/2018  44808  44050  45263  43671    2.79M    0.85%\n",
       "4      6/7/2018  44505  44732  44960  44278    3.24M   -0.68%\n",
       "...         ...    ...    ...    ...    ...      ...      ...\n",
       "1237  5/15/2023  91700  92000  93000  91200  450.50K   -1.19%\n",
       "1238  5/16/2023  92600  92000  93100  91300  666.10K    0.98%\n",
       "1239  5/17/2023  92800  92500  93000  92300  572.70K    0.22%\n",
       "1240  5/18/2023  95000  92900  96000  92200    1.68M    2.37%\n",
       "1241  5/19/2023  94200  94500  94900  92600  439.90K   -0.84%\n",
       "\n",
       "[1242 rows x 7 columns]"
      ]
     },
     "execution_count": 2,
     "metadata": {},
     "output_type": "execute_result"
    }
   ],
   "source": [
    "df = pd.read_csv('VCB.csv')\n",
    "df = df.dropna()\n",
    "df"
   ]
  },
  {
   "cell_type": "code",
   "execution_count": 3,
   "id": "jlTKZL94fMsi",
   "metadata": {
    "colab": {
     "base_uri": "https://localhost:8080/"
    },
    "id": "jlTKZL94fMsi",
    "outputId": "9c4f5c24-652d-4399-bc1d-c7128fdf4343"
   },
   "outputs": [
    {
     "name": "stdout",
     "output_type": "stream",
     "text": [
      "Open: 0.9967135216209101\n",
      "High: 0.9986067330456387\n",
      "Low: 0.9979197379972933\n"
     ]
    }
   ],
   "source": [
    "#Kiểm tra độ tương quan giữa các cột và lấy cột có tương quan cao nhất để dự đoán 'Price'\n",
    "features = ['Open', 'High', 'Low']\n",
    "for i in features:\n",
    "    correlation = df['Price'].corr(df[i])\n",
    "    print(i + \": \" + str(correlation))\n"
   ]
  },
  {
   "cell_type": "code",
   "execution_count": 4,
   "id": "80c39075",
   "metadata": {
    "colab": {
     "base_uri": "https://localhost:8080/"
    },
    "id": "80c39075",
    "outputId": "b7b23c34-8061-4928-acdb-18951dab7ad8"
   },
   "outputs": [
    {
     "name": "stdout",
     "output_type": "stream",
     "text": [
      "993     75600\n",
      "994     75700\n",
      "995     77000\n",
      "996     77100\n",
      "997     77400\n",
      "        ...  \n",
      "1237    93000\n",
      "1238    93100\n",
      "1239    93000\n",
      "1240    96000\n",
      "1241    94900\n",
      "Name: High, Length: 249, dtype: int64\n"
     ]
    },
    {
     "data": {
      "text/plain": [
       "0      43595\n",
       "1      45187\n",
       "2      45187\n",
       "3      45263\n",
       "4      44960\n",
       "       ...  \n",
       "740    74322\n",
       "741    73238\n",
       "742    76645\n",
       "743    75871\n",
       "744    76258\n",
       "Name: High, Length: 745, dtype: int64"
      ]
     },
     "execution_count": 4,
     "metadata": {},
     "output_type": "execute_result"
    }
   ],
   "source": [
    "#Đọc file dữ liệu chứng khoán và chia train test validate theo tỉ lệ 7:1:2\n",
    "from sklearn.model_selection import train_test_split\n",
    "df = pd.read_csv('VCB.csv')\n",
    "df = df[['Price','Open','High','Low']]\n",
    "df = df.dropna() # Drop missing values\n",
    "df = df.reset_index(drop=True) # Reset the index\n",
    "# Chọn các đặc trưng quan sát\n",
    "\n",
    "train = df['High']\n",
    "target = df['Price']\n",
    "\n",
    "train_size = int(0.6 * len(df))\n",
    "test_size = int(0.2 * len(df))\n",
    "val_size = len(df) - train_size - test_size\n",
    "\n",
    "\n",
    "train_data = train[:train_size]\n",
    "train_target = target[:train_size]\n",
    "test_data = train[train_size:train_size+test_size]\n",
    "test_target = target[train_size:train_size+test_size]\n",
    "val_data = train[train_size+test_size:]\n",
    "print(val_data)\n",
    "train_data"
   ]
  },
  {
   "cell_type": "code",
   "execution_count": 5,
   "id": "j7JbuUoME3uv",
   "metadata": {
    "colab": {
     "base_uri": "https://localhost:8080/"
    },
    "id": "j7JbuUoME3uv",
    "outputId": "29b500b6-b542-4abd-c8b9-97aad4fc5953"
   },
   "outputs": [
    {
     "name": "stdout",
     "output_type": "stream",
     "text": [
      "[76669.52512926 77214.40829459 76778.01563228 76736.66462334\n",
      " 76736.66462334 78881.98185987 81502.1853254  81502.1853254\n",
      " 80833.67940873 79940.98959232 78779.10429373 78518.81309646\n",
      " 79047.87904305 77732.30350771 77726.36858113 79243.32183399\n",
      " 78388.65771429 79930.00192565 82228.09375    81502.1853254\n",
      " 82228.09375    82228.09375    82228.09375    82228.09375\n",
      " 82228.09375    82228.09375    82228.09375    82228.09375\n",
      " 82228.09375    82228.09375    82228.09375    82228.09375\n",
      " 82228.09375    82228.09375    82228.09375    80842.90565873\n",
      " 77732.30350771 79484.29590358 77726.36858113 76669.52512926\n",
      " 76736.66462334 76778.01563228 76761.20773943 75541.84020369\n",
      " 75283.23226598 75324.76507947 74056.54855829 75135.24254513\n",
      " 75936.10966972 75877.0458327  75936.10966972 76357.41229132\n",
      " 75926.47907358 75541.84020369 75742.47972561 76414.09212713\n",
      " 77565.86758769 76761.20773943 76669.52512926 76761.20773943\n",
      " 79243.32183399 78632.60404714 79243.32183399 77503.39566715\n",
      " 76669.52512926 76414.09212713 76216.07356735 76216.07356735\n",
      " 75492.66399947 76084.1895088  76669.52512926 76669.52512926\n",
      " 76669.52512926 76761.20773943 76669.52512926 76669.52512926\n",
      " 75541.84020369 76216.07356735 75492.66399947 75471.6432317\n",
      " 75742.47972561 75373.56737917 76736.66462334 75541.84020369\n",
      " 75926.47907358 76778.01563228 75541.84020369 75541.84020369\n",
      " 76357.41229132 75926.47907358 75493.63279576 75785.63463975\n",
      " 74285.87655371 72969.56026845 73634.35491565 74088.99299307\n",
      " 74056.54855829 75373.56737917 75471.6432317  75304.46910549\n",
      " 74239.19276836 74548.76403635 74056.54855829 74285.87655371\n",
      " 74474.5269815  72969.56026845 73491.0736519  73295.17403985\n",
      " 72730.93513415 74285.87655371 75135.24254513 75373.56737917\n",
      " 75785.63463975 75304.46910549 75936.10966972 75936.10966972\n",
      " 76216.07356735 75373.56737917 75493.63279576 75785.63463975\n",
      " 76357.41229132 75471.6432317  76216.07356735 75492.66399947\n",
      " 75714.05712071 75471.6432317  75135.24254513 75742.47972561\n",
      " 76424.68273119 80642.72339355 81502.1853254  81502.1853254\n",
      " 79940.98959232 78779.10429373 77515.16007309 76761.20773943\n",
      " 76761.20773943 76669.52512926 76084.1895088  76084.1895088\n",
      " 76084.1895088  79047.87904305 78518.81309646 76778.01563228\n",
      " 76761.20773943 76761.20773943 76669.52512926 75926.47907358\n",
      " 75541.84020369 76778.01563228 77829.18787463 77478.68242494\n",
      " 78774.53529373 79911.84737009 79137.80978349 77713.69216446\n",
      " 78564.37786262 78632.60404714 78774.53529373 77713.69216446\n",
      " 77713.69216446 77713.69216446 77726.36858113 77726.36858113\n",
      " 82228.09375    81502.1853254  82228.09375    82228.09375\n",
      " 82228.09375    82228.09375    82228.09375    82228.09375\n",
      " 82228.09375    82228.09375    82228.09375    82228.09375\n",
      " 82228.09375    82228.09375    82228.09375    82228.09375\n",
      " 82228.09375    82228.09375    82228.09375    82228.09375\n",
      " 82228.09375    82228.09375    82228.09375    82228.09375\n",
      " 82228.09375    82228.09375    82228.09375    82228.09375\n",
      " 82228.09375    82228.09375    82228.09375    82228.09375\n",
      " 82228.09375    82228.09375    81286.69024206 81502.1853254\n",
      " 82228.09375    82228.09375    82228.09375    81502.1853254\n",
      " 81502.1853254  82228.09375    82228.09375    82228.09375\n",
      " 82228.09375    82228.09375    82228.09375    81178.57579762\n",
      " 81178.57579762 81502.1853254  80834.8410754  81502.1853254\n",
      " 82228.09375    81502.1853254  82228.09375    82228.09375\n",
      " 82228.09375    81502.1853254  81286.69024206 81131.16565873\n",
      " 80230.53421467 77560.24921539 77478.68242494 77829.18787463\n",
      " 78564.37786262 80834.8410754  81178.57579762 78779.10429373\n",
      " 78366.62896429 80468.95164823 80833.67940873 79911.84737009\n",
      " 80230.53421467 79940.98959232 78774.53529373 77726.36858113\n",
      " 78774.53529373 77713.69216446 76761.20773943 75877.0458327\n",
      " 75926.47907358 75926.47907358 76424.68273119 75936.10966972]\n",
      "[75143.06510587 74778.378715   75926.47907358 76159.81341496\n",
      " 76669.52512926 79911.84737009 77829.18787463 78779.10429373\n",
      " 78881.98185987 78805.18943194 77726.36858113 78366.62896429\n",
      " 79911.84737009 77713.69216446 78518.81309646 75926.47907358\n",
      " 76736.43899834 76736.66462334 77726.36858113 76736.66462334\n",
      " 78805.18943194 76778.01563228 76761.20773943 76424.68273119\n",
      " 75493.63279576 75785.63463975 75926.47907358 75318.94063327\n",
      " 75785.63463975 73428.82660855 73630.55457758 74363.69708422\n",
      " 73546.36820736 75283.23226598 73428.82660855 73453.6775112\n",
      " 72474.09769733 73355.43689396 72114.29010606 73453.6775112\n",
      " 71925.64810317 71636.72214803 72443.40269733 71925.64810317\n",
      " 72243.52272511 72692.11895985 72969.56026845 73428.82660855\n",
      " 75143.06510587 75283.23226598 75926.47907358 78564.37786262\n",
      " 78805.18943194 80833.67940873 80833.67940873 80833.67940873\n",
      " 78366.62896429 79911.84737009 78366.62896429 79927.13013185\n",
      " 80833.67940873 78366.62896429 80705.20672688 78366.62896429\n",
      " 78366.62896429 80230.53421467 79930.00192565 81131.16565873\n",
      " 80833.67940873 81502.1853254  80833.67940873 82228.09375\n",
      " 82228.09375    82228.09375    82228.09375    80833.67940873\n",
      " 79484.29590358 78594.02034079 79244.99975066 78632.60404714\n",
      " 78805.18943194 78594.02034079 77726.36858113 77560.24921539\n",
      " 77726.36858113 79047.87904305 77565.86758769 76778.01563228\n",
      " 75926.47907358 75785.63463975 73428.82660855 75785.63463975\n",
      " 72969.56026845 73503.30463064 70942.59829618 71637.13520358\n",
      " 71637.13520358 69039.38062227 67274.90216788 65346.26491798\n",
      " 64604.19768755 65823.77935297 68233.79809064 67242.90201679\n",
      " 67242.90201679 67242.90201679 69311.8390238  70111.81460948\n",
      " 68985.54149354 70090.99554044 70090.99554044 71925.64810317\n",
      " 72974.58747744 73453.6775112  73428.82660855 72974.58747744\n",
      " 73355.43689396 72443.40269733 71970.50765873 73428.82660855\n",
      " 73800.0512247  73546.36820736 75283.23226598 75936.10966972\n",
      " 75877.0458327  76761.20773943 75742.47972561 76353.12127545\n",
      " 75936.10966972 75785.63463975 73453.6775112  73634.73991565\n",
      " 73503.99546397 75926.47907358 79137.80978349 79911.84737009\n",
      " 80209.87277023 82228.09375    82228.09375    82228.09375\n",
      " 78366.62896429 79911.84737009 78564.37786262 78779.10429373\n",
      " 78594.02034079 79244.99975066 78881.98185987 81131.16565873\n",
      " 79911.84737009 78366.62896429 80209.87277023 79911.84737009\n",
      " 79940.98959232 78881.98185987 78779.10429373 78366.62896429\n",
      " 80833.67940873 81286.69024206 80834.8410754  81131.16565873\n",
      " 82228.09375    82228.09375    82228.09375    82228.09375\n",
      " 82228.09375    82228.09375    82228.09375    82228.09375\n",
      " 82228.09375    82228.09375    82228.09375    82228.09375\n",
      " 82228.09375    82228.09375    82228.09375    82228.09375\n",
      " 82228.09375    82228.09375    82228.09375    82228.09375\n",
      " 82228.09375    82228.09375    82228.09375    82228.09375\n",
      " 82228.09375    82228.09375    82228.09375    82228.09375\n",
      " 82228.09375    82228.09375    82228.09375    82228.09375\n",
      " 82228.09375    82228.09375    82228.09375    82228.09375\n",
      " 82228.09375    82228.09375    82228.09375    82228.09375\n",
      " 82228.09375    82228.09375    82228.09375    82228.09375\n",
      " 82228.09375    82228.09375    82228.09375    82228.09375\n",
      " 82228.09375    82228.09375    82228.09375    82228.09375\n",
      " 82228.09375    82228.09375    82228.09375    82228.09375\n",
      " 82228.09375    82228.09375    82228.09375    82228.09375\n",
      " 82228.09375    82228.09375    82228.09375    82228.09375\n",
      " 82228.09375    82228.09375    82228.09375    82228.09375\n",
      " 82228.09375    82228.09375    82228.09375    82228.09375\n",
      " 82228.09375    82228.09375    82228.09375    82228.09375\n",
      " 82228.09375    82228.09375    82228.09375    82228.09375\n",
      " 82228.09375    82228.09375    82228.09375    82228.09375\n",
      " 82228.09375    82228.09375    82228.09375    82228.09375\n",
      " 82228.09375   ]\n"
     ]
    }
   ],
   "source": [
    "x_train= np.array(train_data).reshape(-1,1)\n",
    "x_test = np.array(test_data).reshape(-1,1)\n",
    "\n",
    "\n",
    "rf_model = RandomForestRegressor(n_estimators=600,max_depth = 8, random_state=100)\n",
    "rf_model.fit(x_train, train_target)\n",
    "\n",
    "y = test_data\n",
    "predictions = rf_model.predict(x_test)\n",
    "print(predictions)\n",
    "# thres = np.unique([j for i in rf_model.estimators_ for j in i.tree_.threshold])\n",
    "# np.sort(thres)[-10:]\n",
    "# print(thres)\n",
    "\n",
    "# 5. Quá trình Validate\n",
    "x_val= np.array(val_data).reshape(-1,1)\n",
    "y_val = np.array(val_data)\n",
    "y_pred_val =  rf_model.predict(x_val)\n",
    "print(y_pred_val)"
   ]
  },
  {
   "cell_type": "code",
   "execution_count": 6,
   "id": "WFZE5s-XFNxO",
   "metadata": {
    "colab": {
     "base_uri": "https://localhost:8080/"
    },
    "id": "WFZE5s-XFNxO",
    "outputId": "ef95641f-d96e-41db-da01-fd2ce29ad0da"
   },
   "outputs": [
    {
     "name": "stdout",
     "output_type": "stream",
     "text": [
      "2828.423549007909\n"
     ]
    }
   ],
   "source": [
    "from sklearn.metrics import mean_squared_error\n",
    "rmse = np.sqrt(np.mean((test_target - predictions)**2))\n",
    "print(rmse)"
   ]
  },
  {
   "cell_type": "code",
   "execution_count": 7,
   "id": "2a8ed5ee",
   "metadata": {
    "id": "2a8ed5ee"
   },
   "outputs": [],
   "source": [
    "# Dự đoán 30 ngày tiếp theo của feature 'High' dựa trên Linear Regression\n",
    "from sklearn.linear_model import LinearRegression\n",
    "\n",
    "ln_model = LinearRegression()\n",
    "\n",
    "ln_model.fit(np.array(train_data.index).reshape(-1,1), train_data)\n",
    "\n",
    "\n",
    "#test\n",
    "x_test_ln = np.array(test_data.index).reshape(-1, 1)\n",
    "y_test_ln = np.array(test_data)\n",
    "y_pred_ln = ln_model.predict(x_test_ln)\n",
    "\n",
    "# Quá trình Validate\n",
    "x_val_ln= np.array(val_data.index).reshape(-1, 1)\n",
    "y_val_ln = np.array(val_data)\n",
    "y_pred_val_ln =  ln_model.predict(x_val_ln)\n",
    "\n",
    "# Predict the closing prices for the next 30 days\n",
    "last_index =  df.index[-1]\n",
    "last_data = pd.RangeIndex(start=last_index, stop=last_index+30, step=1)\n",
    "\n",
    "feature_next_30_days = np.array(range(last_index+1, last_index+31)).reshape(-1, 1)\n",
    "feature_next_30_days = ln_model.predict(feature_next_30_days)\n",
    "\n",
    "\n",
    "\n"
   ]
  },
  {
   "cell_type": "code",
   "execution_count": 8,
   "id": "2iCw4Adc47Bq",
   "metadata": {
    "colab": {
     "base_uri": "https://localhost:8080/"
    },
    "id": "2iCw4Adc47Bq",
    "outputId": "540720f5-bd93-419c-91bb-0b98418cb9c1"
   },
   "outputs": [
    {
     "name": "stdout",
     "output_type": "stream",
     "text": [
      "[82228.09375 82228.09375 82228.09375 82228.09375 82228.09375 82228.09375\n",
      " 82228.09375 82228.09375 82228.09375 82228.09375 82228.09375 82228.09375\n",
      " 82228.09375 82228.09375 82228.09375 82228.09375 82228.09375 82228.09375\n",
      " 82228.09375 82228.09375 82228.09375 82228.09375 82228.09375 82228.09375\n",
      " 82228.09375 82228.09375 82228.09375 82228.09375 82228.09375 82228.09375]\n"
     ]
    }
   ],
   "source": [
    "#Dự đoán 30 ngày tiếp theo\n",
    "y_next_30_days = rf_model.predict(np.array(feature_next_30_days).reshape(-1,1))\n",
    "print(y_next_30_days)\n",
    "\n"
   ]
  },
  {
   "cell_type": "code",
   "execution_count": 9,
   "id": "AN-XQnO1vWVE",
   "metadata": {
    "colab": {
     "base_uri": "https://localhost:8080/",
     "height": 430
    },
    "id": "AN-XQnO1vWVE",
    "outputId": "446106c7-0e36-4d1d-9df6-fff55695301e"
   },
   "outputs": [
    {
     "name": "stdout",
     "output_type": "stream",
     "text": [
      "Validation RMSE: 13802.892145082047\n",
      "Testing RMSE: 5677.037301738979\n",
      "Validation MAPE: 15.918063438050064\n",
      "Testing MAPE: 6.150251465477105\n",
      "Validation MAE: 12493.51294466379\n",
      "Testing MAE: 4936.905375185192\n"
     ]
    },
    {
     "data": {
      "image/png": "[encoded data removed]",
      "text/plain": [
       "<Figure size 640x480 with 1 Axes>"
      ]
     },
     "metadata": {},
     "output_type": "display_data"
    }
   ],
   "source": [
    "valid_rmse = np.sqrt(np.mean((y_pred_val_ln - y_val_ln)**2))\n",
    "test_rmse = np.sqrt(np.mean((y_pred_ln - y_test_ln)**2))\n",
    "print('Validation RMSE:', valid_rmse)\n",
    "print('Testing RMSE:', test_rmse)\n",
    "\n",
    "valid_mape = np.mean(np.abs((y_pred_val_ln - y_val_ln) / y_val_ln)) * 100\n",
    "test_mape = np.mean(np.abs((y_pred_ln - y_test_ln) / y_test_ln)) * 100\n",
    "print('Validation MAPE:', valid_mape)\n",
    "print('Testing MAPE:', test_mape)\n",
    "\n",
    "valid_mae = np.mean(np.abs(y_pred_val_ln - y_val_ln))\n",
    "test_mae = np.mean(np.abs(y_pred_ln - y_test_ln))\n",
    "print('Validation MAE:', valid_mae)\n",
    "print('Testing MAE:', test_mae)\n",
    "\n",
    "plt.plot(train_data.index, train_data)\n",
    "plt.plot(test_data.index, test_data)\n",
    "plt.plot(test_data.index, y_pred_ln)\n",
    "plt.plot(val_data.index, y_pred_val_ln)\n",
    "plt.plot(last_data,feature_next_30_days)\n",
    "plt.legend(['Train', 'Test', 'Predictions','Validate','Next30Day'])\n",
    "plt.show()"
   ]
  },
  {
   "cell_type": "code",
   "execution_count": 10,
   "id": "MgovWuVRJYMA",
   "metadata": {
    "id": "MgovWuVRJYMA"
   },
   "outputs": [],
   "source": [
    "import matplotlib.pyplot as plt"
   ]
  },
  {
   "cell_type": "code",
   "execution_count": 11,
   "id": "0ba0baea",
   "metadata": {
    "colab": {
     "base_uri": "https://localhost:8080/",
     "height": 430
    },
    "id": "0ba0baea",
    "outputId": "1b739e1f-7571-46f0-8066-b6151aa5eda7"
   },
   "outputs": [
    {
     "data": {
      "image/png": "[encoded data removed]",
      "text/plain": [
       "<Figure size 640x480 with 1 Axes>"
      ]
     },
     "metadata": {},
     "output_type": "display_data"
    }
   ],
   "source": [
    "plt.plot(train_data.index, train_data)\n",
    "plt.plot(test_data.index, test_data)\n",
    "plt.plot(test_data.index, predictions)\n",
    "plt.plot(val_data.index, y_pred_val)\n",
    "plt.plot(last_data,y_next_30_days)\n",
    "plt.legend(['Train', 'Test', 'Predictions','Validate'])\n",
    "plt.show()"
   ]
  },
  {
   "cell_type": "code",
   "execution_count": null,
   "id": "3w6Mkf5xJabm",
   "metadata": {
    "id": "3w6Mkf5xJabm"
   },
   "outputs": [],
   "source": []
  }
 ],
 "metadata": {
  "colab": {
   "provenance": []
  },
  "kernelspec": {
   "display_name": "Python 3 (ipykernel)",
   "language": "python",
   "name": "python3"
  },
  "language_info": {
   "codemirror_mode": {
    "name": "ipython",
    "version": 3
   },
   "file_extension": ".py",
   "mimetype": "text/x-python",
   "name": "python",
   "nbconvert_exporter": "python",
   "pygments_lexer": "ipython3",
   "version": "3.11.2"
  }
 },
 "nbformat": 4,
 "nbformat_minor": 5
}
